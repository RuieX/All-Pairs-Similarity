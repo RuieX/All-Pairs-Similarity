{
 "cells": [
  {
   "cell_type": "markdown",
   "source": [
    "# Plots"
   ],
   "metadata": {
    "collapsed": false,
    "pycharm": {
     "name": "#%% md\n"
    }
   }
  },
  {
   "cell_type": "code",
   "execution_count": null,
   "metadata": {
    "collapsed": true,
    "pycharm": {
     "name": "#%%\n"
    }
   },
   "outputs": [],
   "source": [
    "import json\n",
    "import math\n",
    "from typing import Type, Dict, Any\n",
    "\n",
    "import numpy as np\n",
    "import pandas as pd\n",
    "import seaborn as sns\n",
    "from matplotlib import pyplot as plt"
   ]
  },
  {
   "cell_type": "markdown",
   "source": [
    "## Load Data"
   ],
   "metadata": {
    "collapsed": false,
    "pycharm": {
     "name": "#%% md\n"
    }
   }
  },
  {
   "cell_type": "code",
   "execution_count": null,
   "outputs": [],
   "source": [
    "AlgoId: Type = str\n",
    "ResultDict: Type = Dict[int, Dict[str, Any]]"
   ],
   "metadata": {
    "collapsed": false,
    "pycharm": {
     "name": "#%%\n"
    }
   }
  },
  {
   "cell_type": "code",
   "execution_count": null,
   "outputs": [],
   "source": [
    "OUT_DIR = \"../../out\"\n",
    "\n",
    "def load_mr_results() -> ResultDict:\n",
    "    with open(f\"{OUT_DIR}/mr_results.json\", \"r\") as f:\n",
    "        return json.load(f)\n",
    "\n",
    "def load_seq_results() -> ResultDict:\n",
    "    with open(f\"{OUT_DIR}/seq_results.json\", \"r\") as f:\n",
    "        return json.load(f)"
   ],
   "metadata": {
    "collapsed": false,
    "pycharm": {
     "name": "#%%\n"
    }
   }
  },
  {
   "cell_type": "code",
   "execution_count": null,
   "outputs": [],
   "source": [
    "mr_results: ResultDict = load_mr_results()\n",
    "seq_results: ResultDict = load_seq_results()"
   ],
   "metadata": {
    "collapsed": false,
    "pycharm": {
     "name": "#%%\n"
    }
   }
  },
  {
   "cell_type": "code",
   "execution_count": null,
   "outputs": [],
   "source": [
    "MR_ID: AlgoId = \"MR-APDSS\"\n",
    "SEQ_ID: AlgoId = \"SEQ-APDSS\"\n",
    "\n",
    "DATASET_NAME_KEY = \"d_name\"\n",
    "N_EXECS_KEY = \"n_execs\"\n",
    "THRESHOLD_KEY = \"threshold\"\n",
    "TIME_KEY = \"time\"\n",
    "SIM_DOCS_KEY = \"time\""
   ],
   "metadata": {
    "collapsed": false,
    "pycharm": {
     "name": "#%%\n"
    }
   }
  },
  {
   "cell_type": "code",
   "execution_count": null,
   "outputs": [],
   "source": [
    "all_algo_results = {\n",
    "    MR_ID: mr_results,\n",
    "    SEQ_ID: seq_results\n",
    "}"
   ],
   "metadata": {
    "collapsed": false,
    "pycharm": {
     "name": "#%%\n"
    }
   }
  },
  {
   "cell_type": "code",
   "execution_count": null,
   "outputs": [],
   "source": [
    "ALGO_ID_COL = \"algo_id\"\n",
    "\n",
    "def plot_algo_results(results: Dict[AlgoId, ResultDict]) -> plt.Figure:\n",
    "    results_df_by_algo: Dict[AlgoId, pd.DataFrame] = {}\n",
    "    for algo_id, result in results.items():\n",
    "        results_df_by_algo[algo_id] = get_algo_results_df(result)\n",
    "\n",
    "    # seq_results has one entry per dataset -> need to duplicate its entries\n",
    "    #   so that there is one for each n_execs value in the other two dfs\n",
    "    # This is to later plot the sequential df as a straight line\n",
    "    seq_res_df = results_df_by_algo[SEQ_ID]\n",
    "    unique_d_names = seq_res_df[DATASET_NAME_KEY].unique()\n",
    "    unique_n_execs_values = spdf_res_df[N_EXECS_KEY].unique()\n",
    "    seq_res_duplicated = pd.DataFrame()\n",
    "    for _ in range(unique_n_execs_values.size):\n",
    "        seq_res_duplicated = pd.concat([seq_res_duplicated, seq_res_df])\n",
    "\n",
    "    # Sorting by dataset allows to assign n_execs values directly as done below\n",
    "    seq_res_duplicated = seq_res_duplicated.sort_values(by=[DATASET_NAME_KEY])\n",
    "    seq_res_duplicated[N_EXECS_KEY] = unique_n_execs_values.tolist()*unique_d_names.size\n",
    "    results_df_by_algo[SEQ_ID] = seq_res_duplicated\n",
    "\n",
    "    results_df: pd.DataFrame = pd.DataFrame()\n",
    "    for algo_id, res_df in results_df_by_algo.items():\n",
    "        res_df[ALGO_ID_COL] = algo_id\n",
    "        results_df = pd.concat([results_df, res_df])\n",
    "\n",
    "    results_df_by_dataset: Dict[str, pd.DataFrame] = {}\n",
    "    for d_name in unique_d_names:\n",
    "        results_df_by_dataset[d_name] = results_df[results_df[DATASET_NAME_KEY] == d_name]\n",
    "\n",
    "    tot_plots = len(results_df_by_dataset)\n",
    "    n = math.ceil(math.sqrt(tot_plots))\n",
    "\n",
    "    n_rows = math.ceil(tot_plots / n) if n < tot_plots else 1\n",
    "    n_cols = n\n",
    "    fig, axes = plt.subplots(nrows=n_rows, ncols=n_cols, figsize=(n_cols*8, n_rows*8))\n",
    "    for i, key_value in enumerate(results_df_by_dataset.items()):\n",
    "        d_name, df = key_value\n",
    "        ax: plt.Axes = axes[i // n, i % n] if n_rows > 1 else axes[i]\n",
    "\n",
    "        sns.lineplot(ax=ax, data=df, x=N_EXECS_KEY, y=TIME_KEY, hue=ALGO_ID_COL, marker=\"o\")\n",
    "        ax.set_title(f\"[{d_name}] Execution Times\")\n",
    "        ax.set_xlabel(\"#Executors\")\n",
    "        ax.set_ylabel(\"Time [s]\")\n",
    "\n",
    "        max_time = df[TIME_KEY].max()\n",
    "        ax.set_yticks(\n",
    "            np.arange(\n",
    "                0,\n",
    "                max_time + math.floor(0.15*max_time),\n",
    "                math.floor(max(20, math.ceil((max_time / 15) // 50)*50))\n",
    "            )\n",
    "        )\n",
    "\n",
    "    return fig\n",
    "\n",
    "\n",
    "def get_algo_results_df(result: ResultDict) -> pd.DataFrame:\n",
    "    return pd.DataFrame.from_records(data=list(result.values()))"
   ],
   "metadata": {
    "collapsed": false,
    "pycharm": {
     "name": "#%%\n"
    }
   }
  },
  {
   "cell_type": "code",
   "execution_count": null,
   "outputs": [],
   "source": [
    "fig = plot_algo_results(results=all_algo_results)"
   ],
   "metadata": {
    "collapsed": false,
    "pycharm": {
     "name": "#%%\n"
    }
   }
  },
  {
   "cell_type": "code",
   "execution_count": null,
   "outputs": [],
   "source": [
    "fig.savefig(\"../../images/results-png\", dpi=200)"
   ],
   "metadata": {
    "collapsed": false,
    "pycharm": {
     "name": "#%%\n"
    }
   }
  },
  {
   "cell_type": "markdown",
   "source": [],
   "metadata": {
    "collapsed": false,
    "pycharm": {
     "name": "#%% md\n"
    }
   }
  }
 ],
 "metadata": {
  "kernelspec": {
   "display_name": "Python 3",
   "language": "python",
   "name": "python3"
  },
  "language_info": {
   "codemirror_mode": {
    "name": "ipython",
    "version": 2
   },
   "file_extension": ".py",
   "mimetype": "text/x-python",
   "name": "python",
   "nbconvert_exporter": "python",
   "pygments_lexer": "ipython2",
   "version": "2.7.6"
  }
 },
 "nbformat": 4,
 "nbformat_minor": 0
}