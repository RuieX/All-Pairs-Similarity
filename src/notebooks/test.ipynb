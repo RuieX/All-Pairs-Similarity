{
 "cells": [
  {
   "cell_type": "markdown",
   "source": [
    "# Assignment 3 - All Pair Documents Similarity Search"
   ],
   "metadata": {
    "collapsed": false,
    "pycharm": {
     "name": "#%% md\n"
    }
   }
  },
  {
   "cell_type": "markdown",
   "source": [
    "## Setup"
   ],
   "metadata": {
    "collapsed": false,
    "pycharm": {
     "name": "#%% md\n"
    }
   }
  },
  {
   "cell_type": "code",
   "execution_count": 10,
   "metadata": {
    "collapsed": true,
    "pycharm": {
     "name": "#%%\n"
    }
   },
   "outputs": [],
   "source": [
    "import os\n",
    "import sys\n",
    "\n",
    "os.environ['PYSPARK_PYTHON'] = sys.executable\n",
    "os.environ['PYSPARK_DRIVER_PYTHON'] = sys.executable\n",
    "os.environ['SPARK_LOCAL_IP'] = \"127.0.0.1\"\n",
    "\n",
    "# UserWarning: 'PYARROW_IGNORE_TIMEZONE' environment variable was not set.\n",
    "# It is required to set this environment variable to '1' in both driver and executor\n",
    "#   sides if you use pyarrow>=2.0.0.\n",
    "os.environ[\"PYARROW_IGNORE_TIMEZONE\"] = \"1\"\n",
    "\n",
    "import pyspark.sql as psql\n",
    "from pyspark import SparkFiles\n",
    "\n",
    "# IMPORTANT: create session prior to importing pyspark.pandas, else\n",
    "#   spark won't use all specified cores\n",
    "from src.utils import AVAILABLE_CORES\n",
    "spark: psql.SparkSession = (\n",
    "    psql.SparkSession.builder\n",
    "    # https://cloudxlab.com/assessment/displayslide/500/apache-spark-running-on-cluster-local-mode\n",
    "    .master(f\"local[{AVAILABLE_CORES}]\")  # local-mode with using all available threads\n",
    "\n",
    "    .appName(\"APDSS\")\n",
    "    .config(\"spark.driver.host\", \"localhost\")\n",
    "    .config(\"spark.driver.memory\", \"40g\")\n",
    "    .getOrCreate()\n",
    ")\n",
    "\n",
    "# Add local dependencies (local python source files) to SparkContext and sys.path\n",
    "src_zip_path = os.path.abspath(\"../../src.zip\")\n",
    "spark.sparkContext.addPyFile(src_zip_path)\n",
    "sys.path.insert(0, SparkFiles.getRootDirectory())\n",
    "\n",
    "\n",
    "import src.tokenization as tok\n",
    "import src.apdss.map_reduce as mr\n",
    "import src.apdss.sequential as seq\n",
    "import src.apdss.spark_dataframe as spdf\n",
    "import src.io_ as io\n",
    "\n",
    "SIM_THRESHOLD = 0.3"
   ]
  },
  {
   "cell_type": "code",
   "execution_count": 11,
   "outputs": [],
   "source": [
    "corpus_path = io.download_beir_dataset()"
   ],
   "metadata": {
    "collapsed": false,
    "pycharm": {
     "name": "#%%\n"
    }
   }
  },
  {
   "cell_type": "markdown",
   "source": [
    "## Feature Extraction/Tokenization"
   ],
   "metadata": {
    "collapsed": false,
    "pycharm": {
     "name": "#%% md\n"
    }
   }
  },
  {
   "cell_type": "code",
   "execution_count": 12,
   "outputs": [
    {
     "name": "stderr",
     "output_type": "stream",
     "text": [
      "\u001B[32m2023-05-26 01:09:47.865\u001B[0m | \u001B[1mINFO    \u001B[0m | \u001B[36msrc.tokenization\u001B[0m:\u001B[36mget_document_features\u001B[0m:\u001B[36m53\u001B[0m - \u001B[1mLoading corpus...\u001B[0m\n",
      "\u001B[32m2023-05-26 01:09:48.067\u001B[0m | \u001B[1mINFO    \u001B[0m | \u001B[36msrc.tokenization\u001B[0m:\u001B[36mget_document_features\u001B[0m:\u001B[36m64\u001B[0m - \u001B[1mCompacting document texts (merging title and actual text)...\u001B[0m\n",
      "\u001B[32m2023-05-26 01:09:48.212\u001B[0m | \u001B[1mINFO    \u001B[0m | \u001B[36msrc.tokenization\u001B[0m:\u001B[36mget_document_features\u001B[0m:\u001B[36m67\u001B[0m - \u001B[1mSplitting texts into words...\u001B[0m\n",
      "\u001B[32m2023-05-26 01:09:48.387\u001B[0m | \u001B[1mINFO    \u001B[0m | \u001B[36msrc.tokenization\u001B[0m:\u001B[36mget_document_features\u001B[0m:\u001B[36m70\u001B[0m - \u001B[1mCalculating Scores (TF-IDF)...\u001B[0m\n",
      "\u001B[32m2023-05-26 01:09:49.967\u001B[0m | \u001B[1mINFO    \u001B[0m | \u001B[36msrc.tokenization\u001B[0m:\u001B[36mget_document_features\u001B[0m:\u001B[36m75\u001B[0m - \u001B[1mNormalizing Scores...\u001B[0m\n",
      "\u001B[32m2023-05-26 01:09:50.146\u001B[0m | \u001B[1mINFO    \u001B[0m | \u001B[36msrc.tokenization\u001B[0m:\u001B[36mget_document_features\u001B[0m:\u001B[36m78\u001B[0m - \u001B[1mDocs successfully tokenized\u001B[0m\n",
      "[Stage 13:===================>                                      (1 + 2) / 3]\r"
     ]
    },
    {
     "name": "stdout",
     "output_type": "stream",
     "text": [
      "-RECORD 0----------------------------------------------------\n",
      " _id    | 7e8r61e7                                           \n",
      " scores | (233,[10,16,17,23,33,175,195],[0.12322741652357... \n",
      "-RECORD 1----------------------------------------------------\n",
      " _id    | lxk6b297                                           \n",
      " scores | (233,[0,1,2,3,4,5,6,7,9,10,15,19,20,23,26,30,31... \n",
      "-RECORD 2----------------------------------------------------\n",
      " _id    | pnl9th2c                                           \n",
      " scores | (233,[0,4,6,12,16,17,103,146],[0.03791543455503... \n",
      "-RECORD 3----------------------------------------------------\n",
      " _id    | 08gqn86z                                           \n",
      " scores | (233,[0,1,2,3,4,5,6,7,8,9,10,11,12,13,14,15,19,... \n",
      "-RECORD 4----------------------------------------------------\n",
      " _id    | p6uqakzs                                           \n",
      " scores | (233,[0,2,3,44,136,155],[0.01774194162798637,0.... \n",
      "-RECORD 5----------------------------------------------------\n",
      " _id    | cpgcp7cs                                           \n",
      " scores | (233,[0,1,2,3,4,5,6,7,8,9,10,19,21,23,24,28,30,... \n",
      "-RECORD 6----------------------------------------------------\n",
      " _id    | fvhq8yud                                           \n",
      " scores | (233,[0,1,2,6,12,16,17,25,132,146],[0.036147004... \n",
      "-RECORD 7----------------------------------------------------\n",
      " _id    | ma3ndg41                                           \n",
      " scores | (233,[0,1,2,3,4,6,8,9,10,12,13,14,15,16,17,18,2... \n",
      "-RECORD 8----------------------------------------------------\n",
      " _id    | plp5sxyl                                           \n",
      " scores | (233,[0,1,2,3,4,5,6,7,8,9,13,14,15,18,19,20,21,... \n",
      "-RECORD 9----------------------------------------------------\n",
      " _id    | ee60speq                                           \n",
      " scores | (233,[0,1,2,3,4,5,6,7,9,10,11,15,18,19,23,26,30... \n",
      "-RECORD 10---------------------------------------------------\n",
      " _id    | 4womm6ru                                           \n",
      " scores | (233,[0,1,2,3,4,5,6,7,8,9,10,12,13,14,15,16,17,... \n",
      "-RECORD 11---------------------------------------------------\n",
      " _id    | yz0buegp                                           \n",
      " scores | (233,[0,1,2,3,4,5,6,7,8,9,10,13,14,18,19,21,23,... \n",
      "-RECORD 12---------------------------------------------------\n",
      " _id    | rcwck1y3                                           \n",
      " scores | (233,[0,1,2,3,4,6,7,8,9,10,14,15,16,17,18,19,23... \n",
      "-RECORD 13---------------------------------------------------\n",
      " _id    | 5nw3828d                                           \n",
      " scores | (233,[0,1,2,3,4,5,8,9,10,11,13,16,17,18,19,20,2... \n",
      "-RECORD 14---------------------------------------------------\n",
      " _id    | 5oew0vrr                                           \n",
      " scores | (233,[0,1,2,3,4,14,16,17,18,32,33,34,35,40,46,5... \n",
      "-RECORD 15---------------------------------------------------\n",
      " _id    | hi8k8wvb                                           \n",
      " scores | (233,[0,1,2,3,4,5,7,8,10,15,18,21,23,24,26,33,3... \n",
      "-RECORD 16---------------------------------------------------\n",
      " _id    | 6jittbis                                           \n",
      " scores | (233,[0,1,2,3,4,5,7,10,11,15,18,19,20,21,38,39,... \n",
      "-RECORD 17---------------------------------------------------\n",
      " _id    | k0bf8lnf                                           \n",
      " scores | (233,[0,1,2,3,4,5,6,7,8,9,12,13,14,15,19,21,22,... \n",
      "\n"
     ]
    },
    {
     "name": "stderr",
     "output_type": "stream",
     "text": [
      "                                                                                \r"
     ]
    }
   ],
   "source": [
    "docs_scores_df = tok.get_document_features(\n",
    "    spark=spark,\n",
    "    corpus_json_path=os.path.join(io.DATA_DIR, io.DEFAULT_DATASET_NAME, \"corpus-trial.jsonl\")\n",
    ")\n",
    "docs_scores_df = docs_scores_df.cache()\n",
    "docs_scores_df.show(truncate=50, vertical=True)"
   ],
   "metadata": {
    "collapsed": false,
    "pycharm": {
     "name": "#%%\n"
    }
   }
  },
  {
   "cell_type": "markdown",
   "source": [
    "## APDSS - Different Approaches"
   ],
   "metadata": {
    "collapsed": false,
    "pycharm": {
     "name": "#%% md\n"
    }
   }
  },
  {
   "cell_type": "markdown",
   "source": [
    "## Low-level MapReduce"
   ],
   "metadata": {
    "collapsed": false,
    "pycharm": {
     "name": "#%% md\n"
    }
   }
  },
  {
   "cell_type": "code",
   "execution_count": 13,
   "outputs": [
    {
     "name": "stderr",
     "output_type": "stream",
     "text": [
      "\u001B[32m2023-05-26 01:09:54.601\u001B[0m | \u001B[34m\u001B[1mDEBUG   \u001B[0m | \u001B[36msrc.apdss.map_reduce\u001B[0m:\u001B[36m_get_d_star\u001B[0m:\u001B[36m139\u001B[0m - \u001B[34m\u001B[1m_get_d_star partitions 4\u001B[0m\n",
      "\u001B[32m2023-05-26 01:10:07.405\u001B[0m | \u001B[34m\u001B[1mDEBUG   \u001B[0m | \u001B[36msrc.apdss.map_reduce\u001B[0m:\u001B[36m_get_b_map\u001B[0m:\u001B[36m167\u001B[0m - \u001B[34m\u001B[1m_get_b_map partitions 4\u001B[0m\n",
      "\u001B[32m2023-05-26 01:10:07.872\u001B[0m | \u001B[34m\u001B[1mDEBUG   \u001B[0m | \u001B[36msrc.apdss.map_reduce\u001B[0m:\u001B[36mapdss\u001B[0m:\u001B[36m101\u001B[0m - \u001B[34m\u001B[1m_apply_prefix_filtering partitions 4\u001B[0m\n",
      "\u001B[32m2023-05-26 01:10:07.895\u001B[0m | \u001B[34m\u001B[1mDEBUG   \u001B[0m | \u001B[36msrc.apdss.map_reduce\u001B[0m:\u001B[36mapdss\u001B[0m:\u001B[36m111\u001B[0m - \u001B[34m\u001B[1mterm_doc_sequence_rdd partitions 4\u001B[0m\n",
      "\u001B[32m2023-05-26 01:10:08.948\u001B[0m | \u001B[34m\u001B[1mDEBUG   \u001B[0m | \u001B[36msrc.apdss.map_reduce\u001B[0m:\u001B[36mapdss\u001B[0m:\u001B[36m126\u001B[0m - \u001B[34m\u001B[1mUn-persisting input df\u001B[0m\n"
     ]
    }
   ],
   "source": [
    "docs_similarities_mr = mr.MapReduceAPDSS().apdss(\n",
    "    spark=spark,\n",
    "    docs_scores_df=docs_scores_df,\n",
    "    threshold=SIM_THRESHOLD,\n",
    "    num_partitions=AVAILABLE_CORES\n",
    ")"
   ],
   "metadata": {
    "collapsed": false,
    "pycharm": {
     "name": "#%%\n"
    }
   }
  },
  {
   "cell_type": "code",
   "execution_count": 14,
   "outputs": [
    {
     "name": "stdout",
     "output_type": "stream",
     "text": [
      "14.380352020263672\n"
     ]
    },
    {
     "data": {
      "text/plain": "[('lxk6b297', '6jittbis', 0.34844077926115397),\n ('rcwck1y3', '5oew0vrr', 0.33299106742968887),\n ('5nw3828d', '6jittbis', 0.3590313026467476)]"
     },
     "execution_count": 14,
     "metadata": {},
     "output_type": "execute_result"
    }
   ],
   "source": [
    "print(docs_similarities_mr.time)\n",
    "docs_similarities_mr.similar_docs[0:10]"
   ],
   "metadata": {
    "collapsed": false,
    "pycharm": {
     "name": "#%%\n"
    }
   }
  },
  {
   "cell_type": "markdown",
   "source": [
    "## PySpark DataFrame"
   ],
   "metadata": {
    "collapsed": false,
    "pycharm": {
     "name": "#%% md\n"
    }
   }
  },
  {
   "cell_type": "code",
   "execution_count": 15,
   "outputs": [
    {
     "name": "stderr",
     "output_type": "stream",
     "text": [
      "                                                                                \r"
     ]
    }
   ],
   "source": [
    "docs_similarity_spdf = spdf.SparkDataFrameAPDSS().apdss(\n",
    "    spark=spark,\n",
    "    docs_scores_df=docs_scores_df,\n",
    "    threshold=SIM_THRESHOLD,\n",
    "    num_partitions=AVAILABLE_CORES\n",
    ")"
   ],
   "metadata": {
    "collapsed": false,
    "pycharm": {
     "name": "#%%\n"
    }
   }
  },
  {
   "cell_type": "code",
   "execution_count": 16,
   "outputs": [
    {
     "name": "stdout",
     "output_type": "stream",
     "text": [
      "12.806149005889893\n"
     ]
    },
    {
     "data": {
      "text/plain": "[('5nw3828d', '6jittbis', 0.3590312898159027),\n ('5oew0vrr', 'rcwck1y3', 0.3329910635948181),\n ('6jittbis', 'lxk6b297', 0.3484407663345337),\n ('fvhq8yud', 'ma3ndg41', 0.3124379813671112),\n ('fvhq8yud', 'pnl9th2c', 0.5505577325820923)]"
     },
     "execution_count": 16,
     "metadata": {},
     "output_type": "execute_result"
    }
   ],
   "source": [
    "print(docs_similarity_spdf.time)\n",
    "docs_similarity_spdf.similar_docs[0:10]"
   ],
   "metadata": {
    "collapsed": false,
    "pycharm": {
     "name": "#%%\n"
    }
   }
  },
  {
   "cell_type": "code",
   "execution_count": 9,
   "outputs": [],
   "source": [
    "spark.stop()"
   ],
   "metadata": {
    "collapsed": false,
    "pycharm": {
     "name": "#%%\n"
    }
   }
  },
  {
   "cell_type": "markdown",
   "source": [],
   "metadata": {
    "collapsed": false,
    "pycharm": {
     "name": "#%% md\n"
    }
   }
  }
 ],
 "metadata": {
  "kernelspec": {
   "name": "sbruch-assignment-lwmd",
   "language": "python",
   "display_name": "lwmd_asgmt_sbruch"
  },
  "language_info": {
   "codemirror_mode": {
    "name": "ipython",
    "version": 2
   },
   "file_extension": ".py",
   "mimetype": "text/x-python",
   "name": "python",
   "nbconvert_exporter": "python",
   "pygments_lexer": "ipython2",
   "version": "2.7.6"
  }
 },
 "nbformat": 4,
 "nbformat_minor": 0
}