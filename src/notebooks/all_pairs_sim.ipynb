{
 "cells": [
  {
   "cell_type": "markdown",
   "source": [
    "# Assignment 3: All Pairs Similarity"
   ],
   "metadata": {
    "collapsed": false,
    "pycharm": {
     "name": "#%% md\n"
    }
   }
  },
  {
   "cell_type": "markdown",
   "source": [
    "## Setup & Dataset Retrieval"
   ],
   "metadata": {
    "collapsed": false,
    "pycharm": {
     "name": "#%% md\n"
    }
   }
  },
  {
   "cell_type": "code",
   "execution_count": 1,
   "outputs": [
    {
     "name": "stderr",
     "output_type": "stream",
     "text": [
      "/Users/a/miniforge3/envs/sbruch-assignment-Lwmd/lib/python3.10/site-packages/beir/util.py:2: TqdmExperimentalWarning: Using `tqdm.autonotebook.tqdm` in notebook mode. Use `tqdm.tqdm` instead to force console mode (e.g. in jupyter console)\n",
      "  from tqdm.autonotebook import tqdm\n",
      "[nltk_data] Downloading package punkt to /Users/a/nltk_data...\n",
      "[nltk_data]   Package punkt is already up-to-date!\n",
      "[nltk_data] Downloading package wordnet to /Users/a/nltk_data...\n",
      "[nltk_data]   Package wordnet is already up-to-date!\n",
      "[nltk_data] Downloading package stopwords to /Users/a/nltk_data...\n",
      "[nltk_data]   Package stopwords is already up-to-date!\n"
     ]
    }
   ],
   "source": [
    "import os.path\n",
    "import pickle\n",
    "import random\n",
    "\n",
    "from tqdm import tqdm\n",
    "\n",
    "import src.utilities.io as io\n",
    "import src.utilities.preprocess as pp\n",
    "import src.utilities.similarity_sequential as sim_seq"
   ],
   "metadata": {
    "collapsed": false,
    "pycharm": {
     "name": "#%%\n"
    }
   }
  },
  {
   "cell_type": "code",
   "execution_count": 2,
   "outputs": [
    {
     "name": "stdout",
     "output_type": "stream",
     "text": [
      "2023-05-26 23:13:46 - Loading Corpus...\n"
     ]
    },
    {
     "data": {
      "text/plain": "  0%|          | 0/171332 [00:00<?, ?it/s]",
      "application/vnd.jupyter.widget-view+json": {
       "version_major": 2,
       "version_minor": 0,
       "model_id": "91cce6f745d94ec696c0e2a8afe2d818"
      }
     },
     "metadata": {},
     "output_type": "display_data"
    },
    {
     "name": "stdout",
     "output_type": "stream",
     "text": [
      "2023-05-26 23:13:49 - Loaded 171332 TEST Documents.\n",
      "2023-05-26 23:13:49 - Doc Example: {'text': 'OBJECTIVE: This retrospective chart review describes the epidemiology and clinical features of 40 patients with culture-proven Mycoplasma pneumoniae infections at King Abdulaziz University Hospital, Jeddah, Saudi Arabia. METHODS: Patients with positive M. pneumoniae cultures from respiratory specimens from January 1997 through December 1998 were identified through the Microbiology records. Charts of patients were reviewed. RESULTS: 40 patients were identified, 33 (82.5%) of whom required admission. Most infections (92.5%) were community-acquired. The infection affected all age groups but was most common in infants (32.5%) and pre-school children (22.5%). It occurred year-round but was most common in the fall (35%) and spring (30%). More than three-quarters of patients (77.5%) had comorbidities. Twenty-four isolates (60%) were associated with pneumonia, 14 (35%) with upper respiratory tract infections, and 2 (5%) with bronchiolitis. Cough (82.5%), fever (75%), and malaise (58.8%) were the most common symptoms, and crepitations (60%), and wheezes (40%) were the most common signs. Most patients with pneumonia had crepitations (79.2%) but only 25% had bronchial breathing. Immunocompromised patients were more likely than non-immunocompromised patients to present with pneumonia (8/9 versus 16/31, P = 0.05). Of the 24 patients with pneumonia, 14 (58.3%) had uneventful recovery, 4 (16.7%) recovered following some complications, 3 (12.5%) died because of M pneumoniae infection, and 3 (12.5%) died due to underlying comorbidities. The 3 patients who died of M pneumoniae pneumonia had other comorbidities. CONCLUSION: our results were similar to published data except for the finding that infections were more common in infants and preschool children and that the mortality rate of pneumonia in patients with comorbidities was high.', 'title': 'Clinical features of culture-proven Mycoplasma pneumoniae infections at King Abdulaziz University Hospital, Jeddah, Saudi Arabia'}\n",
      "2023-05-26 23:13:49 - Loading Queries...\n",
      "2023-05-26 23:13:49 - Loaded 50 TEST Queries.\n",
      "2023-05-26 23:13:49 - Query Example: what is the origin of COVID-19\n"
     ]
    }
   ],
   "source": [
    "documents, data_path = io.get_data() #trec-covid as default"
   ],
   "metadata": {
    "collapsed": false,
    "pycharm": {
     "name": "#%%\n"
    }
   }
  },
  {
   "cell_type": "code",
   "execution_count": 3,
   "outputs": [
    {
     "name": "stdout",
     "output_type": "stream",
     "text": [
      "Document ug7v899j: 262 words\n",
      "Document 02tnwd4m: 142 words\n",
      "Document ejv2xln0: 219 words\n",
      "Document 2b73a28n: 68 words\n",
      "Document 9785vg6d: 110 words\n",
      "Document zjufx4fo: 174 words\n",
      "Document 5yhe786e: 113 words\n",
      "Document 8zchiykl: 83 words\n",
      "Document 8qnrcgnk: 188 words\n",
      "Document jg13scgo: 189 words\n"
     ]
    }
   ],
   "source": [
    "for doc_id, doc in list(documents.items())[:10]:\n",
    "    num_words = len(doc[\"text\"].split())\n",
    "    print(f\"Document {doc_id}: {num_words} words\")"
   ],
   "metadata": {
    "collapsed": false,
    "pycharm": {
     "name": "#%%\n"
    }
   }
  },
  {
   "cell_type": "markdown",
   "source": [
    "Sort the documents by their length (Longest to Shortest)"
   ],
   "metadata": {
    "collapsed": false,
    "pycharm": {
     "name": "#%% md\n"
    }
   }
  },
  {
   "cell_type": "code",
   "execution_count": 4,
   "outputs": [],
   "source": [
    "sort_docs = sorted(documents.items(), key=lambda x: len(x[1]['text']), reverse=True)\n",
    "sorted_docs: pp.Documents = {}\n",
    "for doc_id, doc in sort_docs:\n",
    "    sorted_docs[doc_id] = doc"
   ],
   "metadata": {
    "collapsed": false,
    "pycharm": {
     "name": "#%%\n"
    }
   }
  },
  {
   "cell_type": "code",
   "execution_count": 5,
   "outputs": [
    {
     "data": {
      "text/plain": "171332"
     },
     "execution_count": 5,
     "metadata": {},
     "output_type": "execute_result"
    }
   ],
   "source": [
    "len(sorted_docs)"
   ],
   "metadata": {
    "collapsed": false,
    "pycharm": {
     "name": "#%%\n"
    }
   }
  },
  {
   "cell_type": "code",
   "execution_count": 6,
   "outputs": [
    {
     "name": "stdout",
     "output_type": "stream",
     "text": [
      "Document ij3ncdb6: 18000 words\n",
      "Document c4pt07zk: 15448 words\n",
      "Document 1vimqhdp: 12745 words\n",
      "Document pd1g119c: 4642 words\n",
      "Document gvh0wdxn: 3507 words\n",
      "Document jkrj0lbm: 3783 words\n",
      "Document jkvr9lq2: 3679 words\n",
      "Document y00pz4fd: 1705 words\n",
      "Document lqdgvsaq: 1627 words\n",
      "Document vslevssr: 1504 words\n"
     ]
    }
   ],
   "source": [
    "for doc_id, doc in list(sorted_docs.items())[:10]:\n",
    "    num_words = len(doc[\"text\"].split())\n",
    "    print(f\"Document {doc_id}: {num_words} words\")"
   ],
   "metadata": {
    "collapsed": false,
    "pycharm": {
     "name": "#%%\n"
    }
   }
  },
  {
   "cell_type": "markdown",
   "source": [
    "This dictionary is used to map the index of a document to the corresponding text_id in the original dataset.\n",
    "This index-to-ID mappings is useful for keeping track of the original text_id of the documents."
   ],
   "metadata": {
    "collapsed": false,
    "pycharm": {
     "name": "#%% md\n"
    }
   }
  },
  {
   "cell_type": "code",
   "execution_count": 7,
   "outputs": [],
   "source": [
    "doc_idx_to_id = {i: doc_id for i, doc_id in enumerate(sorted_docs.keys())}"
   ],
   "metadata": {
    "collapsed": false,
    "pycharm": {
     "name": "#%%\n"
    }
   }
  },
  {
   "cell_type": "code",
   "execution_count": 8,
   "outputs": [
    {
     "data": {
      "text/plain": "{0: 'ij3ncdb6',\n 1: 'c4pt07zk',\n 2: '1vimqhdp',\n 3: 'pd1g119c',\n 4: 'gvh0wdxn',\n 5: 'jkrj0lbm',\n 6: 'jkvr9lq2',\n 7: 'y00pz4fd',\n 8: 'lqdgvsaq',\n 9: 'vslevssr',\n 10: 'o1vxgzpj',\n 11: 'bt59txxp',\n 12: 'yt9rj42s',\n 13: 'qapwb5e4',\n 14: 'rff3ikak',\n 15: '0prx11md',\n 16: '84hh0mg9',\n 17: 'uumzl37q',\n 18: 'vr7vm64u',\n 19: 'v45cb2xq',\n 20: 'yn7pu9i8',\n 21: 't473tbm9',\n 22: 'nq0qe8qf',\n 23: '16b8drw2',\n 24: '4cbjbo7t',\n 25: 'tvs1snq8',\n 26: '2wb007gf',\n 27: 'st1epx6u',\n 28: 'syl7wq15',\n 29: 'dt3li3bk',\n 30: 'ec798c6s',\n 31: 'xvnxkcxq',\n 32: 'rxvxf34z',\n 33: '735dkles',\n 34: 'oq2jgo6z',\n 35: '23ovz927',\n 36: 'mtjughzl',\n 37: '1uwyrst6',\n 38: '6ngxo8ff',\n 39: 'yysf3sxe',\n 40: 'tpic8ddl',\n 41: 'l7hdrmbf',\n 42: 'n9x8k008',\n 43: '40hube0m',\n 44: 'xclgf1kk',\n 45: 'zu7i1et3',\n 46: 'c8l1p66u',\n 47: '6xdo6op6',\n 48: 'p2jp5fiq',\n 49: 'zev4fpe5',\n 50: '0x02bmti',\n 51: 't1gxo4mw',\n 52: 'skahzbni',\n 53: 'jdsn8vej',\n 54: 'aacp7221',\n 55: 'qwy3xfth',\n 56: 'uix6b0tm',\n 57: 'zy19qf3c',\n 58: 'pqegqjyu',\n 59: 'qkfxfmxb',\n 60: 'eet3v4cs',\n 61: 'jpk8aplo',\n 62: '8g70j0qw',\n 63: '5fcvpvgf',\n 64: 'yxtyufhi',\n 65: 'wojdthiy',\n 66: 'vtrf2fty',\n 67: 'bg794oli',\n 68: 'x8hbm1b7',\n 69: 'qkntdq8q',\n 70: 'e9kroam2',\n 71: 'pabdj7v4',\n 72: '7t34h0w6',\n 73: 'bjwohra0',\n 74: '9i8t92ct',\n 75: 'kmb6128p',\n 76: 'how1mfvf',\n 77: 'hw8jcplq',\n 78: 'xyj5u5cv',\n 79: 'i4mt36wj',\n 80: 'ut1kzurw',\n 81: 'js8kx3yc',\n 82: 'u507i0t0',\n 83: 'nfzxezbb',\n 84: 'ya80ecoq',\n 85: 'pmzff5su',\n 86: 'z6pnund0',\n 87: 'fi54s0x7',\n 88: 'manlp4gr',\n 89: '5w6euywp',\n 90: 'vml10h5s',\n 91: '83z84cts',\n 92: '3062h5on',\n 93: '2s9zd99r',\n 94: 'va0d334p',\n 95: 'n5qaaqxn',\n 96: 'upuaz2u0',\n 97: 'e7jydd0m',\n 98: 'iofm2qw4',\n 99: '51rpry20',\n 100: 'rzx3wt5c',\n 101: 'qr4690wo',\n 102: 'k2bvs7vk',\n 103: 'lhtwe6c7',\n 104: 'dnw9q3m6',\n 105: 'o0mhzx3g',\n 106: 'd2jvr7j1',\n 107: 'yyf15d9h',\n 108: 'w7qx5oos',\n 109: '94dughd1',\n 110: 'dig9h0i0',\n 111: 'dubxmtfv',\n 112: '1f52iqjg',\n 113: '2m23me46',\n 114: 'rgh1r8qt',\n 115: 'aq82tqay',\n 116: 'med3c01q',\n 117: '2aopmftm',\n 118: 'vu6uyf9e',\n 119: '5sywjuzx',\n 120: 'fdkwklzj',\n 121: 'jh34klbg',\n 122: 'srvrri4f',\n 123: 'mwdghoq9',\n 124: '2j3kdvva',\n 125: 'xzfo5jjq',\n 126: 'ldrbc4wt',\n 127: 'bb351ay9',\n 128: 'vj6azb4j',\n 129: 'i1gdsiw6',\n 130: '5ka9909n',\n 131: 'w8nhn3xm',\n 132: 'woyysdvo',\n 133: 'bmnmwobu',\n 134: 'ux9a6wrh',\n 135: 'vo0qtyix',\n 136: 'lgi4doyj',\n 137: 't9c26eld',\n 138: 'fi5s2yli',\n 139: 'mapu4r1z',\n 140: 'qy7lkz92',\n 141: '1b5o9406',\n 142: '3thlwner',\n 143: 'd7qx3vk6',\n 144: 'hkry89ck',\n 145: 'eeon1do2',\n 146: 'qyixnc9x',\n 147: 'bxywpgte',\n 148: 'myhiidm2',\n 149: 'ig08jsvi',\n 150: 'ygnxmcl1',\n 151: 'mtanqncf',\n 152: 'akvq4f7e',\n 153: '3ftxnao6',\n 154: '2ss1ezy4',\n 155: 'ruemj85t',\n 156: 'gukf7y9b',\n 157: 'fgxk9w4y',\n 158: 'qgqqlczz',\n 159: 'v6fqw8j4',\n 160: 'k4ytx6fy',\n 161: 'oxh5i4zy',\n 162: '97vjcctc',\n 163: 'a8gj8fxj',\n 164: 'a1bs2txh',\n 165: '1ta0synv',\n 166: 'ei1nkcmf',\n 167: 'e97q89qd',\n 168: '6vnhhvpa',\n 169: '3a3c8ee1',\n 170: 'qljguu98',\n 171: 'icfjecxw',\n 172: '9kdw5cll',\n 173: 'v9suydte',\n 174: 'oshov14d',\n 175: 'vwscg8sz',\n 176: '853ipgea',\n 177: 'ds5srj96',\n 178: '884ah39i',\n 179: 'dxpt7kry',\n 180: 'zzpw375i',\n 181: 'n4v4n8d1',\n 182: 'jotg12ya',\n 183: '3jwl97qb',\n 184: 'ub4p4ngr',\n 185: '2p9kbeyd',\n 186: '7ofa04l1',\n 187: 'xqh0hrbc',\n 188: '6q90bayx',\n 189: 'u88sxd5n',\n 190: 'lseuie52',\n 191: 'or3ezu8c',\n 192: '3ubjrz8j',\n 193: 'db45mydq',\n 194: 'zcau146y',\n 195: 'mttt1oai',\n 196: 'bnvozg5x',\n 197: 'd8tgfwv7',\n 198: '41vy9elp',\n 199: 'mmddnj5v',\n 200: 'nt35qjqw',\n 201: 'wywhmeow',\n 202: '0p5vlaia',\n 203: 'vumc92z8',\n 204: '3l4mntw2',\n 205: 'vrwkis9r',\n 206: 'i155x96n',\n 207: 'q61xkuub',\n 208: '2xylxrtx',\n 209: 'va54w5z7',\n 210: 'j1hqte6g',\n 211: 'in1o8aet',\n 212: 'zdeso778',\n 213: 'stqcnt0h',\n 214: 'xdhplxqq',\n 215: '4izokrtl',\n 216: 'cpwl2ych',\n 217: 'pev4ra5l',\n 218: 'uft6u7uw',\n 219: 'nuadau49',\n 220: 'e170ymw3',\n 221: 'ymzv7ocl',\n 222: '3vr4i0op',\n 223: 'ctbjc7dq',\n 224: '5zg3xr69',\n 225: 'y4bmwwue',\n 226: 'hdi340f7',\n 227: 'wdnnjlcw',\n 228: 'x7y1xpsf',\n 229: 'sqrh8ylt',\n 230: 'x7or04u6',\n 231: 't3q8jlpv',\n 232: '82sw5a7f',\n 233: 'othfwjr3',\n 234: '7g3keqx9',\n 235: 'efxl1cwx',\n 236: 'pxb52tn1',\n 237: '132cu3dq',\n 238: 'm5o1qdas',\n 239: '2diba6z5',\n 240: 'nwpzla09',\n 241: 'ca3bec63',\n 242: 'a49t16sl',\n 243: 'wmkgjgl2',\n 244: 'mueh50fv',\n 245: 'wu3xhisq',\n 246: 'jw0sfrar',\n 247: 'ppwviewr',\n 248: 'rr2r8245',\n 249: '39nt92om',\n 250: '6qbz1qr7',\n 251: 'hdpmxu9p',\n 252: '2qvfvdbi',\n 253: 'pxfrh4a1',\n 254: '0sd2h0fk',\n 255: 'q2lnl3ig',\n 256: 'x4kpzum2',\n 257: 'rcq0eaei',\n 258: 'qefsrq8l',\n 259: '8z6nmmyq',\n 260: '24m4rh9w',\n 261: 'v6mfv9hj',\n 262: '7fbnz9c5',\n 263: 'bdms1w31',\n 264: 'g8h6cpzr',\n 265: '0hki5u13',\n 266: 'ulusb6nb',\n 267: 'ec8gjg5v',\n 268: 'v355rpr5',\n 269: 'jvn3ijr2',\n 270: 'vfwcukoy',\n 271: 'l2fenhya',\n 272: '9m975ana',\n 273: 'yr9xa0wm',\n 274: '13weny1n',\n 275: 'qdtfjdxr',\n 276: 'dafyl6vp',\n 277: '4lyf9ip5',\n 278: 'wjlyvrj8',\n 279: 'kzz677r2',\n 280: 'i5cteccb',\n 281: 'aprh5q3x',\n 282: 'cndb031c',\n 283: '67rsh5ob',\n 284: '0z4ntb5l',\n 285: '2s5xd1oc',\n 286: 'kcnzh3ie',\n 287: 'ql6bdnkw',\n 288: 'ejdbx7q7',\n 289: 'h4d4yhd4',\n 290: 'yht718t0',\n 291: 'ysbxr36n',\n 292: 'fsojj7m5',\n 293: '1x66nxgx',\n 294: 'd9y31nlj',\n 295: 'tbx0ppu8',\n 296: 'y9rqr1h8',\n 297: 'nyocnvvj',\n 298: 'tffg9nch',\n 299: 'n3k5mndu',\n 300: 'f0pbd968',\n 301: 'x10nynjk',\n 302: 'luqkootw',\n 303: 'feulesm1',\n 304: '03netjqt',\n 305: 'gepvg99v',\n 306: '3kkg92yb',\n 307: 'wwlyeltt',\n 308: '74oh0nrz',\n 309: 'zve97j5h',\n 310: 'x738yj4w',\n 311: 'u0bw3uj6',\n 312: '30r4csk9',\n 313: 'wi3s53nn',\n 314: 'w1870ayn',\n 315: 'x6dr6rsh',\n 316: 'dl79v71g',\n 317: '2uq7frue',\n 318: 'neba2o7n',\n 319: 'ghbzr0px',\n 320: '2txjcpq1',\n 321: '81olp11p',\n 322: '73jpz3nu',\n 323: 'nh9dzfpd',\n 324: 'kysm5eq2',\n 325: 'ezh0s3bx',\n 326: 'bittel5v',\n 327: 'h9ppa064',\n 328: '65krkd9q',\n 329: '9hvhru6o',\n 330: '4osh2pkf',\n 331: 'h1mqt69l',\n 332: '2igc5wzx',\n 333: 'yz4w8jo1',\n 334: '4o8bedj8',\n 335: '70bo4jtu',\n 336: 'by47qh6i',\n 337: 'cuj7x630',\n 338: 'sk86rbap',\n 339: 'vcfmc7e7',\n 340: 'k9g2d28m',\n 341: 'uiti7isd',\n 342: 'npflq69s',\n 343: 'x7t7thg1',\n 344: 'hh490isu',\n 345: '39saijjp',\n 346: 'z5lvijn0',\n 347: 'hx2vwunx',\n 348: 'dyiaq27y',\n 349: '2i3iv0sz',\n 350: 'n2rec4i8',\n 351: '5tjwl8c4',\n 352: 'om28uzf1',\n 353: 'xk8378z0',\n 354: 'rgqjolue',\n 355: 'qllx3el3',\n 356: 'brpngt14',\n 357: 'i9ctpryy',\n 358: 'dte78dra',\n 359: 'iwmj4fqk',\n 360: 'e7gx0nj8',\n 361: 'jglkzrn3',\n 362: '6zwxdxxr',\n 363: 'xfziwfdx',\n 364: 'ztelgtyq',\n 365: '6nrvqt6j',\n 366: '8igrpqib',\n 367: 'zloyie6z',\n 368: '9mx7uf4h',\n 369: 'x8tcmtpj',\n 370: 'jxwyyv9o',\n 371: 'dypxs8bq',\n 372: '5p7dhqb4',\n 373: 'yqezvl5h',\n 374: 'ugaq1hyb',\n 375: 'p40wwv47',\n 376: '2ly18d15',\n 377: 'k1zlmd2k',\n 378: 'wefj7is3',\n 379: 'zax5vmju',\n 380: 'kqmlw4on',\n 381: '73r0bvy2',\n 382: 'lrf75ze3',\n 383: 'k53eufio',\n 384: 'lm1ln4o4',\n 385: 'e9306xae',\n 386: '3xxx9pen',\n 387: 'vdas0992',\n 388: 'mrh4my3u',\n 389: 'fe0w2spw',\n 390: '8ejc5543',\n 391: 'zndtddty',\n 392: 'ci3k93j2',\n 393: 'kpm0ftu0',\n 394: 'mxrp7dx1',\n 395: 'dlzr3aqu',\n 396: '1uxoc0db',\n 397: 'm6qe57he',\n 398: 'l92yc3er',\n 399: 'o8ftfhc4',\n 400: 'd6w7hd5j',\n 401: '0bb729sp',\n 402: 'p6rfkcjf',\n 403: 'nn3q1hw5',\n 404: '5dxdf0kg',\n 405: 'c46zgftm',\n 406: '1wdfyypl',\n 407: '09dh938k',\n 408: 'p8fmj516',\n 409: 'h4holhit',\n 410: 'vb3laqs0',\n 411: '5v1tpi9n',\n 412: 'jatgyiff',\n 413: 'xqs4baou',\n 414: '379nkyic',\n 415: 'jssovqb0',\n 416: '56i4sikj',\n 417: 've9fm15i',\n 418: 'oxch4ng6',\n 419: 'e79soxu4',\n 420: 'h7sp1fl1',\n 421: '1b7viy5o',\n 422: 'yor8o1xq',\n 423: '0fl85xmc',\n 424: 'nsrm0axa',\n 425: '4t3xgido',\n 426: 'o5n11nxr',\n 427: 'um1jr5at',\n 428: 'szbq7pbm',\n 429: '3qkrfz0p',\n 430: '63fppesp',\n 431: 'gn91ded6',\n 432: 'w8oixzdg',\n 433: '6l1b0b4e',\n 434: 'hfbi850o',\n 435: 'uc46rzw4',\n 436: '06giqn03',\n 437: 'j7eqlhax',\n 438: 'uw7qt4jd',\n 439: 'fuh4iyjd',\n 440: 'vkbukjj5',\n 441: 'lbpw3n3t',\n 442: 'jnw3er89',\n 443: 'fx2dbld5',\n 444: '3ao5njch',\n 445: 'czje8zpe',\n 446: 'dztctne4',\n 447: 'k406jf98',\n 448: '71zqeq6h',\n 449: 'tbwecf7o',\n 450: '8s9wkbdp',\n 451: 'xtfjw1ag',\n 452: 'feb722re',\n 453: 'vs78w3go',\n 454: 'en413zlr',\n 455: 'c6lnde2e',\n 456: 'gbay6qvl',\n 457: 'g69oh8ff',\n 458: 'hp8pswt7',\n 459: 'qa4ut7zw',\n 460: 'skj6jmsg',\n 461: 'c41w4qc7',\n 462: '30pl5tx3',\n 463: 'urxkhg5h',\n 464: 'nbb5qrc8',\n 465: '814xd4i4',\n 466: 'j6p3yzxp',\n 467: 'isyjeqo0',\n 468: 'bqemkljl',\n 469: 'posnrpd7',\n 470: 'cbnjsrmt',\n 471: 'kmcvwcg2',\n 472: '5izyl234',\n 473: '00rugcs8',\n 474: 'j0go8fw5',\n 475: '41v3lzww',\n 476: '8hvve871',\n 477: 'ko6rukdd',\n 478: 'rsb2ho77',\n 479: 'razv5gbl',\n 480: 'i8litb66',\n 481: 'fmxvjj6k',\n 482: 'x3oyp4w5',\n 483: 'rzvws6op',\n 484: '5vr0jeo1',\n 485: 'qweqi0et',\n 486: 'ia3zu7yf',\n 487: 'qxqo23i9',\n 488: 'r55fe25x',\n 489: 'e64qw1tb',\n 490: 'q0evfz24',\n 491: 'ie7mc8ti',\n 492: 'lcg3qdpm',\n 493: 'zjejsit7',\n 494: 'dtmux7iq',\n 495: 't3tgp5j7',\n 496: '62j81bq3',\n 497: 'cuhrfh7u',\n 498: 'w1sxap5p',\n 499: 'bcl5776f',\n 500: 'elbjs7ft',\n 501: '0qn6k9hc',\n 502: 'yqiggzk9',\n 503: 'l92lkj69',\n 504: 'kkmglk9x',\n 505: '9sr33nqv',\n 506: 'c87qiku4',\n 507: 'p0j2opcm',\n 508: 'rj9oj9ky',\n 509: 'b6hcipas',\n 510: '566pbuic',\n 511: 'e4da07bq',\n 512: 'nz231xk6',\n 513: 'zprn1bbq',\n 514: 'o5q2mo2x',\n 515: 'jxhz2zin',\n 516: 'p7jctnk0',\n 517: '5yop6clu',\n 518: '02bo7pnl',\n 519: 'a9q4b959',\n 520: 'z9f6q750',\n 521: '3i8k3bo5',\n 522: 'w0brwyby',\n 523: 'mjay109c',\n 524: 't9hvz1bk',\n 525: 'q9o28iut',\n 526: 'bimkggvg',\n 527: 'cy4eo4vu',\n 528: 'iyqbe7uk',\n 529: 'kxe65hd7',\n 530: 'ghf8sv6c',\n 531: 'vajrf6tf',\n 532: '992jdh21',\n 533: 'ws68f4p1',\n 534: 'dge5v6gj',\n 535: 'eikz07zz',\n 536: 's6cd9m67',\n 537: 'awy28210',\n 538: 'swi0klrl',\n 539: '2uo2t7uh',\n 540: 'ux32zanj',\n 541: '6exkwp52',\n 542: 'cr1gyx66',\n 543: 'yp8x5zwi',\n 544: '4pk81ly6',\n 545: 'j0ati6gq',\n 546: 'c7weqc03',\n 547: 'ac12oo3n',\n 548: 't89z5tl2',\n 549: 'dtj3ctto',\n 550: 'e98a5ed5',\n 551: 'aplbtvfd',\n 552: 'pby3i6wq',\n 553: 'lprvsgsx',\n 554: '5u87hw4t',\n 555: '985h1hpu',\n 556: 'oh4um491',\n 557: '73ds74y4',\n 558: '98jz8tox',\n 559: 'uwa1zlkh',\n 560: '9ttajlfs',\n 561: 'h9tgkboe',\n 562: 'kh19c70r',\n 563: '0cfafydb',\n 564: '15tjo6n0',\n 565: 'vavbh4a5',\n 566: 'i8buyy9l',\n 567: 'u46mhs34',\n 568: 'j8yd92qf',\n 569: '3wl9ebdy',\n 570: 'ijtz50ut',\n 571: 'rojq0kg0',\n 572: 'rolwrigv',\n 573: 'z3rpoqao',\n 574: 'erlsr9ku',\n 575: '6pna7xua',\n 576: '09whopck',\n 577: 'nmoc90hq',\n 578: '9siu7wgs',\n 579: 'br2s8jok',\n 580: 'yx11ucrb',\n 581: 'pz7ltakq',\n 582: '2vsfsrnk',\n 583: 'i9a7nly6',\n 584: '6flnh6ii',\n 585: '6awhy1ut',\n 586: '7899iaku',\n 587: 'pk2op2r4',\n 588: 'mk6lfyez',\n 589: 'fedv3xbc',\n 590: 'sdx37sup',\n 591: 'ao3rr3lv',\n 592: 'c717ro5q',\n 593: '11hi1jel',\n 594: '7tpdgxx8',\n 595: 'vfjuv9m7',\n 596: '07k3t5st',\n 597: 'mt38ald7',\n 598: '9yeuj9pq',\n 599: 'gnzau8uj',\n 600: 'zr74ec1u',\n 601: 'y8ypv9qg',\n 602: '0pit39ul',\n 603: 'y6jw3gws',\n 604: '6efj9zj8',\n 605: 'ofy65wi8',\n 606: 'w6ssngoe',\n 607: 's82tyeis',\n 608: '08o0re45',\n 609: 'mnuibcfa',\n 610: 'lb71tzlu',\n 611: 'h93g5hvf',\n 612: 'asbnfwm0',\n 613: 'c8l0rju6',\n 614: 'yp9kj5cv',\n 615: 'zwxvig62',\n 616: '5xuh0960',\n 617: 'erdcvj30',\n 618: 'o3bp0837',\n 619: '63qqrn2w',\n 620: '0pg3uylx',\n 621: '8hh3kbs7',\n 622: '7gs6dpdw',\n 623: '2bz9u8k0',\n 624: 'hpker46m',\n 625: '069pelqj',\n 626: '7z4galgk',\n 627: 'd1fr0sb7',\n 628: '0gurijb1',\n 629: 'kvuy06ln',\n 630: 'gic290id',\n 631: 'qj11migb',\n 632: '49uzkg1u',\n 633: 'mbqcbpog',\n 634: '7imk680b',\n 635: 'v92p0mj1',\n 636: 'kcklocnc',\n 637: '8ynk9k8r',\n 638: 'j4fj0exm',\n 639: 'pwt7qzoc',\n 640: 'cefkq9fq',\n 641: 'c1dy5vsn',\n 642: '6yinwbfh',\n 643: 'okj5p0u9',\n 644: '0vecbxny',\n 645: 'zrqp24gb',\n 646: '8o6o3m9z',\n 647: 'ojzbt809',\n 648: 'xphfm3hf',\n 649: 'kvrbaqgw',\n 650: 'wsgauldl',\n 651: 'vr5fit8r',\n 652: 'l3qp0n9f',\n 653: 'x1joa6mc',\n 654: 'h2uc7ria',\n 655: 'gmxhmzki',\n 656: 'bfmefxxe',\n 657: 'isam6nbz',\n 658: '7mk1jbn9',\n 659: 'puhm3w42',\n 660: 'j1oq77vf',\n 661: 'rxco3h7u',\n 662: 'lycc0erf',\n 663: 'k5k7hafn',\n 664: 'lbi9hapk',\n 665: 'ynhdii60',\n 666: '81sx505i',\n 667: '6t4snbye',\n 668: 'i3riibnq',\n 669: '9eeyegvt',\n 670: 'lopqt0wr',\n 671: 'f9wsi3jb',\n 672: 'astxi4el',\n 673: 'huqrvduk',\n 674: 'bbc07wq0',\n 675: 'v3kk3f3x',\n 676: 'fpsytchi',\n 677: 'mwdglvpr',\n 678: 'fp1a1g6e',\n 679: 'sflu2was',\n 680: 'okomovsk',\n 681: 'boew323c',\n 682: '0nvyf9in',\n 683: 'xemub06j',\n 684: 'j1uqa6p6',\n 685: 'vaxq0rzt',\n 686: '31sf00iq',\n 687: 'jaq1mpw7',\n 688: 'hs9cfdsu',\n 689: '9c5xlwk8',\n 690: 'sy5oa6kv',\n 691: 'sfv9tu3t',\n 692: 'jb1jh33s',\n 693: '08unxxhq',\n 694: '40qodhns',\n 695: 'wtx50nad',\n 696: '9x4pbm1t',\n 697: 'rvmeokg4',\n 698: 'qshzcp2z',\n 699: '31t5lzfv',\n 700: 'q0aasznp',\n 701: 'zrdsr3nh',\n 702: 'bwpuqiww',\n 703: 'igxwuds7',\n 704: 'ooqu7bb8',\n 705: 'ox3tqea4',\n 706: 'fiwkop60',\n 707: 'hzh4wmtb',\n 708: 'h016xbzb',\n 709: 'wzxorv0a',\n 710: 'qbx1shue',\n 711: 'y3snte9a',\n 712: 'e9aba52a',\n 713: 'l7hcvr5d',\n 714: 'npho46un',\n 715: '4uiyj6lg',\n 716: 'hz9mu4q8',\n 717: 'dm21kvnm',\n 718: 'ca053qzz',\n 719: '76vexhxq',\n 720: 'dgnw57d2',\n 721: 'm63b9ekk',\n 722: 'sr9ug2m0',\n 723: 'h5iew8oo',\n 724: 'wkcdv0h4',\n 725: 'x9laa9uk',\n 726: 'fl2k7236',\n 727: 'r24lvhvs',\n 728: 'truzivy4',\n 729: 'lq9bnp2k',\n 730: 'xwghd9ut',\n 731: 'gdzx3vlt',\n 732: 'w0ic2jlw',\n 733: 'vxjfgdbi',\n 734: 'rjrx6saw',\n 735: 'f1hesqu8',\n 736: 'ckvsn0ah',\n 737: 'aovgef85',\n 738: 'nwqlt5ej',\n 739: '453nuswm',\n 740: 'dfgb0liu',\n 741: '0xqhpqm4',\n 742: 'yj2dfykl',\n 743: '4qauchmf',\n 744: 'kzlo48b0',\n 745: 'ot8353im',\n 746: '7qdjea6f',\n 747: 'z2e7shee',\n 748: 'zawf4jzm',\n 749: 'ck09qzwx',\n 750: 'doi8buyw',\n 751: '5tj0qaqq',\n 752: '74xuvaz6',\n 753: 'z1x40dn2',\n 754: '9ly0nu1m',\n 755: 'b3nxvnmv',\n 756: 'ddvmxifv',\n 757: '8h4ur2d8',\n 758: 'o78scael',\n 759: 'q1sbw9ss',\n 760: 'gxy1w0qk',\n 761: 'h9gfyeb8',\n 762: 'squadhyq',\n 763: 'dtnc7x6a',\n 764: 'x6drl82v',\n 765: 'qw06qqlw',\n 766: 'hv41bawb',\n 767: 'suoy3ojr',\n 768: 'vn5boexq',\n 769: '6c8ps3nm',\n 770: 'phlxsez8',\n 771: 'pscfmt4l',\n 772: 's8u5mfhv',\n 773: 'c3d2rpzh',\n 774: 'ik4qrdzo',\n 775: '6alsigxk',\n 776: 'o3z1qmax',\n 777: '520unp4q',\n 778: 'strtcuu2',\n 779: '350ptfcb',\n 780: 'meaq7rmu',\n 781: 'zysz4pfa',\n 782: '0szpdvgf',\n 783: '9fr2srih',\n 784: 'd09b65gd',\n 785: 'jisznsr3',\n 786: 'krcvmg8s',\n 787: 'icowa7wn',\n 788: 'ziyo5umz',\n 789: '7pdtk0hu',\n 790: 'qico4v8y',\n 791: '11i46km7',\n 792: '8ichqzt8',\n 793: 'on3h9f9f',\n 794: 'ru9uc2ck',\n 795: 'xgjd961x',\n 796: '517s290b',\n 797: 'sdlxwds4',\n 798: '6rzv2xmm',\n 799: 'kcimb10m',\n 800: '8kff8up4',\n 801: 'e1aodl9u',\n 802: '6vtyhbdw',\n 803: 'owhpbrpo',\n 804: 'mqad8g9h',\n 805: 'u8ltnx7e',\n 806: '7m48izpw',\n 807: 'sa44s4nc',\n 808: 'zw89nryl',\n 809: 'ow02q6vo',\n 810: '90wpuzfz',\n 811: 'p0lvz6ph',\n 812: 'nohilcmu',\n 813: 'fmmm8itx',\n 814: '7u4b8if7',\n 815: 'gdq5hzey',\n 816: 'zrwkiv3l',\n 817: 'i5yybm21',\n 818: 'mskkahwi',\n 819: 'ezd2syi1',\n 820: 'f5aog3ky',\n 821: 'zs89gr32',\n 822: 'ife19f8i',\n 823: 'qf7zu0ue',\n 824: 'd2e7qgzh',\n 825: '9qj24x8g',\n 826: '3vvsa2wi',\n 827: 'jrvurm62',\n 828: '2snhe6s1',\n 829: 'leh2ny0e',\n 830: 'cncpch6w',\n 831: 'f1cmybnm',\n 832: 'eas75gr6',\n 833: 'tvfvh2dr',\n 834: 'o7kl258h',\n 835: 'gnz2wv62',\n 836: '4cipqqwa',\n 837: '5ugj0jk7',\n 838: 'ywnr8d48',\n 839: '6lyoz8nn',\n 840: 'buz3o8x9',\n 841: '4pwxplhh',\n 842: '32v44sw9',\n 843: 'b398h94z',\n 844: '92d5vb00',\n 845: 'd6hfczkq',\n 846: 'mzmsr7nf',\n 847: '9bpdfxrt',\n 848: 'fambtykj',\n 849: 'inpsssto',\n 850: 'wbbotohj',\n 851: 'ulbbn7ks',\n 852: 'nada82w4',\n 853: 'av2tx4ha',\n 854: 'dnshqna6',\n 855: 'r3au7ey3',\n 856: '7q1xtlra',\n 857: 's4jljpgb',\n 858: '4p3c96dm',\n 859: 'qsk9lmsc',\n 860: 'sufpwhij',\n 861: '9qdl3jt9',\n 862: '1fm9smfr',\n 863: 'x239ja50',\n 864: 'nwmo9wsg',\n 865: '3zc62lin',\n 866: '5ly0ryhc',\n 867: '3q10qdat',\n 868: 'vitq4niq',\n 869: 'ykf5kjdl',\n 870: 'gduttvzl',\n 871: '01lu7sce',\n 872: 'ncmr955j',\n 873: '8hinyf1u',\n 874: '1kg8fd9p',\n 875: 'pcewuzkq',\n 876: 'me9vzf1w',\n 877: 'mh0xixzh',\n 878: 'y962jhwa',\n 879: 'jsyc9jpp',\n 880: 'td52eits',\n 881: 'uq0pmds8',\n 882: 'ju1b5ts8',\n 883: '7hdnfxm3',\n 884: 'v5q18m8p',\n 885: 'ex497vbq',\n 886: 'cy22ol71',\n 887: '8yo8dw0h',\n 888: 'vgy9z9pj',\n 889: 'm1uoqej8',\n 890: 'ml4fpf2o',\n 891: 'u9num2o9',\n 892: 'gpzyiuo7',\n 893: 'tad9jmfp',\n 894: 'w5d8edgl',\n 895: '76t4vd04',\n 896: 'e7f0iimu',\n 897: 'apytopay',\n 898: 'qxjmr8qu',\n 899: 'kuf8p4e1',\n 900: '8v0ki1qp',\n 901: '10b5s81p',\n 902: 'kpjopsc0',\n 903: 'ddulfe06',\n 904: 'hh6bxx3o',\n 905: 'vg9btpqr',\n 906: 'zdxw84qc',\n 907: 'ona9imqy',\n 908: '2l7ar8fy',\n 909: 'qvcbfnbf',\n 910: 'zsegh330',\n 911: 'bink39ir',\n 912: '1wr7oud8',\n 913: '2j8n9rdh',\n 914: 'owtxsxy0',\n 915: 'vmsq5hhz',\n 916: 'jm1mf6g1',\n 917: '6i7e9dd4',\n 918: 'xdp7fomr',\n 919: 'iyzopnxq',\n 920: 'fko6gmve',\n 921: '9h45c2di',\n 922: '461ey6hw',\n 923: '4e05h96h',\n 924: 'x6wciaxj',\n 925: '6enxm9l5',\n 926: '6l2877nv',\n 927: 'qj281r9s',\n 928: 'm5487mn0',\n 929: 'wpb1mbaq',\n 930: '5hrydciz',\n 931: 'si9e7t09',\n 932: 'qdwl8llw',\n 933: 'mhrl2grw',\n 934: 'uyz5wsok',\n 935: 'i45px6j5',\n 936: '5aev7ltr',\n 937: 'nptsxpnp',\n 938: 'fl7yrpzs',\n 939: 'homxj9uz',\n 940: 'bwzzr1a0',\n 941: 'rkw5h4ea',\n 942: 'qwqlj6mo',\n 943: '2y4a1luj',\n 944: 'njt7vyiy',\n 945: '6k3v4peu',\n 946: 'z9uu4sj7',\n 947: 'lgvnz7ke',\n 948: '29ip8mx7',\n 949: 'bdkwgo57',\n 950: 'yqahjwuo',\n 951: 'uhhadsj4',\n 952: 'gt5pq29h',\n 953: '3ti3y4y9',\n 954: 'u30cufg7',\n 955: 'vguqvpdk',\n 956: 'auiaw6li',\n 957: 'qzi4ogfu',\n 958: 'lhd0jn0z',\n 959: 'b6r6j1ek',\n 960: '2hk2qewy',\n 961: 'cjml56d2',\n 962: 'kml27hvb',\n 963: '0qwwycnc',\n 964: '1of5ertf',\n 965: 'nahhmgqi',\n 966: 'm08z22kp',\n 967: 'rwjx5ehy',\n 968: 'hyig2t8c',\n 969: 'syuga1j1',\n 970: 'c8ehn906',\n 971: 'ewhelkb0',\n 972: '785jckvw',\n 973: '8o3mludy',\n 974: 'wqcrvjkj',\n 975: 'm4newjgs',\n 976: 'w4w04xd8',\n 977: 'g5v7nlls',\n 978: 'c2ujots2',\n 979: '2bl0q0b1',\n 980: 'xt3sunvm',\n 981: 'tszadtyf',\n 982: 'los6q1k4',\n 983: '453q288g',\n 984: 'e3wmpthk',\n 985: '364gpxr6',\n 986: 'llow5xll',\n 987: '0aj7r03h',\n 988: 'ao2tyd4x',\n 989: 's4mvng1b',\n 990: '655polth',\n 991: 'sysxn8qo',\n 992: '429a6bur',\n 993: 'b23301ac',\n 994: 'snz9gkhh',\n 995: 'iz74o9de',\n 996: 'zzagko3w',\n 997: 'wq9p8a33',\n 998: '7h3rrea7',\n 999: 'jao9glq5',\n ...}"
     },
     "execution_count": 8,
     "metadata": {},
     "output_type": "execute_result"
    }
   ],
   "source": [
    "doc_idx_to_id"
   ],
   "metadata": {
    "collapsed": false,
    "pycharm": {
     "name": "#%%\n"
    }
   }
  },
  {
   "cell_type": "markdown",
   "source": [
    "## Due to the size, we will use different dataset samples\n",
    "(1000 longest docs, 1000 shortest docs, 1000 random docs)"
   ],
   "metadata": {
    "collapsed": false,
    "pycharm": {
     "name": "#%% md\n"
    }
   }
  },
  {
   "cell_type": "markdown",
   "source": [
    "### Define the paths to save and read the samples and their mappings"
   ],
   "metadata": {
    "collapsed": false,
    "pycharm": {
     "name": "#%% md\n"
    }
   }
  },
  {
   "cell_type": "code",
   "execution_count": 9,
   "outputs": [],
   "source": [
    "samples_dir = os.path.join(data_path, \"samples\")\n",
    "if not os.path.exists(samples_dir):\n",
    "    os.mkdir(samples_dir)\n",
    "\n",
    "longest_docs_path = os.path.join(samples_dir, \"longest_docs.jsonl\")\n",
    "shortest_docs_path = os.path.join(samples_dir, \"shortest_docs.jsonl\")\n",
    "random_docs_path = os.path.join(samples_dir, \"random_docs.jsonl\")\n",
    "random_docs_idx_path = os.path.join(samples_dir, \"random_docs_idx.pkl\")"
   ],
   "metadata": {
    "collapsed": false,
    "pycharm": {
     "name": "#%%\n"
    }
   }
  },
  {
   "cell_type": "code",
   "execution_count": 10,
   "outputs": [],
   "source": [
    "sample_size = 100 #1000\n",
    "\n",
    "if not all([os.path.exists(p) for p in [longest_docs_path, shortest_docs_path, random_docs_path, random_docs_idx_path]]):\n",
    "    longest_docs = pp.Documents = {}\n",
    "    for doc_id, doc in list(sorted_docs.items())[:sample_size]:\n",
    "        longest_docs[doc_id] = doc\n",
    "    longest_doc_idx_to_id = {i:doc_idx_to_id[idx] for i, idx in enumerate(range(sample_size))}\n",
    "\n",
    "    shortest_docs = pp.Documents = {}\n",
    "    for doc_id, doc in list(sorted_docs.items())[-sample_size:]:\n",
    "        shortest_docs[doc_id] = doc\n",
    "    shortest_doc_idx_to_id = {i:doc_idx_to_id[idx] for i, idx in enumerate(range(len(sorted_docs)-sample_size, len(sorted_docs)))}\n",
    "\n",
    "    random_docs = pp.Documents = {}\n",
    "    s_docs = list(sorted_docs.items())\n",
    "    random_docs_idx = random.sample(range(len(sorted_docs)), k=sample_size)\n",
    "    for index in random_docs_idx:\n",
    "        doc_id, doc = s_docs[index]\n",
    "        random_docs[doc_id] = doc\n",
    "    random_doc_idx_to_id = {i:doc_idx_to_id[idx] for i, idx in enumerate(random_docs_idx)}\n",
    "\n",
    "    # io.save_sample_data(longest_docs_path, longest_docs)\n",
    "    # io.save_sample_data(shortest_docs_path, shortest_docs)\n",
    "    # io.save_sample_data(random_docs_path, random_docs)\n",
    "\n",
    "    with open(random_docs_idx_path, \"wb\") as f:\n",
    "        pickle.dump(random_doc_idx_to_id, f)\n",
    "else:\n",
    "    # longest_docs = io.get_sample_data(longest_docs_path)\n",
    "    # shortest_docs = io.get_sample_data(shortest_docs_path)\n",
    "    # random_docs = io.get_sample_data(random_docs_path)\n",
    "\n",
    "\n",
    "\n",
    "    longest_doc_idx_to_id = {i:doc_idx_to_id[idx] for i, idx in enumerate(range(sample_size))}\n",
    "    shortest_doc_idx_to_id = {i:doc_idx_to_id[idx] for i, idx in enumerate(range(len(sorted_docs)-sample_size, len(sorted_docs)))}\n",
    "    with open(random_docs_idx_path, \"rb\") as f:\n",
    "        random_docs_idx = pickle.load(f)\n",
    "    random_doc_idx_to_id = {i:doc_idx_to_id[idx] for i, idx in enumerate(random_docs_idx)}\n",
    "\n",
    "\n",
    "\n",
    "    longest_docs = pp.Documents = {}\n",
    "    for doc_id, doc in list(sorted_docs.items())[:sample_size]:\n",
    "        longest_docs[doc_id] = doc\n",
    "\n",
    "    shortest_docs = pp.Documents = {}\n",
    "    for doc_id, doc in list(sorted_docs.items())[-sample_size:]:\n",
    "        shortest_docs[doc_id] = doc\n",
    "\n",
    "    random_docs = pp.Documents = {}\n",
    "    s_docs = list(sorted_docs.items())\n",
    "    for index in random_docs_idx:\n",
    "        doc_id, doc = s_docs[index]\n",
    "        random_docs[doc_id] = doc"
   ],
   "metadata": {
    "collapsed": false,
    "pycharm": {
     "name": "#%%\n"
    }
   }
  },
  {
   "cell_type": "code",
   "execution_count": 11,
   "outputs": [
    {
     "name": "stdout",
     "output_type": "stream",
     "text": [
      "100\n",
      "100\n",
      "100\n"
     ]
    }
   ],
   "source": [
    "print(len(longest_docs))\n",
    "print(len(shortest_docs))\n",
    "print(len(random_docs))"
   ],
   "metadata": {
    "collapsed": false,
    "pycharm": {
     "name": "#%%\n"
    }
   }
  },
  {
   "cell_type": "code",
   "execution_count": 12,
   "outputs": [],
   "source": [
    "samples = [(\"longest_docs\", longest_docs, longest_doc_idx_to_id),\n",
    "           (\"shortest_docs\", shortest_docs, shortest_doc_idx_to_id),\n",
    "           (\"random_docs\", random_docs, random_doc_idx_to_id)]"
   ],
   "metadata": {
    "collapsed": false,
    "pycharm": {
     "name": "#%%\n"
    }
   }
  },
  {
   "cell_type": "markdown",
   "source": [
    "## Tokenization\n",
    "Document cleaning and tokenization"
   ],
   "metadata": {
    "collapsed": false,
    "pycharm": {
     "name": "#%% md\n"
    }
   }
  },
  {
   "cell_type": "code",
   "execution_count": 13,
   "outputs": [],
   "source": [
    "tokens_dir = os.path.join(data_path, \"tokens\")\n",
    "if not os.path.exists(tokens_dir):\n",
    "    os.mkdir(tokens_dir)\n",
    "\n",
    "docs_tokens_path = os.path.join(tokens_dir, \"doc_tokens.pkl\")"
   ],
   "metadata": {
    "collapsed": false,
    "pycharm": {
     "name": "#%%\n"
    }
   }
  },
  {
   "cell_type": "code",
   "execution_count": 14,
   "outputs": [],
   "source": [
    "if not os.path.exists(docs_tokens_path):\n",
    "    tokenized_samples = []\n",
    "    for name, docs, idx_to_id in samples:\n",
    "        tokenized_docs: pp.TokenizedDocuments = pp.get_tokenized_documents(docs)\n",
    "        tokenized_samples.append((name, tokenized_docs, idx_to_id))\n",
    "\n",
    "    with open(docs_tokens_path, \"wb\") as f:\n",
    "        pickle.dump(tokenized_samples, f)\n",
    "else:\n",
    "    with open(docs_tokens_path, \"rb\") as f:\n",
    "        tokenized_samples = pickle.load(f)"
   ],
   "metadata": {
    "collapsed": false,
    "pycharm": {
     "name": "#%%\n"
    }
   }
  },
  {
   "cell_type": "markdown",
   "source": [
    "## VECTORIZE"
   ],
   "metadata": {
    "collapsed": false,
    "pycharm": {
     "name": "#%% md\n"
    }
   }
  },
  {
   "cell_type": "code",
   "execution_count": 15,
   "outputs": [],
   "source": [
    "tfidf_dir = os.path.join(samples_dir, \"tfidf\")\n",
    "if not os.path.exists(tfidf_dir):\n",
    "    os.mkdir(tfidf_dir)\n",
    "\n",
    "tfidf_results_path = os.path.join(tfidf_dir, \"tfidf_docs.pkl\")"
   ],
   "metadata": {
    "collapsed": false,
    "pycharm": {
     "name": "#%%\n"
    }
   }
  },
  {
   "cell_type": "code",
   "execution_count": 16,
   "outputs": [],
   "source": [
    "if not os.path.exists(tfidf_results_path):\n",
    "    tfidf_docs = []\n",
    "    for name, docs, idx_to_id in tqdm(tokenized_samples):\n",
    "        vectorized_docs, time_taken = pp.vectorize(docs)\n",
    "        tfidf_docs.append((name, vectorized_docs, time_taken, idx_to_id))\n",
    "\n",
    "    with open(tfidf_results_path, \"wb\") as f:\n",
    "        pickle.dump(tfidf_docs, f)\n",
    "else:\n",
    "    with open(tfidf_results_path, \"rb\") as f:\n",
    "        tfidf_docs = pickle.load(f)"
   ],
   "metadata": {
    "collapsed": false,
    "pycharm": {
     "name": "#%%\n"
    }
   }
  },
  {
   "cell_type": "code",
   "execution_count": 17,
   "outputs": [
    {
     "name": "stdout",
     "output_type": "stream",
     "text": [
      "Time taken to vectorize longest_docs: 0.17 seconds\n",
      "Time taken to vectorize shortest_docs: 0.01 seconds\n",
      "Time taken to vectorize random_docs: 0.01 seconds\n"
     ]
    }
   ],
   "source": [
    "for name, _, time_taken, _ in tfidf_docs:\n",
    "    print(f\"Time taken to vectorize {name}: {time_taken:.2f} seconds\")"
   ],
   "metadata": {
    "collapsed": false,
    "pycharm": {
     "name": "#%%\n"
    }
   }
  },
  {
   "cell_type": "code",
   "execution_count": 18,
   "outputs": [
    {
     "name": "stdout",
     "output_type": "stream",
     "text": [
      "  (0, 10637)\t0.0062706793201121125\n",
      "  (0, 17207)\t0.0062706793201121125\n",
      "  (0, 6611)\t0.0062706793201121125\n",
      "  (0, 20086)\t0.0062706793201121125\n",
      "  (0, 1620)\t0.004871028227207774\n",
      "  (0, 7383)\t0.0062706793201121125\n",
      "  (0, 16639)\t0.0062706793201121125\n",
      "  (0, 9853)\t0.0062706793201121125\n",
      "  (0, 18578)\t0.0062706793201121125\n",
      "  (0, 19635)\t0.0062706793201121125\n",
      "  (0, 7400)\t0.0062706793201121125\n",
      "  (0, 12767)\t0.0062706793201121125\n",
      "  (0, 17842)\t0.0062706793201121125\n",
      "  (0, 13136)\t0.0062706793201121125\n",
      "  (0, 7397)\t0.0062706793201121125\n",
      "  (0, 13937)\t0.0062706793201121125\n",
      "  (0, 8726)\t0.0062706793201121125\n",
      "  (0, 6779)\t0.0062706793201121125\n",
      "  (0, 1624)\t0.004871028227207774\n",
      "  (0, 7395)\t0.0062706793201121125\n",
      "  (0, 15897)\t0.0062706793201121125\n",
      "  (0, 17261)\t0.0062706793201121125\n",
      "  (0, 18755)\t0.0062706793201121125\n",
      "  (0, 7392)\t0.0062706793201121125\n",
      "  (0, 13379)\t0.0062706793201121125\n",
      "  :\t:\n",
      "  (99, 1050)\t0.37303556662688425\n",
      "  (99, 30)\t0.009180980713333987\n",
      "  (99, 18)\t0.01681966279786275\n",
      "  (99, 128)\t0.005866291564547258\n",
      "  (99, 122)\t0.017361529380170306\n",
      "  (99, 226)\t0.006696979497088044\n",
      "  (99, 576)\t0.0328314773251604\n",
      "  (99, 816)\t0.0632699008468162\n",
      "  (99, 108)\t0.028175832955576015\n",
      "  (99, 558)\t0.0082078693312901\n",
      "  (99, 35)\t0.023212595819352425\n",
      "  (99, 79)\t0.04817910142261028\n",
      "  (99, 0)\t0.08051207825818028\n",
      "  (99, 24)\t0.013030629937625774\n",
      "  (99, 11)\t0.011838476215077456\n",
      "  (99, 2434)\t0.02313298268961335\n",
      "  (99, 1124)\t0.2269926395165485\n",
      "  (99, 4)\t0.003864814748635052\n",
      "  (99, 153)\t0.036188025998169185\n",
      "  (99, 293)\t0.007037080447918679\n",
      "  (99, 266)\t0.04843444266272094\n",
      "  (99, 715)\t0.017186887976982815\n",
      "  (99, 479)\t0.007867768380459465\n",
      "  (99, 145)\t0.006031337666361531\n",
      "  (99, 69)\t0.02088783978495767\n",
      "  (0, 118)\t0.21613416338092323\n",
      "  (0, 240)\t0.21613416338092323\n",
      "  (0, 510)\t0.21613416338092323\n",
      "  (0, 515)\t0.21613416338092323\n",
      "  (0, 125)\t0.21613416338092323\n",
      "  (0, 332)\t0.21613416338092323\n",
      "  (0, 468)\t0.21613416338092323\n",
      "  (0, 553)\t0.21613416338092323\n",
      "  (0, 315)\t0.21613416338092323\n",
      "  (0, 480)\t0.21613416338092323\n",
      "  (0, 302)\t0.21613416338092323\n",
      "  (0, 415)\t0.21613416338092323\n",
      "  (0, 288)\t0.21613416338092323\n",
      "  (0, 542)\t0.21613416338092323\n",
      "  (0, 50)\t0.19832934081613374\n",
      "  (0, 94)\t0.19832934081613374\n",
      "  (0, 24)\t0.17589791722178813\n",
      "  (0, 40)\t0.37139323633181287\n",
      "  (0, 20)\t0.17589791722178813\n",
      "  (0, 11)\t0.16789179560111694\n",
      "  (0, 57)\t0.19832934081613374\n",
      "  (1, 202)\t0.22189655861756888\n",
      "  (1, 166)\t0.22189655861756888\n",
      "  (1, 36)\t0.381295024103277\n",
      "  (1, 306)\t0.22189655861756888\n",
      "  :\t:\n",
      "  (91, 38)\t0.5253023121169969\n",
      "  (91, 12)\t0.47493567349700516\n",
      "  (91, 119)\t0.611404649545291\n",
      "  (91, 2)\t0.35309763726040877\n",
      "  (92, 481)\t0.6710306715067988\n",
      "  (92, 158)\t0.6710306715067988\n",
      "  (92, 1)\t0.22424551430272452\n",
      "  (92, 0)\t0.22169714727387838\n",
      "  (93, 532)\t0.622547810258753\n",
      "  (93, 51)\t0.571263214032196\n",
      "  (93, 27)\t0.5348762139370538\n",
      "  (94, 212)\t0.4174581926823129\n",
      "  (94, 457)\t0.8349163853646258\n",
      "  (94, 32)\t0.35866877033285843\n",
      "  (95, 33)\t0.8773431858125545\n",
      "  (95, 1)\t0.3412481652793648\n",
      "  (95, 0)\t0.3373701587303544\n",
      "  (96, 88)\t0.890073279152118\n",
      "  (96, 1)\t0.324148194713891\n",
      "  (96, 0)\t0.3204645153571939\n",
      "  (97, 313)\t0.7071067811865476\n",
      "  (97, 355)\t0.7071067811865476\n",
      "  (98, 186)\t0.7071067811865476\n",
      "  (98, 224)\t0.7071067811865476\n",
      "  (99, 127)\t1.0\n",
      "  (0, 1428)\t0.06355226504297226\n",
      "  (0, 1211)\t0.06355226504297226\n",
      "  (0, 1876)\t0.06355226504297226\n",
      "  (0, 2465)\t0.06355226504297226\n",
      "  (0, 2354)\t0.06355226504297226\n",
      "  (0, 2907)\t0.06355226504297226\n",
      "  (0, 638)\t0.058316920546848665\n",
      "  (0, 3175)\t0.06355226504297226\n",
      "  (0, 2205)\t0.06355226504297226\n",
      "  (0, 3016)\t0.06355226504297226\n",
      "  (0, 1569)\t0.06355226504297226\n",
      "  (0, 1341)\t0.06355226504297226\n",
      "  (0, 1256)\t0.06355226504297226\n",
      "  (0, 1989)\t0.06355226504297226\n",
      "  (0, 2632)\t0.06355226504297226\n",
      "  (0, 2342)\t0.06355226504297226\n",
      "  (0, 1351)\t0.06355226504297226\n",
      "  (0, 2148)\t0.06355226504297226\n",
      "  (0, 2788)\t0.06355226504297226\n",
      "  (0, 1628)\t0.06355226504297226\n",
      "  (0, 1459)\t0.06355226504297226\n",
      "  (0, 1309)\t0.06355226504297226\n",
      "  (0, 3062)\t0.06355226504297226\n",
      "  (0, 573)\t0.10920476902546856\n",
      "  (0, 1231)\t0.12710453008594452\n",
      "  :\t:\n",
      "  (92, 45)\t0.45103656057788755\n",
      "  (93, 1495)\t0.4871079360490066\n",
      "  (93, 2074)\t0.4871079360490066\n",
      "  (93, 617)\t0.41850994304243794\n",
      "  (93, 508)\t0.41850994304243794\n",
      "  (93, 539)\t0.41850994304243794\n",
      "  (94, 613)\t0.5444069337727583\n",
      "  (94, 434)\t0.5444069337727583\n",
      "  (94, 0)\t0.2850141058649944\n",
      "  (94, 2)\t0.28937849425985107\n",
      "  (94, 217)\t0.4922085202819697\n",
      "  (95, 2804)\t0.7630806031063211\n",
      "  (95, 0)\t0.34323668289107334\n",
      "  (95, 2)\t0.34849262694672817\n",
      "  (95, 20)\t0.4224327894998142\n",
      "  (96, 2625)\t0.5773502691896257\n",
      "  (96, 3191)\t0.5773502691896257\n",
      "  (96, 2654)\t0.5773502691896257\n",
      "  (97, 2715)\t0.7115325009367683\n",
      "  (97, 614)\t0.611329449598479\n",
      "  (97, 5)\t0.34640699208342834\n",
      "  (98, 3076)\t0.7071067811865476\n",
      "  (98, 1607)\t0.7071067811865476\n",
      "  (99, 1516)\t0.7584952482262755\n",
      "  (99, 564)\t0.6516785698625978\n"
     ]
    }
   ],
   "source": [
    "for _, mat, _, _ in tfidf_docs:\n",
    "    print(mat)"
   ],
   "metadata": {
    "collapsed": false,
    "pycharm": {
     "name": "#%%\n"
    }
   }
  },
  {
   "cell_type": "markdown",
   "source": [
    "## Sequential APDS"
   ],
   "metadata": {
    "collapsed": false,
    "pycharm": {
     "name": "#%% md\n"
    }
   }
  },
  {
   "cell_type": "code",
   "execution_count": 19,
   "outputs": [],
   "source": [
    "thresholds = [0.5, 0.6, 0.7, 0.8, 0.9] # Chosen thresholds"
   ],
   "metadata": {
    "collapsed": false,
    "pycharm": {
     "name": "#%%\n"
    }
   }
  },
  {
   "cell_type": "code",
   "execution_count": 20,
   "outputs": [],
   "source": [
    "seq_results_dir = os.path.join(samples_dir, \"seq_result\")\n",
    "if not os.path.exists(seq_results_dir):\n",
    "    os.mkdir(seq_results_dir)\n",
    "\n",
    "seq_results_path = os.path.join(seq_results_dir, \"seq_results.pkl\")"
   ],
   "metadata": {
    "collapsed": false,
    "pycharm": {
     "name": "#%%\n"
    }
   }
  },
  {
   "cell_type": "code",
   "execution_count": 21,
   "outputs": [],
   "source": [
    "all_seq_results = {} #sample: pairs indices, pairs docs id, additional information\n",
    "\n",
    "if not os.path.exists(seq_results_path):\n",
    "    for name, vectorized_docs, _, idx_to_id in tqdm(tfidf_docs):\n",
    "        seq_results = []\n",
    "        for threshold in thresholds:\n",
    "            similar_pairs, information = sim_seq.compute_all_pairs_docs_sim(vectorized_docs, name, threshold)\n",
    "            mapped_pairs = sim_seq.map_doc_idx_to_id(similar_pairs, idx_to_id)\n",
    "            seq_results.append((similar_pairs, mapped_pairs, information))\n",
    "        all_seq_results[name] = seq_results\n",
    "\n",
    "    with open(seq_results_path, \"wb\") as f:\n",
    "        pickle.dump(all_seq_results, f)\n",
    "else:\n",
    "    with open(seq_results_path, \"rb\") as f:\n",
    "        all_seq_results = pickle.load(f)"
   ],
   "metadata": {
    "collapsed": false,
    "pycharm": {
     "name": "#%%\n"
    }
   }
  },
  {
   "cell_type": "markdown",
   "source": [
    "### longest 1000"
   ],
   "metadata": {
    "collapsed": false,
    "pycharm": {
     "name": "#%% md\n"
    }
   }
  },
  {
   "cell_type": "code",
   "execution_count": 22,
   "outputs": [
    {
     "name": "stdout",
     "output_type": "stream",
     "text": [
      "--Run info--\n",
      "sample_name: longest_docs\n",
      "threshold: 0.5\n",
      "pairs_count: 40\n",
      "cosine_time: 0.006117820739746094\n",
      "find_time: 0.0012700557708740234\n",
      "--Similarity pairs--\n",
      "1vimqhdp and pd1g119c have 0.5466 similarity\n",
      "vslevssr and yt9rj42s have 0.9542 similarity\n",
      "o1vxgzpj and bt59txxp have 1.0000 similarity\n",
      "qapwb5e4 and rff3ikak have 0.9315 similarity\n",
      "0prx11md and yn7pu9i8 have 0.9895 similarity\n",
      "\n",
      "--Run info--\n",
      "sample_name: longest_docs\n",
      "threshold: 0.6\n",
      "pairs_count: 35\n",
      "cosine_time: 0.006940126419067383\n",
      "find_time: 0.001611948013305664\n",
      "--Similarity pairs--\n",
      "vslevssr and yt9rj42s have 0.9542 similarity\n",
      "o1vxgzpj and bt59txxp have 1.0000 similarity\n",
      "qapwb5e4 and rff3ikak have 0.9315 similarity\n",
      "0prx11md and yn7pu9i8 have 0.9895 similarity\n",
      "uumzl37q and vr7vm64u have 0.9882 similarity\n",
      "\n",
      "--Run info--\n",
      "sample_name: longest_docs\n",
      "threshold: 0.7\n",
      "pairs_count: 34\n",
      "cosine_time: 0.0063512325286865234\n",
      "find_time: 0.001544952392578125\n",
      "--Similarity pairs--\n",
      "vslevssr and yt9rj42s have 0.9542 similarity\n",
      "o1vxgzpj and bt59txxp have 1.0000 similarity\n",
      "qapwb5e4 and rff3ikak have 0.9315 similarity\n",
      "0prx11md and yn7pu9i8 have 0.9895 similarity\n",
      "uumzl37q and vr7vm64u have 0.9882 similarity\n",
      "\n",
      "--Run info--\n",
      "sample_name: longest_docs\n",
      "threshold: 0.8\n",
      "pairs_count: 30\n",
      "cosine_time: 0.0037539005279541016\n",
      "find_time: 0.001077890396118164\n",
      "--Similarity pairs--\n",
      "vslevssr and yt9rj42s have 0.9542 similarity\n",
      "o1vxgzpj and bt59txxp have 1.0000 similarity\n",
      "qapwb5e4 and rff3ikak have 0.9315 similarity\n",
      "0prx11md and yn7pu9i8 have 0.9895 similarity\n",
      "uumzl37q and vr7vm64u have 0.9882 similarity\n",
      "\n",
      "--Run info--\n",
      "sample_name: longest_docs\n",
      "threshold: 0.9\n",
      "pairs_count: 27\n",
      "cosine_time: 0.005894899368286133\n",
      "find_time: 0.0012521743774414062\n",
      "--Similarity pairs--\n",
      "vslevssr and yt9rj42s have 0.9542 similarity\n",
      "o1vxgzpj and bt59txxp have 1.0000 similarity\n",
      "qapwb5e4 and rff3ikak have 0.9315 similarity\n",
      "0prx11md and yn7pu9i8 have 0.9895 similarity\n",
      "uumzl37q and vr7vm64u have 0.9882 similarity\n",
      "\n"
     ]
    }
   ],
   "source": [
    "sim_seq.print_results(all_seq_results, \"longest_docs\")"
   ],
   "metadata": {
    "collapsed": false,
    "pycharm": {
     "name": "#%%\n"
    }
   }
  },
  {
   "cell_type": "code",
   "execution_count": 23,
   "outputs": [
    {
     "name": "stdout",
     "output_type": "stream",
     "text": [
      "1vimqhdp and pd1g119c have 0.5466 similarity\n",
      "\n",
      "1vimqhdp:\n",
      "36th international symposium intensive care emergency medicine brussels belgium 15-18 march 2016 p001 sepsis impairs capillary response within hypoxic capillary decrease erythrocyte oxygen-dependent atp efflux r. m. bateman m. d. sharpe j. e. jagger c. g. elli p002 lower serum immunoglobulin g2 level predispose severe flu j. solé-violán m. lópez-rodríguez e. herrera-ramos j. ruíz-hernández l. borderías j. horcajada n. gonzález-quevedo o. raja m. briones f. rodríguez de castro c. rodríguez gallego p003 brain protective effect intravenous immunoglobulin inhibition complement activation apoptosis rat model sepsis f. esen g. orhun p. ergin ozcan e. senturk c. ugur yilmaz n. orhan n. arican m. kaya m. kucukerden m. giris u. akcan s. bilgic gazioglu e. tuzun p004 adenosine a1 receptor dysfunction associated leukopenia possible mechanism sepsis-induced leukopenia r. riff o. naamani a. douvdevani p005 analysis neutrophil hyper spectral imaging preliminary report r. takegawa h. yoshida t. hirose n. yamamoto h. hagiya m. ojima y. akeda o. tasaki k. tomono t. shimazu p006 chemiluminescent intensity assessed eaa predicts incidence postoperative infectious complication following gastrointestinal surgery s. ono t. kubo s. suda t. ueno t. ikeda p007 serial change c1 inhibitor patient sepsis – prospective observational study t. hirose h. ogura h. takahashi m. ojima j. kang y. nakamura t. kojima t. shimazu p008 comparison bacteremia sepsis sepsis related biomarkers t. ikeda s. suda y. izutani t. ueno s. ono p009 change procalcitonin level critical patient abdominal septic shock blood purification t. taniguchi m. p010 validation new sensitive point care device rapid measurement procalcitonin c. dinter j. lotz b. eilers c. wissmann r. lott p011 infection biomarkers primary care patient acute respiratory tract infection – comparison procalcitonin c-reactive protein m. m. meili p. s. schuetz p012 need lower procalcitonin cut h. hawa m. sharshir m. aburageila n. salahuddin p013 predictive role c-reactive protein procalcitonin biomarkers central nervous system infection extensively drug resistant bacteria v. chantziara s. georgiou a. tsimogianni p. alexandropoulos a. vassi f. lagiou m. valta g. micha e. chinou g. michaloudis p014 change endotoxin activity assay procalcitonin level direct hemoperfusion polymyxin-b immobilized fiber a. kodaira t. ikeda s. ono t. ueno s. suda y. izutani h. imaizumi p015 diagnostic usefullness combination biomarkers icu admission m. v. de la torre-prados a. garcia-de la torre a. enguix-armada a. puerto-morlan v. perez-valero a. garcia-alcantara p016 platelet function analysis utilising pfa-100 predict infection bacteraemia sepsis outcome critically ill patient n. bolton j. dudziak s. bonney a. tridente p. nee p017 extracellular histone h3 level inversely correlated antithrombin level platelet count associated mortality sepsis patient g. nicolaes m. wiewel m. schultz k. wildhagen j. horn r. schrijver t. van der poll c. reutelingsperger p018 il-8 reliable biomarker sepsis severity crp procalcitonin e-selectin il-6 tnf- alpha s. pillai g. davy g. mill r. aubrey k. morris p. williams p. evans p019 relation adrenomedullin short-term outcome icu patient result frog icu study e. g. gayat j. struck a. cariou n. deye b. guidet s. jabert j. launay m. legrand m. léone m. resche-rigon e. vicaut a. vieillard-baron a. mebazaa p020 impact disease severity assessment performance heparin-binding protein prediction septic shock r. arnold m. capan a. linder p. akesson p021 kinetics prognostic value presepsin scd14 septic patient pilot study m. popescu d. tomescu p022 comparison cd64 level performed facs accellix system c. l. sprung r. calderon morale g. munteanu e. orenbuch-harroch p. levin h. kasdan a. reiter t. volker y. himmel y. cohen j. meissonnier p023 diagnosing sepsis 5 minute nanofluidic technology study pancreatic-stone protein psp/ reg l. girard f. rebeaud p024 nanotechnology-based approach could contribute sepsis prevention diagnosis treatment i. herrmann p025 il7r transcriptional expression analysis septic shock b. delwarde e. peronnet e. cerrato f. venet a. lepape t. rimmelé g. monneret j. textoris p026 disbalance microbial metabolite aromatic acid affect severity critically ill patient n. beloborodova v. moroz a. osipov a. bedova y. sarshor a. pautova a. sergeev e. chernevskaya p027 copeptin predicts 10-year all-cause mortality community patient j. odermatt r. bolliger l. hersberger m. ottiger m. christ-crain b. mueller p. schuetz p028 identification differential proteomic response septic patient secondary community hospital acquired pneumonia n. k. sharma a. k. tashima m. k. brunialti f. r. machado m. assuncao o. rigato r. salomao p029 monocyte hla-dr expression community-acquired bacteremic sepsis dynamic associated aetiology prediction secondary sepsis s. c. cajander g. rasmussen e. tina b. söderquist j. källman k. strålin p030 soluble b- t-lymphocyte attenuator possible prognostic marker sepsis a. l. lange j. s. sundén-cullberg a. m. magnuson o. h. hultgren p031 fractal dimension new biomarker quantifying clot microstructure patient across sepsis spectrum g. davy s. pillai g. mill r. aubrey k. morris p. williams p. evans p032 comparison new biomarker coagulation clot microstructure df rotational thromboelastometry rotem patient across sepsis spectrum s. pillai g. davy g. mill r. aubrey k. morris p. williams p. evans p033 change fibrinolysis across sepsis spectrum use rotational thromboelastometry rotem lysis index li60 d-dimer concentration s. pillai g. davy g. mill r. aubrey k. morris p. williams p. evans p034 intensive care infection score – promising marker prediction infection severity p. van der geest m. mohseni j. linssen r. de jonge s. duran j. groeneveld p035 challenge clinical diagnosis sepsis r. miller iii b. k. lopansri l. c. mchugh a. seldon j. p. burke p036 zero heat flux thermometry accurately identify sepsis intensive care j. johnston r. reece-anthony a. bond a. molokhia p037 advancing quality aq sepsis programme improving early identification treatment sepsis north west england c. mcgrath e. nsutebu p038 prehospital transport acute septic patient p. bank pedersen d. pilsgaard henriksen s. mikkelsen a. touborg lassen p039 vasodilatory plant extract gel alternative treatment fever critically ill patient r. tincu c. cobilinschi d. tomescu z. ghiorghiu r. macovei p040 host response outcome hypothermic sepsis m. a. wiewel m. b. harmon l. a. van vught b. p. scicluna a. j. hoogendijk j. horn a. h. zwinderman o. l. cremer m. j. bonten m. j. schultz t. van der poll n. p. juffermans w. j. wiersinga p041 septic shock alert sir criterion impact outcome need revised g. eren tekdos m. dogan o. acicbe e. kaya o. hergunsel p042 association previous prescription βblockers mortality rate among septic patient retrospective observational study s. alsolamy g. ghamdi l. alswaidan s. alharbi f. alenezi y. arabi p043 recognition treatment sepsis labour ward– teaching information resource improve knowledge j. heaton a. boyce l. nolan j. johnston a. dukoff-gordon a. dean a. molokhia p044 culture negative sepsis icu – unique patient population t. mann ben yehudah p045 organ dysfunction severe sepsis patient identified administrative data germany 2007-2013 c. fleischmann d. thomas-rueddel c. haas u. dennler k. reinhart p046 comparison resident ’ knowledge regarding surviving sepsis campaign 2012 guideline o. suntornlohanakul b. khwannimit p047 effectiveness septic shock bundle improve outcome icu f. breckenridge a. puxty p048 dose norepinephrine first 24 hour parameter evaluating effectiveness treatment patient severe sepsis septic shock p. szturz p. folwarzcny j. svancara r. kula p. sevcik p049 norepinephrine vasopressin norepinephrine septic shock retrospective series 39 patient l. caneva a. casazza e. bellazzi s. marra l. pagani m. vetere r. vanzino d. ciprandi r. preda r. boschi l. carnevale p050 methylene blue effectiveness contributory treatment patient septic shock v. lopez m. aguilar arzapalo l. barradas a. escalante j. gongora m. cetina p051 coagulation disorder patient severe sepsis dic evaluated thromboelastometry b adamik jakubczyk kübler p052 frequency outcome early sepsis-associated coagulopathy a. radford t. lee j. singer j. boyd d. fineberg m. williams j. russell p053 assessment coagulopathy cancer patient severe sepsis septic shock case-control pilot study e. scarlatescu d. tomescu g. droc s. arama p054 thromboelastometry critically ill patient disseminated intravascular coagulation m. müller m. straat s. s. zeerleder n. p. juffermans p055 cessation preexisting chronic antiplatelet therapy associated increased mortality rate severe sepsis septic shock c. f. fuchs c. s. scheer s. w. wauschkuhn m. v. vollmer k. m. meissner s. k. kuhn k. h. hahnenkamp s. r. rehberg m. g. gründling p056 neutrophil extracellular trap net production hypoxic condition n. yamamoto m. ojima s. hamaguchi t. hirose y. akeda r. takegawa o. tasaki t. shimazu k. tomono p057 impact ultraviolet air sterilizer intensive care unit room clinical outcome patient e. gómez-sánchez m. heredia-rodríguez e. álvarez-fuente m. lorenzo-lópez e. gómez-pesquera m. aragón-camino p. liu-zhu a. sánchez-lópez a. hernández-lozano m. t. peláez-jareño e. tamayo p058 focus infection severe sepsis comparison administrative data prospective cohort germany d. o. thomas-rüddel c. fleischmann c. haas u. dennler k. reinhart p059 “ zero clabsi ” – get obstacle 4 year journey strategy overcome – experience indian icu v. adora a. kar a. chakraborty s. roy a. bandyopadhyay m. da p060 novel molecular technique identify central venous catheter cvc associated blood stream infection bsis t. mann ben yehudah g. ben yehudah m. salim n. kumar l. arabi t. burger p. lephart e. toth-martin p061 zero clabsi ” – get obstacle 4 year journey strategy overcome – experience indian icu r. rao a. kar a. chakraborty p062 prevention central line-associated bloodstream infection intensive care unit international online survey c. valencia n. hammami s. blot j. l. vincent m. l. lambert p063 30 day antimicrobial efficacy non-leaching central venous catheter j. brunke t. riemann i. roschke p064 efficacy noble metal alloy-coated catheter prevention bacteriuria r. tincu c. cobilinschi d. tomescu z. ghiorghiu r. macovei p065 predicting bacteremic urinary tract infection community setting prospective observational study s. nimitvilai k. jintanapramote s. jarupongprapa p066 eight-year analysis acinetobacter spp monobacteremia surgical medical intensive care unit university hospital lithuania d. adukauskiene d. valanciene p067 group group b streptococcal infection intensive care unit – experience tertiary centre g. bose v. lostarakos b. carr p068 improved detection spontaneous bacterial peritonitis uritop tm strip test inoculation blood culture bottle ascitic fluid s. khedher a. maaoui a. ezzamouri m. salem p069 increased risk cellulitis patient congestive heart failure population based cohort study j. chen p070 outcome severe cellulitis necrotizing fasciitis critically ill d. r. cranendonk l. a. van vught m. a. wiewel o. l. cremer j. horn m. j. bonten m. j. schultz t. van der poll w. j. wiersinga p071 botulism outbreak associated people inject drug pwids scotland m. day g. penrice k. roy p. robertson g. godbole b. jones m. booth l. donaldson p072 surveillance esbl-producing enterobacteriaceae fecal carrier icu y. kawano h. ishikura p073 prevalence esbl carbapenemase producing uropathogens newly opened hospital south india s. sreevidya n. brahmananda reddy p. muraray govind r. pratheema j. devachandran apollo speciality hospital omr chennai india p074 prevalence risk factor outcome methicillin-resistant staphylococcus aureus nasal colonization critically ill patient h. al-dorzi m. almutairi b. alhamadi a. crizaldo toledo r. khan b. al raiy y. arabi p075 multidrug-resistant acinetobacter baumannii infection intensive care unit patient hospital building construction association h. talaie p076 multidrug-resistant organism dutch icu j. a. van oers a. hart e. nieuwkoop p. vos p077 epidemiology risk factor icu acquired infection caused multidrug-resistant gram negative bacillus y. boussarsar f. boutouta s. kamoun i. mezghani s. koubaji a. ben souissi a. riahi m. s. mebazaa p078 improving outcome severe infection multidrug-resistant pathogen polyclonal igm-enriched immunoglobulin e. giamarellos-bourboulis n. tziolos c. routsi c. katsenos i. tsangaris i. pneumatikos g. vlachogiannis v. theodorou a. prekates e. antypa v. koulouras n. kapravelos c. gogos e. antoniadou k. mandragos a. armaganidis p079 must change medical practice icu a. r. roble caballero b. civantos j. c. figueira j. lópez p080 mediterranean spotted fever infectious disease intensive care unit a. silva-pinto f. ceia a. sarmento l. santos p081 clinical feature outcome patient middle east respiratory syndrome requiring admission saudi intensive care unit retrospective analysis 31 case g. almekhlafi y. sakr p082 icu response hospital outbreak middle east respiratory syndrome coronavirus infection h. al-dorzi r. khan s. baharoon a. aldawood a. matroud j. alchin s. al johani h. balkhy y. arabi p083 middle east respiratory syndrome surveillance data analysis s. alsolamy s. y. yousif b. o. alotabi a. s. alsaawi p085 use taqman array card molecular diagnostics severe pneumonia case series j. ang md curran d. enoch v. navapurkar a. conway morris p086 ‘ bun ’ investigation protocol improves icu management pneumonia r. sharvill j. astin p087 pneumonia patient following secondary peritonitis epidemiological feature impact mortality m. heredia-rodríguez e. gómez-sánchez m. t. peláez-jareño e. gómez-pesquera m. lorenzo-lópez p. liu-zhu m. aragón-camino a. hernández-lozano a. sánchez-lópez e. álvarez-fuente e. tamayo p088 use “ curb-65 score ” emergency room clinician large teaching hospital j. patel c. kruger p089 incidence community acquired pneumonia viral infection mechanically ventilated patient medical intensive care unit j. ’ neal h. rhodes j. jancik p090 saatellite study prevention aureus nosocomial pneumonia np medi4893 human monoclonal antibody mab aureus b. françois p. f. laterre p. eggimann a. torres m. sánchez p. f. dequin g. l. basso j. chastre h. s. jafri p091 risk factor microbiological profile nosocomial infection trauma patient m. ben romdhane z. douira s. kamoun m. bousselmi a. ben souissi y. boussarsar a. riahi m.s mebazaa p092 correlation percentage ventilated patient developed vap use antimicrobial agent icu patient a. vakalos v. avramidis p093 comparison two ventilator associated pneumonia surveillance technique t. h. craven g. wojcik k. kefala j. mccoubrey j. reilly r. paterson d. inverarity i. laurenson t. s. walsh p094 lung ultrasound fiberbronchoscopy modification may improve ventilator-associated pneumonia diagnosis s. mongodi b. bouhemad a. orlando a. stella g. via g. iotti a. braschi f. mojoli p095 comparing accuracy predictor mortality ventilator-associated pneumonia m. haliloglu b. bilgili u. kasapoglu i. sayan m. süzer aslan a. yalcın i. cinel p096 impact prbcs transfusion percentage ventilated patient developed vap icu patient a. vakalos v. avramidis p097 impact series intervention rate ventilator associated pneumonia large teaching hospital h. e. elli k. bauchmuller d. miller temple p098 evade study prevention nosocomial pneumonia np caused p aeruginosa medi3902 novel bispecific monoclonal antibody p aeruginosa virulence factor j. chastre b. françois a. torres c. e. luyt m. sánchez m. singer h. s. jafri p099 short-term inhaled colistin adjunctive therapy ventilator-associated pneumonia y. nassar m. s. ayad p100 effect aerosolised colistin weaning mechanical ventilation a. trifi s. abdellatif f. daly r. nasri s. ben lakhal p101 septic shock independent risk factor colistin-induced severe acute kidney injury retrospective cohort study b. bilgili m. haliloglu f. gul i. cinel p102 nosocomial pneumonia emphasis inhaled tobramycin a. kuzovlev a. shabanov s. polovnikov v. moroz p103 vitro evaluation amikacin inhale commercial nebulizer mechanical ventilator n. kadrichu t. dang k. corkery p. challoner p104 effect nebulized amikacin/fosfomycin systemic meropenem severe amikacin-resistant meropenem-susceptible p.aeruginosa pneumonia g. li basso e. aguilera c. chiurazzi c. travierso a. motos l. fernandez r. amaro t. senussi f. idone j. bobi m. rigol a. torres p105 optimization gentamicin peak concentration critically ill patient c. j. hodiamont n. p. juffermans j. m. janssen c. s. bouman r. a. mathôt m. d. de jong r. m. van hest p106 systematic review cefepime induced neurotoxicity l. payne g. l. fraser p107 unasyn® cause qt prolongation treatment intensive care patient b. tudor m. lahner g. roth c. krenn p108 comparative study teicoplanin vancomycin methicillin-resistant staphylococcus aureus mrsa infectious toxicological intensive care unit ticu patient – tehran iran h. talaie p109 phage therapy antimicrobial resistance design first clinical study phagoburn p. jault j. gabard t. leclerc s. jennes y. que a. rousseau f. ravat p110 antibiotic dosing error critically ill patient severe sepsis septic shock h. al-dorzi a. eissa s. al-harbi t. aldabbagh r. khan y. arabi p111 empiric antifungal therapy improve survival septic critically ill patient immunocompromised excluded a. trifi s. abdellatif f. daly r. nasri s. ben lakhal p112 neurocysticercosis-qatar experience f. paramba n. purayil v. naushad o. mohammad v. negi p. chandra p113 early indicator acute haemorrhagic shock a. kleinsasser p114 filtering red blood cell reduces inflammatory response pulmonary cell vitro model mechanical ventilation m. r. witrz j. f. buchner-doeven a. m. tuip-de boer j. c. gosling n. p. juffermans p115 microparticles red blood cell transfusion induce pro-coagulant pro-inflammatory endothelial cell response m. van hezel m. straat boing r van bruggen n juffermans p116 contribution cytokine thrombosis development hospitalization icu d. markopoulou k. venetsanou v. kaldis d. koutete d. chroni i. alamanos p117 prophylactic enoxaparin dosing adjustment anti-xa monitoring inpatient burn unit l. koch j. jancik h. rhodes e. walter p118 determination optimal cut-off value haemoglobin platelet count fibrinogen 24 hour injury associated mortality trauma patient k. maekawa m. hayakawa s. kushimoto a. shiraishi h. kato j. sasaki h. ogura t. matauoka t. uejima n. morimura h. ishikura a. hagiwara m. takeda p119 trauma-induced coagulopathy prothrombin complex concentrate v fresh frozen plasma o. tarabrin s. shcherbakow d. gavrychenko g. mazurenko v. ivanova o. chystikov p120 first study prove superiority prothrombin complex concentrate mortality rate fresh frozen plasma patient acute bleeding c. plourde j. lessard j. chauny r. daoust p121 prothrombin complex concentrate v fresh frozen plasma obstetric massive bleeding s. shcherbakow o. tarabrin d. gavrychenko g. mazurenko o. chystikov p122 impact ffp transfusion vap icu patient a. vakalos v. avramidis p123 preoperative platelet function test thrombin generation assay predictive blood loss cardiac surgery l. kropman l. het panhuis j. konings d. huskens e. schurgers m. roest b. de laat m. lance p124 rotational thromboelastometry versus standard coagulation test surgical intervention m. durila p. lukas m. astraverkhava j. jonas p125 correction impaired clot quality stability fibrinogen activated prothrombin complex concentrate model severe thrombocytopenia i. budnik b. shenkman p126 assessment point-of-care prothrombin time analyzer monitor cardiopulmonary bypass h. hayami y. koide t. goto p127 disseminated intravascular coagulation dic underdiagnosed critically ill patient need d-dimer measurement r. iqbal y. alhamdi n. venugopal s. abrams c. downey c. h. toh i. d. welter p128 validity age-adjusted d-dimer cutoff patient copd b. bombay j. m. chauny r. d. daoust j. l. lessard m. m. marquis j. p. paquet p129 scoping review strategy prevention management bleeding following paediatric cardiopulmonary bypass surgery k. siemens d. sangaran b. j. hunt a. durward a. nyman i. a. murdoch s. m. tibby p130 nadir hemoglobulin cardiopulmonary bypass impact postoperative morbidity mortality f. ampatzidou d. moisidou e. dalampini m. nastou e. vasilarou v. kalaizi h. chatzikostenoglou g. drossos p131 red blood cell transfusion influence prognostic value rdw critically ill patient s. spadaro a. fogagnolo t. fiore a. schiavi v. fontana f. taccone c. volta p132 reason admission paediatric intensive care unit need blood blood product transfusion e. chochliourou e. volakli a. violaki e. samkinidou g. evlavis v. panagiotidou m. sdougka p133 implementation massive haemorrhage protocol mhp management major trauma ten year single-centre study r. mothukuri c. battle k. guy g. mill p. evans p134 integrated major haemorrhage protocol pre-hospital retrieval medical team j. wijesuriya s. keogh p135 impact transfusion threshold mortality cardiovascular event patient cardiovascular disease non-cardiac surgery systematic review meta-analysis a. docherty r. ’ donnell s. brunskill m. trivella c. doree l. holst m. parker m. gregersen j. almeida t. walsh s. stanworth p136 relationship poor pre-operative immune status outcome cardiac surgery specific peri-operative antigenic threat s. moravcova j. mansell a. rogers r. a. smith c. hamilton-davies p137 impact simple clinical practice guideline reducing post-operative atrial fibrillation cardiac surgery a. omar m. allam o. bilala a. kindawi h. ewila p138 dexamethasone administration cardiopulmonary bypass beneficial effect elective postoperative cardiac surgery patient f. ampatzidou d. moisidou m. nastou e. dalampini a. malamas e. vasilarou g. drossos p139 intra-aortic balloon counterpulsation patient undergoing cardiac surgery iabcs preliminary result g. ferreira j. caldas j. fukushima e. a. osawa e. arita l. camara s. zeferino j. jardim f. gaioto l. dallan f. b. jatene r. kalil filho .f gala l. a. hajjar p140 effect low-dose atrial natriuretic peptide infusion cardiac surgery-associated acute kidney injury c. mitaka t. ohnuma t. murayama f. kunimoto m. nagashima t. takei m. tomita p141 acute kidney injury influence high sensitive troponin measurement cardiac surgery a. omar k. mahmoud s. hanoura s. sudarsanan p. sivadasan h. othamn y. shouman r. singh a. al khulaifi p142 complex evaluation endothelial dysfunction marker prognosis outcome patient undergoing cardiac surgery i. mandel s. mikheev i. suhodolo v. kiselev y. svirko y. podoksenov p143 new-onset atrial fibrillation intensive care incidence management outcome s. a. jenkins r. griffin p144 one single spot measurement sublingual microcirculation acute pulmonary hypertension pig model shock m. s. tovar doncel a. lima c. aldecoa c. ince p145 assessment levosimendan therapeutic option recruit microcirculation cardiogenic shock – initial experience cardiac icu a. taha a. shafie m. mostafa n. syed h. hon p146 terlipressin vs. norepinephrine potential multiorgan donor pmd f. righetti e. colombaroli g. castellano p147 echocardiography potential heart donor exposed substitution hormonotherapy f. righetti e. colombaroli p148 machine learning reduce rate monitor alarm m. hravnak l. c. chen a. d. dubrawski g. c. clermont m. r. pinsky p149 peripherally inserted central catheter placed icu s. gonzalez d. macias j. acosta p. jimenez a. loza a. lesmes f. lucena c. leon p150 recording abnormal central venous pressure waveform morphology episode pulmonary hypertension porcine shock model m. s. tovar doncel c. ince c. aldecoa a. lima p151 ultrasound guided central venous access technique among french intensivists m. bastide j. richecoeur e. frenoy c. lemaire b. sauneuf f. tamion s. nseir d. du cheyron h. dupont j. maizel p152 predictive ability pv-aco2 gap patient shock m. shaban r. kolko n. salahuddin m. sharshir m. aburageila a. alhussain p153 comparison echocardiography pulmonary artery catheter measurement hemodynamic parameter critical ill patient p. mercado j. maizel l. kontar d. titeca f. brazier a. riviere m. joris t. soupison b. de cagny m. slama p154 volume clamp method noninvasive cardiac output measurement postoperative cardiothoracic surgery patient comparison intermittent pulmonary artery thermodilution j. wagner a. körner m. kubik s. kluge d. reuter b. saugel p155 hemodynamic monitoring patient septic shock s – cpcco continuous pulse contour cardiac output vs. tee transesophageal echocardiography e. colombaroli f. righetti g. castellano p156 cardiac output measurement transthoracic echocardiography critically ill patient pragmatic clinical study t. tran d. de bel a. cudia m. strachinaru p. ghottignies j. devriendt c. pierrakos p157 left ventricular outflow tract velocity time integral correlate stroke volume index mechanically ventilated patient ó. martínez gonzález r. blancas j. luján d. ballesteros c. martínez díaz a. núñez c. martín parra b. lópez matamala m. alonso fernández m. chana p158 transpulmonary thermodilution tptd derived femoral vs. jugular central venous catheter validation previously published correction formula proprietary correction formula global end-diastolic volume index gedvi w. huber m. eckmann f. elkmann a. gruber i. klein r. m. schmid t. lahmer p160 dynamic arterial elastance calculated lidcoplus monitor predict change arterial pressure fluid challenge postsurgical patient d. bastoni h. aya l. toscani l. pigozzi a. rhodes m. cecconi p159 venous return driving pressure resistance acute blood volume change p. w. moller s. sondergaard s. m. jakob j. takala d. berger p160 dynamic arterial elastance calculated lidcoplus monitor predict change arterial pressure fluid challenge postsurgical patient d. bastoni h. aya l. toscani l. pigozzi a. rhodes m. cecconi p161 analysis duration post-operative goal-directed therapy protocol c. ostrowska h. aya a. abbas j. mellinghoff c. ryan d. dawson a. rhodes m. cecconi p162 hemodynamic optimization – back square one m. cronhjort o. wall e. nyberg r. zeng c. svensen j. mårtensson e. joelsson-alm p163 effectiveness fluid thoracic content measurement bioimpedance guiding intravascular volume optimization patient septic shock m. aguilar arzapalo l. barradas v. lopez m. cetina p164 systematic review role internal jugular vein ultrasound measurement assessment volume status critical shock patient n. parenti c. palazzi l. a. amidei f. b. borrelli s. c. campanale f. t. tagliazucchi g. s. sedoni d. l. lucchesi e. c. carella a. l luciani p165 importance recognizing dehydration medical intensive care unit m. mackovic n. maric m. bakula p166 effect volume fluid challenge septic patient h. aya a. rhodes r. m. ground n. fletcher m. cecconi p167 fluid bolus practice large australian intensive care unit b. avard p. zhang p168 liberal late fluid management associated longer ventilation duration worst outcome severe trauma patient retrospective cohort 294 patient m. mezidi j. charbit m. ould-chikh p. deras c. maury o. martinez x. capdevila p169 association fluid outcome emergency department patient hospitalized community-acquired pneumonia p. hou w. z. linde-zwirble i. d. douglas n. s. shapiro p170 association positive fluid balance poor outcome medicosurgical icu patient a. ben souissi i. mezghani y. ben aicha s. kamoun b. laribi b. jeribi a. riahi m. s. mebazaa p171 impact fluid balance organ dysfunction critically ill patient c. pereira r. marinho r. antunes a. marinho p172 volume bolus icu patient need balance crystalloids m. crivits m. raes j. decruyenaere e. hoste p173 use 6 he solution reduce total fluid requirement therapy patient burn shock v. bagin v. rudnov a. savitsky m. astafyeva i. korobko v. vein p174 electron microscopic assessment acute kidney injury septic sheep resuscitated crystalloids different colloid t. kampmeier p. arnemann m. hessler a. wald k. bockbreder a. morelli h. van aken s. rehberg c. ertmer p175 alteration conjunctival microcirculation sheep model haemorrhagic shock resuscitation 0.9 saline balanced tetrastarch p. arnemann m. hessler t. kampmeier s. rehberg h. van aken c. ince c. ertmer p176 single centre nested pilot study investigating effect using 0.9 saline plasma-lyte 148 ® crystalloid fluid therapy gastrointestinal feeding intolerance mechanically ventilated patient receiving nasogastric enteral nutrition s. reddy m. bailey r. beasley r. bellomo d. mackle a. psirides p. young p177 single centre nested pilot study investigating effect post-operative bleeding using 0.9 saline plasma-lyte® 148 crystalloid fluid therapy adult icu heart surgery s. reddy m. bailey r. beasley r. bellomo d. mackle p. young p178 extreme hypernatremia sepsis patient huntington ’ dementia conundrum fluid management h. venkatesh s. ramachandran a. basu h. nair p179 diagnosis management severe hypernatraemia critical care setting s. egan j. bates p180 correlation arterial blood gas electrolyte disturbance hospitalization outcome critically ill patient s. oliveira n. r. rangel neto f. q. real p181 missing “ ” mudpiles – rare cause high anion gap metabolic acidosis hagma c. p. lee x. l. lin c. choong k. m. eu w. y. sim k. s. tee j. pau j. abisheganaden p182 plasma ngal urinary output potential parameter early initiation renal replacement therapy k. maas h. de geus p183 renal replacement therapy critically ill patient intermittent continuity e. lafuente r. marinho j. moura r. antunes a. marinho p184 survey practice related renal replacement therapy critically ill patient north england t. e. doris d. monkhouse t. shipley s. kardasz gonzalez p185 high initiation creatinine associated lower 28-day mortality critically ill patient necessitating continuous renal replacement therapy s. stads a. j. groeneveld p186 impact karnofsky performance scale outcome acute kidney injury patient receiving renal replacement therapy intensive care unit i. elsayed n. ward a. tridente a. raithatha p187 severe hypophosphatemia citrate-anticoagulated crrt a. steuber c. pelletier s. schroeder e. michael t. slowinski d. kindgen-milles p188 citrate regional anticoagulation post dilution continuous renal replacement therapy s. ghabina p189 citrate 18 mmol/l improves anticoagulation rrt adsorbing filter f. turani a. belli s. busatti g. barettin f. candidi f. gargano r. barchetta m. falco p190 calcium gluconate instead calcium chloride citrate-anticoagulated cvvhd o. demirkiran m. kosuk s. bozbay p191 enhanced clearance interleukin-6 continuous veno-venous haemodialysis cvvhd using ultraflux emic2 vs. ultraflux av1000s v. weber j. hartmann s. harm i. linsberger t. eichhorn g. valicek g. miestinger c. hoermann p192 removal bilirubin new adsorbent system vitro kinetics s. faenza d. ricci e. mancini c. gemelli a. cuoghi s. magnani m. atti p193 case series patient severe sepsis septic shock treated new extracorporeal sorbent t. laddomada a. doronzio b. balicco p194 vitro adsorption broad spectrum inflammatory mediator cytosorb® hemoadsorbent polymer bead m. c. gruda p. ’ sullivan v. p. dan t. guliashvili a. scheirer t. d. golobish v. j. capponi p. p. chan p195 observation early vs. late use cytosorb therapy critically ill patient k. kogelmann m. drüner d. jarczak p196 oxiris membrane decrease endotoxin rrt septic patient basal eaa 0,6 f. turani a. b. belli s. m. martni v. c. cotticelli f. mounajergi r. barchetta p197 observational prospective study onset augmented renal clearance first report s. morimoto h. ishikura p198 ultrasound- guided algorithm management oliguria severe sepsis i. hussain n. salahuddin a. nadeem k. ghorab k. maghrabi p199 ultrasound acute kidney injury aki first finding farius education-programme structural ultrasonography s. k. kloesel c. goldfuss a. stieglitz a. s. stieglitz l. krstevska g. albuszies p200 effectiveness renal angina index score predicting acute kidney injury critically ill patient m. aguilar arzapalo l. barradas v. lopez a. escalante g. jimmy m. cetina p201 time length blood pressure threshold progression acute kidney injury critically ill patient without sepsis retrospective exploratory cohort study j. izawa t. iwami s. uchino m. takinami t. kitamura t. kawamura p202 anaemia affect renal recovery acute kidney injury j. g. powell-tuck s. crichton m. raimundo l. camporota d. wyncoll m. ostermann p203 estimated glomerular filtration rate based serum creatinine actual practice dutch icu ’ a. hana h. r. de geus p204 comparison estimated glomerular filtration rate calculated mdrd ckd-epi-serum-creatinine ckd-epi-cystatin-c adult critically ill patient h. r. de geus a. hana p205 early diagnosis septic acute kidney injury medical critical care patient urine cell cycle arrest marker insulin like growth factor binding protein-7 igfbp-7 m. aydogdu n. boyaci s. yuksel g. gursel a. b. cayci sivri p206 urinary neutrophil gelatinase-associated lipocalin early biomarker severe acute kidney injury intensive care j. meza-márquez j. nava-lópez r. carrillo-esper p207 shrunken pore syndrome associated sharp rise mortality patient undergoing elective coronary artery bypass grafting a. dardashti a. grubb p208 biomarker nephrocheck™ discriminate septic shock patient akin 1 2 acute renal failure progress toward akin 3 level j. maizel m. wetzstein d. titeca l. kontar f. brazier b. de cagny a. riviere t. soupison m. joris m. slama p209 worldwide multicentre evaluation acute kidney injury septic non-septic critically ill patient intensive care nation icon audit e. peter h. njimi p. pickkers j. l. vincent p210 enhanced recovery surgery reduce incidence acute kidney injury undergoing major gynae-oncological surgery m. waraich j. doyle t. samuel l. forni p211 identification risk factor development acute kidney injury lower limb arthroplasty n. desai r. baumber p. gunning a. sell p212 incidence association acute kidney injury major trauma s. lin h. torrence m. ’ dwyer c. kirwan j. prowle p213 acute kidney injury major trauma patient kim p214 trajectory serum creatinine major surgery diagnosis acute kidney injury m. e. ’ connor r. w. hewson c. j. kirwan r. m. pearse j. prowle p215 epidemiology acute kidney injury cardiac surgery single center retrospective study s. hanoura a. omar h. othamn s. sudarsanan m. allam m. maksoud r. singh a. al khulaifi p216 post-operative acute kidney injury major non-cardiac surgery association death following year m. e. ’ connor r. w. hewson c. j. kirwan r. m. pearse j. prowle p217 factor affecting acute renal failure intensive care unit effect factor mortality o. uzundere d. memis m. ýnal a. n. turan p218 result live kidney transplantation according national data turkish organ tissue information system m. a. aydin h. basar i. sencan a. kapuagasi m. ozturk z. uzundurukan d. gokmen a. ozcan c. kaymak p219 anaesthesia procedure intensive therapy patient neck phlegmon v. a. artemenko a. budnyuk p220 nasal high flow oygen acute respiratory failure systematic review r. pugh s. bhandari p221 setting optimal flow rate high flow nasal cannula support preliminary result t. mauri c. turrini t. langer p. taccone c. a. volta c. marenghi l. gattinoni a. pesenti p222 dose dose consistency across two different gas flow rate using cystic fibrosis normal adult breathing profile nasal high flow oxygen therapy l. sweeney ’ sullivan p. kelly e. mukeria r. macloughlin p223 final result evaluation airway medix closed suction system compared standard closed suction system m. pfeffer j. t. thomas g. b. bregman g. k. karp e. k. kishinevsky d. s. stavi n. a. adi p224 different cuff material different leak test one size fit t. poropat r. knafelj p225 observational study value cuff-leak test onset upper airway obstruction extubation e. llopart m. batlle c. de haro j. mesquida a. artigas p226 device emergency transtracheal lung ventilation d. pavlovic l. lewerentz a. spassov r. schneider p227 long-term outcome health-related quality life patient discharged intensive care unit tracheostomy without prolonged mechanical ventilation s. de smet s. de raedt e. derom p depuydt s. oeyen d. benoit j. decruyenaere p228 ultrasound-guided percutaneous dilational tracheostomy versus bronchoscopy-guided percutaneous dilational tracheostomy critically ill patient trachus randomized clinical trial a. gobatto b. bese p. tierno l. melro p. mendes f. cadamuro m. park l. m. malbouisson p229 safe discharge patient tracheostomy icu ward b. c. civanto j. l. lopez a. roble j. figueira s. yus a. garcia p230 application tracheostomy child icu a. oglinda g. ciobanu c. oglinda l. schirca t. sertinean v. lupu p231 impact passive humidifiers aerosol drug delivery mechanical ventilation p. kelly a. ’ sullivan l. sweeney r. macloughlin p232 evaluation vibrating mesh jet nebuliser performance two different attachment setup line humidifier nebuliser system a. ’ sullivan p. kelly l. sweeney e. mukeria m. wolny r. macloughlin p233 psv-niv versus cpap treatment acute cardiogenic pulmonary edema a. pagano f. numis g. vison l. saldamarco t. russo g. porta f. paladino p234 noninvasive ventilation patient haematologic malignancy retrospective review c. bell j. liu j. debacker c. lee e. tamberg v. campbell s. mehta p235 use non-invasive ventilation infectious disease besides classical indication a. silva-pinto a. sarmento l. santos p236 impact fragility noninvasive mechanical ventilation application result icu ý. kara f. yýldýrým a. zerman z. güllü n. boyacý b. basarýk aydogan ü. gaygýsýz k. gönderen g. arýk m. turkoglu m. aydogdu g. aygencel z. ülger g. gursel p237 effect metabolic alkalosis noninvasive ventilation success icu outcome patient hypercapnic respiratory failure n. boyacý z. isýkdogan ö. özdedeoglu z. güllü m. badoglu u. gaygýsýz m. aydogdu g. gursel p238 asynchrony index breathing pattern acute exacerbation copd patient assisted noninvasive pressure support ventilation neurally adjusted ventilatory assist n. kongpolprom c. sittipunt p239 high frequency jet ventilation severe acute hypoxemia a. eden y. kokhanovsky s. bursztein – de myttenaere r. pizov p240 hfov revisited 7 year retrospective analysis patient receiving hfov met oscillate trial entry criterion l. neilans n. macintyre p241 implementation goal-directed mechanical ventilation order set driven respiratory therapist improve compliance best practice mechanical ventilation m. radosevich b. wanta v. weber t. meyer n. smischney d. brown d. diedrich p242 reduction tidal volume ventilated patient icu calculated ibw minimise mortality comparison traditional strategy fuller p. mclindon k. sim p243 predictive value lung aeration scoring using lung ultrasound weaning failure m. shoaeir k. noeam a. mahrous r. matsa a. ali p244 conventional versus automated weaning mechanical ventilation using smartcare™ c. dridi s. koubaji s. kamoun f. haddad a. ben souissi b. laribi a. riahi m. s. mebazaa p245 ultrasonographic evaluation protocol weaning mechanichal ventilation a. pérez-calatayud r. carrillo-esper a. zepeda-mendoza m. diaz-carrillo e. arch-tirado p246 diaphragm ultrasonography method weaning patient mechanical ventilation s. carbognin l. pelacani f. zannoni a. agnoli g. gagliardi p247 dorsal diaphragmatic excursion track transpulmonary pressure ventilated ards patient potential non-invasive indicator lung recruitment r. cho a. adam s. lunos s. ambur r. shapiro m. prekker p248 pulse oximetry icu patient perfusion index value m. thijssen l. janssen n. foudraine p249 ventilation better assessment respiratory status etco2 c. j. voscopoulos j. freeman p250 evaluation relationship non-invasive minute ventilation end-tidal co2 patient undergoing general v spinal anesthesia c. j. voscopoulos j. freeman e. george p251 respiratory volume monitoring provides early warning respiratory depression used reduce false alarm non-intubated patient c. j. voscopoulos d. eversole j. freeman e. george p252 p/i index predictive edi-derived weaning index nava s. muttini r. bigi g. villani n. patroniti p253 adequacy ventilation patient receiving opioids post anesthesia care unit minute ventilation versus respiratory rate g. williams c. j. voscopoulos j. freeman e. george p254 comparison regional global expiratory time constant measured electrical impedance tomography eit a. waldmann s. böhm w. windisch s. strassmann c. karagiannidis p255 electrical impedance tomography robustness new pixel wise regional expiratory time constant calculation a. waldmann s. böhm w. windisch s. strassmann c. karagiannidis p256 validation regional global expiratory time constant measurement electrical impedance tomography ards obstructive pulmonary disease c. k. karagiannidis a. w. waldmann s. b. böhm s. strassmann w. w. windisch p257 transpulmonary pressure model elastic recoiling lung expanding chest wall p. persson s. lundin o. stenqvist p258 lactate pleural abdominal effusion g. porta f. numis c. s. serra a. p. pagano m. m. masarone l. r. rinaldi a. a. amelia m. f. fascione l. a. adinolfi e. r. ruggiero p259 outcome patient admitted intensive care pulmonary fibrosis f. asota k. ’ rourke s. ranjan p. morgan p260 sedation analgesia practice extra-corporeal membrane oxygenation ecmo -treated patient acute respiratory distress syndrome ards retrospective study j. w. debacker e. tamberg l. ’ neill l. munshi l. burry e. fan s. mehta p261 characteristic outcome patient deemed eligible referred veno-venous extracorporeal membrane oxygenation vv-ecmo s. poo k. mahendran j. fowles c. gerrard a. vuylsteke p262 save smr veno-arterial ecmo r. loveridge c. chaddock s. patel v. kakar c. willars t. hurst c. park t. best a. vercueil g. auzinger p263 simplified score predict early 48 h mortality patient considered va-ecmo a. borgman a. g. proudfoot e. grin k. e. emiley j. schuitema s. j. fitch g. marco j. sturgill m. g. dickinson m. strueber a. khaghani p. wilton s. m. jovinge p264 lung function six month post extra corporeal membrane oxygenation ecmo severe acute respiratory failure adult survivor c. sampson s. harris-fox p265 bicarbonate dialysis remove carbon dioxide hypoventilated rodent m. e. cove l. h. vu a. sen w. j. federspiel j. a. kellum p266 procalcitonin predictor primary graft dysfunction mortality post-lung transplantation c. mazo torre j. riera s. ramirez b. borgatta l. lagune j. rello p267 new molecular biomarkers acute respiratory distress syndrome abdominal sepsis a. k. kuzovlev v. moroz a. goloubev s. polovnikov s. nenchuk p268 tight junction ’ protein claudin -5 regulation tnf experimental murine lung injury model ali/ards v. karavana c. glynos a. asimakos k. pappa c. vrettou m. magkou e. ischaki g. stathopoulos s. zakynthinos p269 cell count endobronchial aspirate ass airway inflammation ards patient pilot study s. spadaro i. kozhevnikova f. dalla corte s. grasso p. casolari g. caramori c. volta p270 epidemiological clinical profile patient acute respiratory distress syndrome surgical intensive care unit surgical hospital jra antananarivo t. andrianjafiarinoa t. randriamandrato t. rajaonera p271 effect high peep recruitment maneuver right ventricular function ards good lung heart s. el-dash elv costa mr tucci f leleu l kontar b. de cagny f. brazier d. titeca g. bacari-risal j. maizel m. amato m. slama p272 effect recruitment maneuver left ventricular systolic strain p. mercado j. maizel l. kontar d. titeca f. brazier a. riviere m. joris t. soupison b. de cagny s. el dash m. slama p273 inhaled nitric oxide – switching supplier cost effective remmington a. fischer s. squire m. boichat p274 epidemiological study severe acute pancreatitis japan comparison etiology patient outcome 1159 patient h. honzawa h. yasuda t. adati s. suzaki m. horibe m. sasaki m. sanui p275 extracorporeal liver support therapy experience intensive care unit r. marinho j. daniel h. miranda a. marinho p276 accuracy mortality prediction model acute versus acute-on-chronic liver failure intensive care setting k. milinis m. cooper g. r. williams e. mccarron s. simants i. patanwala i. welter p277 risk coronary artery disease patient chronic liver disease population based cohort study y. su p278 20 year liver transplantation santiago de compostela spain experience review j. fernández villanueva r. fernández garda a. lópez lago e. rodríguez ruíz r. hernández vaquero s. tomé martínez de rituerto e. varo pérez p279 diarrhea risk factor liver injury may lead intestinal failure associated liver disease critical illness n. lefel f. schaap d. bergman s. olde damink m. van de poll p280 bowel care intensive care unit constipation guideline compliance complication k. tizard c. lister l. poole p281 malnutrition assessed phase angle determines outcome low risk cardiac surgery patient d. ringaitiene d. gineityte v. vicka i. norkiene j. sipylaite p282 preoperative fasting time irish hospital a. ’ loughlin v. maraj j. dowling p283 cost final outcome early x delayed feeding private brazil icu m. b. velasco d. m. dalcomune e. b. dia s. l. fernandes p284 ventilator derived energy expenditure measurement replace indirect calorimetry t. oshima s. graf c. heidegger l. genton v. karsegard y. dupertuis c. pichard p285 revisiting refeeding syndrome result systematic review n. friedli z. stanga b. mueller p. schuetz p286 compliance new protocol parenteral nutrition icu l. vandersteen b. stessel s. evers a. van assche l. jamaer j. dubois p287 nutrition may another treatment intensive care unit le r. marinho h. castro j. moura j. valente p. martin p. casteloes c. magalhaes s. cabral m. santos b. oliveira a. salgueiro a. marinho p288 provide protein critically ill patient r. marinho m. santos e. lafuente h. castro s. cabral j. moura p. martin b. oliveira a. salgueiro s. duarte s. castro m. melo p. casteloes a. marinho p289 protein provision adult intensive care unit s. gray p290 prevalence clinical outcome vitamin deficiency medical critically ill patient songklanagarind hospital k. maipang r. bhurayanontachai p291 vitamin deficiency strongly predicts adverse medical outcome across different medical inpatient population result prospective study l. g. grädel p. schütz p292 omega-3 fatty acid patient undergoing cardiac surgery systematic review meta-analysis p. langlois w. manzanares p293 5-hydroxytriptophan prevent post-traumatic stress disorder critically ill patient r. tincu c. cobilinschi d. tomescu z. ghiorghiu r. macovei p294 parenteral selenium critically ill updated systematic review meta-analysis w. manzanares p. langlois m. lemieux g. elke f. bloos k. reinhart d. heyland p295 probiotic critically ill updated systematic review meta-analysis p. langlois m. lemieux i. aramendi d. heyland w. manzanares p296 diabetes hyperglycemic crisis episode may associated higher risk pancreatic cancer population-based cohort study y. su p297 incidence hypoglycemia intensive care unit depending insulin protocol r. marinho n. babo a. marinho p298 severity disease two-dimensionally correlated blood glucose including blood glucose variability especially moderately severely ill patient glucose intolerance m. hoshino y. haraguchi s. kajiwara t. mitsuhashi t. tsubata m. aida p299 study glycemic control subcutaneous glargine injection transition continuous regular insulin infusion critically ill patient t. rattanapraphat r. bhurayanontachai c. kongkamol b. khwannimit p300 glycemic control portuguese intensive care unit r. marinho m. santos h. castro e. lafuente a. salgueiro s. cabral p. martin j. moura b. oliveira m. melo b. xavier j. valente c. magalhaes p. casteloes a. marinho p301 impact hyperglycemia duration day operation short-term outcome cardiac surgery patient d. moisidou f. ampatzidou c. koutsogiannidis m. moschopoulou g. drossos p302 lactate level diabetic ketoacidosis patient icu admission g. taskin m. çakir ak güler a. taskin n. öcal s. özer l. yamanel p303 intensive care implication merging heart attack centre unit london j. m. wong c. fitton s. anwar s. stacey p304 special characteristic in-hospital cardiac arrest m. aggou b. fyntanidou s. patsatzakis e. oloktsidou k. lolakos e. papapostolou v. grosomanidis p305 clinical evaluation icu-admitted patient resuscitated general medicine ward s. suda t. ikeda s. ono t. ueno y. izutani p306 serious game evaluation one-hour training basic life support session secondary school student new tool future bystander s. gaudry v. desailly p. pasquier pb brun tesnieres jd ricard d. dreyfus a. mignon p307 public clinical staff perception knowledge cpr compared local national data j. c white a. molokhia a. dean a. stilwell g. friedlaender p308 dispatcher-assisted telephone cardiopulmonary resuscitation using french-language compression-ventilation pediatric protocol m. peter s. stipulante a. delfosse af donneau a. ghuysen p309 dantrolene versus amiodarone resuscitation – experimental study c. feldmann d. freitag w. dersch m. irqsusi d. eschbach t. steinfeldt h. wulf t. wiesmann p310 long term survival functional neurological outcome comatose survivor undergoing therapeutic hypothermia n. kongpolprom j. cholkraisuwat p311 impact kidney disease mortality neurological outcome out-of-hospital cardiac arrest prospective observational study s. beitland e. nakstad h. stær-jensen t. drægni g. andersen d. jacobsen c. brunborg b. waldum-grevbo k. sunde p312 icu dependency patient admitted primary percutaneous coronary intervention ppci following hospital cardiac arrest k. hoyland d. pandit p313 prognostic indicator outcome prediction model patient return spontaneous circulation cardiopulmonary arrest comprehensive registry in-hospital intensive care ohca survival critical study osaka japan k. hayakawa p314 cerebral oxygen saturation resuscitation porcine model cardiac arrest e. oloktsidou k. kotzampassi b. fyntanidou s. patsatzakis l. loukipoudi e. doumaki v. grosomanidis p315 presumption cardiopulmonary resuscitation sustaining cerebral oxidation using regional cerebral saturation oxygen observational cohort study press study h. yasuda p316 eeg reactivity patient cardiac arrest close look stimulus mm admiraal m. van assen mj van putten m. tjepkema-cloostermans af van rootselaar j. horn p317 prognostic value neuron-specific enolase cardiac arrest f. ragusa a. marudi s. baroni a. gaspari e. bertellini p318 correlation electroencephalographic finding serum neuron specific enolase outcome post cardiac arrest patient a. taha t. abdullah s. abdel monem p319 introduction targeted temperature management strategy following cardiac arrest district general hospital intensive care unit s. alcorn s. mcneill s. russell p320 evolution cerebral oxygen saturation post-cardiac arrest patient treated therapeutic hypothermia w. eertmans c. genbrugge i. meex j. den f. jan c. de deyne p321 prognostic factor neurological outcome therapeutic hypothermia comatose survivor cardiac arrest 8-year single center experience j. cholkraisuwat n. kongpolprom p322 adherence targeted temperature management hospital cardiac arrest b. avard r. burn p323 implementation therapeutic hypothermia protocol comatose survivor out-of-hospital cardiac arrest a. patarchi t. spina p324 factor associated ventilator weaning targeted temperature management cardiac arrest patient japan h. tanaka n. otani s. ode s. ishimatsu p325 differential activation c-fos paraventricular nucleus hypothalamus thalamus rat following myocardial infarction j. cho j. b. moon c. w. park t. g. ohk m. c. shin m. h. p326 monitoring ctroponin patient acute ischemic stroke predictor inhospital mortality s. dakova z. ramsheva k. ramshev p327 hyperthermic preconditioning severely accelerates neuronal damage gerbil ischemic hippocampal dentate gyrus via decreasing sod expression j. cho j. b. moon c. w. park t. g. ohk m. c. shin p328 failure neuroprotection remote limb ischemic post conditioning hippocampus gerbil model transient cerebral ischemia j. cho j. b. moon c. w. park t. g. ohk m. c. shin p329 brain death admission diagnosis neurologic intensive care unit correlation marudi baroni gaspari e bertellini p330 brain magnetic resonance imaging finding patient septic shock g. orhun e. senturk p. e. ozcan s. sencer c. ulusoy e. tuzun f esen p331 benefit l-carnitine valproic acid induced encephalopathy r. tincu c. cobilinschi d. tomescu z. ghiorghiu r. macovei p332automatic analysis eeg reactivity comatose patient m. van assen m. m. admiraal m. j. van putten m. tjepkema-cloostermans a. f. van rootselaar j. horn p333 usefulness common icu severity scoring system predicting outcome spontaneous intracerebral hemorrhage m. fallenius m. b. skrifvars m. reinikainen s. bendel r. raj p334 evalution patient suspected subarachnoid haemorrhage negative ct imaging m. abu-habsa c. hymers a. borowska h. sivadhas s. sahiba s. perkins p335 timing endovascular surgical treatment aneurysmal subarachnoid haemorrhage early fast j. rubio j. a. rubio r. sierra p336 red blood cell transfusion aneurysmal subarachnoid hemorrhage – sahara cohort study s. english m. chasse a. turgeon f. lauzier d. griesdale a. garland d. fergusson r. zarychanski a. tinmouth c. van walraven k. montroy j. ziegler r. dupont chouinard r. carignan a. dhaliwal c. lum j. sinclair g. pagliarello l. mcintyre p337 aneurysmal subarachnoid hemorrhage anemia canadian multi-centre retrospective cohort study s. english m. chasse a. turgeon f. lauzier d. griesdale a. garland d. fergusson r. zarychanski a. tinmouth c. van walraven k. montroy j. ziegler r. dupont chouinard r. carignan a. dhaliwal c. lum j. sinclair g. pagliarello l. mcintyre p338 neutrophil-to-lymphocyte nlr ratio predict symptomatic vasospasm delayed cerebral ischemia dci aneurysmal subarachnoid haemorrhage sah t. groza n. moreau d. castanares-zapatero p. hantson p339 icu-acquired infection aneurysmal subarachnoid hemorrhage patient impact icu hospital length stay m. carbonara f. ortolano t. zoerle s. magnoni s. pifferi v. conte n. stocchetti p340 cerebral metabolic effect normobaric hyperoxia acute phase aneurysmal subarachnoid hemorrhage l. carteron t. suys c. patet h. quintard m. oddo p341 postoperative care elective craniotomy best done j. a. rubio j. rubio r. sierra p342 5-year follow-up patient transplantation organ donor neurocritical care v. spatenkova e. pokorna p. suchomel p343 evaluation levetiracetam pharmacokinetics severe traumatic brain injury neurocritical care patient level one trauma center n. ebert j. jancik h. rhodes p344 model based time series cluster analysis determine unique patient state traumatic brain injury t. bylinski c. hawthorne m. shaw i. piper j. kinsella p345 brain compartment monitoring capability icp bi bioimpedance h hypertonic saline administration state art simulation outcome depending brain swelling type a. k. kink i. r. rätsep p346 transfusion red blood cell patient traumatic brain injury admitted canadian trauma health center multicenter cohort study a. boutin l. moore m. chasse r. zarychanski f. lauzier s. english l. mcintyre j. lacroix d. griesdale p. lessard-bonaventure a. f. turgeon p347 hemoglobin threshold red blood cell transfusion adult patient moderate severe traumatic brain injury retrospective cohort study a. boutin l. moore r. green p. lessard-bonaventure m. erdogan m. butler f. lauzier m. chasse s. english l. mcintyre r. zarychanski j. lacroix d. griesdale p. desjardins d. a. fergusson a. f. turgeon p348 characteristic patient gunshot wound head observational brazilian study b. goncalves b. vidal c. valdez a. c. rodrigues l. miguez g. moralez p349 base excess predictor icu admission injury severity blunt trauma patient t. hong p350 enhancement usual emergency department care proadrenomedullin improve outcome prediction result multi-national prospective observational triage study a. kutz p. hausfater d. amin t. struja s. haubitz a. huber b. mueller p. schuetz p351 developing innovative emergency medicine point-of-care simulation programme t. brown j. collinson c. pritchett t. slade p352 insim program situ simulation program junior trainee intensive care m. le guen s. hellings r. ramsaran p353 impact excessive inappropriate troponin testing emergency setting good a. alsheikhly p354 development time tracking monitor emergency department t. abe p355 role focussed echocardiography emergency assessment syncope l. kanapeckaite m. abu-habsa r. bahl p356 insertion open-ended 14-gauge catheter chest wall cause significant pneumothorax self-ventilating swine model m. q russell k. j. real m. abu-habsa r. m. lyon n. p. oveland p357 ez-io® intraosseous access teaching workplace using mobile ‘ tea trolley ’ training method j. penketh m. mcdonald f. kelly p358 black widow envenomation saudi arabia prospective observational case series m. alfafi s. alsolamy w. almutairi b. alotaibi p359 mechanical ventilation patient overdose yet intubated icu admission a. e. van den berg y. schriel l. dawson i. a. meynaar p360 central nervous system depressant poisoning ventilator associated pneumonia underrated risk factor toxicological intensive care unit h. talaie p361 acute barium intoxication treated hemodiafiltration d. silva s. fernandes j. gouveia j. santos silva p362 major trauma presenting emergency department spectrum cycling injury ireland j. foley a. kaskovagheorgescu d. evoy j. cronin j. ryan p363 burn french military operation 14-year retrospective observational analysis m. huck c. hoffmann j. renner p. laitselart n. donat a. cirodde j. v. schaal y. masson a. nau t. leclerc p364 comparison mortality score burn patient intensive care unit o. howarth k. davenport p. jeanrenaud s. raftery p365 clasification pain treatment intensive care rehabiliation clinic p. mactavish h. devine j. mcpeake m. daniel j. kinsella t. quasim p366 pain management adequacy critical care area process barrier perceived critical care nurse s. alrabiee a. alrashid s. alsolamy p367 pain assessment critically ill adult patient validation turkish version critical-care pain observation tool o. gundogan c. bor e. akýn korhan k. demirag m. uyar p368 audit pain sedation assessment intensive care unit recommendation clinical practice f. frame c. ashton l. bergstrom niska p369 impact pharmaceutical care treatment pain agitation medical intensive care unit p. dilokpattanamongkol t. suansanae c. suthisisang s. morakul c. karnjanarachata v. tangsujaritvijit p370 agitation trauma icu prevention outcome s. mahmood h. al thani a. almenyar p371 correlation percentage ventilated patient developed vap use sedative agent icu patient a. vakalos v. avramidis p372 improving recording sedation event emergency department implementation siva international taskforce adverse event reporting tool procedural sedation r. sharvill j. penketh p373 impact sedative drug use length mechanical ventilation s. e. morton y. s. chiew c. pretty j. g. chase g. m. shaw p374 co-administration nitric oxide sevoflurane using anaconda r. knafelj p. kordis p375 retrospective study use dexmedetomidine oncological critical care setting s. patel v. grover p376 dexmedetomidine posttraumatic stress disorder incidence alcohol withdrawal icu patient i. kuchyn k. bielka p377 hemodynamic effect dexmedetomidine porcine model septic shock z. aidoni v. grosomanidis k. kotzampassi g. stavrou b. fyntanidou s. patsatzakis c. skourtis p378 ketamine analgosedation severe hypoxic respiratory failure s. d. lee k. williams i. d. weltes p379 madness moon lunar cycle incidence delirium intensive care unit s. berhane c. arrowsmith c. peter s. robert p380 impaired dynamic cerebral autoregulation coronary artery bypass grafting association postoperative delirium j. caldas r. b. panerai t. g. robinson l. camara g. ferreira e. borg-seng-shu m. de lima oliveira n. c. mian l. santos r. nogueira s. p. zeferino m. jacobsen teixeira f. gala l. a. hajjar p381 risk factor predicting prolonged intensive care unit length stay major elective surgery p. killeen m. mcphail w. bernal j. maggs j. wendon t. hughes p382 systemic inflammatory response syndrome criterion hospital mortality prediction brazilian cohort critically ill patient l. u. taniguchi e. m. siqueira j. m. vieira jr l. c. azevedo p383 evaluating efficacy risk predictor panel identifying patient elevated risk morbidity following emergency admission a. n. ahmad m. abu-habsa r. bahl e. helme s. hadfield r. loveridge p384 retrospective comparison outcome elective surgical patient admitted post-operatively critical care unit general ward j. shak c. senver r. howard-griffin p385 effect obesity mortality surgical critically ill patient p. wacharasint p. fuengfoo n. sukcharoen r. rangsin p386 national early warning score news reliably improves adverse clinical outcome prediction community-acquired pneumonia result 6 year follow-up d. sbiti-rohr p. schuetz p387 clinical usefulness charlson¡¯s weighted index comorbidities _as prognostic factor patient prolonged acute mechanical ventilation h. na s. song s. lee e. jeong k. lee p388 comparison mortality prediction scoring system patient cirrhosis admitted general intensive care unit m. cooper k. milinis g. williams e. mccarron s. simants i. patanwala i. d. welter p389 impact admission source time admission outcome pediatric intensive care patient retrospective 15 year study e. zoumpelouli ea volakli v. chrysohoidou s. georgiou k. charisopoulou e. kotzapanagiotou v. panagiotidou k. manavidou z. stathi m. sdougka p390 heart rate variability outcome prediction critical illness n. salahuddin b. alghamdi q. marashly k. zaza m. sharshir m. khurshid z. ali m. malgapo m. jamil a. shafquat m. shoukri m. hijazi p391 incidence outcome hyperlactatemia post anaesthesia care unit t. abe s. uchino m. takinami p392 correlation arterial blood gas disturbance arterial lactate level hospitalization outcome critically septic patient n. r. rangel neto s. oliveira f. q. real f. a. rocha p393 external validation sap 3 mpm iii score 48,816 patient 72 brazilian icu g. moralez k. ebecken l. s. rabello m. f. lima r. hatum f. v. de marco a. alves j. e. pinto m. godoy p. e. brasil f. a. bozza j. i. salluh m. soares p394 frailty penalty pre-admission functional status confounds mortality prediction model critically ill patient j. krinsley g. kang p395 ‘ sooner rather later ” delayed discharge critical care lead increased hour discharge subsequent increase in-hospital mortality j. perry h. hines p396 identifying poor outcome patient group resource-constrained critical care unit k. m. wilkinson c. tordoff b. sloan m. c. bellamy p397 effect icu weekend admission discharge mortality e. moreira f. verga m. barbato g. burghi p398 organizational factor outcome resource use 9,946 cancer patient admitted 70 icu soares u. v. silva l. c. azevedo a. p. torelly j. m. kahn d. c. angus m. f. knibel p. e. brasil f. a. bozza j. i. salluh p399 evaluation oncological critically ill patient severity score outcome compared oncological particular hospital cti m. b. velasco d. m. dalcomune p400 outcome patient admitted large uk critical care department palliative oncological diagnosis r. marshall t. gilpin a. tridente a. raithatha p401 predictor mortality febrile neutropenic patient haematological malignancy admitted intensive care unit cancer center d. mota b. loureiro j. dia o. afonso f. coelho a. martin f. faria p402 patient hematologic malignancy requiring invasive mechanical ventilation characteristic predictor mortality h. al-dorzi h. al orainni f. aleid h. tlaygeh a. itani a. hejazi y. arabi p403 patient-important outcome randomized controlled trial critically ill patient systematic review s. gaudry j. messika j. d. ricard s. guillo b. pasquet e. dubief d. dreyfus f. tubach p404 alopecia survivor critical illness qualitative study c battle k. james p. temblett p405 impact mental health icu admission l. davy c. battle c. lynch p406 cognitive impairment 5 year icu discharge s. pereira s. cavaco j. fernandes i. moreira e. almeida f. seabra pereira m. malheiro f. cardoso i. aragão t. cardoso p407 apache ii versus apache iv octagenerians medical icu m. fister r. knafelj p408 outcome octagenarians indian icu p. muraray govind n. brahmananda reddy r. pratheema e. d. arul j. devachandran p409 mortality outcome elderly patient 80 year age older admitted icu m. b. velasco d. m. dalcomune p410 octagenerians medical icu adding day life life day r. knafelj m. fister p411 elderly admitted intensive care unit outcome economic evaluation n. chin-yee g. ’ egidio k. thavorn d. heyland k. kyeremanteng p412 elderly intensive care relationship acuity illness long-term mortality a. g. murchison k. swalwell j. mandeville d. stott p413 acquired weakness oncological intensive care unit i. guerreiro p414 musculoskeletal problem intensive care unit icu patient post-discharge h. devine p. mactavish j. mcpeake t. quasim j. kinsella m. daniel p415 premorbid obesity nutrition prevents critical illness-induced muscle wasting weakness c. goossens m. b. marque s. derde s. vander perre t. dufour s. e. thiessen f. güiza t. janssens g. herman i. vanhorebeek k. de bock g. van den berghe l. langouche p416 physical outcome measure critical care patient following intensive care unit icu discharge h. devine p. mactavish t. quasim j. kinsella m. daniel j. mcpeake p417 improving active mobilisation general intensive care unit b. mile s. madden h. devine p418 mobilization patient vasoactive drug use – pilot study m. weiler p. marque c. rodrigues m. boeira k. brenner c. leães a. machado r. townsend j. andrade p419 pharmacy intervention intensive care rehabilitation clinic p. mactavish j. mcpeake h. devine j. kinsella m. daniel r. kishore c. fenlon t. quasim p420 interactive gaming feasible potentially increase icu patient ’ motivation engaged rehabilitation program t. fiks a. ruijter m. te raa p. spronk p421 simulation-based design robust stopping rule ensure patient safety y. s. chiew p. docherty j. dickson e. moltchanova c. scarrot c. pretty g. m. shaw j. g. chase p422 daily blood test intensive care unit necessary t. hall w. c. ngu j. m. jack p. morgan p423 measuring urine output ward patient helpful b. avard a. pavli x. gee p424 incidence pressure ulcer adult mixed intensive care unit turkey c bor e. akin korhan k. demirag m. uyar p425 intensivist/patient ratio closed icu alexandria egypt overview m. shirazy a. fayed p426 eicu electronic intensive care unit impact alos average length stay developing country like india s. gupta a. kaushal s. dewan a. varma p427 predicting deterioration general ward using early deterioration indicator e. ghosh l. yang l. eshelman b. lord e. carlson p428 high impact enhanced critical care outreach imobile service making difference e. helme r. broderick s. hadfield r. loveridge p429 impact bed availability cognitive load intensive care unit icu bed allocation vignette-based trial j. ramos d. forte p430 characteristic critically ill patient admitted emergency department f. yang p. hou p431 admission critical care quantification functional reserve j. dudziak j. feeney k. wilkinson k. bauchmuller k. shuker m. fauld a. raithatha d. bryden l. england n. bolton a. tridente p432 admission critical care importance frailty k. bauchmuller k shuker tridente fauld matheson j. gaynor bryden south yorkshire hospital research collaboration p433 development instrument aid triage decision intensive care unit admission j. ramos b. peroni r. daglius-dias l. miranda c. cohen c. carvalho velasco d. forte p434 using selective serotonin re-uptake inhibitor serotonin-norepinephrine re-uptake inhibitor critical care systematic review evidence benefit harm j. m. kelly a. neill g. rubenfeld n. masson a. min p435 measuring adaptive coping hospitalized patient severe medical condition sickness insight coping questionnaire sicq e. boezeman j. hofhuis a. hovingh r. de vries p. spronk p436 result national survey regarding intensive care medicine training g. cabral-campello i. aragão t. cardoso p437 work engagement among healthcare professional intensive care unit m. van mol m. nijkamp e kompanje p438 empowering intensive care practitioner burnout ameliorating intervention p. ostrowski a. omar p439 icu patient suffer circadian rhythm desynchronisation k. kiss b. köves v. csernus z. molnár p440 noise reduction icu feasible y. hoydonckx s. vanwing b. stessel a. van assche l. jamaer j. dubois p441 accidental removal invasive device critical patient bed-washing presence professional nurse modify incidence v. medo r. galvez j. p. miranda p442 deprivation liberty safeguard dol audit compliance 16-bed specialist cancer critical care unit c. stone t. wigmore p443 use modified cristal score predict futility critical care elderly y. arunan a. wheeler k. bauchmuller d. bryden p444 improvement referral rate palliative care patient poor prognosis neurosurgical intensive care unit y. wong c. poi c. gu p445 factor associated limitation life supporting care lsc medico-surgical intermediate care unit outcome patient lsc limitation monocentric six-month study p. molmy n. van grunderbeeck o. nigeon m. lemyze d. thevenin j. mallat p446 palliative care consultation intensive care unit admission request cohort study j. ramos m. correa r. t. carvalho d. forte p447 nursing medicine together postsurgical intensive care unit situation prognostic conflict end life critical care nurse suffer medical activism a. fernandez c. mcbride p448 end life may decide e. koonthalloor c. walsh p449 correctly diagnosing death a. webber m. ashe k. smith p. jeanrenaud p450 skin procurement performed intensive care physician yes a. marudi s. baroni f. ragusa e. bertellini p451 death analysis pediatric intensive care patient e. a. volakli e. chochliourou m. dimitriadou a. violaki p. mantzafleri e. samkinidou o. vrani a. arbouti t. varsami m. sdougka p452 potential impact euthanasia organ donation analysis data belgium j. a. bollen t. c. van smaalen w. c. de jongh m. m. ten hoopen d. ysebaert l. w. van heurn w. n. van mook p453 communication within intensive care setting k. sim a. fuller p454 development implementation longitudinal communication curriculum critical care medicine fellow a. roze de ordons p. couillard c. doig p455 staff-family conflict multi-ethnic intensive care unit r. v. van keer r. d. deschepper a. f. francke l. h. huyghens j. b. bilsen p456 source admission critical care affect family satisfaction b. nyamaizi c. dalrymple a. molokhia a. dobru p457 simple alternative family satisfaction survey fs-icu e. marrinan a. ankuli a. molokhia p458 study explore experience patient family volunteer critical care environment phenomenological analysis j. mcpeake r. struthers r. crawford h. devine p. mactavish t. quasim p459 prevalence risk factor anxiety depression relative burn patient p. morelli m. degiovanangelo f. lemos v. martinez f. verga j. cabrera g. burghi p460 guidance visiting child adult intensive care unit icu a. rutten s. van ieperen s. de geer m. van vugt e. der kinderen p461 visiting policy italian pediatric icu update a. giannini g miccinesi marchesi e prandi\n",
      "\n",
      "pd1g119c:\n",
      "abstract 3rd international genomic medicine conference 3rd igmc 2015 jeddah kingdom saudi arabia 30 november 3 december 2015 o1 regulation gene telomere length long distance jerry w. shay o2 microtubule destabilizer kif2a regulates postnatal establishment neuronal circuit addition prenatal cell survival cell migration axon elongation loss leading malformation cortical development severe epilepsy noriko homma ruyun zhou muhammad imran naseer adeel g. chaudhary mohammed al-qahtani nobutaka hirokawa o3 integration metagenomics metabolomics gut microbiome research maryam goudarzi albert j. fornace jr. o4 unique integrated system discern pathogenesis central nervous system tumor saleh baeesa deema hussain mohammed bangash fahad alghamdi hans-juergen schulten angel carracedo ishaq khan hanadi qashqari nawal madkhali mohamad saka kulvinder s. saini awatif jamal jaudah al-maghrabi adel abuzenadah adeel chaudhary mohammed al qahtani ghazi damanhouri o5 rpl27a target mir-595 deficiency contributes ribosomal dysgenesis heba alkhatabi o6 next generation dna sequencing panel haemostatic platelet disorder fanconi anaemia routine diagnostic service anne goodeve laura crookes nikolas niksic nicholas beauchamp o7 targeted sequencing panel utilization personalized medicine adel m. abuzenadah o8 international biobanking era precision medicine jim vaught o9 biobank biodata clinical forensic application bruce budowle mourad assidi abdelbaset buhmeida o10 tissue microarray technique powerful adjunct tool molecular profiling solid tumor jaudah al-maghrabi o11 cegmr biobanking unit achievement challenge future plan abdelbaset buhmeida mourad assidi leena merdad o12 phylomedicine tumor sudhir kumar sayaka miura karen gomez o13 clinical implementation pharmacogenomics colorectal cancer treatment angel carracedo mahmood rasool o14 association causality translation gwas finding genomic medicine ahmed rebai o15 e-grasp interactive database web application efficient analysis disease-associated genetic information sajjad karim hend f nour eldin heba abusamra elham alhathli nada salem mohammed h al-qahtani sudhir kumar o16 supercomputer facility “ aziz ” kau utility future prospect hossam faheem o17 new research cause male infertility ashok agarwa o18 klinefelter syndrome recent progress pathophysiology management eberhard nieschlag joachim wistuba oliver s. damm mohd a. beg taha a. abdel-meguid hisham a. mosli osama s. bajouh adel m. abuzenadah mohammed h. al-qahtani o19 new look reproductive medicine era genomics serdar coskun p1 wnt signalling receptor expression saudi breast cancer patient muhammad abu-elmagd abdelbaset buhmeida ashraf dallol jaudah al-maghrabi sahar hakamy wejdan al-qahtani asia al-harbi shireen hussain mourad assidi mohammed al-qahtani adel abuzenadah p2 analysis oxidative stress interactome spermatogenesis system biology approach reproduction burak ozkosem rick dubois p3 interleukin-18 gene variant strongly associated idiopathic recurrent pregnancy loss safia messaoudi maryam dandana touhami mahjoub wassim almawi p4 effect environmental factor gene-gene gene-environment reaction model theoretical study applied environmental intervention using genotype s. abdalla m. nabil al-aama p5 genomics transcriptomic analysis imatinib resistance gastrointestinal stromal tumor asmaa elzawahry tsuyoshi takahashi sachiyo mimaki eisaku furukawa rie nakatsuka isao kurosaka takahiko nishigaki hiromi nakamura satoshi serada tetsuji naka seiichi hirota tatsuhiro shibata katsuya tsuchihara toshirou nishida mamoru kato p6 in-silico analysis putative hcv epitope pakistani human leukocyte antigen background approach towards development future vaccine pakistani population sajid mehmood naeem mahmood ashraf awais asif muhammad bilal malik siddique mehmood aadil hussain p7 inhibition ache buche natural compound bacopa monerri treatment alzheimer ’ disease bioinformatics approach qazi mohammad sajid jamal mughees uddin siddiqui mohammad a. alzohairy mohammad a. al karaawi p8 her2 expression urothelial cell carcinoma bladder saudi arabia taoufik nedjadi jaudah al-maghrabi mourad assidi heba al-khattabi adel al-ammari ahmed al-sayyad abdelbaset buhmeida mohammed al-qahtani p9 association angiotensinogen single nucleotide polymorphism preeclampsia patient north africa hédia zitouni nozha raguema marwa ben ali wided malah raja lfalah wassim almawi touhami mahjoub p10 system biology analysis reveals relation normal skin benign nevus malignant melanoma mohammed elanbari andrey ptitsyn p11 apoptotic effect thymoquinone jurkat cell sana mahjoub rabeb el ghali bechir achour nidhal ben amor mourad assidi brahim n'siri hamid morjani p12 sonic hedgehog contributes bladder cancer invasion saudi arabia taoufik nedjadi adel al-ammari ahmed al-sayyad nada salem esam azhar jaudah al-maghrabi p13 association interleukin 18 gene promoter polymorphism 607a/c -137 g/c colorectal cancer onset sample tunisian population vera chayeb maryam dendena hedia zitouni khedija zouari-limayem touhami mahjoub p14 pathological expression interleukin-6 -11 leukemia inhibitory factor receptor tubal gestation without tubal cytomegalovirus infection bassem refaat ahmed ashshi sarah batwa p15 phenotypic genetic profiling avian pathogenic human diarrhegenic escherichia coli egypt hazem ramadan amal awad ahmed ateya p16 cancer-targeting dual gene virotherapy promising therapeutic strategy treatment hepatocellular carcinoma adel galal ahmed el-shemi ahmad ashshi mohammed basalamah youjin na chae-ok yun p17 cancer dual gene therapy oncolytic adenovirus expressing trail il-12 transgene markedly eradicated human hepatocellular carcinoma vitro vivo adel galal ahmed el-shemi ahmad ashshi mohammed basalamah youjin na chae-ok yun p18 therapy paricalcitol attenuates tumor growth augments tumoricidal anti-oncogenic effect 5-fluorouracil animal model colon cancer adel galal el-shemi bassem refaat osama kensara amr abdelfattah p19 effect rubus idaeus extract normal human lymphocyte cancer cell line batol imran dheeb mohammed m. f. al-halbosiy rghad kadhim al lihabi basim mohammed khashman p20 etanercept tnf-alpha inhibitor alleviates mechanical hypersensitivity spontaneous pain rat model chemotherapy-induced neuropathic pain djouhri laiche chaudhary adeel nedjadi taoufik p21 sleeping beauty mutagenesis system identified gene neuronal transcription factor network involved pediatric solid tumour medulloblastoma hani al-afghani maria łastowska haya h al-balool harsh sheth emma mercer jonathan coxhead chris pf redfern heiko peter alastair burt mauro santibanez-koref chris bacon louis chesler alistair g rust david j adam daniel williamson steven c clifford michael jackson p22 involvement interleukin-1 vitiligo pathogenesis mala singh mohmmad shoab mansuri shahnawaz d. jadeja hima patel yogesh s. marfatia rasheedunnisa begum p23 cytogenetics abnormality 12,884 referred population chromosomal analysis role fish refining diagnosis cytogenetic experience 2004-2013 amal mohamed alaa k kamel nivin helmy sayda hammad hesham f kayed marwa shehab assad el gerzawy maha m. ead ola ead mona mekkawy innas mazen mona el-ruby p24 analysis binding property angiotensin-converting enzyme 2 silico method s. m. a. shahid qazi mohammad sajid jamal j. m. arif mohtashim lohani p25 relationship genetics marker ci trans β-s globin gene fetal hemoglobin expression tunisian sickle cell patient moumni imen chaouch leila ouragini houyem douzi kais chaouachi dorra mellouli fethi bejaoui mohamed abbe salem p26 analysis estrogen receptor alpha gene polymorphism breast cancer link genetic predisposition sudanese woman areeg faggad amanuel gebreslasie hani zaki badreldin e abdalla p27 kcnqi gene polymorphism association cvd t2dm saudi population maha alshammari rhaya al-ali nader al-balawi mansour al-enazi ali al-muraikhi fadi busaleh ali al-sahwan francis borgio abdulazeez sayyed amein al-ali sadananda acharya p28 clinical neuroimaging cytogenetic study patient microcephaly capillary malformation syndrome maha s. zaki hala t. el-bassyouni marwa i. shehab p29 altered expression cd200r1 dendritic cell patient inflammatory bowel disease silico investigation clinical evaluation mohammed f. elshal kaleemuddin m. alia m. aldahlawi omar saadah j. philip mccoy p30 development real time pcr diagnostic protocol specific saudi arabian h1n1 viral strain adel e el-tarras nabil awad abdulla alharthi mohamed ibrahim p31 identification novel genetic variation affecting osteoarthritis patient haneen alsehli ashraf dallol abdullah gari mohammed abbas roaa kadam mazen m. gari mohmmed h alkaff adel abuzenadah mamdooh gari p32 integrated database gwas snvs evolutionary property heba abusamra sajjad karim hend f nour eldin elham alhathli nada salem sudhir kumar mohammed h al-qahtani p33 familial hypercholesterolemia saudi arabia prime time national registry genetic analysis fatima a. moradi omran m. rashidi zuhier a. awan p34 comparative genomics network-based analysis early hepatocellular carcinoma ibrahim hamza kaya olfat al-harazi dilek colak p35 talen-based oncolytic viral vector approach knock abcb1 gene mediated chemoresistance cancer stem cell nabila alkousi takis athanasopoulos p36 cartilage differentiation gene expression synovial fluid mesenchymal stem cell derived osteoarthritis patient afnan bahmaid etimad alhwait mamdooh gari haneen alsehli mohammed abbas mohammed h alkaf roaa kadam ashraf dallol gauthaman kalamegam p37 e-grasp adding evolutionary component genome-wide repository association grasp resource hend f nour eldin sajjad karim heba abusamra elham alhathli nada salem mohammed h al-qahtani sudhir kumar p38 screening agl gene mutation saudi family glycogen storage disease type iii salma n alsayed fawziah h aljohani samaher habeeb rawan almashali sulman basit samia ahmed p39 high throughput proteomic data suggest modulation camp dependent protein kinase mitochondrial function infertile patient varicocele rakesh sharma ashok agarwal damayanthi durairajanayagam luna samanta muhammad abu-elmagd adel m. abuzenadah edmund s. sabanegh mourad assidi mohammed al-qahtani p40 significant protein profile alteration men primary secondary infertility ashok agarwal rakesh sharma luna samanta damayanthi durairajanayagam mourad assidi muhammad abu-elmagd mohammed al-qahtani adel m. abuzenadah edmund s. sabanegh p41 spermatozoon maturation infertile patient involves compromised expression heat shock protein luna samanta ashok agarwal rakesh sharma zhihong cui mourad assidi adel m. abuzenadah muhammad abu-elmagd mohammed al-qahtani p42 array comparative genomic hybridization approach search genomic answer spontaneous recurrent abortion saudi arabia alaa alboogmi nuha alansari maha al-quaiti fai ashgan afnan bandah hasan jamal abdullraheem rozi zeenat mirza adel abuzenadah sajjad karim mohammed h al-qahtani p43 global gene expression profiling saudi kidney cancer patient sajjad karim hans-juergen schulten ahmad j al sayyad hasan farsi jaudah al-maghrabi zeenat mirza reem alotibi alaa al-ahmadi nuha alansari alaa albogmi maha al-quaiti fai ashgan afnan bandah mohammed h al-qahtani p44 downregulated star gene male reproductive dysfunction caused nifedipine ethosuximide rasha ebiya samia darwish metwally m. montaser p45 clustering based gene expression feature selection method computational approach enrich classifier efficiency differentially expressed gene heba abusamra vladimir b. bajic p46 prognostic significance osteopontin expression profile colorectal carcinoma jaudah al-maghrabi wafaey gomaa mehenaz hanbazazh mahmoud al-ahwal asia al-harbi wejdan al-qahtani saher hakamy ghali baba abdelbaset buhmeida mohammed al-qahtani p47 high glypican-3 expression pattern predicts longer disease-specific survival colorectal carcinoma jaudah al-maghrabi abdullah al-harbi mahmoud al-ahwal asia al-harbi wejdan al-qahtani sahar hakamy ghalia baba abdelbaset buhmeida mohammed al-qahtani p48 evolutionary re-assessment gwas single nucleotide variant implicated cholesterol trait elham alhathli sajjad karim nada salem hend nour eldin heba abusamra sudhir kumar mohammed h al-qahtani p49 derivation characterization human wharton ’ jelly stem cell hwjscs vitro future therapeutic application aisha alyamani gauthaman kalamegam etimad alhwait mamdooh gari mohammed abbas mohammed h alkaf haneen alsehli roaa kadam mohammed al-qahtani p50 attitude healthcare student toward biomedical research post-genomic era rawan gadi abdelbaset buhmeida mourad assidi adeel chaudhary leena merdad p51 evaluation immunomodulatory effect thymoquinone human bone marrow mesenchymal stem cell bm-mscs osteoarthritic patient saadiah alfakeeh etimad alhwait mamdooh gari mohammed abbas mohammed h alkaf haneen alsehli roaa kadam gauthaman kalamegam p52 implication il-10 il-28 polymorphism successful anti-hcv therapy viral clearance rubi ghazala shilu mathew m.haroon hamed mourad assidi mohammed al-qahtani ishtiaq qadri p53 selection flavonoid obesity protein fto using silico vitro approach shilu mathew lobna mira manal shaabad shireen hussain mourad assidi muhammad abu-elmagd mohammed al-qahtani p54 computational selection vitro validation flavonoid new antidepressant agent shilu mathew manal shaabad lobna mira shireen hussain mourad assidi muhammad abu-elmagd mohammed al-qahtani p55 silico prediction prioritization aging candidate gene associated progressive telomere shortening ahmed rebai mourad assidi abdelbaset buhmeida muhammad abu-elmagd ashraf dallol jerry w shay p56 identification new cancer testis antigen gene diverse type malignant human tumour cell mikhlid h almutairi p57 comprehensive forensic genetic marker analysis accurate human remains identification using massively parallel sequencing mp angie amber jennifer churchill jonathan king monika stoljarova harrell gill-king mourad assidi muhammad abu-elmagd abdelbaset buhmeida muhammad al-qatani bruce budowle p58 flow cytometry approach towards treatment men infertility saudi arabia muhammad abu-elmagd farid ahmed ashraf dallol mourad assidi taha abo almagd sahar hakamy ashok agarwal muhammad al-qahtani adel abuzenadah p59 tissue microarray based validation cyclind1 expression renal cell carcinoma saudi kidney patient sajjad karim hans-juergen schulten ahmad j al sayyad hasan farsi jaudah al-maghrabi abdelbaset buhmaida zeenat mirza reem alotibi alaa al-ahmadi nuha alansari alaa albogmi maha al-quaiti fai ashgan afnan bandah mohammed h al-qahtani p60 assessment gold nanoparticles molecular diagnostics dna damage study rukhsana satar mahmood rasool waseem ahmad nazia nazam mohamad lone muhammad naseer mohammad jamal syed k zaidi peter n pushparaj mohammad jafri shakeel ansari mohammed h alqahtani p61 surfing biospecimen management processing workflow cegmr biobank hanan bashier abrar al qahtani shilu mathew amal m. nour heba alkhatabi adel m. abu zenadah abdelbaset buhmeida mourad assidi muhammed al qahtani p62 autism spectrum disorder knowledge attitude awareness jeddah kingdom saudi arabia muhammad faheem shilu mathew shiny mathew peter natesan pushparaj mohammad h. al-qahtani p63 simultaneous genetic screening coagulation pathway gene using thromboscan targeted sequencing panel hani a. alhadrami ashraf dallol adel abuzenadah p64 genome wide array comparative genomic hybridization analysis patient syndromic congenital heart defect ibtessam r. hussein adeel g. chaudhary rima bader randa bassiouni maha alquaiti fai ashgan han schulten mohamed nabil alama mohammad h. al qahtani p65 toxocogenetic evaluation 1 2-dichloroethane bone marrow blood cell immune system using conventional molecular flowcytometric approach mohammad lone nazia nizam waseem ahmad mohammad jafri mahmood rasool shakeel ansari muhammed h al-qahtani p66 molecular cytogenetic diagnosis sexual development disorder newborn case ambiguous genitalia eradah alshihri muhammad abu-elmagd lina alharbi mourad assidi mohammed al-qahtani p67 identification disease specific gene expression cluster pathway hepatocellular carcinoma using silico methodology shilu mathew peter pushparaj natesan muhammed al qahtani p68 human wharton ’ jelly stem cell conditioned medium inhibits primary ovarian cancer cell vitro identification probable target mechanism using system biology gauthaman kalamegam peter natesan pushparaj fazal khan roaa kadam farid ahmed mourad assidi khalid hussain wali sait nisreen anfinan mohammed al qahtani p69 mutation spectrum aspm abnormal spindle-like microcephaly-associated gene saudi arabian population muhammad naseer adeel g chaudhary mohammad jamal shilu mathew lobna mira peter n pushparaj shakeel ansari mahmood rasool mohammed h alqahtani p70 identification characterization novel gene mutation primary microcephaly saudi arabian population muhammad naseer adeel g chaudhary shilu mathew lobna mira mohammad jamal sameera sogaty randa bassiouni mahmood rasool mohammed h alqahtani p71 molecular genetic analysis hereditary nonpolyposis colorectal cancer lynch syndrome saudi arabian population mahmood rasool shakeel ansari mohammad jamal peter n pushparaj abdulrahman m sibiani waseem ahmad abdelbaset buhmeida mohammad jafri mohiuddin k warsi muhammad naseer mohammed h al-qahtani p72 function predication hypothetical protein genome database chlamydia trachomatis rubi kundan kumar ahmad naqvi faizan ahmad md hassan mohammad jamal mahmood rasool mohammed h alqahtani p73 transcription factor novel molecular target skin cancer ashraf ali jummanah jarullah mahmood rasool abdelbasit buhmeida shahida khan ghufrana abdussami maryam mahfooz mohammad kamal ghazi damanhouri mohammad jamal p74 silico analysis plumbagin binding apoptosis executioner caspase-3 caspase-7 bushra jarullah jummanah jarullah mohammad s jarullah ashraf ali mahmood rasool mohammad jamal p75 single cell genomics application preimplantation genetic screening optimization comparative analysis whole genome amplification technology mourad assidi muhammad abu-elmagd osama bajouh peter natesan pushparaj mohammed al-qahtani adel abuzenadah p76 zfp36 regulates mirs-34a anti-igm triggered immature b cell mohammad jamal jummanah jarullah abdulah ea mathkoor hashim alsalmi ana mm oun ghazi damanhauri mahmood rasool mohammed h alqahtani p77 identification novel mutation stambp gene family microcephaly-capillary malformation syndrome muhammad i. naseer mahmood rasool sameera sogaty adeel g. chudhary yousif a. abutalib daniele merico susan walker christian r. marshall mehdi zarrei stephen w. scherer mohammad h. al-qahtani p78 copy number variation saudi patient intellectual disability epilepsy muhammad i. naseer muhammad faheem adeel g. chaudhary mahmood rasool gauthaman kalamegam fai talal ashgan mourad assidi farid ahmed syed kashif zaidi mohammed m. jan mohammad h. al-qahtani p79 prognostic significance cd44 expression profile colorectal carcinoma maryam al-zahrani sahira lary sahar hakamy ashraf dallol mahmoud al-ahwal jaudah al-maghrabi emmanuel dermitzakis adel abuzenadah abdelbaset buhmeida mohammed al-qahtani p80 association endothelial nitric oxide synthase enos gene g894t polymorphism hypertension risk complication abeer al-refai mona saleh rehab yassien mahmmoud kamel rabab habeb p81 snp array screen genetic variation among diabetic patient najlaa filimban ashraf dallol nadia ghannam mohammed al-qahtani adel mohammed abuzenadah p82 detection genotyping helicobacter pylorus among gastric cancer patient saudi arabian population fehmida bibi sana akhtar esam i. azhar muhammad yasir muhammad i. nasser asif a. jiman-fatani ali sawan p83 antimicrobial drug resistance molecular detection susceptibility fluoroquinolones among clinical isolates salmonella specie jeddah-saudi arabia ruaa lahzah asho ali p84 identification toxic virulence nature map1138c protein mycobacterium avium subsp paratuberculosis syed hassan seyed e hasnain iftikhar tayubi hamza abujabal alaa magrabi p85 vitro silico evaluation mir137 human breast cancer fazal khan gauthaman kalamegam peter natesan pushparaj adel abuzenada taha abduallah kumosani elie barbour mohammed al-qahtani p86 auruka gene over-expressed saudi breast cancer manal shabaad shilu mathew ashraf dallol adnan merdad abdelbaset buhmeida mohammed al-qahtani p87 potential immunogenomics personalized healthcare mourad assidi muhammad abu-elmagd kalamegam gauthaman mamdooh gari adeel chaudhary adel abuzenadah peter natesan pushparaj mohammed al-qahtani p88 silico physiochemical structural characterization putative orf map0591 implication pathogenesis mycobacterium paratuberculosis ruminant human syed hassan iftikhar tayubi hani aljahdali p89 effect heat shock human bone marrow mesenchymal stem cell bm-mscs implication regenerative medicine reham al nono mamdooh gari haneen alsehli farid ahmed mohammed abbas gauthaman kalamegam mohammed al-qahtani p90 silico analysis molecular target resveratrol unravels importance mast cell mediated allergic response shilu mathew fazal khan mahmood rasool mohammed sarwar jamal muhammad imran naseer zeenat mirza sajjad karim shakeel ansari mourad assidi gauthaman kalamegam mamdooh gari adeel chaudhary adel abuzenadah peter natesan pushparaj mohammed al-qahtani p91 effect environmental particulate matter bone-marrow mesenchymal stem cell muhammad abu-elmagd gauthaman kalamegam roaa kadam mansour alghamdi magdy shamy max costa mamdouh khoder mourad assidi peter natesan pushparaj mamdooh gari mohammed al-qahtani p92 distinctive charge cluster human virus proteome najla kharrat sabrine belmabrouk rania abdelhedi riadh benmarzoug mourad assidi mohammed h. al qahtani ahmed rebai p93 vitro experimental model approach identification new biomarkers inflammatory form arthritis ghazi dhamanhouri peter natesan pushparaj abdelwahab noorwali mohammad khalid alwasiyah afnan bahamaid saadiah alfakeeh aisha alyamani haneen alsehli mohammed abbas mamdooh gari ali mobasheri gauthaman kalamegam mohammed al-qahtani p94 molecular docking gaba receptor subunit γ-2 novel anti-epileptic compound muhammad faheem shilu mathew peter natesan pushparaj mohammad h. al-qahtani p95 breast cancer knowledge awareness practice among saudi female residing jeddah shilu mathew muhammad faheem shiny mathew peter natesan pushparaj mohammad h. al-qahtani p96 anti-inflammatory role sesamin attenuation iba1/tnf-α/icam-1/inos signaling diabetic retinopathy mohammad sarwar jamal syed kashif zaidi raziuddin khan kanchan bhatia mohammed h. al-qahtani saif ahmad p97 identification drug lead molecule vp35 protein ebola virus in-silico approach iftikhar aslamtayubi manish tripathi syed asif hassan rahul shrivastava p98 approach personalized medicine snp-calling disease analysis using whole exome-sequencing three sub-continental population iftikhar tayubi syed hassan hamza a.s abujabal p99 low versus high frequency glucose –6 – phosphate dehydrogenase g6pd deficiency urban tribal population gujarat – signal natural selection ishani shah bushra jarullah mohammad jamal jummanah jarullah p100 spontaneous preterm birth single nucleotide gene polymorphism recent update ishfaq sheikh ejaz ahmad mohammad jamal mohd rehan muhammad abu-elmagd iftikhar tayubi samera f albasri osama bajouh rola f turki adel abuzenadah ghazi damanhouri mohd beg mohammed al-qahtani p101 prevalence congenital heart disease among syndrome case saudi arabia role molecular genetics pathogenesis sahar af hammoudah khalid alharbi lama el-attar ahmed mz darwish p102 combinatorial efficacy specific pathway inhibitor breast cancer cell sara ibrahim ashraf dallol hani choudhry adel abuzenadah jalaludden awlia adeel chaudhary farid ahmed mohammed al-qahtani p103 mir-143 mir-145 cluster potential replacement medicine treatment cancer mohammad jafri muhammad abu-elmagd mourad assidi mohammed al-qahtani p104 metagenomic profile gut microbiota pregnancy saudi population imran khan muhammad yasir esam i. azhar sameera al-basri elie barbour taha kumosani p105 exploration anticancer target selected metabolite phoenix dactylifera l. using system biological approach fazal khan gauthaman kalamegam peter natesan pushparaj adel abuzenada taha abduallah kumosani elie barbour p106 cd226 cd40 gene polymorphism susceptibility juvenile rheumatoid arthritis egyptian patient heba m. el sayed eman a. hafez p107 paediatric exome sequencing autism spectrum disorder ascertained saudi family hans-juergen schulten aisha hassan elaimi ibtessam r hussein randa ibrahim bassiouni mohammad khalid alwasiyah richard f wintle adeel chaudhary stephen w scherer mohammed al-qahtani p108 crystal structure complex formed phospholipase 2 central core hydrophobic fragment alzheimer ’ β- amyloid peptide reductionist approach zeenat mirza vikram gopalakrishna pillai sajjad karim sujata sharma punit kaur alagiri srinivasan tej p singh mohammed al-qahtani p109 differential expression profiling meningioma female male patient reem alotibi alaa al-ahmadi fatima al-adwani deema hussein sajjad karim mona al-sharif awatif jamal fahad al-ghamdi jaudah al-maghrabi saleh baeesa mohammed bangash adeel chaudhary hans-juergen schulten mohammed al-qahtani p110 neurospheres model early brain development therapeutic muhammad faheem peter natesan pushparaj shilu mathew taha abdullah kumosani gauthaman kalamegam mohammed al-qahtani p111 identification recurrent causative missense mutation p. w577c ldlr exon 12 familial hypercholesterolemia affected saudi family faisal al-allaf zainularifeen abduljaleel abdullah alashwal mohiuddin m. taher abdellatif bouazzaoui halah abalkhail faisal a. ba-hammam mohammad athar p112 epithelial ovarian carcinoma eoc system oncological approach identify diagnostic prognostic therapeutic biomarkers gauthaman kalamegam peter natesan pushparaj muhammad abu-elmagd farid ahmed khalid hussainwali sait nisreen anfinan mamdooh gari adeel chaudhary adel abuzenadah mourad assidi mohammed al-qahtani p113 crohn ’ disease phenotype northern tunisian population naira ben mami yosr z haffani mouna medhioub lamine hamzaoui ameur cherif msadok azouz p114 establishment silico approach decipher potential toxicity mechanism action drug candidate environmental agent gauthaman kalamegam fazal khan shilu mathew mohammed imran nasser mahmood rasool farid ahmed peter natesan pushparaj mohammed al-qahtani p115 1q gain predicts poor prognosis marker young breast cancer patient shereen turkistany lina al-harbi ashraf dallol jamal sabir adeel chaudhary adel abuzenadah p116 disorder sex chromosome diagnostic genomic medicine unit saudi arabia prevalence diagnosis future guideline basmah al-madoudi bayan al-aslani khulud al-harbi rwan al-jahdali hanadi qudaih emad al hamzy mourad assidi mohammed al qahtani p117 combination wye354 sunitinib demonstrate synergistic inhibition acute myeloid leukemia vitro asad ilyas youssri ahmed mamdooh gari farid ahmed mohammed alqahtani p118 integrated use evolutionary information gwas reveals important snp asthma nada salem sajjad karim elham alhathli heba abusamra hend f nour eldin mohammed h al-qahtani sudhir kumar p119 assessment braf idh1 idh2 egfr mutation series primary brain tumor fatima al-adwani deema hussein mona al-sharif awatif jamal fahad al-ghamdi jaudah al-maghrabi saleh baeesa mohammed bangash adeel chaudhary mohammed al-qahtani hans-juergen schulten p120 expression profile distinguish oligodendrogliomas glioblastoma multiformes without oligodendroglioma component alaa alamandi reem alotibi deema hussein sajjad karim jaudah al-maghrabi fahad al-ghamdi awatif jamal saleh baeesa mohammed bangash adeel chaudhary hans-juergen schulten mohammed al-qahtani p121 hierarchical clustering thyroid goiter hyperplastic lesion ohoud subhi nadia bagatian sajjad karim adel al-johari osman abdel al-hamour hosam al-aradati abdulmonem al-mutawa faisal al-mashat jaudah al-maghrabi hans-juergen schulten mohammad al-qahtani p122 differential expression analysis thyroiditis papillary thyroid carcinoma without coexisting thyroiditis nadia bagatian ohoud subhi sajjad karim adel al-johari osman abdel al-hamour abdulmonem al-mutawa hosam al-aradati faisal al-mashat mohammad al-qahtani hans-juergen schulten jaudah al-maghrabi p123 metagenomic analysis waste water microbiome sausdi arabia muhammad w shah muhammad yasir esam azhar saad al-masoodi p124 molecular characterization helicobacter pylorus faecal sample tunisian patient gastric cancer yosr z haffani msadok azouz emna khamla chaima jlassi ahmed s. masmoudi ameur cherif lassaad belbahri p125 diagnostic application oncoscan © panel identification hereditary cancer syndrome shadi al-khayyat roba attas atlal abu-sanad mohammed abuzinadah adnan merdadashraf dallol adeel chaudhary mohammed al-qahtani adel abuzenadah p126 characterization clinical neurocognitive feature family novel ogt gene missense mutation c. 1193g a/ p. ala319thr habib bouazzi carlos trujillo mohammad khalid alwasiyah mohammed al-qahtani p127 case report rare homozygous deletion mutation tmem70 gene associated 3-methylglutaconic aciduria cataract saudi patient maha alotaibi ramus nassir p128 isolation purification antimicrobial milk protein ishfaq sheikh mohammad kamal essam h jiffri ghulam ashraf mohd beg p129 integrated analysis reveals association atp8b1 gene colorectal cancer mohammad aziz rizwan ali mahmood rasool mohammad jamal nusaibah samman ghufrana abdussami sathish periyasamy mohiuddin k warsi mohammed aldress majed al otaibi zeyad al yousef mohamed boudjelal abdelbasit buhmeida mohammed h al-qahtani ibrahim alabdulkarim p130 implication il-10 il-28 polymorphism successful anti-hcv therapy viral clearance rubi ghazala shilu mathew m. haroon hamed mourad assidi mohammed al-qahtani ishtiaq qadri p131 interaction endocrine disruptor di- 2-ethylhexyl phthalate dehp metabolite mono-2-ethylhexyl phthalate mehp progesterone receptor ishfaq sheikh muhammad abu-elmagd rola f turki ghazi damanhouri mohd a. beg p132 association hcv nucleotide polymorphism development hepatocellular carcinoma mohd suhail abid qureshi adil jamal peter natesan pushparaj mohammad al-qahtani ishtiaq qadri p133 gene expression profiling dna microarrays colon cancer treated chelidonine alkaloid mahmoud z el-readi safaa eid michael wink p134 successful vitro fertilization eight failed trial ahmed m. isa lulu alnuaim johara almutawa basim abu-rafae saleh alasiri saleh binsaleh p135 genetic sensitivity analysis using scge cell cycle mitochondrial membrane potential ops stressed leukocyte rattus norvegicus flow cytometric input nazia nazam mohamad lone waseem ahmad shakeel ansari mohamed h alqahtani\n",
      "\n",
      "vslevssr and yt9rj42s have 0.9542 similarity\n",
      "\n",
      "vslevssr:\n",
      "focus receptor coronaviruses special reference angiotensin-converting enzyme 2 potential drug target perspective coronaviruses covs posse enveloped single positive-stranded rna genome encodes four membrane protein namely spike envelope e membrane nucleocapsid n protein 3-5 1 regard pathogenicity protein essential viral entry host cell 2 3 sars-cov bind angiotensin-converting enzyme ace 2 present nonimmune cell respiratory intestinal epithelial cell endothelial cell kidney cell renal tubule cerebral neuron immune cell alveolar monocytes/macrophages 4-6 note cd209l liver/lymph node special intercellular adhesion molecule-3-grabbing non-integrin sign dendritic cell dc -sign alternative receptor sars-cov lower affinity 7 case mers-cov protein bind host cell receptor dipeptidyl peptidase 4 dpp4 cd26 broadly expressed intestinal alveolar renal hepatic prostate cell well activated leukocyte 8 virus replicate target cell release mature virion turn invade new target cell 9 evidence provided sarscov protein cleaved two subunit s1 s2 respectively amino acid 318-510 s1 represent receptor-binding domain rbd bind ace2 10 11 quite importantly context rbd receptor-binding motif rbm amino acid 424- 494 account complete binding ace2 11 moreover mean two residue position 479 487 rbd allows virus progression tropism 10 11 case merscov rbm bind dpp4 residue 484-567 thus suggesting rbd differs sars-cov 12 13 recent paper wan associate 14 investigated receptor recognition covid-19 new term indicate 2019-ncov wuhan base structural study respect sequence covid-19 rbm similar sarscov thus implicating ace2 may represent binding receptor covid-19 furthermore gln493 residue covid-19 rbm seems allow interaction human ace2 thus suggesting ability virus infect human cell according wan associate structural analysis 14 covid-19 bind human ace2 lesser efficiency human sars-cov 2002 higher affinity human sars-cov 2003 furthermore author predicted single mutation 501 position may enhance covid-19 rbd binding capacity human ace2 evolution monitored infected patient 14 predictive finding wan associate 14 confirmed two contemporary study letko muster 15 peng associate 16 particular report peng associate 16 point possible origin covid-19 bat 16 pathogenic point view evidence provided binding s2 ace2 receptor lead down-regulation subsequent lung damage course sars-cov infection 17 down-regulation ace2 cause excessive production angiotensin ang ii related enzyme ace stimulation ang type 1a receptor at1r enhanced lung vascular permeability 18 particular author reported recombinant ace2 could attenuate severe acute lung injury mouse 18 moreover battle associate 19 also proposed use already available recombinant ace2 intercepting covid-19 attenuating infection previous paragraph presence ace2 immune cell pointed analogy epithelial cell receptor may also down-regulated following viral entry therefore cov-infected animal model infected human investigation required clarify possible reduced expression ace2 immune cell fact course sars-cov infection number immune disorder detected three report demonstrated ability cov inhibit interferon ifn - production course sars acting ifn antagonist 20-22 senescent balb/c mouse depletion lymphocyte associated severe interstitial pneumonitis delayed clearance sars-cov thus suggesting protective role played cell 23 connection sars-cov mers-cov shown induce cell apoptosis thus aggravating clinical course disease 24 25 quite interestingly memory cd8+ cell specific sars-cov n protein detected 11 year post-infection 26 far humoral immune responsiveness concerned evidence provided s1 subunit mers-cov highly immunogenic mouse 27 moreover monoclonal antibody shown highly neutralizing mers-cov replication endowed post exposure effectiveness susceptible mouse 28 29 human neutralizing antibody also isolated recovered patient thus suggesting role humoral immunity control persistence cov host 30 particular igg response occurs early infection prolonged production may serve virus clearance recovery also view absence viremia convalescent serum sars patient 31 according current literature severity covid-19 infection correlate lymphopenia patient died covid-19 lower lymphocyte count compared survivor 32 33 data suggest lymphocyte-mediated anti-viral activity poorly effective covid-19 despite lymphopenia evidence exaggerate release proinflammatory cytokine interleukin il -1 il-6 reported course acute respiratory syndrome covid19 infected patient thus aggravating clinical course disease 34 recently reported covid-19 pandemic italy china higher frequency fatality observed frail elderly population previous comorbidities 35 well known decline immunity occurs ageing therefore covid-19 may gain easier access respiratory tract frail elderly patient 36 evidence ace2 protects severe acute lung failure operates negative regulator renin-angiotensin system ra 18 37 well known ang ii via activation at1r promotes detrimental effect host vasoconstriction reactive oxygen specie generation inflammation matrix remodelling 38 ace2 counterbalance noxious effect exhibited ang ii at1r via activation at2r arrest cell growth inflammation fibrosis 39 framework gurwitz 40 proposed use at1r blocker losartan potential treatment covid-19 infection fact losartan well olmesartan used treating hypertension patient able increase ace2 expression 28 day treatment rat myocardial infarction 41 gurwitz suggests evaluate severity symptom covid-19 infected patient previous chronic treatment at1r blocker comparison covid-19 infected patient take at1r blocker 40 quite interestingly 75 aged covid-19 infected patient admitted italian hospital hypertension unpublished data however putative effect ace-2 down-regulation cardiovascular system course covid-19 pandemic need intensive study taken together evidence suggest cov-induced down-regulation ace2 activates ra collateral damage organ lung course sars-related pneumonia putative therapeutic measure aimed increasing ace2 level respiratory epithelial cell taken serious consideration quite interestingly past year three key paper demonstrated ability polyphenol resveratrol re experimentally deactivate ra system maternal post-weaning high fat diet arterial ageing high fat diet respectively 42-44 experimental model re led increase ace2 reduction organ damage liver steatosis aorta medium thickness decrease adipose tissue mass respectively far mechanism action re concerned polyphenol able activate sirtuin sirt 1 45-47 turn sirt1 down-regulates at1r expression via ace2 up-regulation 43 48 importance lin associate 48 demonstrated ability re vitro inhibit mers-cov infection vero e6 cell thus prolonging cell survival virtue anti-apoptotic mechanism finding suggest direct antiviral effect exerted re would interestingly evaluate direct effect re covid-19 vitro data discussed strongly suggest re activator ace2 investigated animal model cov-induced severe pneumonia also taking account antioxidant anti-inflammatory immunomodulating effect exerted polyphenols 49 successful animal study may pave way res-based human trial covid-infected patient note added proof reviewing process perspective related paper published hanff associate 50 discussed possible association covid-19-associated cardiovascular mortality dysregulation renin angiotensin system ra pharmacologic point view ra inhibition lead upregulation ace2 thus attenuating acute respiratory syndrome myocarditis covid-19-infected patient conversely increase ace2 expression may facilitate access host covid-19 thus aggravating clinical picture dilemma would solved clinical trial based ra blo\n",
      "\n",
      "yt9rj42s:\n",
      "air cleaning technology evidence-based analysis objective health technology policy assessment answer following question in-room air cleaner used effective in-room air cleaner in-room air cleaner use combined hepa uvgi air cleaning technology effective use hepa filtration alone plasmacluster ion air purifier pandemic influenza preparation plan experience severe acute respiratory syndrome sars locally nationally internationally underscored importance administrative environmental personal protective infection control measure health care facility aftermath sars crisis need clearer understanding ontario 's capacity manage suspected confirmed case airborne infectious disease walker commission thought attention paid potential use new technology in-room air cleaning unit recommended medical advisory secretariat ontario ministry health long-term care evaluate appropriate use effectiveness new technology accordingly ontario health technology advisory committee asked medical advisory secretariat review literature effectiveness utility in-room air cleaner use high-efficiency particle air hepa filter ultraviolet germicidal irradiation uvgi air cleaning technology additionally ontario health technology advisory committee prioritized request ministry 's emergency management unit investigate possible role plasmacluster ion air purifier manufactured sharp electronics corporation pandemic influenza preparation plan clinical need airborne transmission infectious disease depends part concentration breathable infectious pathogen germ room air infection control achieved combination administrative engineering personal protection method engineering method usually carried building 's heating ventilation air conditioning hvac system function prevent spread airborne infectious pathogen diluting dilution ventilation removing exhaust ventilation contaminated air room controlling direction airflow air flow pattern building however general wear tear time may compromise hvac system 's effectiveness maintain adequate indoor air quality likewise economic issue may curtail completion necessary renovation increase effectiveness therefore exposure airborne infectious pathogen risk use in-room air cleaner reduce concentration airborne pathogen prevent spread airborne infectious disease proposed alternative renovating hvac system airborne transmission spread infectious pathogen large distance air infectious pathogen may include fungi bacteria virus vary size dispersed air drop moisture coughing sneezing small drop moisture carrying infectious pathogen called droplet nucleus droplet nucleus 1 5μm diameter small size part allows remain suspended air several hour carried air current considerable distance large drop moisture carrying infectious pathogen called droplet droplet larger droplet nucleus travel shorter distance 1 metre rapidly falling air ground droplet nucleus remain airborne longer period droplet amenable engineering infection control method droplet droplet nucleus responsible airborne transmission infectious disease tuberculosis chicken pox varicella measles rubeola dessiminated herpes zoster whereas close contact required direct transmission infectious disease transmitted droplet influenza flu sars technology in-room air cleaner supplied portable fixed device fixed device attached either wall ceiling preferred portable unit greater degree reliability installed properly achieving adequate room air mixing airflow pattern important optimal effectiveness method air recirculation in-room air cleaner used increase room ventilation rate used exhaust air room create negative-pressure room airborne infection isolation aii building 's hvac system negative-pressure room one clean air flow room contaminated air flow contaminated room air pulled in-room air cleaner cleaned passing series filter remove airborne infectious pathogen cleaned air either recirculated room exhausted outside building filtering contaminated room air recirculating cleaned air room in-room air cleaner improve room 's ventilation exhausting filtered air outside unit create negative-pressure room many type in-room air cleaner vary widely airflow rate unit type air cleaning technology used technical design crucial maximizing efficiency in-room air cleaner strategic placement set-up within room done consultation ventilation engineer infection control expert and/or industrial hygienist poorly positioned air cleaner may disrupt airflow pattern within room air cleaner thereby compromising air cleaning efficiency effectiveness in-room air cleaner remove airborne pathogen room air depends several factor including airflow rate unit 's filter airflow pattern room tested variety condition in-room air cleaner including portable ceiling mounted unit either hepa non-hepa filter portable unit uvgi light ceiling mounted unit combined hepa filtration uvgi light estimated 30 90 99 12 80 effective respectively however although effectiveness variable united state center disease control prevention acknowledged in-room air cleaner alternative technology increasing room ventilation achieved building 's hvac system preference given fixed recirculating system portable one importantly use in-room air cleaner preclude either need health care worker visitor use personal protective equipment n95 mask equivalent entering aii room health care facility meeting current regulatory requirement airflow rate ventilation rate building airflow differential effective negative-pressure room plasmacluster ion technology developed 2000 air purification technology manufacturer sharp electronics corporation say disable airborne microorganism generation positive negative ion 1 functional unit hydroxyl molecule comprised one oxygen molecule one hydrogen atom plasmacluster ion air purifier us multilayer filter system composed prefilter carbon filter antibacterial filter hepa filter combined ion generator purify air ion generator us alternating plasma discharge split water molecule positively negatively charged ion ion emitted air surrounded water molecule form cluster ion attracted airborne particle cluster ion surround airborne particle positive negative ion react form hydroxyl hydroxyl steal airborne particle 's hydrogen atom creates hole particle 's outer protein membrane thereby rendering inactive influenza primarily acquired large droplet direct indirect contact infectious person in-room air cleaner little benefit controlling preventing spread therefore role plasmacluster ion air purifier in-room air cleaner control spread influenza accordingly purpose review medical advisory secretariat present analysis plasmacluster review strategy objective systematic review determine effectiveness in-room air cleaner built uvgi light hepa filtration compared using hepa filtration medical advisory secretariat searched database medline embase cochrane database systematic review inahata international network agency health technology assessment biosis preview bacteriology abstract web science dissertation abstract nioshtic 2. meta-analysis conducted adequate data available 2 study statistical clinical heterogeneity among study issue otherwise qualitative review completed grade system used summarize quality body evidence comprised 1 study summary finding existing health technology assessment air cleaning technology located literature review literature search yielded 59 citation none retained abstract truncated\n",
      "\n",
      "vslevssr and yt9rj42s have 0.9542 similarity\n",
      "\n",
      "vslevssr:\n",
      "focus receptor coronaviruses special reference angiotensin-converting enzyme 2 potential drug target perspective coronaviruses covs posse enveloped single positive-stranded rna genome encodes four membrane protein namely spike envelope e membrane nucleocapsid n protein 3-5 1 regard pathogenicity protein essential viral entry host cell 2 3 sars-cov bind angiotensin-converting enzyme ace 2 present nonimmune cell respiratory intestinal epithelial cell endothelial cell kidney cell renal tubule cerebral neuron immune cell alveolar monocytes/macrophages 4-6 note cd209l liver/lymph node special intercellular adhesion molecule-3-grabbing non-integrin sign dendritic cell dc -sign alternative receptor sars-cov lower affinity 7 case mers-cov protein bind host cell receptor dipeptidyl peptidase 4 dpp4 cd26 broadly expressed intestinal alveolar renal hepatic prostate cell well activated leukocyte 8 virus replicate target cell release mature virion turn invade new target cell 9 evidence provided sarscov protein cleaved two subunit s1 s2 respectively amino acid 318-510 s1 represent receptor-binding domain rbd bind ace2 10 11 quite importantly context rbd receptor-binding motif rbm amino acid 424- 494 account complete binding ace2 11 moreover mean two residue position 479 487 rbd allows virus progression tropism 10 11 case merscov rbm bind dpp4 residue 484-567 thus suggesting rbd differs sars-cov 12 13 recent paper wan associate 14 investigated receptor recognition covid-19 new term indicate 2019-ncov wuhan base structural study respect sequence covid-19 rbm similar sarscov thus implicating ace2 may represent binding receptor covid-19 furthermore gln493 residue covid-19 rbm seems allow interaction human ace2 thus suggesting ability virus infect human cell according wan associate structural analysis 14 covid-19 bind human ace2 lesser efficiency human sars-cov 2002 higher affinity human sars-cov 2003 furthermore author predicted single mutation 501 position may enhance covid-19 rbd binding capacity human ace2 evolution monitored infected patient 14 predictive finding wan associate 14 confirmed two contemporary study letko muster 15 peng associate 16 particular report peng associate 16 point possible origin covid-19 bat 16 pathogenic point view evidence provided binding s2 ace2 receptor lead down-regulation subsequent lung damage course sars-cov infection 17 down-regulation ace2 cause excessive production angiotensin ang ii related enzyme ace stimulation ang type 1a receptor at1r enhanced lung vascular permeability 18 particular author reported recombinant ace2 could attenuate severe acute lung injury mouse 18 moreover battle associate 19 also proposed use already available recombinant ace2 intercepting covid-19 attenuating infection previous paragraph presence ace2 immune cell pointed analogy epithelial cell receptor may also down-regulated following viral entry therefore cov-infected animal model infected human investigation required clarify possible reduced expression ace2 immune cell fact course sars-cov infection number immune disorder detected three report demonstrated ability cov inhibit interferon ifn - production course sars acting ifn antagonist 20-22 senescent balb/c mouse depletion lymphocyte associated severe interstitial pneumonitis delayed clearance sars-cov thus suggesting protective role played cell 23 connection sars-cov mers-cov shown induce cell apoptosis thus aggravating clinical course disease 24 25 quite interestingly memory cd8+ cell specific sars-cov n protein detected 11 year post-infection 26 far humoral immune responsiveness concerned evidence provided s1 subunit mers-cov highly immunogenic mouse 27 moreover monoclonal antibody shown highly neutralizing mers-cov replication endowed post exposure effectiveness susceptible mouse 28 29 human neutralizing antibody also isolated recovered patient thus suggesting role humoral immunity control persistence cov host 30 particular igg response occurs early infection prolonged production may serve virus clearance recovery also view absence viremia convalescent serum sars patient 31 according current literature severity covid-19 infection correlate lymphopenia patient died covid-19 lower lymphocyte count compared survivor 32 33 data suggest lymphocyte-mediated anti-viral activity poorly effective covid-19 despite lymphopenia evidence exaggerate release proinflammatory cytokine interleukin il -1 il-6 reported course acute respiratory syndrome covid19 infected patient thus aggravating clinical course disease 34 recently reported covid-19 pandemic italy china higher frequency fatality observed frail elderly population previous comorbidities 35 well known decline immunity occurs ageing therefore covid-19 may gain easier access respiratory tract frail elderly patient 36 evidence ace2 protects severe acute lung failure operates negative regulator renin-angiotensin system ra 18 37 well known ang ii via activation at1r promotes detrimental effect host vasoconstriction reactive oxygen specie generation inflammation matrix remodelling 38 ace2 counterbalance noxious effect exhibited ang ii at1r via activation at2r arrest cell growth inflammation fibrosis 39 framework gurwitz 40 proposed use at1r blocker losartan potential treatment covid-19 infection fact losartan well olmesartan used treating hypertension patient able increase ace2 expression 28 day treatment rat myocardial infarction 41 gurwitz suggests evaluate severity symptom covid-19 infected patient previous chronic treatment at1r blocker comparison covid-19 infected patient take at1r blocker 40 quite interestingly 75 aged covid-19 infected patient admitted italian hospital hypertension unpublished data however putative effect ace-2 down-regulation cardiovascular system course covid-19 pandemic need intensive study taken together evidence suggest cov-induced down-regulation ace2 activates ra collateral damage organ lung course sars-related pneumonia putative therapeutic measure aimed increasing ace2 level respiratory epithelial cell taken serious consideration quite interestingly past year three key paper demonstrated ability polyphenol resveratrol re experimentally deactivate ra system maternal post-weaning high fat diet arterial ageing high fat diet respectively 42-44 experimental model re led increase ace2 reduction organ damage liver steatosis aorta medium thickness decrease adipose tissue mass respectively far mechanism action re concerned polyphenol able activate sirtuin sirt 1 45-47 turn sirt1 down-regulates at1r expression via ace2 up-regulation 43 48 importance lin associate 48 demonstrated ability re vitro inhibit mers-cov infection vero e6 cell thus prolonging cell survival virtue anti-apoptotic mechanism finding suggest direct antiviral effect exerted re would interestingly evaluate direct effect re covid-19 vitro data discussed strongly suggest re activator ace2 investigated animal model cov-induced severe pneumonia also taking account antioxidant anti-inflammatory immunomodulating effect exerted polyphenols 49 successful animal study may pave way res-based human trial covid-infected patient note added proof reviewing process perspective related paper published hanff associate 50 discussed possible association covid-19-associated cardiovascular mortality dysregulation renin angiotensin system ra pharmacologic point view ra inhibition lead upregulation ace2 thus attenuating acute respiratory syndrome myocarditis covid-19-infected patient conversely increase ace2 expression may facilitate access host covid-19 thus aggravating clinical picture dilemma would solved clinical trial based ra blo\n",
      "\n",
      "yt9rj42s:\n",
      "air cleaning technology evidence-based analysis objective health technology policy assessment answer following question in-room air cleaner used effective in-room air cleaner in-room air cleaner use combined hepa uvgi air cleaning technology effective use hepa filtration alone plasmacluster ion air purifier pandemic influenza preparation plan experience severe acute respiratory syndrome sars locally nationally internationally underscored importance administrative environmental personal protective infection control measure health care facility aftermath sars crisis need clearer understanding ontario 's capacity manage suspected confirmed case airborne infectious disease walker commission thought attention paid potential use new technology in-room air cleaning unit recommended medical advisory secretariat ontario ministry health long-term care evaluate appropriate use effectiveness new technology accordingly ontario health technology advisory committee asked medical advisory secretariat review literature effectiveness utility in-room air cleaner use high-efficiency particle air hepa filter ultraviolet germicidal irradiation uvgi air cleaning technology additionally ontario health technology advisory committee prioritized request ministry 's emergency management unit investigate possible role plasmacluster ion air purifier manufactured sharp electronics corporation pandemic influenza preparation plan clinical need airborne transmission infectious disease depends part concentration breathable infectious pathogen germ room air infection control achieved combination administrative engineering personal protection method engineering method usually carried building 's heating ventilation air conditioning hvac system function prevent spread airborne infectious pathogen diluting dilution ventilation removing exhaust ventilation contaminated air room controlling direction airflow air flow pattern building however general wear tear time may compromise hvac system 's effectiveness maintain adequate indoor air quality likewise economic issue may curtail completion necessary renovation increase effectiveness therefore exposure airborne infectious pathogen risk use in-room air cleaner reduce concentration airborne pathogen prevent spread airborne infectious disease proposed alternative renovating hvac system airborne transmission spread infectious pathogen large distance air infectious pathogen may include fungi bacteria virus vary size dispersed air drop moisture coughing sneezing small drop moisture carrying infectious pathogen called droplet nucleus droplet nucleus 1 5μm diameter small size part allows remain suspended air several hour carried air current considerable distance large drop moisture carrying infectious pathogen called droplet droplet larger droplet nucleus travel shorter distance 1 metre rapidly falling air ground droplet nucleus remain airborne longer period droplet amenable engineering infection control method droplet droplet nucleus responsible airborne transmission infectious disease tuberculosis chicken pox varicella measles rubeola dessiminated herpes zoster whereas close contact required direct transmission infectious disease transmitted droplet influenza flu sars technology in-room air cleaner supplied portable fixed device fixed device attached either wall ceiling preferred portable unit greater degree reliability installed properly achieving adequate room air mixing airflow pattern important optimal effectiveness method air recirculation in-room air cleaner used increase room ventilation rate used exhaust air room create negative-pressure room airborne infection isolation aii building 's hvac system negative-pressure room one clean air flow room contaminated air flow contaminated room air pulled in-room air cleaner cleaned passing series filter remove airborne infectious pathogen cleaned air either recirculated room exhausted outside building filtering contaminated room air recirculating cleaned air room in-room air cleaner improve room 's ventilation exhausting filtered air outside unit create negative-pressure room many type in-room air cleaner vary widely airflow rate unit type air cleaning technology used technical design crucial maximizing efficiency in-room air cleaner strategic placement set-up within room done consultation ventilation engineer infection control expert and/or industrial hygienist poorly positioned air cleaner may disrupt airflow pattern within room air cleaner thereby compromising air cleaning efficiency effectiveness in-room air cleaner remove airborne pathogen room air depends several factor including airflow rate unit 's filter airflow pattern room tested variety condition in-room air cleaner including portable ceiling mounted unit either hepa non-hepa filter portable unit uvgi light ceiling mounted unit combined hepa filtration uvgi light estimated 30 90 99 12 80 effective respectively however although effectiveness variable united state center disease control prevention acknowledged in-room air cleaner alternative technology increasing room ventilation achieved building 's hvac system preference given fixed recirculating system portable one importantly use in-room air cleaner preclude either need health care worker visitor use personal protective equipment n95 mask equivalent entering aii room health care facility meeting current regulatory requirement airflow rate ventilation rate building airflow differential effective negative-pressure room plasmacluster ion technology developed 2000 air purification technology manufacturer sharp electronics corporation say disable airborne microorganism generation positive negative ion 1 functional unit hydroxyl molecule comprised one oxygen molecule one hydrogen atom plasmacluster ion air purifier us multilayer filter system composed prefilter carbon filter antibacterial filter hepa filter combined ion generator purify air ion generator us alternating plasma discharge split water molecule positively negatively charged ion ion emitted air surrounded water molecule form cluster ion attracted airborne particle cluster ion surround airborne particle positive negative ion react form hydroxyl hydroxyl steal airborne particle 's hydrogen atom creates hole particle 's outer protein membrane thereby rendering inactive influenza primarily acquired large droplet direct indirect contact infectious person in-room air cleaner little benefit controlling preventing spread therefore role plasmacluster ion air purifier in-room air cleaner control spread influenza accordingly purpose review medical advisory secretariat present analysis plasmacluster review strategy objective systematic review determine effectiveness in-room air cleaner built uvgi light hepa filtration compared using hepa filtration medical advisory secretariat searched database medline embase cochrane database systematic review inahata international network agency health technology assessment biosis preview bacteriology abstract web science dissertation abstract nioshtic 2. meta-analysis conducted adequate data available 2 study statistical clinical heterogeneity among study issue otherwise qualitative review completed grade system used summarize quality body evidence comprised 1 study summary finding existing health technology assessment air cleaning technology located literature review literature search yielded 59 citation none retained abstract truncated\n",
      "\n",
      "vslevssr and yt9rj42s have 0.9542 similarity\n",
      "\n",
      "vslevssr:\n",
      "focus receptor coronaviruses special reference angiotensin-converting enzyme 2 potential drug target perspective coronaviruses covs posse enveloped single positive-stranded rna genome encodes four membrane protein namely spike envelope e membrane nucleocapsid n protein 3-5 1 regard pathogenicity protein essential viral entry host cell 2 3 sars-cov bind angiotensin-converting enzyme ace 2 present nonimmune cell respiratory intestinal epithelial cell endothelial cell kidney cell renal tubule cerebral neuron immune cell alveolar monocytes/macrophages 4-6 note cd209l liver/lymph node special intercellular adhesion molecule-3-grabbing non-integrin sign dendritic cell dc -sign alternative receptor sars-cov lower affinity 7 case mers-cov protein bind host cell receptor dipeptidyl peptidase 4 dpp4 cd26 broadly expressed intestinal alveolar renal hepatic prostate cell well activated leukocyte 8 virus replicate target cell release mature virion turn invade new target cell 9 evidence provided sarscov protein cleaved two subunit s1 s2 respectively amino acid 318-510 s1 represent receptor-binding domain rbd bind ace2 10 11 quite importantly context rbd receptor-binding motif rbm amino acid 424- 494 account complete binding ace2 11 moreover mean two residue position 479 487 rbd allows virus progression tropism 10 11 case merscov rbm bind dpp4 residue 484-567 thus suggesting rbd differs sars-cov 12 13 recent paper wan associate 14 investigated receptor recognition covid-19 new term indicate 2019-ncov wuhan base structural study respect sequence covid-19 rbm similar sarscov thus implicating ace2 may represent binding receptor covid-19 furthermore gln493 residue covid-19 rbm seems allow interaction human ace2 thus suggesting ability virus infect human cell according wan associate structural analysis 14 covid-19 bind human ace2 lesser efficiency human sars-cov 2002 higher affinity human sars-cov 2003 furthermore author predicted single mutation 501 position may enhance covid-19 rbd binding capacity human ace2 evolution monitored infected patient 14 predictive finding wan associate 14 confirmed two contemporary study letko muster 15 peng associate 16 particular report peng associate 16 point possible origin covid-19 bat 16 pathogenic point view evidence provided binding s2 ace2 receptor lead down-regulation subsequent lung damage course sars-cov infection 17 down-regulation ace2 cause excessive production angiotensin ang ii related enzyme ace stimulation ang type 1a receptor at1r enhanced lung vascular permeability 18 particular author reported recombinant ace2 could attenuate severe acute lung injury mouse 18 moreover battle associate 19 also proposed use already available recombinant ace2 intercepting covid-19 attenuating infection previous paragraph presence ace2 immune cell pointed analogy epithelial cell receptor may also down-regulated following viral entry therefore cov-infected animal model infected human investigation required clarify possible reduced expression ace2 immune cell fact course sars-cov infection number immune disorder detected three report demonstrated ability cov inhibit interferon ifn - production course sars acting ifn antagonist 20-22 senescent balb/c mouse depletion lymphocyte associated severe interstitial pneumonitis delayed clearance sars-cov thus suggesting protective role played cell 23 connection sars-cov mers-cov shown induce cell apoptosis thus aggravating clinical course disease 24 25 quite interestingly memory cd8+ cell specific sars-cov n protein detected 11 year post-infection 26 far humoral immune responsiveness concerned evidence provided s1 subunit mers-cov highly immunogenic mouse 27 moreover monoclonal antibody shown highly neutralizing mers-cov replication endowed post exposure effectiveness susceptible mouse 28 29 human neutralizing antibody also isolated recovered patient thus suggesting role humoral immunity control persistence cov host 30 particular igg response occurs early infection prolonged production may serve virus clearance recovery also view absence viremia convalescent serum sars patient 31 according current literature severity covid-19 infection correlate lymphopenia patient died covid-19 lower lymphocyte count compared survivor 32 33 data suggest lymphocyte-mediated anti-viral activity poorly effective covid-19 despite lymphopenia evidence exaggerate release proinflammatory cytokine interleukin il -1 il-6 reported course acute respiratory syndrome covid19 infected patient thus aggravating clinical course disease 34 recently reported covid-19 pandemic italy china higher frequency fatality observed frail elderly population previous comorbidities 35 well known decline immunity occurs ageing therefore covid-19 may gain easier access respiratory tract frail elderly patient 36 evidence ace2 protects severe acute lung failure operates negative regulator renin-angiotensin system ra 18 37 well known ang ii via activation at1r promotes detrimental effect host vasoconstriction reactive oxygen specie generation inflammation matrix remodelling 38 ace2 counterbalance noxious effect exhibited ang ii at1r via activation at2r arrest cell growth inflammation fibrosis 39 framework gurwitz 40 proposed use at1r blocker losartan potential treatment covid-19 infection fact losartan well olmesartan used treating hypertension patient able increase ace2 expression 28 day treatment rat myocardial infarction 41 gurwitz suggests evaluate severity symptom covid-19 infected patient previous chronic treatment at1r blocker comparison covid-19 infected patient take at1r blocker 40 quite interestingly 75 aged covid-19 infected patient admitted italian hospital hypertension unpublished data however putative effect ace-2 down-regulation cardiovascular system course covid-19 pandemic need intensive study taken together evidence suggest cov-induced down-regulation ace2 activates ra collateral damage organ lung course sars-related pneumonia putative therapeutic measure aimed increasing ace2 level respiratory epithelial cell taken serious consideration quite interestingly past year three key paper demonstrated ability polyphenol resveratrol re experimentally deactivate ra system maternal post-weaning high fat diet arterial ageing high fat diet respectively 42-44 experimental model re led increase ace2 reduction organ damage liver steatosis aorta medium thickness decrease adipose tissue mass respectively far mechanism action re concerned polyphenol able activate sirtuin sirt 1 45-47 turn sirt1 down-regulates at1r expression via ace2 up-regulation 43 48 importance lin associate 48 demonstrated ability re vitro inhibit mers-cov infection vero e6 cell thus prolonging cell survival virtue anti-apoptotic mechanism finding suggest direct antiviral effect exerted re would interestingly evaluate direct effect re covid-19 vitro data discussed strongly suggest re activator ace2 investigated animal model cov-induced severe pneumonia also taking account antioxidant anti-inflammatory immunomodulating effect exerted polyphenols 49 successful animal study may pave way res-based human trial covid-infected patient note added proof reviewing process perspective related paper published hanff associate 50 discussed possible association covid-19-associated cardiovascular mortality dysregulation renin angiotensin system ra pharmacologic point view ra inhibition lead upregulation ace2 thus attenuating acute respiratory syndrome myocarditis covid-19-infected patient conversely increase ace2 expression may facilitate access host covid-19 thus aggravating clinical picture dilemma would solved clinical trial based ra blo\n",
      "\n",
      "yt9rj42s:\n",
      "air cleaning technology evidence-based analysis objective health technology policy assessment answer following question in-room air cleaner used effective in-room air cleaner in-room air cleaner use combined hepa uvgi air cleaning technology effective use hepa filtration alone plasmacluster ion air purifier pandemic influenza preparation plan experience severe acute respiratory syndrome sars locally nationally internationally underscored importance administrative environmental personal protective infection control measure health care facility aftermath sars crisis need clearer understanding ontario 's capacity manage suspected confirmed case airborne infectious disease walker commission thought attention paid potential use new technology in-room air cleaning unit recommended medical advisory secretariat ontario ministry health long-term care evaluate appropriate use effectiveness new technology accordingly ontario health technology advisory committee asked medical advisory secretariat review literature effectiveness utility in-room air cleaner use high-efficiency particle air hepa filter ultraviolet germicidal irradiation uvgi air cleaning technology additionally ontario health technology advisory committee prioritized request ministry 's emergency management unit investigate possible role plasmacluster ion air purifier manufactured sharp electronics corporation pandemic influenza preparation plan clinical need airborne transmission infectious disease depends part concentration breathable infectious pathogen germ room air infection control achieved combination administrative engineering personal protection method engineering method usually carried building 's heating ventilation air conditioning hvac system function prevent spread airborne infectious pathogen diluting dilution ventilation removing exhaust ventilation contaminated air room controlling direction airflow air flow pattern building however general wear tear time may compromise hvac system 's effectiveness maintain adequate indoor air quality likewise economic issue may curtail completion necessary renovation increase effectiveness therefore exposure airborne infectious pathogen risk use in-room air cleaner reduce concentration airborne pathogen prevent spread airborne infectious disease proposed alternative renovating hvac system airborne transmission spread infectious pathogen large distance air infectious pathogen may include fungi bacteria virus vary size dispersed air drop moisture coughing sneezing small drop moisture carrying infectious pathogen called droplet nucleus droplet nucleus 1 5μm diameter small size part allows remain suspended air several hour carried air current considerable distance large drop moisture carrying infectious pathogen called droplet droplet larger droplet nucleus travel shorter distance 1 metre rapidly falling air ground droplet nucleus remain airborne longer period droplet amenable engineering infection control method droplet droplet nucleus responsible airborne transmission infectious disease tuberculosis chicken pox varicella measles rubeola dessiminated herpes zoster whereas close contact required direct transmission infectious disease transmitted droplet influenza flu sars technology in-room air cleaner supplied portable fixed device fixed device attached either wall ceiling preferred portable unit greater degree reliability installed properly achieving adequate room air mixing airflow pattern important optimal effectiveness method air recirculation in-room air cleaner used increase room ventilation rate used exhaust air room create negative-pressure room airborne infection isolation aii building 's hvac system negative-pressure room one clean air flow room contaminated air flow contaminated room air pulled in-room air cleaner cleaned passing series filter remove airborne infectious pathogen cleaned air either recirculated room exhausted outside building filtering contaminated room air recirculating cleaned air room in-room air cleaner improve room 's ventilation exhausting filtered air outside unit create negative-pressure room many type in-room air cleaner vary widely airflow rate unit type air cleaning technology used technical design crucial maximizing efficiency in-room air cleaner strategic placement set-up within room done consultation ventilation engineer infection control expert and/or industrial hygienist poorly positioned air cleaner may disrupt airflow pattern within room air cleaner thereby compromising air cleaning efficiency effectiveness in-room air cleaner remove airborne pathogen room air depends several factor including airflow rate unit 's filter airflow pattern room tested variety condition in-room air cleaner including portable ceiling mounted unit either hepa non-hepa filter portable unit uvgi light ceiling mounted unit combined hepa filtration uvgi light estimated 30 90 99 12 80 effective respectively however although effectiveness variable united state center disease control prevention acknowledged in-room air cleaner alternative technology increasing room ventilation achieved building 's hvac system preference given fixed recirculating system portable one importantly use in-room air cleaner preclude either need health care worker visitor use personal protective equipment n95 mask equivalent entering aii room health care facility meeting current regulatory requirement airflow rate ventilation rate building airflow differential effective negative-pressure room plasmacluster ion technology developed 2000 air purification technology manufacturer sharp electronics corporation say disable airborne microorganism generation positive negative ion 1 functional unit hydroxyl molecule comprised one oxygen molecule one hydrogen atom plasmacluster ion air purifier us multilayer filter system composed prefilter carbon filter antibacterial filter hepa filter combined ion generator purify air ion generator us alternating plasma discharge split water molecule positively negatively charged ion ion emitted air surrounded water molecule form cluster ion attracted airborne particle cluster ion surround airborne particle positive negative ion react form hydroxyl hydroxyl steal airborne particle 's hydrogen atom creates hole particle 's outer protein membrane thereby rendering inactive influenza primarily acquired large droplet direct indirect contact infectious person in-room air cleaner little benefit controlling preventing spread therefore role plasmacluster ion air purifier in-room air cleaner control spread influenza accordingly purpose review medical advisory secretariat present analysis plasmacluster review strategy objective systematic review determine effectiveness in-room air cleaner built uvgi light hepa filtration compared using hepa filtration medical advisory secretariat searched database medline embase cochrane database systematic review inahata international network agency health technology assessment biosis preview bacteriology abstract web science dissertation abstract nioshtic 2. meta-analysis conducted adequate data available 2 study statistical clinical heterogeneity among study issue otherwise qualitative review completed grade system used summarize quality body evidence comprised 1 study summary finding existing health technology assessment air cleaning technology located literature review literature search yielded 59 citation none retained abstract truncated\n",
      "\n",
      "vslevssr and yt9rj42s have 0.9542 similarity\n",
      "\n",
      "vslevssr:\n",
      "focus receptor coronaviruses special reference angiotensin-converting enzyme 2 potential drug target perspective coronaviruses covs posse enveloped single positive-stranded rna genome encodes four membrane protein namely spike envelope e membrane nucleocapsid n protein 3-5 1 regard pathogenicity protein essential viral entry host cell 2 3 sars-cov bind angiotensin-converting enzyme ace 2 present nonimmune cell respiratory intestinal epithelial cell endothelial cell kidney cell renal tubule cerebral neuron immune cell alveolar monocytes/macrophages 4-6 note cd209l liver/lymph node special intercellular adhesion molecule-3-grabbing non-integrin sign dendritic cell dc -sign alternative receptor sars-cov lower affinity 7 case mers-cov protein bind host cell receptor dipeptidyl peptidase 4 dpp4 cd26 broadly expressed intestinal alveolar renal hepatic prostate cell well activated leukocyte 8 virus replicate target cell release mature virion turn invade new target cell 9 evidence provided sarscov protein cleaved two subunit s1 s2 respectively amino acid 318-510 s1 represent receptor-binding domain rbd bind ace2 10 11 quite importantly context rbd receptor-binding motif rbm amino acid 424- 494 account complete binding ace2 11 moreover mean two residue position 479 487 rbd allows virus progression tropism 10 11 case merscov rbm bind dpp4 residue 484-567 thus suggesting rbd differs sars-cov 12 13 recent paper wan associate 14 investigated receptor recognition covid-19 new term indicate 2019-ncov wuhan base structural study respect sequence covid-19 rbm similar sarscov thus implicating ace2 may represent binding receptor covid-19 furthermore gln493 residue covid-19 rbm seems allow interaction human ace2 thus suggesting ability virus infect human cell according wan associate structural analysis 14 covid-19 bind human ace2 lesser efficiency human sars-cov 2002 higher affinity human sars-cov 2003 furthermore author predicted single mutation 501 position may enhance covid-19 rbd binding capacity human ace2 evolution monitored infected patient 14 predictive finding wan associate 14 confirmed two contemporary study letko muster 15 peng associate 16 particular report peng associate 16 point possible origin covid-19 bat 16 pathogenic point view evidence provided binding s2 ace2 receptor lead down-regulation subsequent lung damage course sars-cov infection 17 down-regulation ace2 cause excessive production angiotensin ang ii related enzyme ace stimulation ang type 1a receptor at1r enhanced lung vascular permeability 18 particular author reported recombinant ace2 could attenuate severe acute lung injury mouse 18 moreover battle associate 19 also proposed use already available recombinant ace2 intercepting covid-19 attenuating infection previous paragraph presence ace2 immune cell pointed analogy epithelial cell receptor may also down-regulated following viral entry therefore cov-infected animal model infected human investigation required clarify possible reduced expression ace2 immune cell fact course sars-cov infection number immune disorder detected three report demonstrated ability cov inhibit interferon ifn - production course sars acting ifn antagonist 20-22 senescent balb/c mouse depletion lymphocyte associated severe interstitial pneumonitis delayed clearance sars-cov thus suggesting protective role played cell 23 connection sars-cov mers-cov shown induce cell apoptosis thus aggravating clinical course disease 24 25 quite interestingly memory cd8+ cell specific sars-cov n protein detected 11 year post-infection 26 far humoral immune responsiveness concerned evidence provided s1 subunit mers-cov highly immunogenic mouse 27 moreover monoclonal antibody shown highly neutralizing mers-cov replication endowed post exposure effectiveness susceptible mouse 28 29 human neutralizing antibody also isolated recovered patient thus suggesting role humoral immunity control persistence cov host 30 particular igg response occurs early infection prolonged production may serve virus clearance recovery also view absence viremia convalescent serum sars patient 31 according current literature severity covid-19 infection correlate lymphopenia patient died covid-19 lower lymphocyte count compared survivor 32 33 data suggest lymphocyte-mediated anti-viral activity poorly effective covid-19 despite lymphopenia evidence exaggerate release proinflammatory cytokine interleukin il -1 il-6 reported course acute respiratory syndrome covid19 infected patient thus aggravating clinical course disease 34 recently reported covid-19 pandemic italy china higher frequency fatality observed frail elderly population previous comorbidities 35 well known decline immunity occurs ageing therefore covid-19 may gain easier access respiratory tract frail elderly patient 36 evidence ace2 protects severe acute lung failure operates negative regulator renin-angiotensin system ra 18 37 well known ang ii via activation at1r promotes detrimental effect host vasoconstriction reactive oxygen specie generation inflammation matrix remodelling 38 ace2 counterbalance noxious effect exhibited ang ii at1r via activation at2r arrest cell growth inflammation fibrosis 39 framework gurwitz 40 proposed use at1r blocker losartan potential treatment covid-19 infection fact losartan well olmesartan used treating hypertension patient able increase ace2 expression 28 day treatment rat myocardial infarction 41 gurwitz suggests evaluate severity symptom covid-19 infected patient previous chronic treatment at1r blocker comparison covid-19 infected patient take at1r blocker 40 quite interestingly 75 aged covid-19 infected patient admitted italian hospital hypertension unpublished data however putative effect ace-2 down-regulation cardiovascular system course covid-19 pandemic need intensive study taken together evidence suggest cov-induced down-regulation ace2 activates ra collateral damage organ lung course sars-related pneumonia putative therapeutic measure aimed increasing ace2 level respiratory epithelial cell taken serious consideration quite interestingly past year three key paper demonstrated ability polyphenol resveratrol re experimentally deactivate ra system maternal post-weaning high fat diet arterial ageing high fat diet respectively 42-44 experimental model re led increase ace2 reduction organ damage liver steatosis aorta medium thickness decrease adipose tissue mass respectively far mechanism action re concerned polyphenol able activate sirtuin sirt 1 45-47 turn sirt1 down-regulates at1r expression via ace2 up-regulation 43 48 importance lin associate 48 demonstrated ability re vitro inhibit mers-cov infection vero e6 cell thus prolonging cell survival virtue anti-apoptotic mechanism finding suggest direct antiviral effect exerted re would interestingly evaluate direct effect re covid-19 vitro data discussed strongly suggest re activator ace2 investigated animal model cov-induced severe pneumonia also taking account antioxidant anti-inflammatory immunomodulating effect exerted polyphenols 49 successful animal study may pave way res-based human trial covid-infected patient note added proof reviewing process perspective related paper published hanff associate 50 discussed possible association covid-19-associated cardiovascular mortality dysregulation renin angiotensin system ra pharmacologic point view ra inhibition lead upregulation ace2 thus attenuating acute respiratory syndrome myocarditis covid-19-infected patient conversely increase ace2 expression may facilitate access host covid-19 thus aggravating clinical picture dilemma would solved clinical trial based ra blo\n",
      "\n",
      "yt9rj42s:\n",
      "air cleaning technology evidence-based analysis objective health technology policy assessment answer following question in-room air cleaner used effective in-room air cleaner in-room air cleaner use combined hepa uvgi air cleaning technology effective use hepa filtration alone plasmacluster ion air purifier pandemic influenza preparation plan experience severe acute respiratory syndrome sars locally nationally internationally underscored importance administrative environmental personal protective infection control measure health care facility aftermath sars crisis need clearer understanding ontario 's capacity manage suspected confirmed case airborne infectious disease walker commission thought attention paid potential use new technology in-room air cleaning unit recommended medical advisory secretariat ontario ministry health long-term care evaluate appropriate use effectiveness new technology accordingly ontario health technology advisory committee asked medical advisory secretariat review literature effectiveness utility in-room air cleaner use high-efficiency particle air hepa filter ultraviolet germicidal irradiation uvgi air cleaning technology additionally ontario health technology advisory committee prioritized request ministry 's emergency management unit investigate possible role plasmacluster ion air purifier manufactured sharp electronics corporation pandemic influenza preparation plan clinical need airborne transmission infectious disease depends part concentration breathable infectious pathogen germ room air infection control achieved combination administrative engineering personal protection method engineering method usually carried building 's heating ventilation air conditioning hvac system function prevent spread airborne infectious pathogen diluting dilution ventilation removing exhaust ventilation contaminated air room controlling direction airflow air flow pattern building however general wear tear time may compromise hvac system 's effectiveness maintain adequate indoor air quality likewise economic issue may curtail completion necessary renovation increase effectiveness therefore exposure airborne infectious pathogen risk use in-room air cleaner reduce concentration airborne pathogen prevent spread airborne infectious disease proposed alternative renovating hvac system airborne transmission spread infectious pathogen large distance air infectious pathogen may include fungi bacteria virus vary size dispersed air drop moisture coughing sneezing small drop moisture carrying infectious pathogen called droplet nucleus droplet nucleus 1 5μm diameter small size part allows remain suspended air several hour carried air current considerable distance large drop moisture carrying infectious pathogen called droplet droplet larger droplet nucleus travel shorter distance 1 metre rapidly falling air ground droplet nucleus remain airborne longer period droplet amenable engineering infection control method droplet droplet nucleus responsible airborne transmission infectious disease tuberculosis chicken pox varicella measles rubeola dessiminated herpes zoster whereas close contact required direct transmission infectious disease transmitted droplet influenza flu sars technology in-room air cleaner supplied portable fixed device fixed device attached either wall ceiling preferred portable unit greater degree reliability installed properly achieving adequate room air mixing airflow pattern important optimal effectiveness method air recirculation in-room air cleaner used increase room ventilation rate used exhaust air room create negative-pressure room airborne infection isolation aii building 's hvac system negative-pressure room one clean air flow room contaminated air flow contaminated room air pulled in-room air cleaner cleaned passing series filter remove airborne infectious pathogen cleaned air either recirculated room exhausted outside building filtering contaminated room air recirculating cleaned air room in-room air cleaner improve room 's ventilation exhausting filtered air outside unit create negative-pressure room many type in-room air cleaner vary widely airflow rate unit type air cleaning technology used technical design crucial maximizing efficiency in-room air cleaner strategic placement set-up within room done consultation ventilation engineer infection control expert and/or industrial hygienist poorly positioned air cleaner may disrupt airflow pattern within room air cleaner thereby compromising air cleaning efficiency effectiveness in-room air cleaner remove airborne pathogen room air depends several factor including airflow rate unit 's filter airflow pattern room tested variety condition in-room air cleaner including portable ceiling mounted unit either hepa non-hepa filter portable unit uvgi light ceiling mounted unit combined hepa filtration uvgi light estimated 30 90 99 12 80 effective respectively however although effectiveness variable united state center disease control prevention acknowledged in-room air cleaner alternative technology increasing room ventilation achieved building 's hvac system preference given fixed recirculating system portable one importantly use in-room air cleaner preclude either need health care worker visitor use personal protective equipment n95 mask equivalent entering aii room health care facility meeting current regulatory requirement airflow rate ventilation rate building airflow differential effective negative-pressure room plasmacluster ion technology developed 2000 air purification technology manufacturer sharp electronics corporation say disable airborne microorganism generation positive negative ion 1 functional unit hydroxyl molecule comprised one oxygen molecule one hydrogen atom plasmacluster ion air purifier us multilayer filter system composed prefilter carbon filter antibacterial filter hepa filter combined ion generator purify air ion generator us alternating plasma discharge split water molecule positively negatively charged ion ion emitted air surrounded water molecule form cluster ion attracted airborne particle cluster ion surround airborne particle positive negative ion react form hydroxyl hydroxyl steal airborne particle 's hydrogen atom creates hole particle 's outer protein membrane thereby rendering inactive influenza primarily acquired large droplet direct indirect contact infectious person in-room air cleaner little benefit controlling preventing spread therefore role plasmacluster ion air purifier in-room air cleaner control spread influenza accordingly purpose review medical advisory secretariat present analysis plasmacluster review strategy objective systematic review determine effectiveness in-room air cleaner built uvgi light hepa filtration compared using hepa filtration medical advisory secretariat searched database medline embase cochrane database systematic review inahata international network agency health technology assessment biosis preview bacteriology abstract web science dissertation abstract nioshtic 2. meta-analysis conducted adequate data available 2 study statistical clinical heterogeneity among study issue otherwise qualitative review completed grade system used summarize quality body evidence comprised 1 study summary finding existing health technology assessment air cleaning technology located literature review literature search yielded 59 citation none retained abstract truncated\n",
      "\n",
      "\n"
     ]
    }
   ],
   "source": [
    "sim_seq.print_pairs(all_seq_results, \"longest_docs\", tokenized_samples)"
   ],
   "metadata": {
    "collapsed": false,
    "pycharm": {
     "name": "#%%\n"
    }
   }
  },
  {
   "cell_type": "markdown",
   "source": [
    "### shortest 1000"
   ],
   "metadata": {
    "collapsed": false,
    "pycharm": {
     "name": "#%% md\n"
    }
   }
  },
  {
   "cell_type": "code",
   "execution_count": 24,
   "outputs": [
    {
     "name": "stdout",
     "output_type": "stream",
     "text": [
      "--Run info--\n",
      "sample_name: shortest_docs\n",
      "threshold: 0.5\n",
      "pairs_count: 3\n",
      "cosine_time: 0.0009410381317138672\n",
      "find_time: 0.0015442371368408203\n",
      "--Similarity pairs--\n",
      "8gadvw16 and y7f7ktrm have 0.5141 similarity\n",
      "4slsrd3n and qcjrdjf3 have 0.5131 similarity\n",
      "0tchw1x2 and qcjrdjf3 have 0.5224 similarity\n",
      "\n",
      "--Run info--\n",
      "sample_name: shortest_docs\n",
      "threshold: 0.6\n",
      "pairs_count: 0\n",
      "cosine_time: 0.0012841224670410156\n",
      "find_time: 0.0007967948913574219\n",
      "--Similarity pairs--\n",
      "\n",
      "--Run info--\n",
      "sample_name: shortest_docs\n",
      "threshold: 0.7\n",
      "pairs_count: 0\n",
      "cosine_time: 0.0005869865417480469\n",
      "find_time: 0.0007932186126708984\n",
      "--Similarity pairs--\n",
      "\n",
      "--Run info--\n",
      "sample_name: shortest_docs\n",
      "threshold: 0.8\n",
      "pairs_count: 0\n",
      "cosine_time: 0.0005128383636474609\n",
      "find_time: 0.0007917881011962891\n",
      "--Similarity pairs--\n",
      "\n",
      "--Run info--\n",
      "sample_name: shortest_docs\n",
      "threshold: 0.9\n",
      "pairs_count: 0\n",
      "cosine_time: 0.0004818439483642578\n",
      "find_time: 0.0007929801940917969\n",
      "--Similarity pairs--\n",
      "\n"
     ]
    }
   ],
   "source": [
    "sim_seq.print_results(all_seq_results, \"shortest_docs\")"
   ],
   "metadata": {
    "collapsed": false,
    "pycharm": {
     "name": "#%%\n"
    }
   }
  },
  {
   "cell_type": "code",
   "execution_count": 25,
   "outputs": [
    {
     "name": "stdout",
     "output_type": "stream",
     "text": [
      "8gadvw16 and y7f7ktrm have 0.5141 similarity\n",
      "\n",
      "8gadvw16:\n",
      "double trouble methanol outbreak wake covid-19 pandemic iran—a cross-sectional assessment\n",
      "\n",
      "y7f7ktrm:\n",
      "la obesidad el coronavirus 2019-ncov una relación de riesgo\n",
      "\n",
      "There are 0 pairs\n",
      "There are 0 pairs\n",
      "There are 0 pairs\n",
      "There are 0 pairs\n",
      "\n"
     ]
    }
   ],
   "source": [
    "sim_seq.print_pairs(all_seq_results, \"shortest_docs\", tokenized_samples)"
   ],
   "metadata": {
    "collapsed": false,
    "pycharm": {
     "name": "#%%\n"
    }
   }
  },
  {
   "cell_type": "markdown",
   "source": [
    "### random 1000"
   ],
   "metadata": {
    "collapsed": false,
    "pycharm": {
     "name": "#%% md\n"
    }
   }
  },
  {
   "cell_type": "code",
   "execution_count": 26,
   "outputs": [
    {
     "name": "stdout",
     "output_type": "stream",
     "text": [
      "--Run info--\n",
      "sample_name: random_docs\n",
      "threshold: 0.5\n",
      "pairs_count: 0\n",
      "cosine_time: 0.0008769035339355469\n",
      "find_time: 0.0010578632354736328\n",
      "--Similarity pairs--\n",
      "\n",
      "--Run info--\n",
      "sample_name: random_docs\n",
      "threshold: 0.6\n",
      "pairs_count: 0\n",
      "cosine_time: 0.0010838508605957031\n",
      "find_time: 0.0013451576232910156\n",
      "--Similarity pairs--\n",
      "\n",
      "--Run info--\n",
      "sample_name: random_docs\n",
      "threshold: 0.7\n",
      "pairs_count: 0\n",
      "cosine_time: 0.0015711784362792969\n",
      "find_time: 0.0014379024505615234\n",
      "--Similarity pairs--\n",
      "\n",
      "--Run info--\n",
      "sample_name: random_docs\n",
      "threshold: 0.8\n",
      "pairs_count: 0\n",
      "cosine_time: 0.0016367435455322266\n",
      "find_time: 0.0014851093292236328\n",
      "--Similarity pairs--\n",
      "\n",
      "--Run info--\n",
      "sample_name: random_docs\n",
      "threshold: 0.9\n",
      "pairs_count: 0\n",
      "cosine_time: 0.0013909339904785156\n",
      "find_time: 0.0018270015716552734\n",
      "--Similarity pairs--\n",
      "\n"
     ]
    }
   ],
   "source": [
    "sim_seq.print_results(all_seq_results, \"random_docs\")"
   ],
   "metadata": {
    "collapsed": false,
    "pycharm": {
     "name": "#%%\n"
    }
   }
  },
  {
   "cell_type": "code",
   "execution_count": 27,
   "outputs": [
    {
     "name": "stdout",
     "output_type": "stream",
     "text": [
      "There are 0 pairs\n",
      "There are 0 pairs\n",
      "There are 0 pairs\n",
      "There are 0 pairs\n",
      "There are 0 pairs\n",
      "\n"
     ]
    }
   ],
   "source": [
    "sim_seq.print_pairs(all_seq_results, \"random_docs\", tokenized_samples)"
   ],
   "metadata": {
    "collapsed": false,
    "pycharm": {
     "name": "#%%\n"
    }
   }
  },
  {
   "cell_type": "markdown",
   "source": [],
   "metadata": {
    "collapsed": false,
    "pycharm": {
     "name": "#%% md\n"
    }
   }
  },
  {
   "cell_type": "markdown",
   "source": [
    "## Parallel APDS"
   ],
   "metadata": {
    "collapsed": false,
    "pycharm": {
     "name": "#%% md\n"
    }
   }
  },
  {
   "cell_type": "markdown",
   "source": [
    "# MIRACLE PARALLEL?"
   ],
   "metadata": {
    "collapsed": false,
    "pycharm": {
     "name": "#%% md\n"
    }
   }
  },
  {
   "cell_type": "code",
   "execution_count": 12,
   "outputs": [],
   "source": [
    "from typing import Dict, List, Tuple\n",
    "import csv"
   ],
   "metadata": {
    "collapsed": false,
    "pycharm": {
     "name": "#%%\n"
    }
   }
  },
  {
   "cell_type": "code",
   "execution_count": 13,
   "outputs": [],
   "source": [
    "def create_doc_sim_csv(pairs_list: List[Tuple[str, str, float]], ds_name: str,\n",
    "                       threshold: float, type: str | None, workers: None | int = None ) -> None:\n",
    "    '''\n",
    "    PURPOSE: create the .csv file sotring the list of similar documents pairs with the cosine similarity\n",
    "    ARGUMENTS:\n",
    "        - pairs_list (List[Tuple[str, str, float]]): list of unique similar pair with the similarity\n",
    "        - ds_name: (str): dataset name\n",
    "        - threshold (float): used threshold\n",
    "        - type (str | None): type of sequential version\n",
    "        - workers (None | int): number of workers used\n",
    "    RETURN: None\n",
    "    '''\n",
    "\n",
    "    path = ''\n",
    "    if type is not None:\n",
    "        if not os.path.exists(f'./results/{ds_name}/{threshold}'): os.makedirs(f'./results/{ds_name}/{threshold}')\n",
    "        path = f'./results/{ds_name}/{threshold}/{type}_sequential.csv'\n",
    "    else:\n",
    "        if not os.path.exists(f'./results/{ds_name}/{threshold}/pyspark/'): os.makedirs(f'./results/{ds_name}/{threshold}/pyspark/')\n",
    "        path = f'./results/{ds_name}/{threshold}/pyspark/{workers}_workers.csv'\n",
    "    if not os.path.exists(path): # If there is already a file, return\n",
    "        with open(path, 'w', newline='') as csvfile:\n",
    "            writer = csv.writer(csvfile)\n",
    "            writer.writerows(pairs_list)"
   ],
   "metadata": {
    "collapsed": false,
    "pycharm": {
     "name": "#%%\n"
    }
   }
  },
  {
   "cell_type": "code",
   "execution_count": 14,
   "outputs": [],
   "source": [
    "import itertools\n",
    "from src.utilities.similarity_parallel_spark import pyspark_APDS\n",
    "import pandas as pd\n",
    "from typing import Tuple, Type, List, Dict, Any"
   ],
   "metadata": {
    "collapsed": false,
    "pycharm": {
     "name": "#%%\n"
    }
   }
  },
  {
   "cell_type": "code",
   "execution_count": null,
   "outputs": [],
   "source": [
    "# datasets = ['nfcorpus'] # Choosen datasets\n",
    "# thresholds: List[float] = [0.5, 0.6, 0.7, 0.8, 0.9] # Choosen thresholds\n",
    "# numslices_factor = [1, 2, 5, 10, 15] # Choosen numslices factors N_PARTITIONS\n",
    "# max_workers = [1, 2, 5, 10, 15] # n_executors\n",
    "# considered_docs = 750\n",
    "\n",
    "# # Download datasets\n",
    "# datasets_data = {dataset: download_dataset(dataset) for dataset in datasets}\n",
    "#\n",
    "# # Pre-process and sample with the original datasets\n",
    "# pre_processed_data = {dataset: sample_dict(documents_preprocessing(dataset, docs_dict), considered_docs)\n",
    "#                       for dataset, docs_dict in datasets_data.items()}"
   ],
   "metadata": {
    "collapsed": false,
    "pycharm": {
     "name": "#%%\n"
    }
   }
  },
  {
   "cell_type": "code",
   "execution_count": null,
   "outputs": [],
   "source": [
    "# for collection_name, collection_docs, _ in samples:\n",
    "pyspark_results = []\n",
    "\n",
    "thresholds: List[float] = [0.001] # Choosen thresholds\n",
    "numslices_factor = [5] # Choosen numslices factors N_PARTITIONS\n",
    "max_workers = 5# n_executors\n",
    "\n",
    "for ds_name, sampled_dict, _ in samples:\n",
    "# for ds_name, sampled_dict in pre_processed_data.items():\n",
    "\n",
    "    print(f'\\n------------ALL PAIRS DOCUMENTS SIMILARITY - {ds_name}------------')\n",
    "\n",
    "    for threshold in thresholds:\n",
    "        print(f'\\n--------Running with threshold: {threshold}--------')\n",
    "\n",
    "        for s_factor, workers in itertools.product(numslices_factor, range(1, max_workers + 1)):\n",
    "            # PySpark Execution\n",
    "\n",
    "            print(f'\\nPySpark Parallel Execution with {workers} workers and slice factor of {s_factor}')\n",
    "            sim_doc_ps, ps_res = pyspark_APDS(ds_name=ds_name, sampled_dict=sampled_dict, threshold=threshold, workers=workers, s_factor=s_factor)\n",
    "            pyspark_results.append(ps_res)\n",
    "            create_doc_sim_csv(sim_doc_ps, ds_name, threshold, None, workers)\n",
    "            print(' Done')\n",
    "\n",
    "        print('\\n')\n"
   ],
   "metadata": {
    "collapsed": false,
    "pycharm": {
     "name": "#%%\n"
    }
   }
  },
  {
   "cell_type": "code",
   "execution_count": 20,
   "outputs": [
    {
     "name": "stdout",
     "output_type": "stream",
     "text": [
      "\n",
      "Saving pyspark_results\n",
      "Done\n"
     ]
    }
   ],
   "source": [
    "\n",
    "print('\\nSaving pyspark_results')\n",
    "dio = pd.DataFrame.from_dict(\n",
    "    dict(zip(range(len(pyspark_results)), pyspark_results)),\n",
    "    orient='index',\n",
    "    columns=[\n",
    "        'ds_name',\n",
    "        'elapsed',\n",
    "        'threshold',\n",
    "        'unique_pairs_sim_docs',\n",
    "        'workers',\n",
    "        'slice_factor'\n",
    "    ],\n",
    ")\n",
    "dio.to_csv('./results/pyspark_results.csv', index=False)\n",
    "print( 'Done')"
   ],
   "metadata": {
    "collapsed": false,
    "pycharm": {
     "name": "#%%\n"
    }
   }
  },
  {
   "cell_type": "code",
   "execution_count": 21,
   "outputs": [
    {
     "data": {
      "text/plain": "          ds_name   elapsed  threshold  uniqie_pairs_sim_docs  workers   \n0    longest_docs  7.082828      0.001                      0        1  \\\n1    longest_docs  3.872800      0.001                      0        2   \n2    longest_docs  4.391929      0.001                      0        3   \n3    longest_docs  4.689024      0.001                      0        4   \n4    longest_docs  5.829722      0.001                      0        5   \n5   shortest_docs  2.616789      0.001                      0        1   \n6   shortest_docs  3.228978      0.001                      0        2   \n7   shortest_docs  3.729301      0.001                      0        3   \n8   shortest_docs  4.766977      0.001                      0        4   \n9   shortest_docs  7.235433      0.001                      0        5   \n10    random_docs  2.539394      0.001                      0        1   \n11    random_docs  2.735858      0.001                      0        2   \n12    random_docs  4.076804      0.001                      0        3   \n13    random_docs  4.270470      0.001                      0        4   \n14    random_docs  5.215709      0.001                      0        5   \n\n    slice_factor  \n0              5  \n1              5  \n2              5  \n3              5  \n4              5  \n5              5  \n6              5  \n7              5  \n8              5  \n9              5  \n10             5  \n11             5  \n12             5  \n13             5  \n14             5  ",
      "text/html": "<div>\n<style scoped>\n    .dataframe tbody tr th:only-of-type {\n        vertical-align: middle;\n    }\n\n    .dataframe tbody tr th {\n        vertical-align: top;\n    }\n\n    .dataframe thead th {\n        text-align: right;\n    }\n</style>\n<table border=\"1\" class=\"dataframe\">\n  <thead>\n    <tr style=\"text-align: right;\">\n      <th></th>\n      <th>ds_name</th>\n      <th>elapsed</th>\n      <th>threshold</th>\n      <th>uniqie_pairs_sim_docs</th>\n      <th>workers</th>\n      <th>slice_factor</th>\n    </tr>\n  </thead>\n  <tbody>\n    <tr>\n      <th>0</th>\n      <td>longest_docs</td>\n      <td>7.082828</td>\n      <td>0.001</td>\n      <td>0</td>\n      <td>1</td>\n      <td>5</td>\n    </tr>\n    <tr>\n      <th>1</th>\n      <td>longest_docs</td>\n      <td>3.872800</td>\n      <td>0.001</td>\n      <td>0</td>\n      <td>2</td>\n      <td>5</td>\n    </tr>\n    <tr>\n      <th>2</th>\n      <td>longest_docs</td>\n      <td>4.391929</td>\n      <td>0.001</td>\n      <td>0</td>\n      <td>3</td>\n      <td>5</td>\n    </tr>\n    <tr>\n      <th>3</th>\n      <td>longest_docs</td>\n      <td>4.689024</td>\n      <td>0.001</td>\n      <td>0</td>\n      <td>4</td>\n      <td>5</td>\n    </tr>\n    <tr>\n      <th>4</th>\n      <td>longest_docs</td>\n      <td>5.829722</td>\n      <td>0.001</td>\n      <td>0</td>\n      <td>5</td>\n      <td>5</td>\n    </tr>\n    <tr>\n      <th>5</th>\n      <td>shortest_docs</td>\n      <td>2.616789</td>\n      <td>0.001</td>\n      <td>0</td>\n      <td>1</td>\n      <td>5</td>\n    </tr>\n    <tr>\n      <th>6</th>\n      <td>shortest_docs</td>\n      <td>3.228978</td>\n      <td>0.001</td>\n      <td>0</td>\n      <td>2</td>\n      <td>5</td>\n    </tr>\n    <tr>\n      <th>7</th>\n      <td>shortest_docs</td>\n      <td>3.729301</td>\n      <td>0.001</td>\n      <td>0</td>\n      <td>3</td>\n      <td>5</td>\n    </tr>\n    <tr>\n      <th>8</th>\n      <td>shortest_docs</td>\n      <td>4.766977</td>\n      <td>0.001</td>\n      <td>0</td>\n      <td>4</td>\n      <td>5</td>\n    </tr>\n    <tr>\n      <th>9</th>\n      <td>shortest_docs</td>\n      <td>7.235433</td>\n      <td>0.001</td>\n      <td>0</td>\n      <td>5</td>\n      <td>5</td>\n    </tr>\n    <tr>\n      <th>10</th>\n      <td>random_docs</td>\n      <td>2.539394</td>\n      <td>0.001</td>\n      <td>0</td>\n      <td>1</td>\n      <td>5</td>\n    </tr>\n    <tr>\n      <th>11</th>\n      <td>random_docs</td>\n      <td>2.735858</td>\n      <td>0.001</td>\n      <td>0</td>\n      <td>2</td>\n      <td>5</td>\n    </tr>\n    <tr>\n      <th>12</th>\n      <td>random_docs</td>\n      <td>4.076804</td>\n      <td>0.001</td>\n      <td>0</td>\n      <td>3</td>\n      <td>5</td>\n    </tr>\n    <tr>\n      <th>13</th>\n      <td>random_docs</td>\n      <td>4.270470</td>\n      <td>0.001</td>\n      <td>0</td>\n      <td>4</td>\n      <td>5</td>\n    </tr>\n    <tr>\n      <th>14</th>\n      <td>random_docs</td>\n      <td>5.215709</td>\n      <td>0.001</td>\n      <td>0</td>\n      <td>5</td>\n      <td>5</td>\n    </tr>\n  </tbody>\n</table>\n</div>"
     },
     "execution_count": 21,
     "metadata": {},
     "output_type": "execute_result"
    }
   ],
   "source": [
    "dio"
   ],
   "metadata": {
    "collapsed": false,
    "pycharm": {
     "name": "#%%\n"
    }
   }
  },
  {
   "cell_type": "code",
   "execution_count": 17,
   "outputs": [
    {
     "data": {
      "text/plain": "[['longest_docs', 7.082828044891357, 0.001, 0, 1, 5],\n ['longest_docs', 3.87280011177063, 0.001, 0, 2, 5],\n ['longest_docs', 4.3919291496276855, 0.001, 0, 3, 5],\n ['longest_docs', 4.689023971557617, 0.001, 0, 4, 5],\n ['longest_docs', 5.829722166061401, 0.001, 0, 5, 5],\n ['shortest_docs', 2.6167891025543213, 0.001, 0, 1, 5],\n ['shortest_docs', 3.228977918624878, 0.001, 0, 2, 5],\n ['shortest_docs', 3.7293009757995605, 0.001, 0, 3, 5],\n ['shortest_docs', 4.766976594924927, 0.001, 0, 4, 5],\n ['shortest_docs', 7.235433101654053, 0.001, 0, 5, 5],\n ['random_docs', 2.5393941402435303, 0.001, 0, 1, 5],\n ['random_docs', 2.735858201980591, 0.001, 0, 2, 5],\n ['random_docs', 4.076803922653198, 0.001, 0, 3, 5],\n ['random_docs', 4.270469903945923, 0.001, 0, 4, 5],\n ['random_docs', 5.21570897102356, 0.001, 0, 5, 5]]"
     },
     "execution_count": 17,
     "metadata": {},
     "output_type": "execute_result"
    }
   ],
   "source": [
    "pyspark_results"
   ],
   "metadata": {
    "collapsed": false,
    "pycharm": {
     "name": "#%%\n"
    }
   }
  },
  {
   "cell_type": "markdown",
   "source": [],
   "metadata": {
    "collapsed": false,
    "pycharm": {
     "name": "#%% md\n"
    }
   }
  },
  {
   "cell_type": "markdown",
   "source": [],
   "metadata": {
    "collapsed": false,
    "pycharm": {
     "name": "#%% md\n"
    }
   }
  }
 ],
 "metadata": {
  "kernelspec": {
   "name": "sbruch-assignment-lwmd",
   "language": "python",
   "display_name": "lwmd_asgmt_sbruch"
  },
  "language_info": {
   "codemirror_mode": {
    "name": "ipython",
    "version": 2
   },
   "file_extension": ".py",
   "mimetype": "text/x-python",
   "name": "python",
   "nbconvert_exporter": "python",
   "pygments_lexer": "ipython2",
   "version": "2.7.6"
  }
 },
 "nbformat": 4,
 "nbformat_minor": 0
}