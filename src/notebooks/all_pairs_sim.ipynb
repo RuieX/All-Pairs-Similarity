{
 "cells": [
  {
   "cell_type": "markdown",
   "source": [
    "# Assignment 3: All Pairs Similarity"
   ],
   "metadata": {
    "collapsed": false,
    "pycharm": {
     "name": "#%% md\n"
    }
   }
  },
  {
   "cell_type": "markdown",
   "source": [
    "## Setup & Dataset Retrieval"
   ],
   "metadata": {
    "collapsed": false,
    "pycharm": {
     "name": "#%% md\n"
    }
   }
  },
  {
   "cell_type": "code",
   "execution_count": 1,
   "outputs": [
    {
     "name": "stderr",
     "output_type": "stream",
     "text": [
      "/Users/a/miniforge3/envs/sbruch-assignment-Lwmd/lib/python3.10/site-packages/beir/util.py:2: TqdmExperimentalWarning: Using `tqdm.autonotebook.tqdm` in notebook mode. Use `tqdm.tqdm` instead to force console mode (e.g. in jupyter console)\n",
      "  from tqdm.autonotebook import tqdm\n",
      "[nltk_data] Downloading package punkt to /Users/a/nltk_data...\n",
      "[nltk_data]   Package punkt is already up-to-date!\n",
      "[nltk_data] Downloading package wordnet to /Users/a/nltk_data...\n",
      "[nltk_data]   Package wordnet is already up-to-date!\n",
      "[nltk_data] Downloading package stopwords to /Users/a/nltk_data...\n",
      "[nltk_data]   Package stopwords is already up-to-date!\n"
     ]
    }
   ],
   "source": [
    "import os.path\n",
    "import pickle\n",
    "import random\n",
    "\n",
    "from tqdm import tqdm\n",
    "\n",
    "import src.utilities.io as io\n",
    "import src.utilities.preprocess as pp\n",
    "import src.utilities.similarity_sequential as sim_seq"
   ],
   "metadata": {
    "collapsed": false,
    "pycharm": {
     "name": "#%%\n"
    }
   }
  },
  {
   "cell_type": "code",
   "execution_count": 2,
   "outputs": [
    {
     "name": "stdout",
     "output_type": "stream",
     "text": [
      "2023-05-27 02:24:49 - Loading Corpus...\n"
     ]
    },
    {
     "data": {
      "text/plain": "  0%|          | 0/171332 [00:00<?, ?it/s]",
      "application/vnd.jupyter.widget-view+json": {
       "version_major": 2,
       "version_minor": 0,
       "model_id": "8c0468e8dce346d7891f250d4c9112cb"
      }
     },
     "metadata": {},
     "output_type": "display_data"
    },
    {
     "name": "stdout",
     "output_type": "stream",
     "text": [
      "2023-05-27 02:24:52 - Loaded 171332 TEST Documents.\n",
      "2023-05-27 02:24:52 - Doc Example: {'text': 'OBJECTIVE: This retrospective chart review describes the epidemiology and clinical features of 40 patients with culture-proven Mycoplasma pneumoniae infections at King Abdulaziz University Hospital, Jeddah, Saudi Arabia. METHODS: Patients with positive M. pneumoniae cultures from respiratory specimens from January 1997 through December 1998 were identified through the Microbiology records. Charts of patients were reviewed. RESULTS: 40 patients were identified, 33 (82.5%) of whom required admission. Most infections (92.5%) were community-acquired. The infection affected all age groups but was most common in infants (32.5%) and pre-school children (22.5%). It occurred year-round but was most common in the fall (35%) and spring (30%). More than three-quarters of patients (77.5%) had comorbidities. Twenty-four isolates (60%) were associated with pneumonia, 14 (35%) with upper respiratory tract infections, and 2 (5%) with bronchiolitis. Cough (82.5%), fever (75%), and malaise (58.8%) were the most common symptoms, and crepitations (60%), and wheezes (40%) were the most common signs. Most patients with pneumonia had crepitations (79.2%) but only 25% had bronchial breathing. Immunocompromised patients were more likely than non-immunocompromised patients to present with pneumonia (8/9 versus 16/31, P = 0.05). Of the 24 patients with pneumonia, 14 (58.3%) had uneventful recovery, 4 (16.7%) recovered following some complications, 3 (12.5%) died because of M pneumoniae infection, and 3 (12.5%) died due to underlying comorbidities. The 3 patients who died of M pneumoniae pneumonia had other comorbidities. CONCLUSION: our results were similar to published data except for the finding that infections were more common in infants and preschool children and that the mortality rate of pneumonia in patients with comorbidities was high.', 'title': 'Clinical features of culture-proven Mycoplasma pneumoniae infections at King Abdulaziz University Hospital, Jeddah, Saudi Arabia'}\n",
      "2023-05-27 02:24:52 - Loading Queries...\n",
      "2023-05-27 02:24:52 - Loaded 50 TEST Queries.\n",
      "2023-05-27 02:24:52 - Query Example: what is the origin of COVID-19\n"
     ]
    }
   ],
   "source": [
    "documents, data_path = io.get_data() #trec-covid as default"
   ],
   "metadata": {
    "collapsed": false,
    "pycharm": {
     "name": "#%%\n"
    }
   }
  },
  {
   "cell_type": "markdown",
   "source": [
    "filter out the documents with less than 10 words."
   ],
   "metadata": {
    "collapsed": false,
    "pycharm": {
     "name": "#%% md\n"
    }
   }
  },
  {
   "cell_type": "code",
   "execution_count": 3,
   "outputs": [],
   "source": [
    "documents = {doc_id: doc for doc_id, doc in documents.items() if len(doc['text'].split()) >= 10 and doc['text'].strip() != ''}"
   ],
   "metadata": {
    "collapsed": false,
    "pycharm": {
     "name": "#%%\n"
    }
   }
  },
  {
   "cell_type": "code",
   "execution_count": 4,
   "outputs": [
    {
     "name": "stdout",
     "output_type": "stream",
     "text": [
      "Document ug7v899j: 262 words\n",
      "Document 02tnwd4m: 142 words\n",
      "Document ejv2xln0: 219 words\n",
      "Document 2b73a28n: 68 words\n",
      "Document 9785vg6d: 110 words\n",
      "Document zjufx4fo: 174 words\n",
      "Document 5yhe786e: 113 words\n",
      "Document 8zchiykl: 83 words\n",
      "Document 8qnrcgnk: 188 words\n",
      "Document jg13scgo: 189 words\n"
     ]
    }
   ],
   "source": [
    "for doc_id, doc in list(documents.items())[:10]:\n",
    "    num_words = len(doc[\"text\"].split())\n",
    "    print(f\"Document {doc_id}: {num_words} words\")"
   ],
   "metadata": {
    "collapsed": false,
    "pycharm": {
     "name": "#%%\n"
    }
   }
  },
  {
   "cell_type": "markdown",
   "source": [
    "### Sort the documents by their length (Longest to Shortest)"
   ],
   "metadata": {
    "collapsed": false,
    "pycharm": {
     "name": "#%% md\n"
    }
   }
  },
  {
   "cell_type": "code",
   "execution_count": 5,
   "outputs": [],
   "source": [
    "sort_docs = sorted(documents.items(), key=lambda x: len(x[1]['text']), reverse=True)\n",
    "sorted_docs: pp.Documents = {}\n",
    "for doc_id, doc in sort_docs:\n",
    "    sorted_docs[doc_id] = doc"
   ],
   "metadata": {
    "collapsed": false,
    "pycharm": {
     "name": "#%%\n"
    }
   }
  },
  {
   "cell_type": "code",
   "execution_count": 6,
   "outputs": [
    {
     "data": {
      "text/plain": "128592"
     },
     "execution_count": 6,
     "metadata": {},
     "output_type": "execute_result"
    }
   ],
   "source": [
    "len(sorted_docs)"
   ],
   "metadata": {
    "collapsed": false,
    "pycharm": {
     "name": "#%%\n"
    }
   }
  },
  {
   "cell_type": "code",
   "execution_count": 7,
   "outputs": [
    {
     "name": "stdout",
     "output_type": "stream",
     "text": [
      "Document ij3ncdb6: 18000 words\n",
      "Document c4pt07zk: 15448 words\n",
      "Document 1vimqhdp: 12745 words\n",
      "Document pd1g119c: 4642 words\n",
      "Document gvh0wdxn: 3507 words\n",
      "Document jkrj0lbm: 3783 words\n",
      "Document jkvr9lq2: 3679 words\n",
      "Document y00pz4fd: 1705 words\n",
      "Document lqdgvsaq: 1627 words\n",
      "Document vslevssr: 1504 words\n",
      "Document o1vxgzpj: 1437 words\n",
      "Document bt59txxp: 1474 words\n",
      "Document yt9rj42s: 1460 words\n",
      "Document qapwb5e4: 1529 words\n",
      "Document rff3ikak: 1490 words\n",
      "Document 0prx11md: 1310 words\n",
      "Document 84hh0mg9: 1312 words\n",
      "Document uumzl37q: 1053 words\n",
      "Document vr7vm64u: 1097 words\n",
      "Document v45cb2xq: 1136 words\n",
      "Document yn7pu9i8: 1204 words\n",
      "Document t473tbm9: 1271 words\n",
      "Document nq0qe8qf: 1151 words\n",
      "Document 16b8drw2: 1163 words\n",
      "Document 4cbjbo7t: 1236 words\n",
      "Document tvs1snq8: 1139 words\n",
      "Document 2wb007gf: 1102 words\n",
      "Document st1epx6u: 1114 words\n",
      "Document syl7wq15: 1114 words\n",
      "Document dt3li3bk: 1054 words\n",
      "Document ec798c6s: 1057 words\n",
      "Document xvnxkcxq: 1032 words\n",
      "Document rxvxf34z: 1039 words\n",
      "Document 735dkles: 1097 words\n",
      "Document oq2jgo6z: 1097 words\n",
      "Document 23ovz927: 984 words\n",
      "Document mtjughzl: 1118 words\n",
      "Document 1uwyrst6: 1020 words\n",
      "Document 6ngxo8ff: 1022 words\n",
      "Document yysf3sxe: 999 words\n",
      "Document tpic8ddl: 999 words\n",
      "Document l7hdrmbf: 986 words\n",
      "Document n9x8k008: 1003 words\n",
      "Document 40hube0m: 991 words\n",
      "Document xclgf1kk: 994 words\n",
      "Document zu7i1et3: 966 words\n",
      "Document c8l1p66u: 988 words\n",
      "Document 6xdo6op6: 957 words\n",
      "Document p2jp5fiq: 986 words\n",
      "Document zev4fpe5: 980 words\n"
     ]
    }
   ],
   "source": [
    "for doc_id, doc in list(sorted_docs.items())[:50]:\n",
    "    num_words = len(doc[\"text\"].split())\n",
    "    print(f\"Document {doc_id}: {num_words} words\")"
   ],
   "metadata": {
    "collapsed": false,
    "pycharm": {
     "name": "#%%\n"
    }
   }
  },
  {
   "cell_type": "code",
   "execution_count": 8,
   "outputs": [
    {
     "name": "stdout",
     "output_type": "stream",
     "text": [
      "Document denmp8yh: 10 words\n",
      "Document 1k5h0tqi: 10 words\n",
      "Document 46suh53t: 10 words\n",
      "Document rmlklqwo: 15 words\n",
      "Document vetdsk48: 10 words\n",
      "Document h29uwe1d: 11 words\n",
      "Document e4t19dza: 14 words\n",
      "Document kg4oljan: 10 words\n",
      "Document pfxyz3q3: 10 words\n",
      "Document dvlwbho2: 11 words\n",
      "Document fj9le8dx: 10 words\n",
      "Document bg1amnoh: 11 words\n",
      "Document 60p2a1i2: 10 words\n",
      "Document suqvyeac: 13 words\n",
      "Document h6r6qdna: 11 words\n",
      "Document 6xqmlgr2: 10 words\n",
      "Document igw288oj: 15 words\n",
      "Document wt8ucsjr: 10 words\n",
      "Document cjw88eoq: 11 words\n",
      "Document n2v9kpm2: 12 words\n",
      "Document srrdh09m: 12 words\n",
      "Document l9n7mklv: 11 words\n",
      "Document ob9i9t04: 11 words\n",
      "Document 8j184di4: 11 words\n",
      "Document yfs4kbus: 10 words\n",
      "Document 5rmvdtrb: 12 words\n",
      "Document kxbjtyjv: 11 words\n",
      "Document pcl5bn54: 12 words\n",
      "Document 08grs6m7: 10 words\n",
      "Document sqos28f3: 12 words\n",
      "Document isn31iqt: 12 words\n",
      "Document 944w4qgq: 11 words\n",
      "Document 1r60beaa: 10 words\n",
      "Document 3nxp0j41: 10 words\n",
      "Document i9aieai9: 11 words\n",
      "Document i6b2bg6a: 11 words\n",
      "Document evfzgv8t: 10 words\n",
      "Document awaahpfm: 11 words\n",
      "Document pj3u4b1u: 11 words\n",
      "Document 7a3cnuab: 12 words\n",
      "Document wkrl4hrz: 10 words\n",
      "Document 9806ds7x: 11 words\n",
      "Document o31bbwt2: 10 words\n",
      "Document cdctlduc: 10 words\n",
      "Document rvi5ec9v: 11 words\n",
      "Document qbct63p4: 10 words\n",
      "Document hyo1k7ig: 10 words\n",
      "Document 4yuoufed: 10 words\n",
      "Document fvcqw4q6: 10 words\n",
      "Document dr9a3ug0: 10 words\n"
     ]
    }
   ],
   "source": [
    "for doc_id, doc in list(sorted_docs.items())[-50:]:\n",
    "    num_words = len(doc[\"text\"].split())\n",
    "    print(f\"Document {doc_id}: {num_words} words\")"
   ],
   "metadata": {
    "collapsed": false,
    "pycharm": {
     "name": "#%%\n"
    }
   }
  },
  {
   "cell_type": "markdown",
   "source": [
    "This dictionary is used to map the index of a document to the corresponding text_id in the original dataset.\n",
    "This index-to-ID mappings is useful for keeping track of the original text_id of the documents."
   ],
   "metadata": {
    "collapsed": false,
    "pycharm": {
     "name": "#%% md\n"
    }
   }
  },
  {
   "cell_type": "code",
   "execution_count": 9,
   "outputs": [],
   "source": [
    "doc_idx_to_id = {i: doc_id for i, doc_id in enumerate(sorted_docs.keys())}"
   ],
   "metadata": {
    "collapsed": false,
    "pycharm": {
     "name": "#%%\n"
    }
   }
  },
  {
   "cell_type": "markdown",
   "source": [
    "## Due to the size, we will use different dataset samples\n",
    "(1000 longest docs, 1000 shortest docs, 1000 random docs)"
   ],
   "metadata": {
    "collapsed": false,
    "pycharm": {
     "name": "#%% md\n"
    }
   }
  },
  {
   "cell_type": "markdown",
   "source": [
    "### Define the paths to save and read the samples and their mappings"
   ],
   "metadata": {
    "collapsed": false,
    "pycharm": {
     "name": "#%% md\n"
    }
   }
  },
  {
   "cell_type": "code",
   "execution_count": 11,
   "outputs": [],
   "source": [
    "sample_size = 100\n",
    "samples_dir = os.path.join(data_path, \"samples_\" + str(sample_size))\n",
    "if not os.path.exists(samples_dir):\n",
    "    os.mkdir(samples_dir)\n",
    "\n",
    "# longest_docs_path = os.path.join(samples_dir, \"longest_docs.jsonl\")\n",
    "# shortest_docs_path = os.path.join(samples_dir, \"shortest_docs.jsonl\")\n",
    "# random_docs_path = os.path.join(samples_dir, \"random_docs.jsonl\")\n",
    "random_docs_idx_path = os.path.join(samples_dir, \"random_docs_idx.pkl\")"
   ],
   "metadata": {
    "collapsed": false,
    "pycharm": {
     "name": "#%%\n"
    }
   }
  },
  {
   "cell_type": "code",
   "execution_count": 12,
   "outputs": [],
   "source": [
    "if not os.path.exists(random_docs_idx_path):\n",
    "# if not all([os.path.exists(p) for p in [longest_docs_path, shortest_docs_path, random_docs_path, random_docs_idx_path]]):\n",
    "    # longest_docs = pp.Documents = {}\n",
    "    # for doc_id, doc in list(sorted_docs.items())[:sample_size]:\n",
    "    #     longest_docs[doc_id] = doc\n",
    "    # longest_doc_idx_to_id = {i:doc_idx_to_id[idx] for i, idx in enumerate(range(sample_size))}\n",
    "    #\n",
    "    # shortest_docs = pp.Documents = {}\n",
    "    # for doc_id, doc in list(sorted_docs.items())[-sample_size:]:\n",
    "    #     shortest_docs[doc_id] = doc\n",
    "    # shortest_doc_idx_to_id = {i:doc_idx_to_id[idx] for i, idx in enumerate(range(len(sorted_docs)-sample_size, len(sorted_docs)))}\n",
    "    #\n",
    "    # random_docs = pp.Documents = {}\n",
    "    # s_docs = list(sorted_docs.items())\n",
    "    random_docs_idx = random.sample(range(len(sorted_docs)), k=sample_size)\n",
    "    # for index in random_docs_idx:\n",
    "    #     doc_id, doc = s_docs[index]\n",
    "    #     random_docs[doc_id] = doc\n",
    "    # random_doc_idx_to_id = {i:doc_idx_to_id[idx] for i, idx in enumerate(random_docs_idx)}\n",
    "\n",
    "    # io.save_sample_data(longest_docs_path, longest_docs)\n",
    "    # io.save_sample_data(shortest_docs_path, shortest_docs)\n",
    "    # io.save_sample_data(random_docs_path, random_docs)\n",
    "\n",
    "    with open(random_docs_idx_path, \"wb\") as f:\n",
    "        pickle.dump(random_docs_idx, f)\n",
    "else:\n",
    "    # longest_docs = io.get_sample_data(longest_docs_path)\n",
    "    # shortest_docs = io.get_sample_data(shortest_docs_path)\n",
    "    # random_docs = io.get_sample_data(random_docs_path)\n",
    "    with open(random_docs_idx_path, \"rb\") as f:\n",
    "        random_docs_idx = pickle.load(f)\n",
    "\n",
    "longest_docs = pp.Documents = {}\n",
    "for doc_id, doc in list(sorted_docs.items())[:sample_size]:\n",
    "    longest_docs[doc_id] = doc\n",
    "longest_doc_idx_to_id = {i:doc_idx_to_id[idx] for i, idx in enumerate(range(sample_size))}\n",
    "\n",
    "shortest_docs = pp.Documents = {}\n",
    "for doc_id, doc in list(sorted_docs.items())[-sample_size:]:\n",
    "    shortest_docs[doc_id] = doc\n",
    "shortest_doc_idx_to_id = {i:doc_idx_to_id[idx] for i, idx in enumerate(range(len(sorted_docs)-sample_size, len(sorted_docs)))}\n",
    "\n",
    "random_docs = pp.Documents = {}\n",
    "s_docs = list(sorted_docs.items())\n",
    "for index in random_docs_idx:\n",
    "    doc_id, doc = s_docs[index]\n",
    "    random_docs[doc_id] = doc\n",
    "random_doc_idx_to_id = {i:doc_idx_to_id[idx] for i, idx in enumerate(random_docs_idx)}"
   ],
   "metadata": {
    "collapsed": false,
    "pycharm": {
     "name": "#%%\n"
    }
   }
  },
  {
   "cell_type": "markdown",
   "source": [
    "Mapping is useful if we want to retrieve the original documents corresponding to the randomly chosen documents in random_docs"
   ],
   "metadata": {
    "collapsed": false,
    "pycharm": {
     "name": "#%% md\n"
    }
   }
  },
  {
   "cell_type": "code",
   "execution_count": 13,
   "outputs": [],
   "source": [
    "samples = [(\"longest_docs\", longest_docs, longest_doc_idx_to_id),\n",
    "           (\"shortest_docs\", shortest_docs, shortest_doc_idx_to_id),\n",
    "           (\"random_docs\", random_docs, random_doc_idx_to_id)]"
   ],
   "metadata": {
    "collapsed": false,
    "pycharm": {
     "name": "#%%\n"
    }
   }
  },
  {
   "cell_type": "code",
   "execution_count": 14,
   "outputs": [],
   "source": [
    "# temp for quello di lotto\n",
    "samples_tmp = [(\"longest_docs\", list(longest_docs.keys())),\n",
    "                (\"shortest_docs\", list(shortest_docs.keys())),\n",
    "                 (\"random_docs\", list(random_docs.keys()))]"
   ],
   "metadata": {
    "collapsed": false,
    "pycharm": {
     "name": "#%%\n"
    }
   }
  },
  {
   "cell_type": "markdown",
   "source": [],
   "metadata": {
    "collapsed": false,
    "pycharm": {
     "name": "#%% md\n"
    }
   }
  },
  {
   "cell_type": "markdown",
   "source": [
    "## Tokenization\n",
    "Document cleaning and tokenization"
   ],
   "metadata": {
    "collapsed": false,
    "pycharm": {
     "name": "#%% md\n"
    }
   }
  },
  {
   "cell_type": "code",
   "execution_count": 15,
   "outputs": [],
   "source": [
    "tokens_dir = os.path.join(samples_dir, \"tokens\")\n",
    "if not os.path.exists(tokens_dir):\n",
    "    os.mkdir(tokens_dir)\n",
    "\n",
    "docs_tokens_path = os.path.join(tokens_dir, \"doc_tokens.pkl\")"
   ],
   "metadata": {
    "collapsed": false,
    "pycharm": {
     "name": "#%%\n"
    }
   }
  },
  {
   "cell_type": "code",
   "execution_count": 16,
   "outputs": [
    {
     "name": "stderr",
     "output_type": "stream",
     "text": [
      "Tokenizing documents: 100%|██████████| 100/100 [00:03<00:00, 27.56it/s]\n",
      "Tokenizing documents: 100%|██████████| 100/100 [00:00<00:00, 2600.76it/s]\n",
      "Tokenizing documents: 100%|██████████| 100/100 [00:00<00:00, 241.21it/s]\n"
     ]
    }
   ],
   "source": [
    "if not os.path.exists(docs_tokens_path):\n",
    "    tokenized_samples = []\n",
    "    for name, docs, idx_to_id in samples:\n",
    "        tokenized_docs: pp.TokenizedDocuments = pp.get_tokenized_documents(docs)\n",
    "        tokenized_samples.append((name, tokenized_docs, idx_to_id))\n",
    "\n",
    "    with open(docs_tokens_path, \"wb\") as f:\n",
    "        pickle.dump(tokenized_samples, f)\n",
    "else:\n",
    "    with open(docs_tokens_path, \"rb\") as f:\n",
    "        tokenized_samples = pickle.load(f)"
   ],
   "metadata": {
    "collapsed": false,
    "pycharm": {
     "name": "#%%\n"
    }
   }
  },
  {
   "cell_type": "markdown",
   "source": [
    "## VECTORIZE"
   ],
   "metadata": {
    "collapsed": false,
    "pycharm": {
     "name": "#%% md\n"
    }
   }
  },
  {
   "cell_type": "code",
   "execution_count": 17,
   "outputs": [],
   "source": [
    "tfidf_dir = os.path.join(samples_dir, \"tfidf\")\n",
    "if not os.path.exists(tfidf_dir):\n",
    "    os.mkdir(tfidf_dir)\n",
    "\n",
    "tfidf_results_path = os.path.join(tfidf_dir, \"tfidf_docs.pkl\")"
   ],
   "metadata": {
    "collapsed": false,
    "pycharm": {
     "name": "#%%\n"
    }
   }
  },
  {
   "cell_type": "code",
   "execution_count": 18,
   "outputs": [
    {
     "name": "stderr",
     "output_type": "stream",
     "text": [
      "100%|██████████| 3/3 [00:00<00:00, 14.07it/s]\n"
     ]
    }
   ],
   "source": [
    "if not os.path.exists(tfidf_results_path):\n",
    "    tfidf_docs = []\n",
    "    for name, docs, idx_to_id in tqdm(tokenized_samples):\n",
    "        vectorized_docs, time_taken = pp.vectorize(docs)\n",
    "        tfidf_docs.append((name, vectorized_docs, time_taken, idx_to_id))\n",
    "\n",
    "    with open(tfidf_results_path, \"wb\") as f:\n",
    "        pickle.dump(tfidf_docs, f)\n",
    "else:\n",
    "    with open(tfidf_results_path, \"rb\") as f:\n",
    "        tfidf_docs = pickle.load(f)"
   ],
   "metadata": {
    "collapsed": false,
    "pycharm": {
     "name": "#%%\n"
    }
   }
  },
  {
   "cell_type": "code",
   "execution_count": 25,
   "outputs": [
    {
     "name": "stdout",
     "output_type": "stream",
     "text": [
      "Time taken to vectorize longest_docs: 0.166941 seconds\n",
      "Time taken to vectorize shortest_docs: 0.003401 seconds\n",
      "Time taken to vectorize random_docs: 0.023076 seconds\n"
     ]
    }
   ],
   "source": [
    "for name, _, time_taken, _ in tfidf_docs:\n",
    "    print(f\"Time taken to vectorize {name}: {time_taken:.6f} seconds\")"
   ],
   "metadata": {
    "collapsed": false,
    "pycharm": {
     "name": "#%%\n"
    }
   }
  },
  {
   "cell_type": "markdown",
   "source": [
    "## Sequential APDS"
   ],
   "metadata": {
    "collapsed": false,
    "pycharm": {
     "name": "#%% md\n"
    }
   }
  },
  {
   "cell_type": "code",
   "execution_count": 21,
   "outputs": [],
   "source": [
    "thresholds = [0.5, 0.6, 0.7, 0.8, 0.9] # Chosen thresholds"
   ],
   "metadata": {
    "collapsed": false,
    "pycharm": {
     "name": "#%%\n"
    }
   }
  },
  {
   "cell_type": "code",
   "execution_count": 22,
   "outputs": [],
   "source": [
    "seq_results_dir = os.path.join(samples_dir, \"seq_result\")\n",
    "if not os.path.exists(seq_results_dir):\n",
    "    os.mkdir(seq_results_dir)\n",
    "\n",
    "seq_results_path = os.path.join(seq_results_dir, \"seq_results.pkl\")"
   ],
   "metadata": {
    "collapsed": false,
    "pycharm": {
     "name": "#%%\n"
    }
   }
  },
  {
   "cell_type": "code",
   "execution_count": 23,
   "outputs": [
    {
     "name": "stderr",
     "output_type": "stream",
     "text": [
      "100%|██████████| 3/3 [00:00<00:00, 55.19it/s]\n"
     ]
    }
   ],
   "source": [
    "all_seq_results = {} #sample: pairs indices, pairs docs id, additional information\n",
    "\n",
    "if not os.path.exists(seq_results_path):\n",
    "    for name, vectorized_docs, tfidf_time, idx_to_id in tqdm(tfidf_docs):\n",
    "        seq_results = []\n",
    "        for threshold in thresholds:\n",
    "            similar_pairs, information = sim_seq.compute_all_pairs_docs_sim(vectorized_docs, name, threshold, tfidf_time)\n",
    "            mapped_pairs = sim_seq.map_doc_idx_to_id(similar_pairs, idx_to_id)\n",
    "            seq_results.append((similar_pairs, mapped_pairs, information))\n",
    "        all_seq_results[name] = seq_results\n",
    "\n",
    "    with open(seq_results_path, \"wb\") as f:\n",
    "        pickle.dump(all_seq_results, f)\n",
    "else:\n",
    "    with open(seq_results_path, \"rb\") as f:\n",
    "        all_seq_results = pickle.load(f)"
   ],
   "metadata": {
    "collapsed": false,
    "pycharm": {
     "name": "#%%\n"
    }
   }
  },
  {
   "cell_type": "markdown",
   "source": [
    "### longest 1000"
   ],
   "metadata": {
    "collapsed": false,
    "pycharm": {
     "name": "#%% md\n"
    }
   }
  },
  {
   "cell_type": "code",
   "execution_count": 24,
   "outputs": [
    {
     "name": "stdout",
     "output_type": "stream",
     "text": [
      "--Run info--\n",
      "sample_name: longest_docs\n",
      "threshold: 0.5\n",
      "pairs_count: 40\n",
      "tfidf_time: 0.16694116592407227\n",
      "cosine_time: 0.00581812858581543\n",
      "find_time: 0.000823974609375\n",
      "total_time: 0.1735832691192627\n",
      "\n",
      "--Run info--\n",
      "sample_name: longest_docs\n",
      "threshold: 0.6\n",
      "pairs_count: 35\n",
      "tfidf_time: 0.16694116592407227\n",
      "cosine_time: 0.004611015319824219\n",
      "find_time: 0.0008518695831298828\n",
      "total_time: 0.17240405082702637\n",
      "\n",
      "--Run info--\n",
      "sample_name: longest_docs\n",
      "threshold: 0.7\n",
      "pairs_count: 34\n",
      "tfidf_time: 0.16694116592407227\n",
      "cosine_time: 0.004518747329711914\n",
      "find_time: 0.0011153221130371094\n",
      "total_time: 0.1725752353668213\n",
      "\n",
      "--Run info--\n",
      "sample_name: longest_docs\n",
      "threshold: 0.8\n",
      "pairs_count: 30\n",
      "tfidf_time: 0.16694116592407227\n",
      "cosine_time: 0.0067560672760009766\n",
      "find_time: 0.0018298625946044922\n",
      "total_time: 0.17552709579467773\n",
      "\n",
      "--Run info--\n",
      "sample_name: longest_docs\n",
      "threshold: 0.9\n",
      "pairs_count: 27\n",
      "tfidf_time: 0.16694116592407227\n",
      "cosine_time: 0.00573277473449707\n",
      "find_time: 0.0013427734375\n",
      "total_time: 0.17401671409606934\n",
      "\n"
     ]
    }
   ],
   "source": [
    "sim_seq.print_results(all_seq_results, \"longest_docs\")"
   ],
   "metadata": {
    "collapsed": false,
    "pycharm": {
     "name": "#%%\n"
    }
   }
  },
  {
   "cell_type": "code",
   "execution_count": 26,
   "outputs": [
    {
     "name": "stdout",
     "output_type": "stream",
     "text": [
      "1vimqhdp and pd1g119c have 0.5466 similarity\n",
      "\n",
      "1vimqhdp:\n",
      "36th international symposium intensive care emergency medicine brussels belgium 15-18 march 2016 p001 sepsis impairs capillary response within hypoxic capillary decrease erythrocyte oxygen-dependent atp efflux r. m. bateman m. d. sharpe j. e. jagger c. g. elli p002 lower serum immunoglobulin g2 level predispose severe flu j. solé-violán m. lópez-rodríguez e. herrera-ramos j. ruíz-hernández l. borderías j. horcajada n. gonzález-quevedo o. raja m. briones f. rodríguez de castro c. rodríguez gallego p003 brain protective effect intravenous immunoglobulin inhibition complement activation apoptosis rat model sepsis f. esen g. orhun p. ergin ozcan e. senturk c. ugur yilmaz n. orhan n. arican m. kaya m. kucukerden m. giris u. akcan s. bilgic gazioglu e. tuzun p004 adenosine a1 receptor dysfunction associated leukopenia possible mechanism sepsis-induced leukopenia r. riff o. naamani a. douvdevani p005 analysis neutrophil hyper spectral imaging preliminary report r. takegawa h. yoshida t. hirose n. yamamoto h. hagiya m. ojima y. akeda o. tasaki k. tomono t. shimazu p006 chemiluminescent intensity assessed eaa predicts incidence postoperative infectious complication following gastrointestinal surgery s. ono t. kubo s. suda t. ueno t. ikeda p007 serial change c1 inhibitor patient sepsis – prospective observational study t. hirose h. ogura h. takahashi m. ojima j. kang y. nakamura t. kojima t. shimazu p008 comparison bacteremia sepsis sepsis related biomarkers t. ikeda s. suda y. izutani t. ueno s. ono p009 change procalcitonin level critical patient abdominal septic shock blood purification t. taniguchi m. p010 validation new sensitive point care device rapid measurement procalcitonin c. dinter j. lotz b. eilers c. wissmann r. lott p011 infection biomarkers primary care patient acute respiratory tract infection – comparison procalcitonin c-reactive protein m. m. meili p. s. schuetz p012 need lower procalcitonin cut h. hawa m. sharshir m. aburageila n. salahuddin p013 predictive role c-reactive protein procalcitonin biomarkers central nervous system infection extensively drug resistant bacteria v. chantziara s. georgiou a. tsimogianni p. alexandropoulos a. vassi f. lagiou m. valta g. micha e. chinou g. michaloudis p014 change endotoxin activity assay procalcitonin level direct hemoperfusion polymyxin-b immobilized fiber a. kodaira t. ikeda s. ono t. ueno s. suda y. izutani h. imaizumi p015 diagnostic usefullness combination biomarkers icu admission m. v. de la torre-prados a. garcia-de la torre a. enguix-armada a. puerto-morlan v. perez-valero a. garcia-alcantara p016 platelet function analysis utilising pfa-100 predict infection bacteraemia sepsis outcome critically ill patient n. bolton j. dudziak s. bonney a. tridente p. nee p017 extracellular histone h3 level inversely correlated antithrombin level platelet count associated mortality sepsis patient g. nicolaes m. wiewel m. schultz k. wildhagen j. horn r. schrijver t. van der poll c. reutelingsperger p018 il-8 reliable biomarker sepsis severity crp procalcitonin e-selectin il-6 tnf- alpha s. pillai g. davy g. mill r. aubrey k. morris p. williams p. evans p019 relation adrenomedullin short-term outcome icu patient result frog icu study e. g. gayat j. struck a. cariou n. deye b. guidet s. jabert j. launay m. legrand m. léone m. resche-rigon e. vicaut a. vieillard-baron a. mebazaa p020 impact disease severity assessment performance heparin-binding protein prediction septic shock r. arnold m. capan a. linder p. akesson p021 kinetics prognostic value presepsin scd14 septic patient pilot study m. popescu d. tomescu p022 comparison cd64 level performed facs accellix system c. l. sprung r. calderon morale g. munteanu e. orenbuch-harroch p. levin h. kasdan a. reiter t. volker y. himmel y. cohen j. meissonnier p023 diagnosing sepsis 5 minute nanofluidic technology study pancreatic-stone protein psp/ reg l. girard f. rebeaud p024 nanotechnology-based approach could contribute sepsis prevention diagnosis treatment i. herrmann p025 il7r transcriptional expression analysis septic shock b. delwarde e. peronnet e. cerrato f. venet a. lepape t. rimmelé g. monneret j. textoris p026 disbalance microbial metabolite aromatic acid affect severity critically ill patient n. beloborodova v. moroz a. osipov a. bedova y. sarshor a. pautova a. sergeev e. chernevskaya p027 copeptin predicts 10-year all-cause mortality community patient j. odermatt r. bolliger l. hersberger m. ottiger m. christ-crain b. mueller p. schuetz p028 identification differential proteomic response septic patient secondary community hospital acquired pneumonia n. k. sharma a. k. tashima m. k. brunialti f. r. machado m. assuncao o. rigato r. salomao p029 monocyte hla-dr expression community-acquired bacteremic sepsis dynamic associated aetiology prediction secondary sepsis s. c. cajander g. rasmussen e. tina b. söderquist j. källman k. strålin p030 soluble b- t-lymphocyte attenuator possible prognostic marker sepsis a. l. lange j. s. sundén-cullberg a. m. magnuson o. h. hultgren p031 fractal dimension new biomarker quantifying clot microstructure patient across sepsis spectrum g. davy s. pillai g. mill r. aubrey k. morris p. williams p. evans p032 comparison new biomarker coagulation clot microstructure df rotational thromboelastometry rotem patient across sepsis spectrum s. pillai g. davy g. mill r. aubrey k. morris p. williams p. evans p033 change fibrinolysis across sepsis spectrum use rotational thromboelastometry rotem lysis index li60 d-dimer concentration s. pillai g. davy g. mill r. aubrey k. morris p. williams p. evans p034 intensive care infection score – promising marker prediction infection severity p. van der geest m. mohseni j. linssen r. de jonge s. duran j. groeneveld p035 challenge clinical diagnosis sepsis r. miller iii b. k. lopansri l. c. mchugh a. seldon j. p. burke p036 zero heat flux thermometry accurately identify sepsis intensive care j. johnston r. reece-anthony a. bond a. molokhia p037 advancing quality aq sepsis programme improving early identification treatment sepsis north west england c. mcgrath e. nsutebu p038 prehospital transport acute septic patient p. bank pedersen d. pilsgaard henriksen s. mikkelsen a. touborg lassen p039 vasodilatory plant extract gel alternative treatment fever critically ill patient r. tincu c. cobilinschi d. tomescu z. ghiorghiu r. macovei p040 host response outcome hypothermic sepsis m. a. wiewel m. b. harmon l. a. van vught b. p. scicluna a. j. hoogendijk j. horn a. h. zwinderman o. l. cremer m. j. bonten m. j. schultz t. van der poll n. p. juffermans w. j. wiersinga p041 septic shock alert sir criterion impact outcome need revised g. eren tekdos m. dogan o. acicbe e. kaya o. hergunsel p042 association previous prescription βblockers mortality rate among septic patient retrospective observational study s. alsolamy g. ghamdi l. alswaidan s. alharbi f. alenezi y. arabi p043 recognition treatment sepsis labour ward– teaching information resource improve knowledge j. heaton a. boyce l. nolan j. johnston a. dukoff-gordon a. dean a. molokhia p044 culture negative sepsis icu – unique patient population t. mann ben yehudah p045 organ dysfunction severe sepsis patient identified administrative data germany 2007-2013 c. fleischmann d. thomas-rueddel c. haas u. dennler k. reinhart p046 comparison resident ’ knowledge regarding surviving sepsis campaign 2012 guideline o. suntornlohanakul b. khwannimit p047 effectiveness septic shock bundle improve outcome icu f. breckenridge a. puxty p048 dose norepinephrine first 24 hour parameter evaluating effectiveness treatment patient severe sepsis septic shock p. szturz p. folwarzcny j. svancara r. kula p. sevcik p049 norepinephrine vasopressin norepinephrine septic shock retrospective series 39 patient l. caneva a. casazza e. bellazzi s. marra l. pagani m. vetere r. vanzino d. ciprandi r. preda r. boschi l. carnevale p050 methylene blue effectiveness contributory treatment patient septic shock v. lopez m. aguilar arzapalo l. barradas a. escalante j. gongora m. cetina p051 coagulation disorder patient severe sepsis dic evaluated thromboelastometry b adamik jakubczyk kübler p052 frequency outcome early sepsis-associated coagulopathy a. radford t. lee j. singer j. boyd d. fineberg m. williams j. russell p053 assessment coagulopathy cancer patient severe sepsis septic shock case-control pilot study e. scarlatescu d. tomescu g. droc s. arama p054 thromboelastometry critically ill patient disseminated intravascular coagulation m. müller m. straat s. s. zeerleder n. p. juffermans p055 cessation preexisting chronic antiplatelet therapy associated increased mortality rate severe sepsis septic shock c. f. fuchs c. s. scheer s. w. wauschkuhn m. v. vollmer k. m. meissner s. k. kuhn k. h. hahnenkamp s. r. rehberg m. g. gründling p056 neutrophil extracellular trap net production hypoxic condition n. yamamoto m. ojima s. hamaguchi t. hirose y. akeda r. takegawa o. tasaki t. shimazu k. tomono p057 impact ultraviolet air sterilizer intensive care unit room clinical outcome patient e. gómez-sánchez m. heredia-rodríguez e. álvarez-fuente m. lorenzo-lópez e. gómez-pesquera m. aragón-camino p. liu-zhu a. sánchez-lópez a. hernández-lozano m. t. peláez-jareño e. tamayo p058 focus infection severe sepsis comparison administrative data prospective cohort germany d. o. thomas-rüddel c. fleischmann c. haas u. dennler k. reinhart p059 “ zero clabsi ” – get obstacle 4 year journey strategy overcome – experience indian icu v. adora a. kar a. chakraborty s. roy a. bandyopadhyay m. da p060 novel molecular technique identify central venous catheter cvc associated blood stream infection bsis t. mann ben yehudah g. ben yehudah m. salim n. kumar l. arabi t. burger p. lephart e. toth-martin p061 zero clabsi ” – get obstacle 4 year journey strategy overcome – experience indian icu r. rao a. kar a. chakraborty p062 prevention central line-associated bloodstream infection intensive care unit international online survey c. valencia n. hammami s. blot j. l. vincent m. l. lambert p063 30 day antimicrobial efficacy non-leaching central venous catheter j. brunke t. riemann i. roschke p064 efficacy noble metal alloy-coated catheter prevention bacteriuria r. tincu c. cobilinschi d. tomescu z. ghiorghiu r. macovei p065 predicting bacteremic urinary tract infection community setting prospective observational study s. nimitvilai k. jintanapramote s. jarupongprapa p066 eight-year analysis acinetobacter spp monobacteremia surgical medical intensive care unit university hospital lithuania d. adukauskiene d. valanciene p067 group group b streptococcal infection intensive care unit – experience tertiary centre g. bose v. lostarakos b. carr p068 improved detection spontaneous bacterial peritonitis uritop tm strip test inoculation blood culture bottle ascitic fluid s. khedher a. maaoui a. ezzamouri m. salem p069 increased risk cellulitis patient congestive heart failure population based cohort study j. chen p070 outcome severe cellulitis necrotizing fasciitis critically ill d. r. cranendonk l. a. van vught m. a. wiewel o. l. cremer j. horn m. j. bonten m. j. schultz t. van der poll w. j. wiersinga p071 botulism outbreak associated people inject drug pwids scotland m. day g. penrice k. roy p. robertson g. godbole b. jones m. booth l. donaldson p072 surveillance esbl-producing enterobacteriaceae fecal carrier icu y. kawano h. ishikura p073 prevalence esbl carbapenemase producing uropathogens newly opened hospital south india s. sreevidya n. brahmananda reddy p. muraray govind r. pratheema j. devachandran apollo speciality hospital omr chennai india p074 prevalence risk factor outcome methicillin-resistant staphylococcus aureus nasal colonization critically ill patient h. al-dorzi m. almutairi b. alhamadi a. crizaldo toledo r. khan b. al raiy y. arabi p075 multidrug-resistant acinetobacter baumannii infection intensive care unit patient hospital building construction association h. talaie p076 multidrug-resistant organism dutch icu j. a. van oers a. hart e. nieuwkoop p. vos p077 epidemiology risk factor icu acquired infection caused multidrug-resistant gram negative bacillus y. boussarsar f. boutouta s. kamoun i. mezghani s. koubaji a. ben souissi a. riahi m. s. mebazaa p078 improving outcome severe infection multidrug-resistant pathogen polyclonal igm-enriched immunoglobulin e. giamarellos-bourboulis n. tziolos c. routsi c. katsenos i. tsangaris i. pneumatikos g. vlachogiannis v. theodorou a. prekates e. antypa v. koulouras n. kapravelos c. gogos e. antoniadou k. mandragos a. armaganidis p079 must change medical practice icu a. r. roble caballero b. civantos j. c. figueira j. lópez p080 mediterranean spotted fever infectious disease intensive care unit a. silva-pinto f. ceia a. sarmento l. santos p081 clinical feature outcome patient middle east respiratory syndrome requiring admission saudi intensive care unit retrospective analysis 31 case g. almekhlafi y. sakr p082 icu response hospital outbreak middle east respiratory syndrome coronavirus infection h. al-dorzi r. khan s. baharoon a. aldawood a. matroud j. alchin s. al johani h. balkhy y. arabi p083 middle east respiratory syndrome surveillance data analysis s. alsolamy s. y. yousif b. o. alotabi a. s. alsaawi p085 use taqman array card molecular diagnostics severe pneumonia case series j. ang md curran d. enoch v. navapurkar a. conway morris p086 ‘ bun ’ investigation protocol improves icu management pneumonia r. sharvill j. astin p087 pneumonia patient following secondary peritonitis epidemiological feature impact mortality m. heredia-rodríguez e. gómez-sánchez m. t. peláez-jareño e. gómez-pesquera m. lorenzo-lópez p. liu-zhu m. aragón-camino a. hernández-lozano a. sánchez-lópez e. álvarez-fuente e. tamayo p088 use “ curb-65 score ” emergency room clinician large teaching hospital j. patel c. kruger p089 incidence community acquired pneumonia viral infection mechanically ventilated patient medical intensive care unit j. ’ neal h. rhodes j. jancik p090 saatellite study prevention aureus nosocomial pneumonia np medi4893 human monoclonal antibody mab aureus b. françois p. f. laterre p. eggimann a. torres m. sánchez p. f. dequin g. l. basso j. chastre h. s. jafri p091 risk factor microbiological profile nosocomial infection trauma patient m. ben romdhane z. douira s. kamoun m. bousselmi a. ben souissi y. boussarsar a. riahi m.s mebazaa p092 correlation percentage ventilated patient developed vap use antimicrobial agent icu patient a. vakalos v. avramidis p093 comparison two ventilator associated pneumonia surveillance technique t. h. craven g. wojcik k. kefala j. mccoubrey j. reilly r. paterson d. inverarity i. laurenson t. s. walsh p094 lung ultrasound fiberbronchoscopy modification may improve ventilator-associated pneumonia diagnosis s. mongodi b. bouhemad a. orlando a. stella g. via g. iotti a. braschi f. mojoli p095 comparing accuracy predictor mortality ventilator-associated pneumonia m. haliloglu b. bilgili u. kasapoglu i. sayan m. süzer aslan a. yalcın i. cinel p096 impact prbcs transfusion percentage ventilated patient developed vap icu patient a. vakalos v. avramidis p097 impact series intervention rate ventilator associated pneumonia large teaching hospital h. e. elli k. bauchmuller d. miller temple p098 evade study prevention nosocomial pneumonia np caused p aeruginosa medi3902 novel bispecific monoclonal antibody p aeruginosa virulence factor j. chastre b. françois a. torres c. e. luyt m. sánchez m. singer h. s. jafri p099 short-term inhaled colistin adjunctive therapy ventilator-associated pneumonia y. nassar m. s. ayad p100 effect aerosolised colistin weaning mechanical ventilation a. trifi s. abdellatif f. daly r. nasri s. ben lakhal p101 septic shock independent risk factor colistin-induced severe acute kidney injury retrospective cohort study b. bilgili m. haliloglu f. gul i. cinel p102 nosocomial pneumonia emphasis inhaled tobramycin a. kuzovlev a. shabanov s. polovnikov v. moroz p103 vitro evaluation amikacin inhale commercial nebulizer mechanical ventilator n. kadrichu t. dang k. corkery p. challoner p104 effect nebulized amikacin/fosfomycin systemic meropenem severe amikacin-resistant meropenem-susceptible p.aeruginosa pneumonia g. li basso e. aguilera c. chiurazzi c. travierso a. motos l. fernandez r. amaro t. senussi f. idone j. bobi m. rigol a. torres p105 optimization gentamicin peak concentration critically ill patient c. j. hodiamont n. p. juffermans j. m. janssen c. s. bouman r. a. mathôt m. d. de jong r. m. van hest p106 systematic review cefepime induced neurotoxicity l. payne g. l. fraser p107 unasyn® cause qt prolongation treatment intensive care patient b. tudor m. lahner g. roth c. krenn p108 comparative study teicoplanin vancomycin methicillin-resistant staphylococcus aureus mrsa infectious toxicological intensive care unit ticu patient – tehran iran h. talaie p109 phage therapy antimicrobial resistance design first clinical study phagoburn p. jault j. gabard t. leclerc s. jennes y. que a. rousseau f. ravat p110 antibiotic dosing error critically ill patient severe sepsis septic shock h. al-dorzi a. eissa s. al-harbi t. aldabbagh r. khan y. arabi p111 empiric antifungal therapy improve survival septic critically ill patient immunocompromised excluded a. trifi s. abdellatif f. daly r. nasri s. ben lakhal p112 neurocysticercosis-qatar experience f. paramba n. purayil v. naushad o. mohammad v. negi p. chandra p113 early indicator acute haemorrhagic shock a. kleinsasser p114 filtering red blood cell reduces inflammatory response pulmonary cell vitro model mechanical ventilation m. r. witrz j. f. buchner-doeven a. m. tuip-de boer j. c. gosling n. p. juffermans p115 microparticles red blood cell transfusion induce pro-coagulant pro-inflammatory endothelial cell response m. van hezel m. straat boing r van bruggen n juffermans p116 contribution cytokine thrombosis development hospitalization icu d. markopoulou k. venetsanou v. kaldis d. koutete d. chroni i. alamanos p117 prophylactic enoxaparin dosing adjustment anti-xa monitoring inpatient burn unit l. koch j. jancik h. rhodes e. walter p118 determination optimal cut-off value haemoglobin platelet count fibrinogen 24 hour injury associated mortality trauma patient k. maekawa m. hayakawa s. kushimoto a. shiraishi h. kato j. sasaki h. ogura t. matauoka t. uejima n. morimura h. ishikura a. hagiwara m. takeda p119 trauma-induced coagulopathy prothrombin complex concentrate v fresh frozen plasma o. tarabrin s. shcherbakow d. gavrychenko g. mazurenko v. ivanova o. chystikov p120 first study prove superiority prothrombin complex concentrate mortality rate fresh frozen plasma patient acute bleeding c. plourde j. lessard j. chauny r. daoust p121 prothrombin complex concentrate v fresh frozen plasma obstetric massive bleeding s. shcherbakow o. tarabrin d. gavrychenko g. mazurenko o. chystikov p122 impact ffp transfusion vap icu patient a. vakalos v. avramidis p123 preoperative platelet function test thrombin generation assay predictive blood loss cardiac surgery l. kropman l. het panhuis j. konings d. huskens e. schurgers m. roest b. de laat m. lance p124 rotational thromboelastometry versus standard coagulation test surgical intervention m. durila p. lukas m. astraverkhava j. jonas p125 correction impaired clot quality stability fibrinogen activated prothrombin complex concentrate model severe thrombocytopenia i. budnik b. shenkman p126 assessment point-of-care prothrombin time analyzer monitor cardiopulmonary bypass h. hayami y. koide t. goto p127 disseminated intravascular coagulation dic underdiagnosed critically ill patient need d-dimer measurement r. iqbal y. alhamdi n. venugopal s. abrams c. downey c. h. toh i. d. welter p128 validity age-adjusted d-dimer cutoff patient copd b. bombay j. m. chauny r. d. daoust j. l. lessard m. m. marquis j. p. paquet p129 scoping review strategy prevention management bleeding following paediatric cardiopulmonary bypass surgery k. siemens d. sangaran b. j. hunt a. durward a. nyman i. a. murdoch s. m. tibby p130 nadir hemoglobulin cardiopulmonary bypass impact postoperative morbidity mortality f. ampatzidou d. moisidou e. dalampini m. nastou e. vasilarou v. kalaizi h. chatzikostenoglou g. drossos p131 red blood cell transfusion influence prognostic value rdw critically ill patient s. spadaro a. fogagnolo t. fiore a. schiavi v. fontana f. taccone c. volta p132 reason admission paediatric intensive care unit need blood blood product transfusion e. chochliourou e. volakli a. violaki e. samkinidou g. evlavis v. panagiotidou m. sdougka p133 implementation massive haemorrhage protocol mhp management major trauma ten year single-centre study r. mothukuri c. battle k. guy g. mill p. evans p134 integrated major haemorrhage protocol pre-hospital retrieval medical team j. wijesuriya s. keogh p135 impact transfusion threshold mortality cardiovascular event patient cardiovascular disease non-cardiac surgery systematic review meta-analysis a. docherty r. ’ donnell s. brunskill m. trivella c. doree l. holst m. parker m. gregersen j. almeida t. walsh s. stanworth p136 relationship poor pre-operative immune status outcome cardiac surgery specific peri-operative antigenic threat s. moravcova j. mansell a. rogers r. a. smith c. hamilton-davies p137 impact simple clinical practice guideline reducing post-operative atrial fibrillation cardiac surgery a. omar m. allam o. bilala a. kindawi h. ewila p138 dexamethasone administration cardiopulmonary bypass beneficial effect elective postoperative cardiac surgery patient f. ampatzidou d. moisidou m. nastou e. dalampini a. malamas e. vasilarou g. drossos p139 intra-aortic balloon counterpulsation patient undergoing cardiac surgery iabcs preliminary result g. ferreira j. caldas j. fukushima e. a. osawa e. arita l. camara s. zeferino j. jardim f. gaioto l. dallan f. b. jatene r. kalil filho .f gala l. a. hajjar p140 effect low-dose atrial natriuretic peptide infusion cardiac surgery-associated acute kidney injury c. mitaka t. ohnuma t. murayama f. kunimoto m. nagashima t. takei m. tomita p141 acute kidney injury influence high sensitive troponin measurement cardiac surgery a. omar k. mahmoud s. hanoura s. sudarsanan p. sivadasan h. othamn y. shouman r. singh a. al khulaifi p142 complex evaluation endothelial dysfunction marker prognosis outcome patient undergoing cardiac surgery i. mandel s. mikheev i. suhodolo v. kiselev y. svirko y. podoksenov p143 new-onset atrial fibrillation intensive care incidence management outcome s. a. jenkins r. griffin p144 one single spot measurement sublingual microcirculation acute pulmonary hypertension pig model shock m. s. tovar doncel a. lima c. aldecoa c. ince p145 assessment levosimendan therapeutic option recruit microcirculation cardiogenic shock – initial experience cardiac icu a. taha a. shafie m. mostafa n. syed h. hon p146 terlipressin vs. norepinephrine potential multiorgan donor pmd f. righetti e. colombaroli g. castellano p147 echocardiography potential heart donor exposed substitution hormonotherapy f. righetti e. colombaroli p148 machine learning reduce rate monitor alarm m. hravnak l. c. chen a. d. dubrawski g. c. clermont m. r. pinsky p149 peripherally inserted central catheter placed icu s. gonzalez d. macias j. acosta p. jimenez a. loza a. lesmes f. lucena c. leon p150 recording abnormal central venous pressure waveform morphology episode pulmonary hypertension porcine shock model m. s. tovar doncel c. ince c. aldecoa a. lima p151 ultrasound guided central venous access technique among french intensivists m. bastide j. richecoeur e. frenoy c. lemaire b. sauneuf f. tamion s. nseir d. du cheyron h. dupont j. maizel p152 predictive ability pv-aco2 gap patient shock m. shaban r. kolko n. salahuddin m. sharshir m. aburageila a. alhussain p153 comparison echocardiography pulmonary artery catheter measurement hemodynamic parameter critical ill patient p. mercado j. maizel l. kontar d. titeca f. brazier a. riviere m. joris t. soupison b. de cagny m. slama p154 volume clamp method noninvasive cardiac output measurement postoperative cardiothoracic surgery patient comparison intermittent pulmonary artery thermodilution j. wagner a. körner m. kubik s. kluge d. reuter b. saugel p155 hemodynamic monitoring patient septic shock s – cpcco continuous pulse contour cardiac output vs. tee transesophageal echocardiography e. colombaroli f. righetti g. castellano p156 cardiac output measurement transthoracic echocardiography critically ill patient pragmatic clinical study t. tran d. de bel a. cudia m. strachinaru p. ghottignies j. devriendt c. pierrakos p157 left ventricular outflow tract velocity time integral correlate stroke volume index mechanically ventilated patient ó. martínez gonzález r. blancas j. luján d. ballesteros c. martínez díaz a. núñez c. martín parra b. lópez matamala m. alonso fernández m. chana p158 transpulmonary thermodilution tptd derived femoral vs. jugular central venous catheter validation previously published correction formula proprietary correction formula global end-diastolic volume index gedvi w. huber m. eckmann f. elkmann a. gruber i. klein r. m. schmid t. lahmer p160 dynamic arterial elastance calculated lidcoplus monitor predict change arterial pressure fluid challenge postsurgical patient d. bastoni h. aya l. toscani l. pigozzi a. rhodes m. cecconi p159 venous return driving pressure resistance acute blood volume change p. w. moller s. sondergaard s. m. jakob j. takala d. berger p160 dynamic arterial elastance calculated lidcoplus monitor predict change arterial pressure fluid challenge postsurgical patient d. bastoni h. aya l. toscani l. pigozzi a. rhodes m. cecconi p161 analysis duration post-operative goal-directed therapy protocol c. ostrowska h. aya a. abbas j. mellinghoff c. ryan d. dawson a. rhodes m. cecconi p162 hemodynamic optimization – back square one m. cronhjort o. wall e. nyberg r. zeng c. svensen j. mårtensson e. joelsson-alm p163 effectiveness fluid thoracic content measurement bioimpedance guiding intravascular volume optimization patient septic shock m. aguilar arzapalo l. barradas v. lopez m. cetina p164 systematic review role internal jugular vein ultrasound measurement assessment volume status critical shock patient n. parenti c. palazzi l. a. amidei f. b. borrelli s. c. campanale f. t. tagliazucchi g. s. sedoni d. l. lucchesi e. c. carella a. l luciani p165 importance recognizing dehydration medical intensive care unit m. mackovic n. maric m. bakula p166 effect volume fluid challenge septic patient h. aya a. rhodes r. m. ground n. fletcher m. cecconi p167 fluid bolus practice large australian intensive care unit b. avard p. zhang p168 liberal late fluid management associated longer ventilation duration worst outcome severe trauma patient retrospective cohort 294 patient m. mezidi j. charbit m. ould-chikh p. deras c. maury o. martinez x. capdevila p169 association fluid outcome emergency department patient hospitalized community-acquired pneumonia p. hou w. z. linde-zwirble i. d. douglas n. s. shapiro p170 association positive fluid balance poor outcome medicosurgical icu patient a. ben souissi i. mezghani y. ben aicha s. kamoun b. laribi b. jeribi a. riahi m. s. mebazaa p171 impact fluid balance organ dysfunction critically ill patient c. pereira r. marinho r. antunes a. marinho p172 volume bolus icu patient need balance crystalloids m. crivits m. raes j. decruyenaere e. hoste p173 use 6 he solution reduce total fluid requirement therapy patient burn shock v. bagin v. rudnov a. savitsky m. astafyeva i. korobko v. vein p174 electron microscopic assessment acute kidney injury septic sheep resuscitated crystalloids different colloid t. kampmeier p. arnemann m. hessler a. wald k. bockbreder a. morelli h. van aken s. rehberg c. ertmer p175 alteration conjunctival microcirculation sheep model haemorrhagic shock resuscitation 0.9 saline balanced tetrastarch p. arnemann m. hessler t. kampmeier s. rehberg h. van aken c. ince c. ertmer p176 single centre nested pilot study investigating effect using 0.9 saline plasma-lyte 148 ® crystalloid fluid therapy gastrointestinal feeding intolerance mechanically ventilated patient receiving nasogastric enteral nutrition s. reddy m. bailey r. beasley r. bellomo d. mackle a. psirides p. young p177 single centre nested pilot study investigating effect post-operative bleeding using 0.9 saline plasma-lyte® 148 crystalloid fluid therapy adult icu heart surgery s. reddy m. bailey r. beasley r. bellomo d. mackle p. young p178 extreme hypernatremia sepsis patient huntington ’ dementia conundrum fluid management h. venkatesh s. ramachandran a. basu h. nair p179 diagnosis management severe hypernatraemia critical care setting s. egan j. bates p180 correlation arterial blood gas electrolyte disturbance hospitalization outcome critically ill patient s. oliveira n. r. rangel neto f. q. real p181 missing “ ” mudpiles – rare cause high anion gap metabolic acidosis hagma c. p. lee x. l. lin c. choong k. m. eu w. y. sim k. s. tee j. pau j. abisheganaden p182 plasma ngal urinary output potential parameter early initiation renal replacement therapy k. maas h. de geus p183 renal replacement therapy critically ill patient intermittent continuity e. lafuente r. marinho j. moura r. antunes a. marinho p184 survey practice related renal replacement therapy critically ill patient north england t. e. doris d. monkhouse t. shipley s. kardasz gonzalez p185 high initiation creatinine associated lower 28-day mortality critically ill patient necessitating continuous renal replacement therapy s. stads a. j. groeneveld p186 impact karnofsky performance scale outcome acute kidney injury patient receiving renal replacement therapy intensive care unit i. elsayed n. ward a. tridente a. raithatha p187 severe hypophosphatemia citrate-anticoagulated crrt a. steuber c. pelletier s. schroeder e. michael t. slowinski d. kindgen-milles p188 citrate regional anticoagulation post dilution continuous renal replacement therapy s. ghabina p189 citrate 18 mmol/l improves anticoagulation rrt adsorbing filter f. turani a. belli s. busatti g. barettin f. candidi f. gargano r. barchetta m. falco p190 calcium gluconate instead calcium chloride citrate-anticoagulated cvvhd o. demirkiran m. kosuk s. bozbay p191 enhanced clearance interleukin-6 continuous veno-venous haemodialysis cvvhd using ultraflux emic2 vs. ultraflux av1000s v. weber j. hartmann s. harm i. linsberger t. eichhorn g. valicek g. miestinger c. hoermann p192 removal bilirubin new adsorbent system vitro kinetics s. faenza d. ricci e. mancini c. gemelli a. cuoghi s. magnani m. atti p193 case series patient severe sepsis septic shock treated new extracorporeal sorbent t. laddomada a. doronzio b. balicco p194 vitro adsorption broad spectrum inflammatory mediator cytosorb® hemoadsorbent polymer bead m. c. gruda p. ’ sullivan v. p. dan t. guliashvili a. scheirer t. d. golobish v. j. capponi p. p. chan p195 observation early vs. late use cytosorb therapy critically ill patient k. kogelmann m. drüner d. jarczak p196 oxiris membrane decrease endotoxin rrt septic patient basal eaa 0,6 f. turani a. b. belli s. m. martni v. c. cotticelli f. mounajergi r. barchetta p197 observational prospective study onset augmented renal clearance first report s. morimoto h. ishikura p198 ultrasound- guided algorithm management oliguria severe sepsis i. hussain n. salahuddin a. nadeem k. ghorab k. maghrabi p199 ultrasound acute kidney injury aki first finding farius education-programme structural ultrasonography s. k. kloesel c. goldfuss a. stieglitz a. s. stieglitz l. krstevska g. albuszies p200 effectiveness renal angina index score predicting acute kidney injury critically ill patient m. aguilar arzapalo l. barradas v. lopez a. escalante g. jimmy m. cetina p201 time length blood pressure threshold progression acute kidney injury critically ill patient without sepsis retrospective exploratory cohort study j. izawa t. iwami s. uchino m. takinami t. kitamura t. kawamura p202 anaemia affect renal recovery acute kidney injury j. g. powell-tuck s. crichton m. raimundo l. camporota d. wyncoll m. ostermann p203 estimated glomerular filtration rate based serum creatinine actual practice dutch icu ’ a. hana h. r. de geus p204 comparison estimated glomerular filtration rate calculated mdrd ckd-epi-serum-creatinine ckd-epi-cystatin-c adult critically ill patient h. r. de geus a. hana p205 early diagnosis septic acute kidney injury medical critical care patient urine cell cycle arrest marker insulin like growth factor binding protein-7 igfbp-7 m. aydogdu n. boyaci s. yuksel g. gursel a. b. cayci sivri p206 urinary neutrophil gelatinase-associated lipocalin early biomarker severe acute kidney injury intensive care j. meza-márquez j. nava-lópez r. carrillo-esper p207 shrunken pore syndrome associated sharp rise mortality patient undergoing elective coronary artery bypass grafting a. dardashti a. grubb p208 biomarker nephrocheck™ discriminate septic shock patient akin 1 2 acute renal failure progress toward akin 3 level j. maizel m. wetzstein d. titeca l. kontar f. brazier b. de cagny a. riviere t. soupison m. joris m. slama p209 worldwide multicentre evaluation acute kidney injury septic non-septic critically ill patient intensive care nation icon audit e. peter h. njimi p. pickkers j. l. vincent p210 enhanced recovery surgery reduce incidence acute kidney injury undergoing major gynae-oncological surgery m. waraich j. doyle t. samuel l. forni p211 identification risk factor development acute kidney injury lower limb arthroplasty n. desai r. baumber p. gunning a. sell p212 incidence association acute kidney injury major trauma s. lin h. torrence m. ’ dwyer c. kirwan j. prowle p213 acute kidney injury major trauma patient kim p214 trajectory serum creatinine major surgery diagnosis acute kidney injury m. e. ’ connor r. w. hewson c. j. kirwan r. m. pearse j. prowle p215 epidemiology acute kidney injury cardiac surgery single center retrospective study s. hanoura a. omar h. othamn s. sudarsanan m. allam m. maksoud r. singh a. al khulaifi p216 post-operative acute kidney injury major non-cardiac surgery association death following year m. e. ’ connor r. w. hewson c. j. kirwan r. m. pearse j. prowle p217 factor affecting acute renal failure intensive care unit effect factor mortality o. uzundere d. memis m. ýnal a. n. turan p218 result live kidney transplantation according national data turkish organ tissue information system m. a. aydin h. basar i. sencan a. kapuagasi m. ozturk z. uzundurukan d. gokmen a. ozcan c. kaymak p219 anaesthesia procedure intensive therapy patient neck phlegmon v. a. artemenko a. budnyuk p220 nasal high flow oygen acute respiratory failure systematic review r. pugh s. bhandari p221 setting optimal flow rate high flow nasal cannula support preliminary result t. mauri c. turrini t. langer p. taccone c. a. volta c. marenghi l. gattinoni a. pesenti p222 dose dose consistency across two different gas flow rate using cystic fibrosis normal adult breathing profile nasal high flow oxygen therapy l. sweeney ’ sullivan p. kelly e. mukeria r. macloughlin p223 final result evaluation airway medix closed suction system compared standard closed suction system m. pfeffer j. t. thomas g. b. bregman g. k. karp e. k. kishinevsky d. s. stavi n. a. adi p224 different cuff material different leak test one size fit t. poropat r. knafelj p225 observational study value cuff-leak test onset upper airway obstruction extubation e. llopart m. batlle c. de haro j. mesquida a. artigas p226 device emergency transtracheal lung ventilation d. pavlovic l. lewerentz a. spassov r. schneider p227 long-term outcome health-related quality life patient discharged intensive care unit tracheostomy without prolonged mechanical ventilation s. de smet s. de raedt e. derom p depuydt s. oeyen d. benoit j. decruyenaere p228 ultrasound-guided percutaneous dilational tracheostomy versus bronchoscopy-guided percutaneous dilational tracheostomy critically ill patient trachus randomized clinical trial a. gobatto b. bese p. tierno l. melro p. mendes f. cadamuro m. park l. m. malbouisson p229 safe discharge patient tracheostomy icu ward b. c. civanto j. l. lopez a. roble j. figueira s. yus a. garcia p230 application tracheostomy child icu a. oglinda g. ciobanu c. oglinda l. schirca t. sertinean v. lupu p231 impact passive humidifiers aerosol drug delivery mechanical ventilation p. kelly a. ’ sullivan l. sweeney r. macloughlin p232 evaluation vibrating mesh jet nebuliser performance two different attachment setup line humidifier nebuliser system a. ’ sullivan p. kelly l. sweeney e. mukeria m. wolny r. macloughlin p233 psv-niv versus cpap treatment acute cardiogenic pulmonary edema a. pagano f. numis g. vison l. saldamarco t. russo g. porta f. paladino p234 noninvasive ventilation patient haematologic malignancy retrospective review c. bell j. liu j. debacker c. lee e. tamberg v. campbell s. mehta p235 use non-invasive ventilation infectious disease besides classical indication a. silva-pinto a. sarmento l. santos p236 impact fragility noninvasive mechanical ventilation application result icu ý. kara f. yýldýrým a. zerman z. güllü n. boyacý b. basarýk aydogan ü. gaygýsýz k. gönderen g. arýk m. turkoglu m. aydogdu g. aygencel z. ülger g. gursel p237 effect metabolic alkalosis noninvasive ventilation success icu outcome patient hypercapnic respiratory failure n. boyacý z. isýkdogan ö. özdedeoglu z. güllü m. badoglu u. gaygýsýz m. aydogdu g. gursel p238 asynchrony index breathing pattern acute exacerbation copd patient assisted noninvasive pressure support ventilation neurally adjusted ventilatory assist n. kongpolprom c. sittipunt p239 high frequency jet ventilation severe acute hypoxemia a. eden y. kokhanovsky s. bursztein – de myttenaere r. pizov p240 hfov revisited 7 year retrospective analysis patient receiving hfov met oscillate trial entry criterion l. neilans n. macintyre p241 implementation goal-directed mechanical ventilation order set driven respiratory therapist improve compliance best practice mechanical ventilation m. radosevich b. wanta v. weber t. meyer n. smischney d. brown d. diedrich p242 reduction tidal volume ventilated patient icu calculated ibw minimise mortality comparison traditional strategy fuller p. mclindon k. sim p243 predictive value lung aeration scoring using lung ultrasound weaning failure m. shoaeir k. noeam a. mahrous r. matsa a. ali p244 conventional versus automated weaning mechanical ventilation using smartcare™ c. dridi s. koubaji s. kamoun f. haddad a. ben souissi b. laribi a. riahi m. s. mebazaa p245 ultrasonographic evaluation protocol weaning mechanichal ventilation a. pérez-calatayud r. carrillo-esper a. zepeda-mendoza m. diaz-carrillo e. arch-tirado p246 diaphragm ultrasonography method weaning patient mechanical ventilation s. carbognin l. pelacani f. zannoni a. agnoli g. gagliardi p247 dorsal diaphragmatic excursion track transpulmonary pressure ventilated ards patient potential non-invasive indicator lung recruitment r. cho a. adam s. lunos s. ambur r. shapiro m. prekker p248 pulse oximetry icu patient perfusion index value m. thijssen l. janssen n. foudraine p249 ventilation better assessment respiratory status etco2 c. j. voscopoulos j. freeman p250 evaluation relationship non-invasive minute ventilation end-tidal co2 patient undergoing general v spinal anesthesia c. j. voscopoulos j. freeman e. george p251 respiratory volume monitoring provides early warning respiratory depression used reduce false alarm non-intubated patient c. j. voscopoulos d. eversole j. freeman e. george p252 p/i index predictive edi-derived weaning index nava s. muttini r. bigi g. villani n. patroniti p253 adequacy ventilation patient receiving opioids post anesthesia care unit minute ventilation versus respiratory rate g. williams c. j. voscopoulos j. freeman e. george p254 comparison regional global expiratory time constant measured electrical impedance tomography eit a. waldmann s. böhm w. windisch s. strassmann c. karagiannidis p255 electrical impedance tomography robustness new pixel wise regional expiratory time constant calculation a. waldmann s. böhm w. windisch s. strassmann c. karagiannidis p256 validation regional global expiratory time constant measurement electrical impedance tomography ards obstructive pulmonary disease c. k. karagiannidis a. w. waldmann s. b. böhm s. strassmann w. w. windisch p257 transpulmonary pressure model elastic recoiling lung expanding chest wall p. persson s. lundin o. stenqvist p258 lactate pleural abdominal effusion g. porta f. numis c. s. serra a. p. pagano m. m. masarone l. r. rinaldi a. a. amelia m. f. fascione l. a. adinolfi e. r. ruggiero p259 outcome patient admitted intensive care pulmonary fibrosis f. asota k. ’ rourke s. ranjan p. morgan p260 sedation analgesia practice extra-corporeal membrane oxygenation ecmo -treated patient acute respiratory distress syndrome ards retrospective study j. w. debacker e. tamberg l. ’ neill l. munshi l. burry e. fan s. mehta p261 characteristic outcome patient deemed eligible referred veno-venous extracorporeal membrane oxygenation vv-ecmo s. poo k. mahendran j. fowles c. gerrard a. vuylsteke p262 save smr veno-arterial ecmo r. loveridge c. chaddock s. patel v. kakar c. willars t. hurst c. park t. best a. vercueil g. auzinger p263 simplified score predict early 48 h mortality patient considered va-ecmo a. borgman a. g. proudfoot e. grin k. e. emiley j. schuitema s. j. fitch g. marco j. sturgill m. g. dickinson m. strueber a. khaghani p. wilton s. m. jovinge p264 lung function six month post extra corporeal membrane oxygenation ecmo severe acute respiratory failure adult survivor c. sampson s. harris-fox p265 bicarbonate dialysis remove carbon dioxide hypoventilated rodent m. e. cove l. h. vu a. sen w. j. federspiel j. a. kellum p266 procalcitonin predictor primary graft dysfunction mortality post-lung transplantation c. mazo torre j. riera s. ramirez b. borgatta l. lagune j. rello p267 new molecular biomarkers acute respiratory distress syndrome abdominal sepsis a. k. kuzovlev v. moroz a. goloubev s. polovnikov s. nenchuk p268 tight junction ’ protein claudin -5 regulation tnf experimental murine lung injury model ali/ards v. karavana c. glynos a. asimakos k. pappa c. vrettou m. magkou e. ischaki g. stathopoulos s. zakynthinos p269 cell count endobronchial aspirate ass airway inflammation ards patient pilot study s. spadaro i. kozhevnikova f. dalla corte s. grasso p. casolari g. caramori c. volta p270 epidemiological clinical profile patient acute respiratory distress syndrome surgical intensive care unit surgical hospital jra antananarivo t. andrianjafiarinoa t. randriamandrato t. rajaonera p271 effect high peep recruitment maneuver right ventricular function ards good lung heart s. el-dash elv costa mr tucci f leleu l kontar b. de cagny f. brazier d. titeca g. bacari-risal j. maizel m. amato m. slama p272 effect recruitment maneuver left ventricular systolic strain p. mercado j. maizel l. kontar d. titeca f. brazier a. riviere m. joris t. soupison b. de cagny s. el dash m. slama p273 inhaled nitric oxide – switching supplier cost effective remmington a. fischer s. squire m. boichat p274 epidemiological study severe acute pancreatitis japan comparison etiology patient outcome 1159 patient h. honzawa h. yasuda t. adati s. suzaki m. horibe m. sasaki m. sanui p275 extracorporeal liver support therapy experience intensive care unit r. marinho j. daniel h. miranda a. marinho p276 accuracy mortality prediction model acute versus acute-on-chronic liver failure intensive care setting k. milinis m. cooper g. r. williams e. mccarron s. simants i. patanwala i. welter p277 risk coronary artery disease patient chronic liver disease population based cohort study y. su p278 20 year liver transplantation santiago de compostela spain experience review j. fernández villanueva r. fernández garda a. lópez lago e. rodríguez ruíz r. hernández vaquero s. tomé martínez de rituerto e. varo pérez p279 diarrhea risk factor liver injury may lead intestinal failure associated liver disease critical illness n. lefel f. schaap d. bergman s. olde damink m. van de poll p280 bowel care intensive care unit constipation guideline compliance complication k. tizard c. lister l. poole p281 malnutrition assessed phase angle determines outcome low risk cardiac surgery patient d. ringaitiene d. gineityte v. vicka i. norkiene j. sipylaite p282 preoperative fasting time irish hospital a. ’ loughlin v. maraj j. dowling p283 cost final outcome early x delayed feeding private brazil icu m. b. velasco d. m. dalcomune e. b. dia s. l. fernandes p284 ventilator derived energy expenditure measurement replace indirect calorimetry t. oshima s. graf c. heidegger l. genton v. karsegard y. dupertuis c. pichard p285 revisiting refeeding syndrome result systematic review n. friedli z. stanga b. mueller p. schuetz p286 compliance new protocol parenteral nutrition icu l. vandersteen b. stessel s. evers a. van assche l. jamaer j. dubois p287 nutrition may another treatment intensive care unit le r. marinho h. castro j. moura j. valente p. martin p. casteloes c. magalhaes s. cabral m. santos b. oliveira a. salgueiro a. marinho p288 provide protein critically ill patient r. marinho m. santos e. lafuente h. castro s. cabral j. moura p. martin b. oliveira a. salgueiro s. duarte s. castro m. melo p. casteloes a. marinho p289 protein provision adult intensive care unit s. gray p290 prevalence clinical outcome vitamin deficiency medical critically ill patient songklanagarind hospital k. maipang r. bhurayanontachai p291 vitamin deficiency strongly predicts adverse medical outcome across different medical inpatient population result prospective study l. g. grädel p. schütz p292 omega-3 fatty acid patient undergoing cardiac surgery systematic review meta-analysis p. langlois w. manzanares p293 5-hydroxytriptophan prevent post-traumatic stress disorder critically ill patient r. tincu c. cobilinschi d. tomescu z. ghiorghiu r. macovei p294 parenteral selenium critically ill updated systematic review meta-analysis w. manzanares p. langlois m. lemieux g. elke f. bloos k. reinhart d. heyland p295 probiotic critically ill updated systematic review meta-analysis p. langlois m. lemieux i. aramendi d. heyland w. manzanares p296 diabetes hyperglycemic crisis episode may associated higher risk pancreatic cancer population-based cohort study y. su p297 incidence hypoglycemia intensive care unit depending insulin protocol r. marinho n. babo a. marinho p298 severity disease two-dimensionally correlated blood glucose including blood glucose variability especially moderately severely ill patient glucose intolerance m. hoshino y. haraguchi s. kajiwara t. mitsuhashi t. tsubata m. aida p299 study glycemic control subcutaneous glargine injection transition continuous regular insulin infusion critically ill patient t. rattanapraphat r. bhurayanontachai c. kongkamol b. khwannimit p300 glycemic control portuguese intensive care unit r. marinho m. santos h. castro e. lafuente a. salgueiro s. cabral p. martin j. moura b. oliveira m. melo b. xavier j. valente c. magalhaes p. casteloes a. marinho p301 impact hyperglycemia duration day operation short-term outcome cardiac surgery patient d. moisidou f. ampatzidou c. koutsogiannidis m. moschopoulou g. drossos p302 lactate level diabetic ketoacidosis patient icu admission g. taskin m. çakir ak güler a. taskin n. öcal s. özer l. yamanel p303 intensive care implication merging heart attack centre unit london j. m. wong c. fitton s. anwar s. stacey p304 special characteristic in-hospital cardiac arrest m. aggou b. fyntanidou s. patsatzakis e. oloktsidou k. lolakos e. papapostolou v. grosomanidis p305 clinical evaluation icu-admitted patient resuscitated general medicine ward s. suda t. ikeda s. ono t. ueno y. izutani p306 serious game evaluation one-hour training basic life support session secondary school student new tool future bystander s. gaudry v. desailly p. pasquier pb brun tesnieres jd ricard d. dreyfus a. mignon p307 public clinical staff perception knowledge cpr compared local national data j. c white a. molokhia a. dean a. stilwell g. friedlaender p308 dispatcher-assisted telephone cardiopulmonary resuscitation using french-language compression-ventilation pediatric protocol m. peter s. stipulante a. delfosse af donneau a. ghuysen p309 dantrolene versus amiodarone resuscitation – experimental study c. feldmann d. freitag w. dersch m. irqsusi d. eschbach t. steinfeldt h. wulf t. wiesmann p310 long term survival functional neurological outcome comatose survivor undergoing therapeutic hypothermia n. kongpolprom j. cholkraisuwat p311 impact kidney disease mortality neurological outcome out-of-hospital cardiac arrest prospective observational study s. beitland e. nakstad h. stær-jensen t. drægni g. andersen d. jacobsen c. brunborg b. waldum-grevbo k. sunde p312 icu dependency patient admitted primary percutaneous coronary intervention ppci following hospital cardiac arrest k. hoyland d. pandit p313 prognostic indicator outcome prediction model patient return spontaneous circulation cardiopulmonary arrest comprehensive registry in-hospital intensive care ohca survival critical study osaka japan k. hayakawa p314 cerebral oxygen saturation resuscitation porcine model cardiac arrest e. oloktsidou k. kotzampassi b. fyntanidou s. patsatzakis l. loukipoudi e. doumaki v. grosomanidis p315 presumption cardiopulmonary resuscitation sustaining cerebral oxidation using regional cerebral saturation oxygen observational cohort study press study h. yasuda p316 eeg reactivity patient cardiac arrest close look stimulus mm admiraal m. van assen mj van putten m. tjepkema-cloostermans af van rootselaar j. horn p317 prognostic value neuron-specific enolase cardiac arrest f. ragusa a. marudi s. baroni a. gaspari e. bertellini p318 correlation electroencephalographic finding serum neuron specific enolase outcome post cardiac arrest patient a. taha t. abdullah s. abdel monem p319 introduction targeted temperature management strategy following cardiac arrest district general hospital intensive care unit s. alcorn s. mcneill s. russell p320 evolution cerebral oxygen saturation post-cardiac arrest patient treated therapeutic hypothermia w. eertmans c. genbrugge i. meex j. den f. jan c. de deyne p321 prognostic factor neurological outcome therapeutic hypothermia comatose survivor cardiac arrest 8-year single center experience j. cholkraisuwat n. kongpolprom p322 adherence targeted temperature management hospital cardiac arrest b. avard r. burn p323 implementation therapeutic hypothermia protocol comatose survivor out-of-hospital cardiac arrest a. patarchi t. spina p324 factor associated ventilator weaning targeted temperature management cardiac arrest patient japan h. tanaka n. otani s. ode s. ishimatsu p325 differential activation c-fos paraventricular nucleus hypothalamus thalamus rat following myocardial infarction j. cho j. b. moon c. w. park t. g. ohk m. c. shin m. h. p326 monitoring ctroponin patient acute ischemic stroke predictor inhospital mortality s. dakova z. ramsheva k. ramshev p327 hyperthermic preconditioning severely accelerates neuronal damage gerbil ischemic hippocampal dentate gyrus via decreasing sod expression j. cho j. b. moon c. w. park t. g. ohk m. c. shin p328 failure neuroprotection remote limb ischemic post conditioning hippocampus gerbil model transient cerebral ischemia j. cho j. b. moon c. w. park t. g. ohk m. c. shin p329 brain death admission diagnosis neurologic intensive care unit correlation marudi baroni gaspari e bertellini p330 brain magnetic resonance imaging finding patient septic shock g. orhun e. senturk p. e. ozcan s. sencer c. ulusoy e. tuzun f esen p331 benefit l-carnitine valproic acid induced encephalopathy r. tincu c. cobilinschi d. tomescu z. ghiorghiu r. macovei p332automatic analysis eeg reactivity comatose patient m. van assen m. m. admiraal m. j. van putten m. tjepkema-cloostermans a. f. van rootselaar j. horn p333 usefulness common icu severity scoring system predicting outcome spontaneous intracerebral hemorrhage m. fallenius m. b. skrifvars m. reinikainen s. bendel r. raj p334 evalution patient suspected subarachnoid haemorrhage negative ct imaging m. abu-habsa c. hymers a. borowska h. sivadhas s. sahiba s. perkins p335 timing endovascular surgical treatment aneurysmal subarachnoid haemorrhage early fast j. rubio j. a. rubio r. sierra p336 red blood cell transfusion aneurysmal subarachnoid hemorrhage – sahara cohort study s. english m. chasse a. turgeon f. lauzier d. griesdale a. garland d. fergusson r. zarychanski a. tinmouth c. van walraven k. montroy j. ziegler r. dupont chouinard r. carignan a. dhaliwal c. lum j. sinclair g. pagliarello l. mcintyre p337 aneurysmal subarachnoid hemorrhage anemia canadian multi-centre retrospective cohort study s. english m. chasse a. turgeon f. lauzier d. griesdale a. garland d. fergusson r. zarychanski a. tinmouth c. van walraven k. montroy j. ziegler r. dupont chouinard r. carignan a. dhaliwal c. lum j. sinclair g. pagliarello l. mcintyre p338 neutrophil-to-lymphocyte nlr ratio predict symptomatic vasospasm delayed cerebral ischemia dci aneurysmal subarachnoid haemorrhage sah t. groza n. moreau d. castanares-zapatero p. hantson p339 icu-acquired infection aneurysmal subarachnoid hemorrhage patient impact icu hospital length stay m. carbonara f. ortolano t. zoerle s. magnoni s. pifferi v. conte n. stocchetti p340 cerebral metabolic effect normobaric hyperoxia acute phase aneurysmal subarachnoid hemorrhage l. carteron t. suys c. patet h. quintard m. oddo p341 postoperative care elective craniotomy best done j. a. rubio j. rubio r. sierra p342 5-year follow-up patient transplantation organ donor neurocritical care v. spatenkova e. pokorna p. suchomel p343 evaluation levetiracetam pharmacokinetics severe traumatic brain injury neurocritical care patient level one trauma center n. ebert j. jancik h. rhodes p344 model based time series cluster analysis determine unique patient state traumatic brain injury t. bylinski c. hawthorne m. shaw i. piper j. kinsella p345 brain compartment monitoring capability icp bi bioimpedance h hypertonic saline administration state art simulation outcome depending brain swelling type a. k. kink i. r. rätsep p346 transfusion red blood cell patient traumatic brain injury admitted canadian trauma health center multicenter cohort study a. boutin l. moore m. chasse r. zarychanski f. lauzier s. english l. mcintyre j. lacroix d. griesdale p. lessard-bonaventure a. f. turgeon p347 hemoglobin threshold red blood cell transfusion adult patient moderate severe traumatic brain injury retrospective cohort study a. boutin l. moore r. green p. lessard-bonaventure m. erdogan m. butler f. lauzier m. chasse s. english l. mcintyre r. zarychanski j. lacroix d. griesdale p. desjardins d. a. fergusson a. f. turgeon p348 characteristic patient gunshot wound head observational brazilian study b. goncalves b. vidal c. valdez a. c. rodrigues l. miguez g. moralez p349 base excess predictor icu admission injury severity blunt trauma patient t. hong p350 enhancement usual emergency department care proadrenomedullin improve outcome prediction result multi-national prospective observational triage study a. kutz p. hausfater d. amin t. struja s. haubitz a. huber b. mueller p. schuetz p351 developing innovative emergency medicine point-of-care simulation programme t. brown j. collinson c. pritchett t. slade p352 insim program situ simulation program junior trainee intensive care m. le guen s. hellings r. ramsaran p353 impact excessive inappropriate troponin testing emergency setting good a. alsheikhly p354 development time tracking monitor emergency department t. abe p355 role focussed echocardiography emergency assessment syncope l. kanapeckaite m. abu-habsa r. bahl p356 insertion open-ended 14-gauge catheter chest wall cause significant pneumothorax self-ventilating swine model m. q russell k. j. real m. abu-habsa r. m. lyon n. p. oveland p357 ez-io® intraosseous access teaching workplace using mobile ‘ tea trolley ’ training method j. penketh m. mcdonald f. kelly p358 black widow envenomation saudi arabia prospective observational case series m. alfafi s. alsolamy w. almutairi b. alotaibi p359 mechanical ventilation patient overdose yet intubated icu admission a. e. van den berg y. schriel l. dawson i. a. meynaar p360 central nervous system depressant poisoning ventilator associated pneumonia underrated risk factor toxicological intensive care unit h. talaie p361 acute barium intoxication treated hemodiafiltration d. silva s. fernandes j. gouveia j. santos silva p362 major trauma presenting emergency department spectrum cycling injury ireland j. foley a. kaskovagheorgescu d. evoy j. cronin j. ryan p363 burn french military operation 14-year retrospective observational analysis m. huck c. hoffmann j. renner p. laitselart n. donat a. cirodde j. v. schaal y. masson a. nau t. leclerc p364 comparison mortality score burn patient intensive care unit o. howarth k. davenport p. jeanrenaud s. raftery p365 clasification pain treatment intensive care rehabiliation clinic p. mactavish h. devine j. mcpeake m. daniel j. kinsella t. quasim p366 pain management adequacy critical care area process barrier perceived critical care nurse s. alrabiee a. alrashid s. alsolamy p367 pain assessment critically ill adult patient validation turkish version critical-care pain observation tool o. gundogan c. bor e. akýn korhan k. demirag m. uyar p368 audit pain sedation assessment intensive care unit recommendation clinical practice f. frame c. ashton l. bergstrom niska p369 impact pharmaceutical care treatment pain agitation medical intensive care unit p. dilokpattanamongkol t. suansanae c. suthisisang s. morakul c. karnjanarachata v. tangsujaritvijit p370 agitation trauma icu prevention outcome s. mahmood h. al thani a. almenyar p371 correlation percentage ventilated patient developed vap use sedative agent icu patient a. vakalos v. avramidis p372 improving recording sedation event emergency department implementation siva international taskforce adverse event reporting tool procedural sedation r. sharvill j. penketh p373 impact sedative drug use length mechanical ventilation s. e. morton y. s. chiew c. pretty j. g. chase g. m. shaw p374 co-administration nitric oxide sevoflurane using anaconda r. knafelj p. kordis p375 retrospective study use dexmedetomidine oncological critical care setting s. patel v. grover p376 dexmedetomidine posttraumatic stress disorder incidence alcohol withdrawal icu patient i. kuchyn k. bielka p377 hemodynamic effect dexmedetomidine porcine model septic shock z. aidoni v. grosomanidis k. kotzampassi g. stavrou b. fyntanidou s. patsatzakis c. skourtis p378 ketamine analgosedation severe hypoxic respiratory failure s. d. lee k. williams i. d. weltes p379 madness moon lunar cycle incidence delirium intensive care unit s. berhane c. arrowsmith c. peter s. robert p380 impaired dynamic cerebral autoregulation coronary artery bypass grafting association postoperative delirium j. caldas r. b. panerai t. g. robinson l. camara g. ferreira e. borg-seng-shu m. de lima oliveira n. c. mian l. santos r. nogueira s. p. zeferino m. jacobsen teixeira f. gala l. a. hajjar p381 risk factor predicting prolonged intensive care unit length stay major elective surgery p. killeen m. mcphail w. bernal j. maggs j. wendon t. hughes p382 systemic inflammatory response syndrome criterion hospital mortality prediction brazilian cohort critically ill patient l. u. taniguchi e. m. siqueira j. m. vieira jr l. c. azevedo p383 evaluating efficacy risk predictor panel identifying patient elevated risk morbidity following emergency admission a. n. ahmad m. abu-habsa r. bahl e. helme s. hadfield r. loveridge p384 retrospective comparison outcome elective surgical patient admitted post-operatively critical care unit general ward j. shak c. senver r. howard-griffin p385 effect obesity mortality surgical critically ill patient p. wacharasint p. fuengfoo n. sukcharoen r. rangsin p386 national early warning score news reliably improves adverse clinical outcome prediction community-acquired pneumonia result 6 year follow-up d. sbiti-rohr p. schuetz p387 clinical usefulness charlson¡¯s weighted index comorbidities _as prognostic factor patient prolonged acute mechanical ventilation h. na s. song s. lee e. jeong k. lee p388 comparison mortality prediction scoring system patient cirrhosis admitted general intensive care unit m. cooper k. milinis g. williams e. mccarron s. simants i. patanwala i. d. welter p389 impact admission source time admission outcome pediatric intensive care patient retrospective 15 year study e. zoumpelouli ea volakli v. chrysohoidou s. georgiou k. charisopoulou e. kotzapanagiotou v. panagiotidou k. manavidou z. stathi m. sdougka p390 heart rate variability outcome prediction critical illness n. salahuddin b. alghamdi q. marashly k. zaza m. sharshir m. khurshid z. ali m. malgapo m. jamil a. shafquat m. shoukri m. hijazi p391 incidence outcome hyperlactatemia post anaesthesia care unit t. abe s. uchino m. takinami p392 correlation arterial blood gas disturbance arterial lactate level hospitalization outcome critically septic patient n. r. rangel neto s. oliveira f. q. real f. a. rocha p393 external validation sap 3 mpm iii score 48,816 patient 72 brazilian icu g. moralez k. ebecken l. s. rabello m. f. lima r. hatum f. v. de marco a. alves j. e. pinto m. godoy p. e. brasil f. a. bozza j. i. salluh m. soares p394 frailty penalty pre-admission functional status confounds mortality prediction model critically ill patient j. krinsley g. kang p395 ‘ sooner rather later ” delayed discharge critical care lead increased hour discharge subsequent increase in-hospital mortality j. perry h. hines p396 identifying poor outcome patient group resource-constrained critical care unit k. m. wilkinson c. tordoff b. sloan m. c. bellamy p397 effect icu weekend admission discharge mortality e. moreira f. verga m. barbato g. burghi p398 organizational factor outcome resource use 9,946 cancer patient admitted 70 icu soares u. v. silva l. c. azevedo a. p. torelly j. m. kahn d. c. angus m. f. knibel p. e. brasil f. a. bozza j. i. salluh p399 evaluation oncological critically ill patient severity score outcome compared oncological particular hospital cti m. b. velasco d. m. dalcomune p400 outcome patient admitted large uk critical care department palliative oncological diagnosis r. marshall t. gilpin a. tridente a. raithatha p401 predictor mortality febrile neutropenic patient haematological malignancy admitted intensive care unit cancer center d. mota b. loureiro j. dia o. afonso f. coelho a. martin f. faria p402 patient hematologic malignancy requiring invasive mechanical ventilation characteristic predictor mortality h. al-dorzi h. al orainni f. aleid h. tlaygeh a. itani a. hejazi y. arabi p403 patient-important outcome randomized controlled trial critically ill patient systematic review s. gaudry j. messika j. d. ricard s. guillo b. pasquet e. dubief d. dreyfus f. tubach p404 alopecia survivor critical illness qualitative study c battle k. james p. temblett p405 impact mental health icu admission l. davy c. battle c. lynch p406 cognitive impairment 5 year icu discharge s. pereira s. cavaco j. fernandes i. moreira e. almeida f. seabra pereira m. malheiro f. cardoso i. aragão t. cardoso p407 apache ii versus apache iv octagenerians medical icu m. fister r. knafelj p408 outcome octagenarians indian icu p. muraray govind n. brahmananda reddy r. pratheema e. d. arul j. devachandran p409 mortality outcome elderly patient 80 year age older admitted icu m. b. velasco d. m. dalcomune p410 octagenerians medical icu adding day life life day r. knafelj m. fister p411 elderly admitted intensive care unit outcome economic evaluation n. chin-yee g. ’ egidio k. thavorn d. heyland k. kyeremanteng p412 elderly intensive care relationship acuity illness long-term mortality a. g. murchison k. swalwell j. mandeville d. stott p413 acquired weakness oncological intensive care unit i. guerreiro p414 musculoskeletal problem intensive care unit icu patient post-discharge h. devine p. mactavish j. mcpeake t. quasim j. kinsella m. daniel p415 premorbid obesity nutrition prevents critical illness-induced muscle wasting weakness c. goossens m. b. marque s. derde s. vander perre t. dufour s. e. thiessen f. güiza t. janssens g. herman i. vanhorebeek k. de bock g. van den berghe l. langouche p416 physical outcome measure critical care patient following intensive care unit icu discharge h. devine p. mactavish t. quasim j. kinsella m. daniel j. mcpeake p417 improving active mobilisation general intensive care unit b. mile s. madden h. devine p418 mobilization patient vasoactive drug use – pilot study m. weiler p. marque c. rodrigues m. boeira k. brenner c. leães a. machado r. townsend j. andrade p419 pharmacy intervention intensive care rehabilitation clinic p. mactavish j. mcpeake h. devine j. kinsella m. daniel r. kishore c. fenlon t. quasim p420 interactive gaming feasible potentially increase icu patient ’ motivation engaged rehabilitation program t. fiks a. ruijter m. te raa p. spronk p421 simulation-based design robust stopping rule ensure patient safety y. s. chiew p. docherty j. dickson e. moltchanova c. scarrot c. pretty g. m. shaw j. g. chase p422 daily blood test intensive care unit necessary t. hall w. c. ngu j. m. jack p. morgan p423 measuring urine output ward patient helpful b. avard a. pavli x. gee p424 incidence pressure ulcer adult mixed intensive care unit turkey c bor e. akin korhan k. demirag m. uyar p425 intensivist/patient ratio closed icu alexandria egypt overview m. shirazy a. fayed p426 eicu electronic intensive care unit impact alos average length stay developing country like india s. gupta a. kaushal s. dewan a. varma p427 predicting deterioration general ward using early deterioration indicator e. ghosh l. yang l. eshelman b. lord e. carlson p428 high impact enhanced critical care outreach imobile service making difference e. helme r. broderick s. hadfield r. loveridge p429 impact bed availability cognitive load intensive care unit icu bed allocation vignette-based trial j. ramos d. forte p430 characteristic critically ill patient admitted emergency department f. yang p. hou p431 admission critical care quantification functional reserve j. dudziak j. feeney k. wilkinson k. bauchmuller k. shuker m. fauld a. raithatha d. bryden l. england n. bolton a. tridente p432 admission critical care importance frailty k. bauchmuller k shuker tridente fauld matheson j. gaynor bryden south yorkshire hospital research collaboration p433 development instrument aid triage decision intensive care unit admission j. ramos b. peroni r. daglius-dias l. miranda c. cohen c. carvalho velasco d. forte p434 using selective serotonin re-uptake inhibitor serotonin-norepinephrine re-uptake inhibitor critical care systematic review evidence benefit harm j. m. kelly a. neill g. rubenfeld n. masson a. min p435 measuring adaptive coping hospitalized patient severe medical condition sickness insight coping questionnaire sicq e. boezeman j. hofhuis a. hovingh r. de vries p. spronk p436 result national survey regarding intensive care medicine training g. cabral-campello i. aragão t. cardoso p437 work engagement among healthcare professional intensive care unit m. van mol m. nijkamp e kompanje p438 empowering intensive care practitioner burnout ameliorating intervention p. ostrowski a. omar p439 icu patient suffer circadian rhythm desynchronisation k. kiss b. köves v. csernus z. molnár p440 noise reduction icu feasible y. hoydonckx s. vanwing b. stessel a. van assche l. jamaer j. dubois p441 accidental removal invasive device critical patient bed-washing presence professional nurse modify incidence v. medo r. galvez j. p. miranda p442 deprivation liberty safeguard dol audit compliance 16-bed specialist cancer critical care unit c. stone t. wigmore p443 use modified cristal score predict futility critical care elderly y. arunan a. wheeler k. bauchmuller d. bryden p444 improvement referral rate palliative care patient poor prognosis neurosurgical intensive care unit y. wong c. poi c. gu p445 factor associated limitation life supporting care lsc medico-surgical intermediate care unit outcome patient lsc limitation monocentric six-month study p. molmy n. van grunderbeeck o. nigeon m. lemyze d. thevenin j. mallat p446 palliative care consultation intensive care unit admission request cohort study j. ramos m. correa r. t. carvalho d. forte p447 nursing medicine together postsurgical intensive care unit situation prognostic conflict end life critical care nurse suffer medical activism a. fernandez c. mcbride p448 end life may decide e. koonthalloor c. walsh p449 correctly diagnosing death a. webber m. ashe k. smith p. jeanrenaud p450 skin procurement performed intensive care physician yes a. marudi s. baroni f. ragusa e. bertellini p451 death analysis pediatric intensive care patient e. a. volakli e. chochliourou m. dimitriadou a. violaki p. mantzafleri e. samkinidou o. vrani a. arbouti t. varsami m. sdougka p452 potential impact euthanasia organ donation analysis data belgium j. a. bollen t. c. van smaalen w. c. de jongh m. m. ten hoopen d. ysebaert l. w. van heurn w. n. van mook p453 communication within intensive care setting k. sim a. fuller p454 development implementation longitudinal communication curriculum critical care medicine fellow a. roze de ordons p. couillard c. doig p455 staff-family conflict multi-ethnic intensive care unit r. v. van keer r. d. deschepper a. f. francke l. h. huyghens j. b. bilsen p456 source admission critical care affect family satisfaction b. nyamaizi c. dalrymple a. molokhia a. dobru p457 simple alternative family satisfaction survey fs-icu e. marrinan a. ankuli a. molokhia p458 study explore experience patient family volunteer critical care environment phenomenological analysis j. mcpeake r. struthers r. crawford h. devine p. mactavish t. quasim p459 prevalence risk factor anxiety depression relative burn patient p. morelli m. degiovanangelo f. lemos v. martinez f. verga j. cabrera g. burghi p460 guidance visiting child adult intensive care unit icu a. rutten s. van ieperen s. de geer m. van vugt e. der kinderen p461 visiting policy italian pediatric icu update a. giannini g miccinesi marchesi e prandi\n",
      "\n",
      "pd1g119c:\n",
      "abstract 3rd international genomic medicine conference 3rd igmc 2015 jeddah kingdom saudi arabia 30 november 3 december 2015 o1 regulation gene telomere length long distance jerry w. shay o2 microtubule destabilizer kif2a regulates postnatal establishment neuronal circuit addition prenatal cell survival cell migration axon elongation loss leading malformation cortical development severe epilepsy noriko homma ruyun zhou muhammad imran naseer adeel g. chaudhary mohammed al-qahtani nobutaka hirokawa o3 integration metagenomics metabolomics gut microbiome research maryam goudarzi albert j. fornace jr. o4 unique integrated system discern pathogenesis central nervous system tumor saleh baeesa deema hussain mohammed bangash fahad alghamdi hans-juergen schulten angel carracedo ishaq khan hanadi qashqari nawal madkhali mohamad saka kulvinder s. saini awatif jamal jaudah al-maghrabi adel abuzenadah adeel chaudhary mohammed al qahtani ghazi damanhouri o5 rpl27a target mir-595 deficiency contributes ribosomal dysgenesis heba alkhatabi o6 next generation dna sequencing panel haemostatic platelet disorder fanconi anaemia routine diagnostic service anne goodeve laura crookes nikolas niksic nicholas beauchamp o7 targeted sequencing panel utilization personalized medicine adel m. abuzenadah o8 international biobanking era precision medicine jim vaught o9 biobank biodata clinical forensic application bruce budowle mourad assidi abdelbaset buhmeida o10 tissue microarray technique powerful adjunct tool molecular profiling solid tumor jaudah al-maghrabi o11 cegmr biobanking unit achievement challenge future plan abdelbaset buhmeida mourad assidi leena merdad o12 phylomedicine tumor sudhir kumar sayaka miura karen gomez o13 clinical implementation pharmacogenomics colorectal cancer treatment angel carracedo mahmood rasool o14 association causality translation gwas finding genomic medicine ahmed rebai o15 e-grasp interactive database web application efficient analysis disease-associated genetic information sajjad karim hend f nour eldin heba abusamra elham alhathli nada salem mohammed h al-qahtani sudhir kumar o16 supercomputer facility “ aziz ” kau utility future prospect hossam faheem o17 new research cause male infertility ashok agarwa o18 klinefelter syndrome recent progress pathophysiology management eberhard nieschlag joachim wistuba oliver s. damm mohd a. beg taha a. abdel-meguid hisham a. mosli osama s. bajouh adel m. abuzenadah mohammed h. al-qahtani o19 new look reproductive medicine era genomics serdar coskun p1 wnt signalling receptor expression saudi breast cancer patient muhammad abu-elmagd abdelbaset buhmeida ashraf dallol jaudah al-maghrabi sahar hakamy wejdan al-qahtani asia al-harbi shireen hussain mourad assidi mohammed al-qahtani adel abuzenadah p2 analysis oxidative stress interactome spermatogenesis system biology approach reproduction burak ozkosem rick dubois p3 interleukin-18 gene variant strongly associated idiopathic recurrent pregnancy loss safia messaoudi maryam dandana touhami mahjoub wassim almawi p4 effect environmental factor gene-gene gene-environment reaction model theoretical study applied environmental intervention using genotype s. abdalla m. nabil al-aama p5 genomics transcriptomic analysis imatinib resistance gastrointestinal stromal tumor asmaa elzawahry tsuyoshi takahashi sachiyo mimaki eisaku furukawa rie nakatsuka isao kurosaka takahiko nishigaki hiromi nakamura satoshi serada tetsuji naka seiichi hirota tatsuhiro shibata katsuya tsuchihara toshirou nishida mamoru kato p6 in-silico analysis putative hcv epitope pakistani human leukocyte antigen background approach towards development future vaccine pakistani population sajid mehmood naeem mahmood ashraf awais asif muhammad bilal malik siddique mehmood aadil hussain p7 inhibition ache buche natural compound bacopa monerri treatment alzheimer ’ disease bioinformatics approach qazi mohammad sajid jamal mughees uddin siddiqui mohammad a. alzohairy mohammad a. al karaawi p8 her2 expression urothelial cell carcinoma bladder saudi arabia taoufik nedjadi jaudah al-maghrabi mourad assidi heba al-khattabi adel al-ammari ahmed al-sayyad abdelbaset buhmeida mohammed al-qahtani p9 association angiotensinogen single nucleotide polymorphism preeclampsia patient north africa hédia zitouni nozha raguema marwa ben ali wided malah raja lfalah wassim almawi touhami mahjoub p10 system biology analysis reveals relation normal skin benign nevus malignant melanoma mohammed elanbari andrey ptitsyn p11 apoptotic effect thymoquinone jurkat cell sana mahjoub rabeb el ghali bechir achour nidhal ben amor mourad assidi brahim n'siri hamid morjani p12 sonic hedgehog contributes bladder cancer invasion saudi arabia taoufik nedjadi adel al-ammari ahmed al-sayyad nada salem esam azhar jaudah al-maghrabi p13 association interleukin 18 gene promoter polymorphism 607a/c -137 g/c colorectal cancer onset sample tunisian population vera chayeb maryam dendena hedia zitouni khedija zouari-limayem touhami mahjoub p14 pathological expression interleukin-6 -11 leukemia inhibitory factor receptor tubal gestation without tubal cytomegalovirus infection bassem refaat ahmed ashshi sarah batwa p15 phenotypic genetic profiling avian pathogenic human diarrhegenic escherichia coli egypt hazem ramadan amal awad ahmed ateya p16 cancer-targeting dual gene virotherapy promising therapeutic strategy treatment hepatocellular carcinoma adel galal ahmed el-shemi ahmad ashshi mohammed basalamah youjin na chae-ok yun p17 cancer dual gene therapy oncolytic adenovirus expressing trail il-12 transgene markedly eradicated human hepatocellular carcinoma vitro vivo adel galal ahmed el-shemi ahmad ashshi mohammed basalamah youjin na chae-ok yun p18 therapy paricalcitol attenuates tumor growth augments tumoricidal anti-oncogenic effect 5-fluorouracil animal model colon cancer adel galal el-shemi bassem refaat osama kensara amr abdelfattah p19 effect rubus idaeus extract normal human lymphocyte cancer cell line batol imran dheeb mohammed m. f. al-halbosiy rghad kadhim al lihabi basim mohammed khashman p20 etanercept tnf-alpha inhibitor alleviates mechanical hypersensitivity spontaneous pain rat model chemotherapy-induced neuropathic pain djouhri laiche chaudhary adeel nedjadi taoufik p21 sleeping beauty mutagenesis system identified gene neuronal transcription factor network involved pediatric solid tumour medulloblastoma hani al-afghani maria łastowska haya h al-balool harsh sheth emma mercer jonathan coxhead chris pf redfern heiko peter alastair burt mauro santibanez-koref chris bacon louis chesler alistair g rust david j adam daniel williamson steven c clifford michael jackson p22 involvement interleukin-1 vitiligo pathogenesis mala singh mohmmad shoab mansuri shahnawaz d. jadeja hima patel yogesh s. marfatia rasheedunnisa begum p23 cytogenetics abnormality 12,884 referred population chromosomal analysis role fish refining diagnosis cytogenetic experience 2004-2013 amal mohamed alaa k kamel nivin helmy sayda hammad hesham f kayed marwa shehab assad el gerzawy maha m. ead ola ead mona mekkawy innas mazen mona el-ruby p24 analysis binding property angiotensin-converting enzyme 2 silico method s. m. a. shahid qazi mohammad sajid jamal j. m. arif mohtashim lohani p25 relationship genetics marker ci trans β-s globin gene fetal hemoglobin expression tunisian sickle cell patient moumni imen chaouch leila ouragini houyem douzi kais chaouachi dorra mellouli fethi bejaoui mohamed abbe salem p26 analysis estrogen receptor alpha gene polymorphism breast cancer link genetic predisposition sudanese woman areeg faggad amanuel gebreslasie hani zaki badreldin e abdalla p27 kcnqi gene polymorphism association cvd t2dm saudi population maha alshammari rhaya al-ali nader al-balawi mansour al-enazi ali al-muraikhi fadi busaleh ali al-sahwan francis borgio abdulazeez sayyed amein al-ali sadananda acharya p28 clinical neuroimaging cytogenetic study patient microcephaly capillary malformation syndrome maha s. zaki hala t. el-bassyouni marwa i. shehab p29 altered expression cd200r1 dendritic cell patient inflammatory bowel disease silico investigation clinical evaluation mohammed f. elshal kaleemuddin m. alia m. aldahlawi omar saadah j. philip mccoy p30 development real time pcr diagnostic protocol specific saudi arabian h1n1 viral strain adel e el-tarras nabil awad abdulla alharthi mohamed ibrahim p31 identification novel genetic variation affecting osteoarthritis patient haneen alsehli ashraf dallol abdullah gari mohammed abbas roaa kadam mazen m. gari mohmmed h alkaff adel abuzenadah mamdooh gari p32 integrated database gwas snvs evolutionary property heba abusamra sajjad karim hend f nour eldin elham alhathli nada salem sudhir kumar mohammed h al-qahtani p33 familial hypercholesterolemia saudi arabia prime time national registry genetic analysis fatima a. moradi omran m. rashidi zuhier a. awan p34 comparative genomics network-based analysis early hepatocellular carcinoma ibrahim hamza kaya olfat al-harazi dilek colak p35 talen-based oncolytic viral vector approach knock abcb1 gene mediated chemoresistance cancer stem cell nabila alkousi takis athanasopoulos p36 cartilage differentiation gene expression synovial fluid mesenchymal stem cell derived osteoarthritis patient afnan bahmaid etimad alhwait mamdooh gari haneen alsehli mohammed abbas mohammed h alkaf roaa kadam ashraf dallol gauthaman kalamegam p37 e-grasp adding evolutionary component genome-wide repository association grasp resource hend f nour eldin sajjad karim heba abusamra elham alhathli nada salem mohammed h al-qahtani sudhir kumar p38 screening agl gene mutation saudi family glycogen storage disease type iii salma n alsayed fawziah h aljohani samaher habeeb rawan almashali sulman basit samia ahmed p39 high throughput proteomic data suggest modulation camp dependent protein kinase mitochondrial function infertile patient varicocele rakesh sharma ashok agarwal damayanthi durairajanayagam luna samanta muhammad abu-elmagd adel m. abuzenadah edmund s. sabanegh mourad assidi mohammed al-qahtani p40 significant protein profile alteration men primary secondary infertility ashok agarwal rakesh sharma luna samanta damayanthi durairajanayagam mourad assidi muhammad abu-elmagd mohammed al-qahtani adel m. abuzenadah edmund s. sabanegh p41 spermatozoon maturation infertile patient involves compromised expression heat shock protein luna samanta ashok agarwal rakesh sharma zhihong cui mourad assidi adel m. abuzenadah muhammad abu-elmagd mohammed al-qahtani p42 array comparative genomic hybridization approach search genomic answer spontaneous recurrent abortion saudi arabia alaa alboogmi nuha alansari maha al-quaiti fai ashgan afnan bandah hasan jamal abdullraheem rozi zeenat mirza adel abuzenadah sajjad karim mohammed h al-qahtani p43 global gene expression profiling saudi kidney cancer patient sajjad karim hans-juergen schulten ahmad j al sayyad hasan farsi jaudah al-maghrabi zeenat mirza reem alotibi alaa al-ahmadi nuha alansari alaa albogmi maha al-quaiti fai ashgan afnan bandah mohammed h al-qahtani p44 downregulated star gene male reproductive dysfunction caused nifedipine ethosuximide rasha ebiya samia darwish metwally m. montaser p45 clustering based gene expression feature selection method computational approach enrich classifier efficiency differentially expressed gene heba abusamra vladimir b. bajic p46 prognostic significance osteopontin expression profile colorectal carcinoma jaudah al-maghrabi wafaey gomaa mehenaz hanbazazh mahmoud al-ahwal asia al-harbi wejdan al-qahtani saher hakamy ghali baba abdelbaset buhmeida mohammed al-qahtani p47 high glypican-3 expression pattern predicts longer disease-specific survival colorectal carcinoma jaudah al-maghrabi abdullah al-harbi mahmoud al-ahwal asia al-harbi wejdan al-qahtani sahar hakamy ghalia baba abdelbaset buhmeida mohammed al-qahtani p48 evolutionary re-assessment gwas single nucleotide variant implicated cholesterol trait elham alhathli sajjad karim nada salem hend nour eldin heba abusamra sudhir kumar mohammed h al-qahtani p49 derivation characterization human wharton ’ jelly stem cell hwjscs vitro future therapeutic application aisha alyamani gauthaman kalamegam etimad alhwait mamdooh gari mohammed abbas mohammed h alkaf haneen alsehli roaa kadam mohammed al-qahtani p50 attitude healthcare student toward biomedical research post-genomic era rawan gadi abdelbaset buhmeida mourad assidi adeel chaudhary leena merdad p51 evaluation immunomodulatory effect thymoquinone human bone marrow mesenchymal stem cell bm-mscs osteoarthritic patient saadiah alfakeeh etimad alhwait mamdooh gari mohammed abbas mohammed h alkaf haneen alsehli roaa kadam gauthaman kalamegam p52 implication il-10 il-28 polymorphism successful anti-hcv therapy viral clearance rubi ghazala shilu mathew m.haroon hamed mourad assidi mohammed al-qahtani ishtiaq qadri p53 selection flavonoid obesity protein fto using silico vitro approach shilu mathew lobna mira manal shaabad shireen hussain mourad assidi muhammad abu-elmagd mohammed al-qahtani p54 computational selection vitro validation flavonoid new antidepressant agent shilu mathew manal shaabad lobna mira shireen hussain mourad assidi muhammad abu-elmagd mohammed al-qahtani p55 silico prediction prioritization aging candidate gene associated progressive telomere shortening ahmed rebai mourad assidi abdelbaset buhmeida muhammad abu-elmagd ashraf dallol jerry w shay p56 identification new cancer testis antigen gene diverse type malignant human tumour cell mikhlid h almutairi p57 comprehensive forensic genetic marker analysis accurate human remains identification using massively parallel sequencing mp angie amber jennifer churchill jonathan king monika stoljarova harrell gill-king mourad assidi muhammad abu-elmagd abdelbaset buhmeida muhammad al-qatani bruce budowle p58 flow cytometry approach towards treatment men infertility saudi arabia muhammad abu-elmagd farid ahmed ashraf dallol mourad assidi taha abo almagd sahar hakamy ashok agarwal muhammad al-qahtani adel abuzenadah p59 tissue microarray based validation cyclind1 expression renal cell carcinoma saudi kidney patient sajjad karim hans-juergen schulten ahmad j al sayyad hasan farsi jaudah al-maghrabi abdelbaset buhmaida zeenat mirza reem alotibi alaa al-ahmadi nuha alansari alaa albogmi maha al-quaiti fai ashgan afnan bandah mohammed h al-qahtani p60 assessment gold nanoparticles molecular diagnostics dna damage study rukhsana satar mahmood rasool waseem ahmad nazia nazam mohamad lone muhammad naseer mohammad jamal syed k zaidi peter n pushparaj mohammad jafri shakeel ansari mohammed h alqahtani p61 surfing biospecimen management processing workflow cegmr biobank hanan bashier abrar al qahtani shilu mathew amal m. nour heba alkhatabi adel m. abu zenadah abdelbaset buhmeida mourad assidi muhammed al qahtani p62 autism spectrum disorder knowledge attitude awareness jeddah kingdom saudi arabia muhammad faheem shilu mathew shiny mathew peter natesan pushparaj mohammad h. al-qahtani p63 simultaneous genetic screening coagulation pathway gene using thromboscan targeted sequencing panel hani a. alhadrami ashraf dallol adel abuzenadah p64 genome wide array comparative genomic hybridization analysis patient syndromic congenital heart defect ibtessam r. hussein adeel g. chaudhary rima bader randa bassiouni maha alquaiti fai ashgan han schulten mohamed nabil alama mohammad h. al qahtani p65 toxocogenetic evaluation 1 2-dichloroethane bone marrow blood cell immune system using conventional molecular flowcytometric approach mohammad lone nazia nizam waseem ahmad mohammad jafri mahmood rasool shakeel ansari muhammed h al-qahtani p66 molecular cytogenetic diagnosis sexual development disorder newborn case ambiguous genitalia eradah alshihri muhammad abu-elmagd lina alharbi mourad assidi mohammed al-qahtani p67 identification disease specific gene expression cluster pathway hepatocellular carcinoma using silico methodology shilu mathew peter pushparaj natesan muhammed al qahtani p68 human wharton ’ jelly stem cell conditioned medium inhibits primary ovarian cancer cell vitro identification probable target mechanism using system biology gauthaman kalamegam peter natesan pushparaj fazal khan roaa kadam farid ahmed mourad assidi khalid hussain wali sait nisreen anfinan mohammed al qahtani p69 mutation spectrum aspm abnormal spindle-like microcephaly-associated gene saudi arabian population muhammad naseer adeel g chaudhary mohammad jamal shilu mathew lobna mira peter n pushparaj shakeel ansari mahmood rasool mohammed h alqahtani p70 identification characterization novel gene mutation primary microcephaly saudi arabian population muhammad naseer adeel g chaudhary shilu mathew lobna mira mohammad jamal sameera sogaty randa bassiouni mahmood rasool mohammed h alqahtani p71 molecular genetic analysis hereditary nonpolyposis colorectal cancer lynch syndrome saudi arabian population mahmood rasool shakeel ansari mohammad jamal peter n pushparaj abdulrahman m sibiani waseem ahmad abdelbaset buhmeida mohammad jafri mohiuddin k warsi muhammad naseer mohammed h al-qahtani p72 function predication hypothetical protein genome database chlamydia trachomatis rubi kundan kumar ahmad naqvi faizan ahmad md hassan mohammad jamal mahmood rasool mohammed h alqahtani p73 transcription factor novel molecular target skin cancer ashraf ali jummanah jarullah mahmood rasool abdelbasit buhmeida shahida khan ghufrana abdussami maryam mahfooz mohammad kamal ghazi damanhouri mohammad jamal p74 silico analysis plumbagin binding apoptosis executioner caspase-3 caspase-7 bushra jarullah jummanah jarullah mohammad s jarullah ashraf ali mahmood rasool mohammad jamal p75 single cell genomics application preimplantation genetic screening optimization comparative analysis whole genome amplification technology mourad assidi muhammad abu-elmagd osama bajouh peter natesan pushparaj mohammed al-qahtani adel abuzenadah p76 zfp36 regulates mirs-34a anti-igm triggered immature b cell mohammad jamal jummanah jarullah abdulah ea mathkoor hashim alsalmi ana mm oun ghazi damanhauri mahmood rasool mohammed h alqahtani p77 identification novel mutation stambp gene family microcephaly-capillary malformation syndrome muhammad i. naseer mahmood rasool sameera sogaty adeel g. chudhary yousif a. abutalib daniele merico susan walker christian r. marshall mehdi zarrei stephen w. scherer mohammad h. al-qahtani p78 copy number variation saudi patient intellectual disability epilepsy muhammad i. naseer muhammad faheem adeel g. chaudhary mahmood rasool gauthaman kalamegam fai talal ashgan mourad assidi farid ahmed syed kashif zaidi mohammed m. jan mohammad h. al-qahtani p79 prognostic significance cd44 expression profile colorectal carcinoma maryam al-zahrani sahira lary sahar hakamy ashraf dallol mahmoud al-ahwal jaudah al-maghrabi emmanuel dermitzakis adel abuzenadah abdelbaset buhmeida mohammed al-qahtani p80 association endothelial nitric oxide synthase enos gene g894t polymorphism hypertension risk complication abeer al-refai mona saleh rehab yassien mahmmoud kamel rabab habeb p81 snp array screen genetic variation among diabetic patient najlaa filimban ashraf dallol nadia ghannam mohammed al-qahtani adel mohammed abuzenadah p82 detection genotyping helicobacter pylorus among gastric cancer patient saudi arabian population fehmida bibi sana akhtar esam i. azhar muhammad yasir muhammad i. nasser asif a. jiman-fatani ali sawan p83 antimicrobial drug resistance molecular detection susceptibility fluoroquinolones among clinical isolates salmonella specie jeddah-saudi arabia ruaa lahzah asho ali p84 identification toxic virulence nature map1138c protein mycobacterium avium subsp paratuberculosis syed hassan seyed e hasnain iftikhar tayubi hamza abujabal alaa magrabi p85 vitro silico evaluation mir137 human breast cancer fazal khan gauthaman kalamegam peter natesan pushparaj adel abuzenada taha abduallah kumosani elie barbour mohammed al-qahtani p86 auruka gene over-expressed saudi breast cancer manal shabaad shilu mathew ashraf dallol adnan merdad abdelbaset buhmeida mohammed al-qahtani p87 potential immunogenomics personalized healthcare mourad assidi muhammad abu-elmagd kalamegam gauthaman mamdooh gari adeel chaudhary adel abuzenadah peter natesan pushparaj mohammed al-qahtani p88 silico physiochemical structural characterization putative orf map0591 implication pathogenesis mycobacterium paratuberculosis ruminant human syed hassan iftikhar tayubi hani aljahdali p89 effect heat shock human bone marrow mesenchymal stem cell bm-mscs implication regenerative medicine reham al nono mamdooh gari haneen alsehli farid ahmed mohammed abbas gauthaman kalamegam mohammed al-qahtani p90 silico analysis molecular target resveratrol unravels importance mast cell mediated allergic response shilu mathew fazal khan mahmood rasool mohammed sarwar jamal muhammad imran naseer zeenat mirza sajjad karim shakeel ansari mourad assidi gauthaman kalamegam mamdooh gari adeel chaudhary adel abuzenadah peter natesan pushparaj mohammed al-qahtani p91 effect environmental particulate matter bone-marrow mesenchymal stem cell muhammad abu-elmagd gauthaman kalamegam roaa kadam mansour alghamdi magdy shamy max costa mamdouh khoder mourad assidi peter natesan pushparaj mamdooh gari mohammed al-qahtani p92 distinctive charge cluster human virus proteome najla kharrat sabrine belmabrouk rania abdelhedi riadh benmarzoug mourad assidi mohammed h. al qahtani ahmed rebai p93 vitro experimental model approach identification new biomarkers inflammatory form arthritis ghazi dhamanhouri peter natesan pushparaj abdelwahab noorwali mohammad khalid alwasiyah afnan bahamaid saadiah alfakeeh aisha alyamani haneen alsehli mohammed abbas mamdooh gari ali mobasheri gauthaman kalamegam mohammed al-qahtani p94 molecular docking gaba receptor subunit γ-2 novel anti-epileptic compound muhammad faheem shilu mathew peter natesan pushparaj mohammad h. al-qahtani p95 breast cancer knowledge awareness practice among saudi female residing jeddah shilu mathew muhammad faheem shiny mathew peter natesan pushparaj mohammad h. al-qahtani p96 anti-inflammatory role sesamin attenuation iba1/tnf-α/icam-1/inos signaling diabetic retinopathy mohammad sarwar jamal syed kashif zaidi raziuddin khan kanchan bhatia mohammed h. al-qahtani saif ahmad p97 identification drug lead molecule vp35 protein ebola virus in-silico approach iftikhar aslamtayubi manish tripathi syed asif hassan rahul shrivastava p98 approach personalized medicine snp-calling disease analysis using whole exome-sequencing three sub-continental population iftikhar tayubi syed hassan hamza a.s abujabal p99 low versus high frequency glucose –6 – phosphate dehydrogenase g6pd deficiency urban tribal population gujarat – signal natural selection ishani shah bushra jarullah mohammad jamal jummanah jarullah p100 spontaneous preterm birth single nucleotide gene polymorphism recent update ishfaq sheikh ejaz ahmad mohammad jamal mohd rehan muhammad abu-elmagd iftikhar tayubi samera f albasri osama bajouh rola f turki adel abuzenadah ghazi damanhouri mohd beg mohammed al-qahtani p101 prevalence congenital heart disease among syndrome case saudi arabia role molecular genetics pathogenesis sahar af hammoudah khalid alharbi lama el-attar ahmed mz darwish p102 combinatorial efficacy specific pathway inhibitor breast cancer cell sara ibrahim ashraf dallol hani choudhry adel abuzenadah jalaludden awlia adeel chaudhary farid ahmed mohammed al-qahtani p103 mir-143 mir-145 cluster potential replacement medicine treatment cancer mohammad jafri muhammad abu-elmagd mourad assidi mohammed al-qahtani p104 metagenomic profile gut microbiota pregnancy saudi population imran khan muhammad yasir esam i. azhar sameera al-basri elie barbour taha kumosani p105 exploration anticancer target selected metabolite phoenix dactylifera l. using system biological approach fazal khan gauthaman kalamegam peter natesan pushparaj adel abuzenada taha abduallah kumosani elie barbour p106 cd226 cd40 gene polymorphism susceptibility juvenile rheumatoid arthritis egyptian patient heba m. el sayed eman a. hafez p107 paediatric exome sequencing autism spectrum disorder ascertained saudi family hans-juergen schulten aisha hassan elaimi ibtessam r hussein randa ibrahim bassiouni mohammad khalid alwasiyah richard f wintle adeel chaudhary stephen w scherer mohammed al-qahtani p108 crystal structure complex formed phospholipase 2 central core hydrophobic fragment alzheimer ’ β- amyloid peptide reductionist approach zeenat mirza vikram gopalakrishna pillai sajjad karim sujata sharma punit kaur alagiri srinivasan tej p singh mohammed al-qahtani p109 differential expression profiling meningioma female male patient reem alotibi alaa al-ahmadi fatima al-adwani deema hussein sajjad karim mona al-sharif awatif jamal fahad al-ghamdi jaudah al-maghrabi saleh baeesa mohammed bangash adeel chaudhary hans-juergen schulten mohammed al-qahtani p110 neurospheres model early brain development therapeutic muhammad faheem peter natesan pushparaj shilu mathew taha abdullah kumosani gauthaman kalamegam mohammed al-qahtani p111 identification recurrent causative missense mutation p. w577c ldlr exon 12 familial hypercholesterolemia affected saudi family faisal al-allaf zainularifeen abduljaleel abdullah alashwal mohiuddin m. taher abdellatif bouazzaoui halah abalkhail faisal a. ba-hammam mohammad athar p112 epithelial ovarian carcinoma eoc system oncological approach identify diagnostic prognostic therapeutic biomarkers gauthaman kalamegam peter natesan pushparaj muhammad abu-elmagd farid ahmed khalid hussainwali sait nisreen anfinan mamdooh gari adeel chaudhary adel abuzenadah mourad assidi mohammed al-qahtani p113 crohn ’ disease phenotype northern tunisian population naira ben mami yosr z haffani mouna medhioub lamine hamzaoui ameur cherif msadok azouz p114 establishment silico approach decipher potential toxicity mechanism action drug candidate environmental agent gauthaman kalamegam fazal khan shilu mathew mohammed imran nasser mahmood rasool farid ahmed peter natesan pushparaj mohammed al-qahtani p115 1q gain predicts poor prognosis marker young breast cancer patient shereen turkistany lina al-harbi ashraf dallol jamal sabir adeel chaudhary adel abuzenadah p116 disorder sex chromosome diagnostic genomic medicine unit saudi arabia prevalence diagnosis future guideline basmah al-madoudi bayan al-aslani khulud al-harbi rwan al-jahdali hanadi qudaih emad al hamzy mourad assidi mohammed al qahtani p117 combination wye354 sunitinib demonstrate synergistic inhibition acute myeloid leukemia vitro asad ilyas youssri ahmed mamdooh gari farid ahmed mohammed alqahtani p118 integrated use evolutionary information gwas reveals important snp asthma nada salem sajjad karim elham alhathli heba abusamra hend f nour eldin mohammed h al-qahtani sudhir kumar p119 assessment braf idh1 idh2 egfr mutation series primary brain tumor fatima al-adwani deema hussein mona al-sharif awatif jamal fahad al-ghamdi jaudah al-maghrabi saleh baeesa mohammed bangash adeel chaudhary mohammed al-qahtani hans-juergen schulten p120 expression profile distinguish oligodendrogliomas glioblastoma multiformes without oligodendroglioma component alaa alamandi reem alotibi deema hussein sajjad karim jaudah al-maghrabi fahad al-ghamdi awatif jamal saleh baeesa mohammed bangash adeel chaudhary hans-juergen schulten mohammed al-qahtani p121 hierarchical clustering thyroid goiter hyperplastic lesion ohoud subhi nadia bagatian sajjad karim adel al-johari osman abdel al-hamour hosam al-aradati abdulmonem al-mutawa faisal al-mashat jaudah al-maghrabi hans-juergen schulten mohammad al-qahtani p122 differential expression analysis thyroiditis papillary thyroid carcinoma without coexisting thyroiditis nadia bagatian ohoud subhi sajjad karim adel al-johari osman abdel al-hamour abdulmonem al-mutawa hosam al-aradati faisal al-mashat mohammad al-qahtani hans-juergen schulten jaudah al-maghrabi p123 metagenomic analysis waste water microbiome sausdi arabia muhammad w shah muhammad yasir esam azhar saad al-masoodi p124 molecular characterization helicobacter pylorus faecal sample tunisian patient gastric cancer yosr z haffani msadok azouz emna khamla chaima jlassi ahmed s. masmoudi ameur cherif lassaad belbahri p125 diagnostic application oncoscan © panel identification hereditary cancer syndrome shadi al-khayyat roba attas atlal abu-sanad mohammed abuzinadah adnan merdadashraf dallol adeel chaudhary mohammed al-qahtani adel abuzenadah p126 characterization clinical neurocognitive feature family novel ogt gene missense mutation c. 1193g a/ p. ala319thr habib bouazzi carlos trujillo mohammad khalid alwasiyah mohammed al-qahtani p127 case report rare homozygous deletion mutation tmem70 gene associated 3-methylglutaconic aciduria cataract saudi patient maha alotaibi ramus nassir p128 isolation purification antimicrobial milk protein ishfaq sheikh mohammad kamal essam h jiffri ghulam ashraf mohd beg p129 integrated analysis reveals association atp8b1 gene colorectal cancer mohammad aziz rizwan ali mahmood rasool mohammad jamal nusaibah samman ghufrana abdussami sathish periyasamy mohiuddin k warsi mohammed aldress majed al otaibi zeyad al yousef mohamed boudjelal abdelbasit buhmeida mohammed h al-qahtani ibrahim alabdulkarim p130 implication il-10 il-28 polymorphism successful anti-hcv therapy viral clearance rubi ghazala shilu mathew m. haroon hamed mourad assidi mohammed al-qahtani ishtiaq qadri p131 interaction endocrine disruptor di- 2-ethylhexyl phthalate dehp metabolite mono-2-ethylhexyl phthalate mehp progesterone receptor ishfaq sheikh muhammad abu-elmagd rola f turki ghazi damanhouri mohd a. beg p132 association hcv nucleotide polymorphism development hepatocellular carcinoma mohd suhail abid qureshi adil jamal peter natesan pushparaj mohammad al-qahtani ishtiaq qadri p133 gene expression profiling dna microarrays colon cancer treated chelidonine alkaloid mahmoud z el-readi safaa eid michael wink p134 successful vitro fertilization eight failed trial ahmed m. isa lulu alnuaim johara almutawa basim abu-rafae saleh alasiri saleh binsaleh p135 genetic sensitivity analysis using scge cell cycle mitochondrial membrane potential ops stressed leukocyte rattus norvegicus flow cytometric input nazia nazam mohamad lone waseem ahmad shakeel ansari mohamed h alqahtani\n",
      "\n",
      "vslevssr and yt9rj42s have 0.9542 similarity\n",
      "\n",
      "vslevssr:\n",
      "focus receptor coronaviruses special reference angiotensin-converting enzyme 2 potential drug target perspective coronaviruses covs posse enveloped single positive-stranded rna genome encodes four membrane protein namely spike envelope e membrane nucleocapsid n protein 3-5 1 regard pathogenicity protein essential viral entry host cell 2 3 sars-cov bind angiotensin-converting enzyme ace 2 present nonimmune cell respiratory intestinal epithelial cell endothelial cell kidney cell renal tubule cerebral neuron immune cell alveolar monocytes/macrophages 4-6 note cd209l liver/lymph node special intercellular adhesion molecule-3-grabbing non-integrin sign dendritic cell dc -sign alternative receptor sars-cov lower affinity 7 case mers-cov protein bind host cell receptor dipeptidyl peptidase 4 dpp4 cd26 broadly expressed intestinal alveolar renal hepatic prostate cell well activated leukocyte 8 virus replicate target cell release mature virion turn invade new target cell 9 evidence provided sarscov protein cleaved two subunit s1 s2 respectively amino acid 318-510 s1 represent receptor-binding domain rbd bind ace2 10 11 quite importantly context rbd receptor-binding motif rbm amino acid 424- 494 account complete binding ace2 11 moreover mean two residue position 479 487 rbd allows virus progression tropism 10 11 case merscov rbm bind dpp4 residue 484-567 thus suggesting rbd differs sars-cov 12 13 recent paper wan associate 14 investigated receptor recognition covid-19 new term indicate 2019-ncov wuhan base structural study respect sequence covid-19 rbm similar sarscov thus implicating ace2 may represent binding receptor covid-19 furthermore gln493 residue covid-19 rbm seems allow interaction human ace2 thus suggesting ability virus infect human cell according wan associate structural analysis 14 covid-19 bind human ace2 lesser efficiency human sars-cov 2002 higher affinity human sars-cov 2003 furthermore author predicted single mutation 501 position may enhance covid-19 rbd binding capacity human ace2 evolution monitored infected patient 14 predictive finding wan associate 14 confirmed two contemporary study letko muster 15 peng associate 16 particular report peng associate 16 point possible origin covid-19 bat 16 pathogenic point view evidence provided binding s2 ace2 receptor lead down-regulation subsequent lung damage course sars-cov infection 17 down-regulation ace2 cause excessive production angiotensin ang ii related enzyme ace stimulation ang type 1a receptor at1r enhanced lung vascular permeability 18 particular author reported recombinant ace2 could attenuate severe acute lung injury mouse 18 moreover battle associate 19 also proposed use already available recombinant ace2 intercepting covid-19 attenuating infection previous paragraph presence ace2 immune cell pointed analogy epithelial cell receptor may also down-regulated following viral entry therefore cov-infected animal model infected human investigation required clarify possible reduced expression ace2 immune cell fact course sars-cov infection number immune disorder detected three report demonstrated ability cov inhibit interferon ifn - production course sars acting ifn antagonist 20-22 senescent balb/c mouse depletion lymphocyte associated severe interstitial pneumonitis delayed clearance sars-cov thus suggesting protective role played cell 23 connection sars-cov mers-cov shown induce cell apoptosis thus aggravating clinical course disease 24 25 quite interestingly memory cd8+ cell specific sars-cov n protein detected 11 year post-infection 26 far humoral immune responsiveness concerned evidence provided s1 subunit mers-cov highly immunogenic mouse 27 moreover monoclonal antibody shown highly neutralizing mers-cov replication endowed post exposure effectiveness susceptible mouse 28 29 human neutralizing antibody also isolated recovered patient thus suggesting role humoral immunity control persistence cov host 30 particular igg response occurs early infection prolonged production may serve virus clearance recovery also view absence viremia convalescent serum sars patient 31 according current literature severity covid-19 infection correlate lymphopenia patient died covid-19 lower lymphocyte count compared survivor 32 33 data suggest lymphocyte-mediated anti-viral activity poorly effective covid-19 despite lymphopenia evidence exaggerate release proinflammatory cytokine interleukin il -1 il-6 reported course acute respiratory syndrome covid19 infected patient thus aggravating clinical course disease 34 recently reported covid-19 pandemic italy china higher frequency fatality observed frail elderly population previous comorbidities 35 well known decline immunity occurs ageing therefore covid-19 may gain easier access respiratory tract frail elderly patient 36 evidence ace2 protects severe acute lung failure operates negative regulator renin-angiotensin system ra 18 37 well known ang ii via activation at1r promotes detrimental effect host vasoconstriction reactive oxygen specie generation inflammation matrix remodelling 38 ace2 counterbalance noxious effect exhibited ang ii at1r via activation at2r arrest cell growth inflammation fibrosis 39 framework gurwitz 40 proposed use at1r blocker losartan potential treatment covid-19 infection fact losartan well olmesartan used treating hypertension patient able increase ace2 expression 28 day treatment rat myocardial infarction 41 gurwitz suggests evaluate severity symptom covid-19 infected patient previous chronic treatment at1r blocker comparison covid-19 infected patient take at1r blocker 40 quite interestingly 75 aged covid-19 infected patient admitted italian hospital hypertension unpublished data however putative effect ace-2 down-regulation cardiovascular system course covid-19 pandemic need intensive study taken together evidence suggest cov-induced down-regulation ace2 activates ra collateral damage organ lung course sars-related pneumonia putative therapeutic measure aimed increasing ace2 level respiratory epithelial cell taken serious consideration quite interestingly past year three key paper demonstrated ability polyphenol resveratrol re experimentally deactivate ra system maternal post-weaning high fat diet arterial ageing high fat diet respectively 42-44 experimental model re led increase ace2 reduction organ damage liver steatosis aorta medium thickness decrease adipose tissue mass respectively far mechanism action re concerned polyphenol able activate sirtuin sirt 1 45-47 turn sirt1 down-regulates at1r expression via ace2 up-regulation 43 48 importance lin associate 48 demonstrated ability re vitro inhibit mers-cov infection vero e6 cell thus prolonging cell survival virtue anti-apoptotic mechanism finding suggest direct antiviral effect exerted re would interestingly evaluate direct effect re covid-19 vitro data discussed strongly suggest re activator ace2 investigated animal model cov-induced severe pneumonia also taking account antioxidant anti-inflammatory immunomodulating effect exerted polyphenols 49 successful animal study may pave way res-based human trial covid-infected patient note added proof reviewing process perspective related paper published hanff associate 50 discussed possible association covid-19-associated cardiovascular mortality dysregulation renin angiotensin system ra pharmacologic point view ra inhibition lead upregulation ace2 thus attenuating acute respiratory syndrome myocarditis covid-19-infected patient conversely increase ace2 expression may facilitate access host covid-19 thus aggravating clinical picture dilemma would solved clinical trial based ra blo\n",
      "\n",
      "yt9rj42s:\n",
      "air cleaning technology evidence-based analysis objective health technology policy assessment answer following question in-room air cleaner used effective in-room air cleaner in-room air cleaner use combined hepa uvgi air cleaning technology effective use hepa filtration alone plasmacluster ion air purifier pandemic influenza preparation plan experience severe acute respiratory syndrome sars locally nationally internationally underscored importance administrative environmental personal protective infection control measure health care facility aftermath sars crisis need clearer understanding ontario 's capacity manage suspected confirmed case airborne infectious disease walker commission thought attention paid potential use new technology in-room air cleaning unit recommended medical advisory secretariat ontario ministry health long-term care evaluate appropriate use effectiveness new technology accordingly ontario health technology advisory committee asked medical advisory secretariat review literature effectiveness utility in-room air cleaner use high-efficiency particle air hepa filter ultraviolet germicidal irradiation uvgi air cleaning technology additionally ontario health technology advisory committee prioritized request ministry 's emergency management unit investigate possible role plasmacluster ion air purifier manufactured sharp electronics corporation pandemic influenza preparation plan clinical need airborne transmission infectious disease depends part concentration breathable infectious pathogen germ room air infection control achieved combination administrative engineering personal protection method engineering method usually carried building 's heating ventilation air conditioning hvac system function prevent spread airborne infectious pathogen diluting dilution ventilation removing exhaust ventilation contaminated air room controlling direction airflow air flow pattern building however general wear tear time may compromise hvac system 's effectiveness maintain adequate indoor air quality likewise economic issue may curtail completion necessary renovation increase effectiveness therefore exposure airborne infectious pathogen risk use in-room air cleaner reduce concentration airborne pathogen prevent spread airborne infectious disease proposed alternative renovating hvac system airborne transmission spread infectious pathogen large distance air infectious pathogen may include fungi bacteria virus vary size dispersed air drop moisture coughing sneezing small drop moisture carrying infectious pathogen called droplet nucleus droplet nucleus 1 5μm diameter small size part allows remain suspended air several hour carried air current considerable distance large drop moisture carrying infectious pathogen called droplet droplet larger droplet nucleus travel shorter distance 1 metre rapidly falling air ground droplet nucleus remain airborne longer period droplet amenable engineering infection control method droplet droplet nucleus responsible airborne transmission infectious disease tuberculosis chicken pox varicella measles rubeola dessiminated herpes zoster whereas close contact required direct transmission infectious disease transmitted droplet influenza flu sars technology in-room air cleaner supplied portable fixed device fixed device attached either wall ceiling preferred portable unit greater degree reliability installed properly achieving adequate room air mixing airflow pattern important optimal effectiveness method air recirculation in-room air cleaner used increase room ventilation rate used exhaust air room create negative-pressure room airborne infection isolation aii building 's hvac system negative-pressure room one clean air flow room contaminated air flow contaminated room air pulled in-room air cleaner cleaned passing series filter remove airborne infectious pathogen cleaned air either recirculated room exhausted outside building filtering contaminated room air recirculating cleaned air room in-room air cleaner improve room 's ventilation exhausting filtered air outside unit create negative-pressure room many type in-room air cleaner vary widely airflow rate unit type air cleaning technology used technical design crucial maximizing efficiency in-room air cleaner strategic placement set-up within room done consultation ventilation engineer infection control expert and/or industrial hygienist poorly positioned air cleaner may disrupt airflow pattern within room air cleaner thereby compromising air cleaning efficiency effectiveness in-room air cleaner remove airborne pathogen room air depends several factor including airflow rate unit 's filter airflow pattern room tested variety condition in-room air cleaner including portable ceiling mounted unit either hepa non-hepa filter portable unit uvgi light ceiling mounted unit combined hepa filtration uvgi light estimated 30 90 99 12 80 effective respectively however although effectiveness variable united state center disease control prevention acknowledged in-room air cleaner alternative technology increasing room ventilation achieved building 's hvac system preference given fixed recirculating system portable one importantly use in-room air cleaner preclude either need health care worker visitor use personal protective equipment n95 mask equivalent entering aii room health care facility meeting current regulatory requirement airflow rate ventilation rate building airflow differential effective negative-pressure room plasmacluster ion technology developed 2000 air purification technology manufacturer sharp electronics corporation say disable airborne microorganism generation positive negative ion 1 functional unit hydroxyl molecule comprised one oxygen molecule one hydrogen atom plasmacluster ion air purifier us multilayer filter system composed prefilter carbon filter antibacterial filter hepa filter combined ion generator purify air ion generator us alternating plasma discharge split water molecule positively negatively charged ion ion emitted air surrounded water molecule form cluster ion attracted airborne particle cluster ion surround airborne particle positive negative ion react form hydroxyl hydroxyl steal airborne particle 's hydrogen atom creates hole particle 's outer protein membrane thereby rendering inactive influenza primarily acquired large droplet direct indirect contact infectious person in-room air cleaner little benefit controlling preventing spread therefore role plasmacluster ion air purifier in-room air cleaner control spread influenza accordingly purpose review medical advisory secretariat present analysis plasmacluster review strategy objective systematic review determine effectiveness in-room air cleaner built uvgi light hepa filtration compared using hepa filtration medical advisory secretariat searched database medline embase cochrane database systematic review inahata international network agency health technology assessment biosis preview bacteriology abstract web science dissertation abstract nioshtic 2. meta-analysis conducted adequate data available 2 study statistical clinical heterogeneity among study issue otherwise qualitative review completed grade system used summarize quality body evidence comprised 1 study summary finding existing health technology assessment air cleaning technology located literature review literature search yielded 59 citation none retained abstract truncated\n",
      "\n",
      "vslevssr and yt9rj42s have 0.9542 similarity\n",
      "\n",
      "vslevssr:\n",
      "focus receptor coronaviruses special reference angiotensin-converting enzyme 2 potential drug target perspective coronaviruses covs posse enveloped single positive-stranded rna genome encodes four membrane protein namely spike envelope e membrane nucleocapsid n protein 3-5 1 regard pathogenicity protein essential viral entry host cell 2 3 sars-cov bind angiotensin-converting enzyme ace 2 present nonimmune cell respiratory intestinal epithelial cell endothelial cell kidney cell renal tubule cerebral neuron immune cell alveolar monocytes/macrophages 4-6 note cd209l liver/lymph node special intercellular adhesion molecule-3-grabbing non-integrin sign dendritic cell dc -sign alternative receptor sars-cov lower affinity 7 case mers-cov protein bind host cell receptor dipeptidyl peptidase 4 dpp4 cd26 broadly expressed intestinal alveolar renal hepatic prostate cell well activated leukocyte 8 virus replicate target cell release mature virion turn invade new target cell 9 evidence provided sarscov protein cleaved two subunit s1 s2 respectively amino acid 318-510 s1 represent receptor-binding domain rbd bind ace2 10 11 quite importantly context rbd receptor-binding motif rbm amino acid 424- 494 account complete binding ace2 11 moreover mean two residue position 479 487 rbd allows virus progression tropism 10 11 case merscov rbm bind dpp4 residue 484-567 thus suggesting rbd differs sars-cov 12 13 recent paper wan associate 14 investigated receptor recognition covid-19 new term indicate 2019-ncov wuhan base structural study respect sequence covid-19 rbm similar sarscov thus implicating ace2 may represent binding receptor covid-19 furthermore gln493 residue covid-19 rbm seems allow interaction human ace2 thus suggesting ability virus infect human cell according wan associate structural analysis 14 covid-19 bind human ace2 lesser efficiency human sars-cov 2002 higher affinity human sars-cov 2003 furthermore author predicted single mutation 501 position may enhance covid-19 rbd binding capacity human ace2 evolution monitored infected patient 14 predictive finding wan associate 14 confirmed two contemporary study letko muster 15 peng associate 16 particular report peng associate 16 point possible origin covid-19 bat 16 pathogenic point view evidence provided binding s2 ace2 receptor lead down-regulation subsequent lung damage course sars-cov infection 17 down-regulation ace2 cause excessive production angiotensin ang ii related enzyme ace stimulation ang type 1a receptor at1r enhanced lung vascular permeability 18 particular author reported recombinant ace2 could attenuate severe acute lung injury mouse 18 moreover battle associate 19 also proposed use already available recombinant ace2 intercepting covid-19 attenuating infection previous paragraph presence ace2 immune cell pointed analogy epithelial cell receptor may also down-regulated following viral entry therefore cov-infected animal model infected human investigation required clarify possible reduced expression ace2 immune cell fact course sars-cov infection number immune disorder detected three report demonstrated ability cov inhibit interferon ifn - production course sars acting ifn antagonist 20-22 senescent balb/c mouse depletion lymphocyte associated severe interstitial pneumonitis delayed clearance sars-cov thus suggesting protective role played cell 23 connection sars-cov mers-cov shown induce cell apoptosis thus aggravating clinical course disease 24 25 quite interestingly memory cd8+ cell specific sars-cov n protein detected 11 year post-infection 26 far humoral immune responsiveness concerned evidence provided s1 subunit mers-cov highly immunogenic mouse 27 moreover monoclonal antibody shown highly neutralizing mers-cov replication endowed post exposure effectiveness susceptible mouse 28 29 human neutralizing antibody also isolated recovered patient thus suggesting role humoral immunity control persistence cov host 30 particular igg response occurs early infection prolonged production may serve virus clearance recovery also view absence viremia convalescent serum sars patient 31 according current literature severity covid-19 infection correlate lymphopenia patient died covid-19 lower lymphocyte count compared survivor 32 33 data suggest lymphocyte-mediated anti-viral activity poorly effective covid-19 despite lymphopenia evidence exaggerate release proinflammatory cytokine interleukin il -1 il-6 reported course acute respiratory syndrome covid19 infected patient thus aggravating clinical course disease 34 recently reported covid-19 pandemic italy china higher frequency fatality observed frail elderly population previous comorbidities 35 well known decline immunity occurs ageing therefore covid-19 may gain easier access respiratory tract frail elderly patient 36 evidence ace2 protects severe acute lung failure operates negative regulator renin-angiotensin system ra 18 37 well known ang ii via activation at1r promotes detrimental effect host vasoconstriction reactive oxygen specie generation inflammation matrix remodelling 38 ace2 counterbalance noxious effect exhibited ang ii at1r via activation at2r arrest cell growth inflammation fibrosis 39 framework gurwitz 40 proposed use at1r blocker losartan potential treatment covid-19 infection fact losartan well olmesartan used treating hypertension patient able increase ace2 expression 28 day treatment rat myocardial infarction 41 gurwitz suggests evaluate severity symptom covid-19 infected patient previous chronic treatment at1r blocker comparison covid-19 infected patient take at1r blocker 40 quite interestingly 75 aged covid-19 infected patient admitted italian hospital hypertension unpublished data however putative effect ace-2 down-regulation cardiovascular system course covid-19 pandemic need intensive study taken together evidence suggest cov-induced down-regulation ace2 activates ra collateral damage organ lung course sars-related pneumonia putative therapeutic measure aimed increasing ace2 level respiratory epithelial cell taken serious consideration quite interestingly past year three key paper demonstrated ability polyphenol resveratrol re experimentally deactivate ra system maternal post-weaning high fat diet arterial ageing high fat diet respectively 42-44 experimental model re led increase ace2 reduction organ damage liver steatosis aorta medium thickness decrease adipose tissue mass respectively far mechanism action re concerned polyphenol able activate sirtuin sirt 1 45-47 turn sirt1 down-regulates at1r expression via ace2 up-regulation 43 48 importance lin associate 48 demonstrated ability re vitro inhibit mers-cov infection vero e6 cell thus prolonging cell survival virtue anti-apoptotic mechanism finding suggest direct antiviral effect exerted re would interestingly evaluate direct effect re covid-19 vitro data discussed strongly suggest re activator ace2 investigated animal model cov-induced severe pneumonia also taking account antioxidant anti-inflammatory immunomodulating effect exerted polyphenols 49 successful animal study may pave way res-based human trial covid-infected patient note added proof reviewing process perspective related paper published hanff associate 50 discussed possible association covid-19-associated cardiovascular mortality dysregulation renin angiotensin system ra pharmacologic point view ra inhibition lead upregulation ace2 thus attenuating acute respiratory syndrome myocarditis covid-19-infected patient conversely increase ace2 expression may facilitate access host covid-19 thus aggravating clinical picture dilemma would solved clinical trial based ra blo\n",
      "\n",
      "yt9rj42s:\n",
      "air cleaning technology evidence-based analysis objective health technology policy assessment answer following question in-room air cleaner used effective in-room air cleaner in-room air cleaner use combined hepa uvgi air cleaning technology effective use hepa filtration alone plasmacluster ion air purifier pandemic influenza preparation plan experience severe acute respiratory syndrome sars locally nationally internationally underscored importance administrative environmental personal protective infection control measure health care facility aftermath sars crisis need clearer understanding ontario 's capacity manage suspected confirmed case airborne infectious disease walker commission thought attention paid potential use new technology in-room air cleaning unit recommended medical advisory secretariat ontario ministry health long-term care evaluate appropriate use effectiveness new technology accordingly ontario health technology advisory committee asked medical advisory secretariat review literature effectiveness utility in-room air cleaner use high-efficiency particle air hepa filter ultraviolet germicidal irradiation uvgi air cleaning technology additionally ontario health technology advisory committee prioritized request ministry 's emergency management unit investigate possible role plasmacluster ion air purifier manufactured sharp electronics corporation pandemic influenza preparation plan clinical need airborne transmission infectious disease depends part concentration breathable infectious pathogen germ room air infection control achieved combination administrative engineering personal protection method engineering method usually carried building 's heating ventilation air conditioning hvac system function prevent spread airborne infectious pathogen diluting dilution ventilation removing exhaust ventilation contaminated air room controlling direction airflow air flow pattern building however general wear tear time may compromise hvac system 's effectiveness maintain adequate indoor air quality likewise economic issue may curtail completion necessary renovation increase effectiveness therefore exposure airborne infectious pathogen risk use in-room air cleaner reduce concentration airborne pathogen prevent spread airborne infectious disease proposed alternative renovating hvac system airborne transmission spread infectious pathogen large distance air infectious pathogen may include fungi bacteria virus vary size dispersed air drop moisture coughing sneezing small drop moisture carrying infectious pathogen called droplet nucleus droplet nucleus 1 5μm diameter small size part allows remain suspended air several hour carried air current considerable distance large drop moisture carrying infectious pathogen called droplet droplet larger droplet nucleus travel shorter distance 1 metre rapidly falling air ground droplet nucleus remain airborne longer period droplet amenable engineering infection control method droplet droplet nucleus responsible airborne transmission infectious disease tuberculosis chicken pox varicella measles rubeola dessiminated herpes zoster whereas close contact required direct transmission infectious disease transmitted droplet influenza flu sars technology in-room air cleaner supplied portable fixed device fixed device attached either wall ceiling preferred portable unit greater degree reliability installed properly achieving adequate room air mixing airflow pattern important optimal effectiveness method air recirculation in-room air cleaner used increase room ventilation rate used exhaust air room create negative-pressure room airborne infection isolation aii building 's hvac system negative-pressure room one clean air flow room contaminated air flow contaminated room air pulled in-room air cleaner cleaned passing series filter remove airborne infectious pathogen cleaned air either recirculated room exhausted outside building filtering contaminated room air recirculating cleaned air room in-room air cleaner improve room 's ventilation exhausting filtered air outside unit create negative-pressure room many type in-room air cleaner vary widely airflow rate unit type air cleaning technology used technical design crucial maximizing efficiency in-room air cleaner strategic placement set-up within room done consultation ventilation engineer infection control expert and/or industrial hygienist poorly positioned air cleaner may disrupt airflow pattern within room air cleaner thereby compromising air cleaning efficiency effectiveness in-room air cleaner remove airborne pathogen room air depends several factor including airflow rate unit 's filter airflow pattern room tested variety condition in-room air cleaner including portable ceiling mounted unit either hepa non-hepa filter portable unit uvgi light ceiling mounted unit combined hepa filtration uvgi light estimated 30 90 99 12 80 effective respectively however although effectiveness variable united state center disease control prevention acknowledged in-room air cleaner alternative technology increasing room ventilation achieved building 's hvac system preference given fixed recirculating system portable one importantly use in-room air cleaner preclude either need health care worker visitor use personal protective equipment n95 mask equivalent entering aii room health care facility meeting current regulatory requirement airflow rate ventilation rate building airflow differential effective negative-pressure room plasmacluster ion technology developed 2000 air purification technology manufacturer sharp electronics corporation say disable airborne microorganism generation positive negative ion 1 functional unit hydroxyl molecule comprised one oxygen molecule one hydrogen atom plasmacluster ion air purifier us multilayer filter system composed prefilter carbon filter antibacterial filter hepa filter combined ion generator purify air ion generator us alternating plasma discharge split water molecule positively negatively charged ion ion emitted air surrounded water molecule form cluster ion attracted airborne particle cluster ion surround airborne particle positive negative ion react form hydroxyl hydroxyl steal airborne particle 's hydrogen atom creates hole particle 's outer protein membrane thereby rendering inactive influenza primarily acquired large droplet direct indirect contact infectious person in-room air cleaner little benefit controlling preventing spread therefore role plasmacluster ion air purifier in-room air cleaner control spread influenza accordingly purpose review medical advisory secretariat present analysis plasmacluster review strategy objective systematic review determine effectiveness in-room air cleaner built uvgi light hepa filtration compared using hepa filtration medical advisory secretariat searched database medline embase cochrane database systematic review inahata international network agency health technology assessment biosis preview bacteriology abstract web science dissertation abstract nioshtic 2. meta-analysis conducted adequate data available 2 study statistical clinical heterogeneity among study issue otherwise qualitative review completed grade system used summarize quality body evidence comprised 1 study summary finding existing health technology assessment air cleaning technology located literature review literature search yielded 59 citation none retained abstract truncated\n",
      "\n",
      "vslevssr and yt9rj42s have 0.9542 similarity\n",
      "\n",
      "vslevssr:\n",
      "focus receptor coronaviruses special reference angiotensin-converting enzyme 2 potential drug target perspective coronaviruses covs posse enveloped single positive-stranded rna genome encodes four membrane protein namely spike envelope e membrane nucleocapsid n protein 3-5 1 regard pathogenicity protein essential viral entry host cell 2 3 sars-cov bind angiotensin-converting enzyme ace 2 present nonimmune cell respiratory intestinal epithelial cell endothelial cell kidney cell renal tubule cerebral neuron immune cell alveolar monocytes/macrophages 4-6 note cd209l liver/lymph node special intercellular adhesion molecule-3-grabbing non-integrin sign dendritic cell dc -sign alternative receptor sars-cov lower affinity 7 case mers-cov protein bind host cell receptor dipeptidyl peptidase 4 dpp4 cd26 broadly expressed intestinal alveolar renal hepatic prostate cell well activated leukocyte 8 virus replicate target cell release mature virion turn invade new target cell 9 evidence provided sarscov protein cleaved two subunit s1 s2 respectively amino acid 318-510 s1 represent receptor-binding domain rbd bind ace2 10 11 quite importantly context rbd receptor-binding motif rbm amino acid 424- 494 account complete binding ace2 11 moreover mean two residue position 479 487 rbd allows virus progression tropism 10 11 case merscov rbm bind dpp4 residue 484-567 thus suggesting rbd differs sars-cov 12 13 recent paper wan associate 14 investigated receptor recognition covid-19 new term indicate 2019-ncov wuhan base structural study respect sequence covid-19 rbm similar sarscov thus implicating ace2 may represent binding receptor covid-19 furthermore gln493 residue covid-19 rbm seems allow interaction human ace2 thus suggesting ability virus infect human cell according wan associate structural analysis 14 covid-19 bind human ace2 lesser efficiency human sars-cov 2002 higher affinity human sars-cov 2003 furthermore author predicted single mutation 501 position may enhance covid-19 rbd binding capacity human ace2 evolution monitored infected patient 14 predictive finding wan associate 14 confirmed two contemporary study letko muster 15 peng associate 16 particular report peng associate 16 point possible origin covid-19 bat 16 pathogenic point view evidence provided binding s2 ace2 receptor lead down-regulation subsequent lung damage course sars-cov infection 17 down-regulation ace2 cause excessive production angiotensin ang ii related enzyme ace stimulation ang type 1a receptor at1r enhanced lung vascular permeability 18 particular author reported recombinant ace2 could attenuate severe acute lung injury mouse 18 moreover battle associate 19 also proposed use already available recombinant ace2 intercepting covid-19 attenuating infection previous paragraph presence ace2 immune cell pointed analogy epithelial cell receptor may also down-regulated following viral entry therefore cov-infected animal model infected human investigation required clarify possible reduced expression ace2 immune cell fact course sars-cov infection number immune disorder detected three report demonstrated ability cov inhibit interferon ifn - production course sars acting ifn antagonist 20-22 senescent balb/c mouse depletion lymphocyte associated severe interstitial pneumonitis delayed clearance sars-cov thus suggesting protective role played cell 23 connection sars-cov mers-cov shown induce cell apoptosis thus aggravating clinical course disease 24 25 quite interestingly memory cd8+ cell specific sars-cov n protein detected 11 year post-infection 26 far humoral immune responsiveness concerned evidence provided s1 subunit mers-cov highly immunogenic mouse 27 moreover monoclonal antibody shown highly neutralizing mers-cov replication endowed post exposure effectiveness susceptible mouse 28 29 human neutralizing antibody also isolated recovered patient thus suggesting role humoral immunity control persistence cov host 30 particular igg response occurs early infection prolonged production may serve virus clearance recovery also view absence viremia convalescent serum sars patient 31 according current literature severity covid-19 infection correlate lymphopenia patient died covid-19 lower lymphocyte count compared survivor 32 33 data suggest lymphocyte-mediated anti-viral activity poorly effective covid-19 despite lymphopenia evidence exaggerate release proinflammatory cytokine interleukin il -1 il-6 reported course acute respiratory syndrome covid19 infected patient thus aggravating clinical course disease 34 recently reported covid-19 pandemic italy china higher frequency fatality observed frail elderly population previous comorbidities 35 well known decline immunity occurs ageing therefore covid-19 may gain easier access respiratory tract frail elderly patient 36 evidence ace2 protects severe acute lung failure operates negative regulator renin-angiotensin system ra 18 37 well known ang ii via activation at1r promotes detrimental effect host vasoconstriction reactive oxygen specie generation inflammation matrix remodelling 38 ace2 counterbalance noxious effect exhibited ang ii at1r via activation at2r arrest cell growth inflammation fibrosis 39 framework gurwitz 40 proposed use at1r blocker losartan potential treatment covid-19 infection fact losartan well olmesartan used treating hypertension patient able increase ace2 expression 28 day treatment rat myocardial infarction 41 gurwitz suggests evaluate severity symptom covid-19 infected patient previous chronic treatment at1r blocker comparison covid-19 infected patient take at1r blocker 40 quite interestingly 75 aged covid-19 infected patient admitted italian hospital hypertension unpublished data however putative effect ace-2 down-regulation cardiovascular system course covid-19 pandemic need intensive study taken together evidence suggest cov-induced down-regulation ace2 activates ra collateral damage organ lung course sars-related pneumonia putative therapeutic measure aimed increasing ace2 level respiratory epithelial cell taken serious consideration quite interestingly past year three key paper demonstrated ability polyphenol resveratrol re experimentally deactivate ra system maternal post-weaning high fat diet arterial ageing high fat diet respectively 42-44 experimental model re led increase ace2 reduction organ damage liver steatosis aorta medium thickness decrease adipose tissue mass respectively far mechanism action re concerned polyphenol able activate sirtuin sirt 1 45-47 turn sirt1 down-regulates at1r expression via ace2 up-regulation 43 48 importance lin associate 48 demonstrated ability re vitro inhibit mers-cov infection vero e6 cell thus prolonging cell survival virtue anti-apoptotic mechanism finding suggest direct antiviral effect exerted re would interestingly evaluate direct effect re covid-19 vitro data discussed strongly suggest re activator ace2 investigated animal model cov-induced severe pneumonia also taking account antioxidant anti-inflammatory immunomodulating effect exerted polyphenols 49 successful animal study may pave way res-based human trial covid-infected patient note added proof reviewing process perspective related paper published hanff associate 50 discussed possible association covid-19-associated cardiovascular mortality dysregulation renin angiotensin system ra pharmacologic point view ra inhibition lead upregulation ace2 thus attenuating acute respiratory syndrome myocarditis covid-19-infected patient conversely increase ace2 expression may facilitate access host covid-19 thus aggravating clinical picture dilemma would solved clinical trial based ra blo\n",
      "\n",
      "yt9rj42s:\n",
      "air cleaning technology evidence-based analysis objective health technology policy assessment answer following question in-room air cleaner used effective in-room air cleaner in-room air cleaner use combined hepa uvgi air cleaning technology effective use hepa filtration alone plasmacluster ion air purifier pandemic influenza preparation plan experience severe acute respiratory syndrome sars locally nationally internationally underscored importance administrative environmental personal protective infection control measure health care facility aftermath sars crisis need clearer understanding ontario 's capacity manage suspected confirmed case airborne infectious disease walker commission thought attention paid potential use new technology in-room air cleaning unit recommended medical advisory secretariat ontario ministry health long-term care evaluate appropriate use effectiveness new technology accordingly ontario health technology advisory committee asked medical advisory secretariat review literature effectiveness utility in-room air cleaner use high-efficiency particle air hepa filter ultraviolet germicidal irradiation uvgi air cleaning technology additionally ontario health technology advisory committee prioritized request ministry 's emergency management unit investigate possible role plasmacluster ion air purifier manufactured sharp electronics corporation pandemic influenza preparation plan clinical need airborne transmission infectious disease depends part concentration breathable infectious pathogen germ room air infection control achieved combination administrative engineering personal protection method engineering method usually carried building 's heating ventilation air conditioning hvac system function prevent spread airborne infectious pathogen diluting dilution ventilation removing exhaust ventilation contaminated air room controlling direction airflow air flow pattern building however general wear tear time may compromise hvac system 's effectiveness maintain adequate indoor air quality likewise economic issue may curtail completion necessary renovation increase effectiveness therefore exposure airborne infectious pathogen risk use in-room air cleaner reduce concentration airborne pathogen prevent spread airborne infectious disease proposed alternative renovating hvac system airborne transmission spread infectious pathogen large distance air infectious pathogen may include fungi bacteria virus vary size dispersed air drop moisture coughing sneezing small drop moisture carrying infectious pathogen called droplet nucleus droplet nucleus 1 5μm diameter small size part allows remain suspended air several hour carried air current considerable distance large drop moisture carrying infectious pathogen called droplet droplet larger droplet nucleus travel shorter distance 1 metre rapidly falling air ground droplet nucleus remain airborne longer period droplet amenable engineering infection control method droplet droplet nucleus responsible airborne transmission infectious disease tuberculosis chicken pox varicella measles rubeola dessiminated herpes zoster whereas close contact required direct transmission infectious disease transmitted droplet influenza flu sars technology in-room air cleaner supplied portable fixed device fixed device attached either wall ceiling preferred portable unit greater degree reliability installed properly achieving adequate room air mixing airflow pattern important optimal effectiveness method air recirculation in-room air cleaner used increase room ventilation rate used exhaust air room create negative-pressure room airborne infection isolation aii building 's hvac system negative-pressure room one clean air flow room contaminated air flow contaminated room air pulled in-room air cleaner cleaned passing series filter remove airborne infectious pathogen cleaned air either recirculated room exhausted outside building filtering contaminated room air recirculating cleaned air room in-room air cleaner improve room 's ventilation exhausting filtered air outside unit create negative-pressure room many type in-room air cleaner vary widely airflow rate unit type air cleaning technology used technical design crucial maximizing efficiency in-room air cleaner strategic placement set-up within room done consultation ventilation engineer infection control expert and/or industrial hygienist poorly positioned air cleaner may disrupt airflow pattern within room air cleaner thereby compromising air cleaning efficiency effectiveness in-room air cleaner remove airborne pathogen room air depends several factor including airflow rate unit 's filter airflow pattern room tested variety condition in-room air cleaner including portable ceiling mounted unit either hepa non-hepa filter portable unit uvgi light ceiling mounted unit combined hepa filtration uvgi light estimated 30 90 99 12 80 effective respectively however although effectiveness variable united state center disease control prevention acknowledged in-room air cleaner alternative technology increasing room ventilation achieved building 's hvac system preference given fixed recirculating system portable one importantly use in-room air cleaner preclude either need health care worker visitor use personal protective equipment n95 mask equivalent entering aii room health care facility meeting current regulatory requirement airflow rate ventilation rate building airflow differential effective negative-pressure room plasmacluster ion technology developed 2000 air purification technology manufacturer sharp electronics corporation say disable airborne microorganism generation positive negative ion 1 functional unit hydroxyl molecule comprised one oxygen molecule one hydrogen atom plasmacluster ion air purifier us multilayer filter system composed prefilter carbon filter antibacterial filter hepa filter combined ion generator purify air ion generator us alternating plasma discharge split water molecule positively negatively charged ion ion emitted air surrounded water molecule form cluster ion attracted airborne particle cluster ion surround airborne particle positive negative ion react form hydroxyl hydroxyl steal airborne particle 's hydrogen atom creates hole particle 's outer protein membrane thereby rendering inactive influenza primarily acquired large droplet direct indirect contact infectious person in-room air cleaner little benefit controlling preventing spread therefore role plasmacluster ion air purifier in-room air cleaner control spread influenza accordingly purpose review medical advisory secretariat present analysis plasmacluster review strategy objective systematic review determine effectiveness in-room air cleaner built uvgi light hepa filtration compared using hepa filtration medical advisory secretariat searched database medline embase cochrane database systematic review inahata international network agency health technology assessment biosis preview bacteriology abstract web science dissertation abstract nioshtic 2. meta-analysis conducted adequate data available 2 study statistical clinical heterogeneity among study issue otherwise qualitative review completed grade system used summarize quality body evidence comprised 1 study summary finding existing health technology assessment air cleaning technology located literature review literature search yielded 59 citation none retained abstract truncated\n",
      "\n",
      "vslevssr and yt9rj42s have 0.9542 similarity\n",
      "\n",
      "vslevssr:\n",
      "focus receptor coronaviruses special reference angiotensin-converting enzyme 2 potential drug target perspective coronaviruses covs posse enveloped single positive-stranded rna genome encodes four membrane protein namely spike envelope e membrane nucleocapsid n protein 3-5 1 regard pathogenicity protein essential viral entry host cell 2 3 sars-cov bind angiotensin-converting enzyme ace 2 present nonimmune cell respiratory intestinal epithelial cell endothelial cell kidney cell renal tubule cerebral neuron immune cell alveolar monocytes/macrophages 4-6 note cd209l liver/lymph node special intercellular adhesion molecule-3-grabbing non-integrin sign dendritic cell dc -sign alternative receptor sars-cov lower affinity 7 case mers-cov protein bind host cell receptor dipeptidyl peptidase 4 dpp4 cd26 broadly expressed intestinal alveolar renal hepatic prostate cell well activated leukocyte 8 virus replicate target cell release mature virion turn invade new target cell 9 evidence provided sarscov protein cleaved two subunit s1 s2 respectively amino acid 318-510 s1 represent receptor-binding domain rbd bind ace2 10 11 quite importantly context rbd receptor-binding motif rbm amino acid 424- 494 account complete binding ace2 11 moreover mean two residue position 479 487 rbd allows virus progression tropism 10 11 case merscov rbm bind dpp4 residue 484-567 thus suggesting rbd differs sars-cov 12 13 recent paper wan associate 14 investigated receptor recognition covid-19 new term indicate 2019-ncov wuhan base structural study respect sequence covid-19 rbm similar sarscov thus implicating ace2 may represent binding receptor covid-19 furthermore gln493 residue covid-19 rbm seems allow interaction human ace2 thus suggesting ability virus infect human cell according wan associate structural analysis 14 covid-19 bind human ace2 lesser efficiency human sars-cov 2002 higher affinity human sars-cov 2003 furthermore author predicted single mutation 501 position may enhance covid-19 rbd binding capacity human ace2 evolution monitored infected patient 14 predictive finding wan associate 14 confirmed two contemporary study letko muster 15 peng associate 16 particular report peng associate 16 point possible origin covid-19 bat 16 pathogenic point view evidence provided binding s2 ace2 receptor lead down-regulation subsequent lung damage course sars-cov infection 17 down-regulation ace2 cause excessive production angiotensin ang ii related enzyme ace stimulation ang type 1a receptor at1r enhanced lung vascular permeability 18 particular author reported recombinant ace2 could attenuate severe acute lung injury mouse 18 moreover battle associate 19 also proposed use already available recombinant ace2 intercepting covid-19 attenuating infection previous paragraph presence ace2 immune cell pointed analogy epithelial cell receptor may also down-regulated following viral entry therefore cov-infected animal model infected human investigation required clarify possible reduced expression ace2 immune cell fact course sars-cov infection number immune disorder detected three report demonstrated ability cov inhibit interferon ifn - production course sars acting ifn antagonist 20-22 senescent balb/c mouse depletion lymphocyte associated severe interstitial pneumonitis delayed clearance sars-cov thus suggesting protective role played cell 23 connection sars-cov mers-cov shown induce cell apoptosis thus aggravating clinical course disease 24 25 quite interestingly memory cd8+ cell specific sars-cov n protein detected 11 year post-infection 26 far humoral immune responsiveness concerned evidence provided s1 subunit mers-cov highly immunogenic mouse 27 moreover monoclonal antibody shown highly neutralizing mers-cov replication endowed post exposure effectiveness susceptible mouse 28 29 human neutralizing antibody also isolated recovered patient thus suggesting role humoral immunity control persistence cov host 30 particular igg response occurs early infection prolonged production may serve virus clearance recovery also view absence viremia convalescent serum sars patient 31 according current literature severity covid-19 infection correlate lymphopenia patient died covid-19 lower lymphocyte count compared survivor 32 33 data suggest lymphocyte-mediated anti-viral activity poorly effective covid-19 despite lymphopenia evidence exaggerate release proinflammatory cytokine interleukin il -1 il-6 reported course acute respiratory syndrome covid19 infected patient thus aggravating clinical course disease 34 recently reported covid-19 pandemic italy china higher frequency fatality observed frail elderly population previous comorbidities 35 well known decline immunity occurs ageing therefore covid-19 may gain easier access respiratory tract frail elderly patient 36 evidence ace2 protects severe acute lung failure operates negative regulator renin-angiotensin system ra 18 37 well known ang ii via activation at1r promotes detrimental effect host vasoconstriction reactive oxygen specie generation inflammation matrix remodelling 38 ace2 counterbalance noxious effect exhibited ang ii at1r via activation at2r arrest cell growth inflammation fibrosis 39 framework gurwitz 40 proposed use at1r blocker losartan potential treatment covid-19 infection fact losartan well olmesartan used treating hypertension patient able increase ace2 expression 28 day treatment rat myocardial infarction 41 gurwitz suggests evaluate severity symptom covid-19 infected patient previous chronic treatment at1r blocker comparison covid-19 infected patient take at1r blocker 40 quite interestingly 75 aged covid-19 infected patient admitted italian hospital hypertension unpublished data however putative effect ace-2 down-regulation cardiovascular system course covid-19 pandemic need intensive study taken together evidence suggest cov-induced down-regulation ace2 activates ra collateral damage organ lung course sars-related pneumonia putative therapeutic measure aimed increasing ace2 level respiratory epithelial cell taken serious consideration quite interestingly past year three key paper demonstrated ability polyphenol resveratrol re experimentally deactivate ra system maternal post-weaning high fat diet arterial ageing high fat diet respectively 42-44 experimental model re led increase ace2 reduction organ damage liver steatosis aorta medium thickness decrease adipose tissue mass respectively far mechanism action re concerned polyphenol able activate sirtuin sirt 1 45-47 turn sirt1 down-regulates at1r expression via ace2 up-regulation 43 48 importance lin associate 48 demonstrated ability re vitro inhibit mers-cov infection vero e6 cell thus prolonging cell survival virtue anti-apoptotic mechanism finding suggest direct antiviral effect exerted re would interestingly evaluate direct effect re covid-19 vitro data discussed strongly suggest re activator ace2 investigated animal model cov-induced severe pneumonia also taking account antioxidant anti-inflammatory immunomodulating effect exerted polyphenols 49 successful animal study may pave way res-based human trial covid-infected patient note added proof reviewing process perspective related paper published hanff associate 50 discussed possible association covid-19-associated cardiovascular mortality dysregulation renin angiotensin system ra pharmacologic point view ra inhibition lead upregulation ace2 thus attenuating acute respiratory syndrome myocarditis covid-19-infected patient conversely increase ace2 expression may facilitate access host covid-19 thus aggravating clinical picture dilemma would solved clinical trial based ra blo\n",
      "\n",
      "yt9rj42s:\n",
      "air cleaning technology evidence-based analysis objective health technology policy assessment answer following question in-room air cleaner used effective in-room air cleaner in-room air cleaner use combined hepa uvgi air cleaning technology effective use hepa filtration alone plasmacluster ion air purifier pandemic influenza preparation plan experience severe acute respiratory syndrome sars locally nationally internationally underscored importance administrative environmental personal protective infection control measure health care facility aftermath sars crisis need clearer understanding ontario 's capacity manage suspected confirmed case airborne infectious disease walker commission thought attention paid potential use new technology in-room air cleaning unit recommended medical advisory secretariat ontario ministry health long-term care evaluate appropriate use effectiveness new technology accordingly ontario health technology advisory committee asked medical advisory secretariat review literature effectiveness utility in-room air cleaner use high-efficiency particle air hepa filter ultraviolet germicidal irradiation uvgi air cleaning technology additionally ontario health technology advisory committee prioritized request ministry 's emergency management unit investigate possible role plasmacluster ion air purifier manufactured sharp electronics corporation pandemic influenza preparation plan clinical need airborne transmission infectious disease depends part concentration breathable infectious pathogen germ room air infection control achieved combination administrative engineering personal protection method engineering method usually carried building 's heating ventilation air conditioning hvac system function prevent spread airborne infectious pathogen diluting dilution ventilation removing exhaust ventilation contaminated air room controlling direction airflow air flow pattern building however general wear tear time may compromise hvac system 's effectiveness maintain adequate indoor air quality likewise economic issue may curtail completion necessary renovation increase effectiveness therefore exposure airborne infectious pathogen risk use in-room air cleaner reduce concentration airborne pathogen prevent spread airborne infectious disease proposed alternative renovating hvac system airborne transmission spread infectious pathogen large distance air infectious pathogen may include fungi bacteria virus vary size dispersed air drop moisture coughing sneezing small drop moisture carrying infectious pathogen called droplet nucleus droplet nucleus 1 5μm diameter small size part allows remain suspended air several hour carried air current considerable distance large drop moisture carrying infectious pathogen called droplet droplet larger droplet nucleus travel shorter distance 1 metre rapidly falling air ground droplet nucleus remain airborne longer period droplet amenable engineering infection control method droplet droplet nucleus responsible airborne transmission infectious disease tuberculosis chicken pox varicella measles rubeola dessiminated herpes zoster whereas close contact required direct transmission infectious disease transmitted droplet influenza flu sars technology in-room air cleaner supplied portable fixed device fixed device attached either wall ceiling preferred portable unit greater degree reliability installed properly achieving adequate room air mixing airflow pattern important optimal effectiveness method air recirculation in-room air cleaner used increase room ventilation rate used exhaust air room create negative-pressure room airborne infection isolation aii building 's hvac system negative-pressure room one clean air flow room contaminated air flow contaminated room air pulled in-room air cleaner cleaned passing series filter remove airborne infectious pathogen cleaned air either recirculated room exhausted outside building filtering contaminated room air recirculating cleaned air room in-room air cleaner improve room 's ventilation exhausting filtered air outside unit create negative-pressure room many type in-room air cleaner vary widely airflow rate unit type air cleaning technology used technical design crucial maximizing efficiency in-room air cleaner strategic placement set-up within room done consultation ventilation engineer infection control expert and/or industrial hygienist poorly positioned air cleaner may disrupt airflow pattern within room air cleaner thereby compromising air cleaning efficiency effectiveness in-room air cleaner remove airborne pathogen room air depends several factor including airflow rate unit 's filter airflow pattern room tested variety condition in-room air cleaner including portable ceiling mounted unit either hepa non-hepa filter portable unit uvgi light ceiling mounted unit combined hepa filtration uvgi light estimated 30 90 99 12 80 effective respectively however although effectiveness variable united state center disease control prevention acknowledged in-room air cleaner alternative technology increasing room ventilation achieved building 's hvac system preference given fixed recirculating system portable one importantly use in-room air cleaner preclude either need health care worker visitor use personal protective equipment n95 mask equivalent entering aii room health care facility meeting current regulatory requirement airflow rate ventilation rate building airflow differential effective negative-pressure room plasmacluster ion technology developed 2000 air purification technology manufacturer sharp electronics corporation say disable airborne microorganism generation positive negative ion 1 functional unit hydroxyl molecule comprised one oxygen molecule one hydrogen atom plasmacluster ion air purifier us multilayer filter system composed prefilter carbon filter antibacterial filter hepa filter combined ion generator purify air ion generator us alternating plasma discharge split water molecule positively negatively charged ion ion emitted air surrounded water molecule form cluster ion attracted airborne particle cluster ion surround airborne particle positive negative ion react form hydroxyl hydroxyl steal airborne particle 's hydrogen atom creates hole particle 's outer protein membrane thereby rendering inactive influenza primarily acquired large droplet direct indirect contact infectious person in-room air cleaner little benefit controlling preventing spread therefore role plasmacluster ion air purifier in-room air cleaner control spread influenza accordingly purpose review medical advisory secretariat present analysis plasmacluster review strategy objective systematic review determine effectiveness in-room air cleaner built uvgi light hepa filtration compared using hepa filtration medical advisory secretariat searched database medline embase cochrane database systematic review inahata international network agency health technology assessment biosis preview bacteriology abstract web science dissertation abstract nioshtic 2. meta-analysis conducted adequate data available 2 study statistical clinical heterogeneity among study issue otherwise qualitative review completed grade system used summarize quality body evidence comprised 1 study summary finding existing health technology assessment air cleaning technology located literature review literature search yielded 59 citation none retained abstract truncated\n",
      "\n",
      "\n"
     ]
    }
   ],
   "source": [
    "sim_seq.print_first_pair(all_seq_results, \"longest_docs\", tokenized_samples)"
   ],
   "metadata": {
    "collapsed": false,
    "pycharm": {
     "name": "#%%\n"
    }
   }
  },
  {
   "cell_type": "markdown",
   "source": [
    "### shortest 1000"
   ],
   "metadata": {
    "collapsed": false,
    "pycharm": {
     "name": "#%% md\n"
    }
   }
  },
  {
   "cell_type": "code",
   "execution_count": 27,
   "outputs": [
    {
     "name": "stdout",
     "output_type": "stream",
     "text": [
      "--Run info--\n",
      "sample_name: shortest_docs\n",
      "threshold: 0.5\n",
      "pairs_count: 12\n",
      "tfidf_time: 0.0034008026123046875\n",
      "cosine_time: 0.001010894775390625\n",
      "find_time: 0.0008339881896972656\n",
      "total_time: 0.005245685577392578\n",
      "\n",
      "--Run info--\n",
      "sample_name: shortest_docs\n",
      "threshold: 0.6\n",
      "pairs_count: 12\n",
      "tfidf_time: 0.0034008026123046875\n",
      "cosine_time: 0.0008919239044189453\n",
      "find_time: 0.0010249614715576172\n",
      "total_time: 0.00531768798828125\n",
      "\n",
      "--Run info--\n",
      "sample_name: shortest_docs\n",
      "threshold: 0.7\n",
      "pairs_count: 12\n",
      "tfidf_time: 0.0034008026123046875\n",
      "cosine_time: 0.0006389617919921875\n",
      "find_time: 0.001322031021118164\n",
      "total_time: 0.005361795425415039\n",
      "\n",
      "--Run info--\n",
      "sample_name: shortest_docs\n",
      "threshold: 0.8\n",
      "pairs_count: 11\n",
      "tfidf_time: 0.0034008026123046875\n",
      "cosine_time: 0.0010230541229248047\n",
      "find_time: 0.0017008781433105469\n",
      "total_time: 0.006124734878540039\n",
      "\n",
      "--Run info--\n",
      "sample_name: shortest_docs\n",
      "threshold: 0.9\n",
      "pairs_count: 11\n",
      "tfidf_time: 0.0034008026123046875\n",
      "cosine_time: 0.0007240772247314453\n",
      "find_time: 0.0007958412170410156\n",
      "total_time: 0.0049207210540771484\n",
      "\n"
     ]
    }
   ],
   "source": [
    "sim_seq.print_results(all_seq_results, \"shortest_docs\")"
   ],
   "metadata": {
    "collapsed": false,
    "pycharm": {
     "name": "#%%\n"
    }
   }
  },
  {
   "cell_type": "code",
   "execution_count": 28,
   "outputs": [
    {
     "name": "stdout",
     "output_type": "stream",
     "text": [
      "zf19gppx and agnmfkoq have 1.0000 similarity\n",
      "\n",
      "zf19gppx:\n",
      "saliva non-invasive specimen detection sars-cov-2 diagnostic testing covid-19 central controlling global pandemic\n",
      "\n",
      "agnmfkoq:\n",
      "u equity risk premium covid-19 pandemic study equity risk premium united state covid-19 pandemic\n",
      "\n",
      "zf19gppx and agnmfkoq have 1.0000 similarity\n",
      "\n",
      "zf19gppx:\n",
      "saliva non-invasive specimen detection sars-cov-2 diagnostic testing covid-19 central controlling global pandemic\n",
      "\n",
      "agnmfkoq:\n",
      "u equity risk premium covid-19 pandemic study equity risk premium united state covid-19 pandemic\n",
      "\n",
      "zf19gppx and agnmfkoq have 1.0000 similarity\n",
      "\n",
      "zf19gppx:\n",
      "saliva non-invasive specimen detection sars-cov-2 diagnostic testing covid-19 central controlling global pandemic\n",
      "\n",
      "agnmfkoq:\n",
      "u equity risk premium covid-19 pandemic study equity risk premium united state covid-19 pandemic\n",
      "\n",
      "zf19gppx and agnmfkoq have 1.0000 similarity\n",
      "\n",
      "zf19gppx:\n",
      "saliva non-invasive specimen detection sars-cov-2 diagnostic testing covid-19 central controlling global pandemic\n",
      "\n",
      "agnmfkoq:\n",
      "u equity risk premium covid-19 pandemic study equity risk premium united state covid-19 pandemic\n",
      "\n",
      "zf19gppx and agnmfkoq have 1.0000 similarity\n",
      "\n",
      "zf19gppx:\n",
      "saliva non-invasive specimen detection sars-cov-2 diagnostic testing covid-19 central controlling global pandemic\n",
      "\n",
      "agnmfkoq:\n",
      "u equity risk premium covid-19 pandemic study equity risk premium united state covid-19 pandemic\n",
      "\n",
      "\n"
     ]
    }
   ],
   "source": [
    "sim_seq.print_first_pair(all_seq_results, \"shortest_docs\", tokenized_samples)"
   ],
   "metadata": {
    "collapsed": false,
    "pycharm": {
     "name": "#%%\n"
    }
   }
  },
  {
   "cell_type": "markdown",
   "source": [
    "### random 1000"
   ],
   "metadata": {
    "collapsed": false,
    "pycharm": {
     "name": "#%% md\n"
    }
   }
  },
  {
   "cell_type": "code",
   "execution_count": 29,
   "outputs": [
    {
     "name": "stdout",
     "output_type": "stream",
     "text": [
      "--Run info--\n",
      "sample_name: random_docs\n",
      "threshold: 0.5\n",
      "pairs_count: 0\n",
      "tfidf_time: 0.02307605743408203\n",
      "cosine_time: 0.0013279914855957031\n",
      "find_time: 0.0007929801940917969\n",
      "total_time: 0.02519702911376953\n",
      "\n",
      "--Run info--\n",
      "sample_name: random_docs\n",
      "threshold: 0.6\n",
      "pairs_count: 0\n",
      "tfidf_time: 0.02307605743408203\n",
      "cosine_time: 0.001096963882446289\n",
      "find_time: 0.0007932186126708984\n",
      "total_time: 0.02496623992919922\n",
      "\n",
      "--Run info--\n",
      "sample_name: random_docs\n",
      "threshold: 0.7\n",
      "pairs_count: 0\n",
      "tfidf_time: 0.02307605743408203\n",
      "cosine_time: 0.0010671615600585938\n",
      "find_time: 0.0008058547973632812\n",
      "total_time: 0.024949073791503906\n",
      "\n",
      "--Run info--\n",
      "sample_name: random_docs\n",
      "threshold: 0.8\n",
      "pairs_count: 0\n",
      "tfidf_time: 0.02307605743408203\n",
      "cosine_time: 0.0011348724365234375\n",
      "find_time: 0.0008728504180908203\n",
      "total_time: 0.02508378028869629\n",
      "\n",
      "--Run info--\n",
      "sample_name: random_docs\n",
      "threshold: 0.9\n",
      "pairs_count: 0\n",
      "tfidf_time: 0.02307605743408203\n",
      "cosine_time: 0.0014278888702392578\n",
      "find_time: 0.0011219978332519531\n",
      "total_time: 0.025625944137573242\n",
      "\n"
     ]
    }
   ],
   "source": [
    "sim_seq.print_results(all_seq_results, \"random_docs\")"
   ],
   "metadata": {
    "collapsed": false,
    "pycharm": {
     "name": "#%%\n"
    }
   }
  },
  {
   "cell_type": "code",
   "execution_count": 30,
   "outputs": [
    {
     "name": "stdout",
     "output_type": "stream",
     "text": [
      "There are 0 pairs\n",
      "There are 0 pairs\n",
      "There are 0 pairs\n",
      "There are 0 pairs\n",
      "There are 0 pairs\n",
      "\n"
     ]
    }
   ],
   "source": [
    "sim_seq.print_first_pair(all_seq_results, \"random_docs\", tokenized_samples)"
   ],
   "metadata": {
    "collapsed": false,
    "pycharm": {
     "name": "#%%\n"
    }
   }
  },
  {
   "cell_type": "markdown",
   "source": [],
   "metadata": {
    "collapsed": false,
    "pycharm": {
     "name": "#%% md\n"
    }
   }
  },
  {
   "cell_type": "markdown",
   "source": [],
   "metadata": {
    "collapsed": false,
    "pycharm": {
     "name": "#%% md\n"
    }
   }
  },
  {
   "cell_type": "markdown",
   "source": [
    "## Parallel APDS"
   ],
   "metadata": {
    "collapsed": false,
    "pycharm": {
     "name": "#%% md\n"
    }
   }
  },
  {
   "cell_type": "markdown",
   "source": [
    "# MIRACLE PARALLEL?"
   ],
   "metadata": {
    "collapsed": false,
    "pycharm": {
     "name": "#%% md\n"
    }
   }
  },
  {
   "cell_type": "code",
   "execution_count": 12,
   "outputs": [],
   "source": [
    "from typing import Dict, List, Tuple\n",
    "import csv"
   ],
   "metadata": {
    "collapsed": false,
    "pycharm": {
     "name": "#%%\n"
    }
   }
  },
  {
   "cell_type": "code",
   "execution_count": 13,
   "outputs": [],
   "source": [
    "def create_doc_sim_csv(pairs_list: List[Tuple[str, str, float]], ds_name: str,\n",
    "                       threshold: float, type: str | None, workers: None | int = None ) -> None:\n",
    "    '''\n",
    "    PURPOSE: create the .csv file sotring the list of similar documents pairs with the cosine similarity\n",
    "    ARGUMENTS:\n",
    "        - pairs_list (List[Tuple[str, str, float]]): list of unique similar pair with the similarity\n",
    "        - ds_name: (str): dataset name\n",
    "        - threshold (float): used threshold\n",
    "        - type (str | None): type of sequential version\n",
    "        - workers (None | int): number of workers used\n",
    "    RETURN: None\n",
    "    '''\n",
    "\n",
    "    path = ''\n",
    "    if type is not None:\n",
    "        if not os.path.exists(f'./results/{ds_name}/{threshold}'): os.makedirs(f'./results/{ds_name}/{threshold}')\n",
    "        path = f'./results/{ds_name}/{threshold}/{type}_sequential.csv'\n",
    "    else:\n",
    "        if not os.path.exists(f'./results/{ds_name}/{threshold}/pyspark/'): os.makedirs(f'./results/{ds_name}/{threshold}/pyspark/')\n",
    "        path = f'./results/{ds_name}/{threshold}/pyspark/{workers}_workers.csv'\n",
    "    if not os.path.exists(path): # If there is already a file, return\n",
    "        with open(path, 'w', newline='') as csvfile:\n",
    "            writer = csv.writer(csvfile)\n",
    "            writer.writerows(pairs_list)"
   ],
   "metadata": {
    "collapsed": false,
    "pycharm": {
     "name": "#%%\n"
    }
   }
  },
  {
   "cell_type": "code",
   "execution_count": 14,
   "outputs": [],
   "source": [
    "import itertools\n",
    "from src.utilities.similarity_parallel_spark import pyspark_APDS\n",
    "import pandas as pd\n",
    "from typing import Tuple, Type, List, Dict, Any"
   ],
   "metadata": {
    "collapsed": false,
    "pycharm": {
     "name": "#%%\n"
    }
   }
  },
  {
   "cell_type": "code",
   "execution_count": null,
   "outputs": [],
   "source": [
    "# datasets = ['nfcorpus'] # Choosen datasets\n",
    "# thresholds: List[float] = [0.5, 0.6, 0.7, 0.8, 0.9] # Choosen thresholds\n",
    "# numslices_factor = [1, 2, 5, 10, 15] # Choosen numslices factors N_PARTITIONS\n",
    "# max_workers = [1, 2, 5, 10, 15] # n_executors\n",
    "# considered_docs = 750\n",
    "\n",
    "# # Download datasets\n",
    "# datasets_data = {dataset: download_dataset(dataset) for dataset in datasets}\n",
    "#\n",
    "# # Pre-process and sample with the original datasets\n",
    "# pre_processed_data = {dataset: sample_dict(documents_preprocessing(dataset, docs_dict), considered_docs)\n",
    "#                       for dataset, docs_dict in datasets_data.items()}"
   ],
   "metadata": {
    "collapsed": false,
    "pycharm": {
     "name": "#%%\n"
    }
   }
  },
  {
   "cell_type": "code",
   "execution_count": null,
   "outputs": [],
   "source": [
    "# for collection_name, collection_docs, _ in samples:\n",
    "pyspark_results = []\n",
    "\n",
    "thresholds: List[float] = [0.001] # Choosen thresholds\n",
    "numslices_factor = [5] # Choosen numslices factors N_PARTITIONS\n",
    "max_workers = 5# n_executors\n",
    "\n",
    "for ds_name, sampled_dict, _ in samples:\n",
    "# for ds_name, sampled_dict in pre_processed_data.items():\n",
    "\n",
    "    print(f'\\n------------ALL PAIRS DOCUMENTS SIMILARITY - {ds_name}------------')\n",
    "\n",
    "    for threshold in thresholds:\n",
    "        print(f'\\n--------Running with threshold: {threshold}--------')\n",
    "\n",
    "        for s_factor, workers in itertools.product(numslices_factor, range(1, max_workers + 1)):\n",
    "            # PySpark Execution\n",
    "\n",
    "            print(f'\\nPySpark Parallel Execution with {workers} workers and slice factor of {s_factor}')\n",
    "            sim_doc_ps, ps_res = pyspark_APDS(ds_name=ds_name, sampled_dict=sampled_dict, threshold=threshold, workers=workers, s_factor=s_factor)\n",
    "            pyspark_results.append(ps_res)\n",
    "            create_doc_sim_csv(sim_doc_ps, ds_name, threshold, None, workers)\n",
    "            print(' Done')\n",
    "\n",
    "        print('\\n')\n"
   ],
   "metadata": {
    "collapsed": false,
    "pycharm": {
     "name": "#%%\n"
    }
   }
  },
  {
   "cell_type": "code",
   "execution_count": 20,
   "outputs": [
    {
     "name": "stdout",
     "output_type": "stream",
     "text": [
      "\n",
      "Saving pyspark_results\n",
      "Done\n"
     ]
    }
   ],
   "source": [
    "\n",
    "print('\\nSaving pyspark_results')\n",
    "dio = pd.DataFrame.from_dict(\n",
    "    dict(zip(range(len(pyspark_results)), pyspark_results)),\n",
    "    orient='index',\n",
    "    columns=[\n",
    "        'ds_name',\n",
    "        'elapsed',\n",
    "        'threshold',\n",
    "        'unique_pairs_sim_docs',\n",
    "        'workers',\n",
    "        'slice_factor'\n",
    "    ],\n",
    ")\n",
    "dio.to_csv('./results/pyspark_results.csv', index=False)\n",
    "print( 'Done')"
   ],
   "metadata": {
    "collapsed": false,
    "pycharm": {
     "name": "#%%\n"
    }
   }
  },
  {
   "cell_type": "code",
   "execution_count": null,
   "outputs": [],
   "source": [
    "dio"
   ],
   "metadata": {
    "collapsed": false,
    "pycharm": {
     "name": "#%%\n"
    }
   }
  },
  {
   "cell_type": "code",
   "execution_count": null,
   "outputs": [],
   "source": [
    "pyspark_results"
   ],
   "metadata": {
    "collapsed": false,
    "pycharm": {
     "name": "#%%\n"
    }
   }
  },
  {
   "cell_type": "markdown",
   "source": [],
   "metadata": {
    "collapsed": false,
    "pycharm": {
     "name": "#%% md\n"
    }
   }
  },
  {
   "cell_type": "markdown",
   "source": [],
   "metadata": {
    "collapsed": false,
    "pycharm": {
     "name": "#%% md\n"
    }
   }
  },
  {
   "cell_type": "markdown",
   "source": [],
   "metadata": {
    "collapsed": false,
    "pycharm": {
     "name": "#%% md\n"
    }
   }
  },
  {
   "cell_type": "markdown",
   "source": [
    "MAGICLOTTO?"
   ],
   "metadata": {
    "collapsed": false,
    "pycharm": {
     "name": "#%% md\n"
    }
   }
  },
  {
   "cell_type": "code",
   "execution_count": 30,
   "outputs": [],
   "source": [
    "# # from utility import data_preparation\n",
    "#\n",
    "# # spark\n",
    "# import findspark\n",
    "#\n",
    "# findspark.init()\n",
    "#\n",
    "# from pyspark.conf import SparkConf\n",
    "# from pyspark.sql import SparkSession\n",
    "#\n",
    "# # spark algorithm\n",
    "# import itertools\n",
    "# import numpy as np\n",
    "#\n",
    "# # test\n",
    "# import time\n",
    "# import multiprocessing\n",
    "# import pandas as pd\n",
    "# import os\n",
    "#\n",
    "# # typing\n",
    "# from typing import List, Tuple, Any\n",
    "# from scipy.sparse import csr_matrix"
   ],
   "metadata": {
    "collapsed": false,
    "pycharm": {
     "name": "#%%\n"
    }
   }
  },
  {
   "cell_type": "code",
   "execution_count": 32,
   "outputs": [],
   "source": [
    "# def spark_(doc_matrix: np.array, keys: list, threshold: float, n_workers: int = 8, n_slices: int = 1) -> Tuple[List[Tuple[tuple, float]], float]:\n",
    "#     \"\"\"\n",
    "#     Spark \"Documents All Pairs Similarity\" algorithm.\n",
    "#\n",
    "#     Args:\n",
    "#         doc_matrix (np.array): document matrix in numpy format.\n",
    "#         keys (list): list of document ids.\n",
    "#         threshold (float): threshold.\n",
    "#         n_workers (int, optional): number of worker to be feed to spark. Defaults to 8.\n",
    "#         n_slices (int, optional): number of data divisions for each worker. Defaults to 1.\n",
    "#\n",
    "#     Returns:\n",
    "#         Tuple[ List[Tuple[tuple,float]], float ]:\n",
    "#             -documents id pairs along with their similarity (List[Tuple[tuple,float]])\n",
    "#             -execution time (float)\n",
    "#     \"\"\"\n",
    "#\n",
    "#     # Create SparkSession\n",
    "#     spark = SparkSession\\\n",
    "#         .builder\\\n",
    "#         .config(conf=SparkConf().setMaster(f\"local[{n_workers}]\")\n",
    "#                 .setAppName(\"all_pairs_docs_similarity.com\")\n",
    "#                 .set(\"spark.executor.memory\", \"10g\")\n",
    "#                 .set(\"spark.executor.cores\", \"1\")\n",
    "#                 .set(\"spark.driver.memory\", \"10g\"))\\\n",
    "#         .getOrCreate()\n",
    "#\n",
    "#     # Get sparkContextxt\n",
    "#     sc = spark.sparkContext\n",
    "#\n",
    "#     # sort the document matrix by maximal term frequency in the entire corpus.\n",
    "#     term_freq = np.sum(doc_matrix > 0, axis=0)\n",
    "#     sorted_terms_indexes = np.argsort(term_freq)[::-1]\n",
    "#     doc_matrix = np.array([row[sorted_terms_indexes] for row in doc_matrix])\n",
    "#\n",
    "#     start_spark = time.perf_counter()\n",
    "#\n",
    "#     # 1) Zip each document id with its vectorial representation\n",
    "#     keys_rdd = sc.parallelize(keys, n_workers * n_slices)\n",
    "#     vectorized_docs_rdd = keys_rdd.zip(sc.parallelize(doc_matrix, n_workers * n_slices)).persist()\n",
    "#\n",
    "#     # 2) broadcast variables to be used by spark\n",
    "#\n",
    "#     def compute_d_star(doc1: np.array, doc2: np.array) -> np.array:\n",
    "#         \"\"\"\n",
    "#         Function to compute d_star with spark.\n",
    "#\n",
    "#         Args:\n",
    "#             doc1 (np.array)\n",
    "#             doc2 (np.array)\n",
    "#\n",
    "#         Returns:\n",
    "#             np.array: array of element-wise maximum values of doc1 and doc2.\n",
    "#         \"\"\"\n",
    "#\n",
    "#         return np.maximum(doc1, doc2)\n",
    "#\n",
    "#     def non_zero_terms(doc: np.array) -> np.array:\n",
    "#         \"\"\"\n",
    "#         Function to find the non-zero element indexes for the given document with spark.\n",
    "#\n",
    "#         Args:\n",
    "#             doc (np.array)\n",
    "#\n",
    "#         Returns:\n",
    "#             np.array: array of indexes.\n",
    "#         \"\"\"\n",
    "#\n",
    "#         return np.nonzero(doc)[0]\n",
    "#\n",
    "#     threshold_broadcast = sc.broadcast(threshold)\n",
    "#\n",
    "#     # d_star broadcast computed by spark\n",
    "#     d_star_broadcast = sc.broadcast(vectorized_docs_rdd.values().reduce(compute_d_star))\n",
    "#\n",
    "#     # vectorized document broadcast\n",
    "#     vectorized_docs_broadcast = sc.broadcast(dict(vectorized_docs_rdd.collect()))\n",
    "#\n",
    "#     # non-zero term ids broadcast\n",
    "#     doc_id_set_term_broadcast = sc.broadcast(dict(vectorized_docs_rdd.mapValues(non_zero_terms).collect()))\n",
    "#\n",
    "#     def MAP(doc_pair: Tuple[Any, np.array]) -> List[Tuple[int, Any]]:\n",
    "#         \"\"\"\n",
    "#         MAP function for the \"Documents All Pairs Similarity\" algorithm.\n",
    "#\n",
    "#         Args:\n",
    "#             doc_pair (Tuple[Any,np.array]):\n",
    "#                 -document id (Any).\n",
    "#                 -vectorized doc (np.array).\n",
    "#\n",
    "#         Returns:\n",
    "#             List[Tuple[int,Any]]: list of (term id,doc_id)\n",
    "#         \"\"\"\n",
    "#\n",
    "#         # unpack document pair\n",
    "#         id, doc = doc_pair\n",
    "#\n",
    "#         # loop variables\n",
    "#         dot_prod = 0\n",
    "#         term = 0\n",
    "#\n",
    "#         # b(d) computation: at the end of this while loop b(d) = term-1.\n",
    "#         while (dot_prod < threshold_broadcast.value):\n",
    "#\n",
    "#             # if there is no more terms then a empty list is returned:\n",
    "#             # this document is excluded.\n",
    "#             if term >= doc.shape[0]:\n",
    "#                 return []\n",
    "#\n",
    "#             dot_prod += ((doc[term]) * (d_star_broadcast.value[term]))\n",
    "#\n",
    "#             term += 1\n",
    "#\n",
    "#         term__doc_ids = []\n",
    "#\n",
    "#         # if the term has TF-IDF=0 then it can not be part of an intersection, thus it is excluded.\n",
    "#         non_zeros = np.nonzero(doc)[0]\n",
    "#\n",
    "#         # take only the term which are >= (term-1) (b(d)).\n",
    "#         non_zeros = non_zeros[non_zeros >= (term - 1)]\n",
    "#\n",
    "#         # append for each term (term,id).\n",
    "#         for term in non_zeros:\n",
    "#             term__doc_ids.append((term, id))\n",
    "#\n",
    "#         return term__doc_ids\n",
    "#\n",
    "#     def filter_pairs(pair: Tuple[int, list]) -> List[Tuple[Any, Any]]:\n",
    "#         \"\"\"\n",
    "#         First part of REDUCE function for the \"Documents All Pairs Similarity\" algorithm.\n",
    "#         Function to generate (doc_id, doc_id) pairs on which the similarity will be computed.\n",
    "#\n",
    "#         Args:\n",
    "#             pair (Tuple[int,list]):\n",
    "#                 -term id.\n",
    "#                 -list of document ids.\n",
    "#\n",
    "#         Returns:\n",
    "#             List[Tuple[Any,Any]]: list of (doc_id, doc_id) on which the similarity will be computed.\n",
    "#         \"\"\"\n",
    "#\n",
    "#         # unpack term_id, id_list.\n",
    "#         term_id, id_list = pair\n",
    "#\n",
    "#         pairs = []\n",
    "#\n",
    "#         # iterate over combinations of document ids: this ensures that the document ids pair is unique.\n",
    "#         for id1, id2 in itertools.combinations(id_list, 2):\n",
    "#\n",
    "#             # set intersection for the non-zeros term of the two documents.\n",
    "#             common_terms = np.intersect1d(doc_id_set_term_broadcast.value[id1],\n",
    "#                                           doc_id_set_term_broadcast.value[id2],\n",
    "#                                           assume_unique=True)\n",
    "#\n",
    "#             # if the max of the intersection is equal to the tem_id then append.\n",
    "#             if max(common_terms) == term_id:\n",
    "#                 pairs.append((id1, id2))\n",
    "#\n",
    "#         return pairs\n",
    "#\n",
    "#     def compute_similarity(pair: Tuple[Any, Any]) -> Tuple[Tuple[Any, Any], float]:\n",
    "#         \"\"\"\n",
    "#         Second part of REDUCE function for the \"Documents All Pairs Similarity\" algorithm. Similarity computation function.\n",
    "#\n",
    "#         Args:\n",
    "#             pair (Tuple[Any,Any]): doc_ids pair.\n",
    "#\n",
    "#         Returns:\n",
    "#             Tuple[Tuple[Any,Any],float]:\n",
    "#                 -(doc_id, doc_id) (Tuple[Any,Any])\n",
    "#                 -similarity (float)\n",
    "#         \"\"\"\n",
    "#\n",
    "#         id1, id2 = pair\n",
    "#\n",
    "#         similarity = np.dot(vectorized_docs_broadcast.value[id1], vectorized_docs_broadcast.value[id2].transpose())\n",
    "#\n",
    "#         return ((id1, id2), similarity)\n",
    "#\n",
    "#     def similar_doc(pair: Tuple[Tuple[Any, Any], float]) -> bool:\n",
    "#         \"\"\"\n",
    "#         Third part of REDUCE function for the \"Documents All Pairs Similarity\" algorithm.\n",
    "#         This function excludes pairs which similarity is < threshold.\n",
    "#\n",
    "#         Args:\n",
    "#             pair (Tuple[Tuple[Any,Any],float]):\n",
    "#                     -(doc_id, doc_id) (Tuple[Any,Any])\n",
    "#                     -similarity (float)\n",
    "#\n",
    "#         Returns:\n",
    "#             bool:\n",
    "#                 -True: take the pair.\n",
    "#                 -False: remove the pair.\n",
    "#         \"\"\"\n",
    "#\n",
    "#         _, similarity = pair\n",
    "#\n",
    "#         return similarity >= threshold_broadcast.value\n",
    "#\n",
    "#     # 3) Compute with spark:\n",
    "#     #   1. MAP function using flatMap(MAP).\n",
    "#     #   2. Group by term id.\n",
    "#     #   3. REDUCE function using:\n",
    "#     #       1. flatMap(filter_pairs)\n",
    "#     #       2. map(compute_similarity)\n",
    "#     #       3. filter(similar_doc)\n",
    "#     similarity_doc_pairs = vectorized_docs_rdd\\\n",
    "#         .flatMap(MAP)\\\n",
    "#         .groupByKey()\\\n",
    "#         .flatMap(filter_pairs)\\\n",
    "#         .map(compute_similarity)\\\n",
    "#         .filter(similar_doc)\n",
    "#\n",
    "#     to_return = similarity_doc_pairs.collect()\n",
    "#\n",
    "#     end_spark = time.perf_counter()\n",
    "#\n",
    "#     spark.stop() # Stop spark session\n",
    "#\n",
    "#     return to_return, (end_spark - start_spark)"
   ],
   "metadata": {
    "collapsed": false,
    "pycharm": {
     "name": "#%%\n"
    }
   }
  },
  {
   "cell_type": "code",
   "execution_count": 36,
   "outputs": [],
   "source": [
    "# def comparison(keys: list, doc_matrix: csr_matrix, threshold: float, n_workers: int, n_slices: int):  # -> Tuple[float, float, set]:\n",
    "#     \"\"\"_summary_\n",
    "#\n",
    "#     Args:\n",
    "#         keys (list): list of document keys.\n",
    "#         doc_matrix (csr_matrix): document matrix in csr format.\n",
    "#         threshold (float): threshold.\n",
    "#         n_workers (int):  number of worker to be feed to spark.\n",
    "#         n_slices (int): number of data divisions for each worker.\n",
    "#\n",
    "#     Returns:\n",
    "#         Tuple[float,float,set]:\n",
    "#             -spark execution time (float).\n",
    "#             -seq execution time (float).\n",
    "#             -set of missing spark document id pairs. (set)\n",
    "#     \"\"\"\n",
    "#\n",
    "#     # spark computation\n",
    "#     spark_list, spark_elapsed = spark_(doc_matrix.toarray(), keys, threshold, n_workers, n_slices)\n",
    "#\n",
    "#     # seq computation\n",
    "#     # seq_list, seq_elapsed = sequential(doc_matrix, keys, threshold)\n",
    "#\n",
    "#     # print(\"\\nspark result len:\", len(spark_list), \"seq result len:\", len(seq_list))\n",
    "#\n",
    "#     # print missing spark doc_id pairs\n",
    "#     # missing_spark = set(dict(seq_list).keys()) - set(dict(spark_list).keys())\n",
    "#     # print(\"spark missing pairs: \", missing_spark, len(missing_spark))\n",
    "#\n",
    "#     # print time\n",
    "#     print(\"\\nspark time: \", spark_elapsed)\n",
    "#     # print(\"seq time: \", seq_elapsed)\n",
    "#\n",
    "#     return spark_elapsed #, seq_elapsed, missing_spark"
   ],
   "metadata": {
    "collapsed": false,
    "pycharm": {
     "name": "#%%\n"
    }
   }
  },
  {
   "cell_type": "code",
   "execution_count": null,
   "outputs": [],
   "source": [
    "# dataset = \"nfcorpus\"\n",
    "#\n",
    "# data = {\n",
    "#     \"threshold\": [],\n",
    "#     \"n_workers\": [],\n",
    "#     \"n_slices\": [],\n",
    "#     \"spark_time\": [],\n",
    "#     \"seq_time\": [],\n",
    "#     \"missing\": []\n",
    "# }\n",
    "#\n",
    "# # samples = [(\"longest_docs\", longest_docs, longest_doc_idx_to_id),\n",
    "# #            (\"shortest_docs\", shortest_docs, shortest_doc_idx_to_id),\n",
    "# #            (\"random_docs\", random_docs, random_doc_idx_to_id)]\n",
    "# # samples_tmp = [(\"longest_docs\", list(longest_docs.keys())),\n",
    "# #                (\"shortest_docs\", list(shortest_docs.keys())),\n",
    "# #                (\"random_docs\", list(random_docs.keys()))]\n",
    "#\n",
    "# # keys, doc_matrix = data_preparation(dataset, 1000)\n",
    "# keys = list(shortest_docs.keys())\n",
    "# doc_matrix = shortest_docs\n",
    "#\n",
    "# for threshold in [0.2]: #, 0.4, 0.6]:\n",
    "#\n",
    "#     for n_workers in [1, 2, 4]: #, 6, 8, 12, 16]:\n",
    "#\n",
    "#         for n_slices in [4]: #[1, 3, 9]:\n",
    "#             print(\"\\n\\nTEST FOR:\")\n",
    "#             print(\"threshold: \", threshold)\n",
    "#             print(\"n_workers: \", n_workers)\n",
    "#             print(\"n_slices: \", n_slices, \"\\n\")\n",
    "#\n",
    "#             spark_time, seq_time, missing = comparison(keys, doc_matrix, threshold, n_workers,n_slices)\n",
    "#\n",
    "#             data[\"threshold\"].append(threshold)\n",
    "#             data[\"n_workers\"].append(n_workers)\n",
    "#             data[\"n_slices\"].append(n_slices)\n",
    "#             data[\"spark_time\"].append(spark_time)\n",
    "#             data[\"seq_time\"].append(seq_time)\n",
    "#             data[\"missing\"].append(missing)\n",
    "#\n",
    "# data = pd.DataFrame.from_dict(data)\n",
    "# data.to_parquet(\"data.parquet\")"
   ],
   "metadata": {
    "collapsed": false,
    "pycharm": {
     "name": "#%%\n"
    }
   }
  },
  {
   "cell_type": "markdown",
   "source": [],
   "metadata": {
    "collapsed": false,
    "pycharm": {
     "name": "#%% md\n"
    }
   }
  }
 ],
 "metadata": {
  "kernelspec": {
   "name": "sbruch-assignment-lwmd",
   "language": "python",
   "display_name": "lwmd_asgmt_sbruch"
  },
  "language_info": {
   "codemirror_mode": {
    "name": "ipython",
    "version": 2
   },
   "file_extension": ".py",
   "mimetype": "text/x-python",
   "name": "python",
   "nbconvert_exporter": "python",
   "pygments_lexer": "ipython2",
   "version": "2.7.6"
  }
 },
 "nbformat": 4,
 "nbformat_minor": 0
}